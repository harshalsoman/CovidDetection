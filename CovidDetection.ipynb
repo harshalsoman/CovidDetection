{
  "nbformat": 4,
  "nbformat_minor": 0,
  "metadata": {
    "colab": {
      "provenance": []
    },
    "kernelspec": {
      "name": "python3",
      "display_name": "Python 3"
    },
    "language_info": {
      "name": "python"
    }
  },
  "cells": [
    {
      "cell_type": "markdown",
      "source": [
        "# Importing required Libraries"
      ],
      "metadata": {
        "id": "PbXrb0ZVpDz2"
      }
    },
    {
      "cell_type": "code",
      "execution_count": null,
      "metadata": {
        "id": "wq-da1u8o6NL"
      },
      "outputs": [],
      "source": [
        "import numpy as np\n",
        "import pandas as pd\n",
        "import seaborn as sns\n",
        "import matplotlib.pyplot as plt\n",
        "import librosa\n",
        "import librosa.display\n",
        "from tqdm import tqdm\n",
        "import IPython.display as ipd\n",
        "import os\n",
        "import sys\n",
        "import subprocess\n",
        "import numpy as np\n",
        "import glob\n",
        "import json\n",
        "import pandas as pd\n",
        "import numpy as np\n",
        "import pandas as pd\n",
        "import matplotlib.pyplot as plt\n",
        "import librosa\n",
        "import librosa.display\n",
        "\n",
        "import seaborn as sns\n",
        "sns.set_palette(sns.color_palette(\"GnBu_r\"))\n",
        "import matplotlib.pyplot as plt\n",
        "from IPython import display"
      ]
    },
    {
      "cell_type": "markdown",
      "source": [
        "# Accessing and Extracting the data stored in google drive."
      ],
      "metadata": {
        "id": "Mq_YenLnpZmc"
      }
    },
    {
      "cell_type": "code",
      "source": [
        "from google.colab import drive\n",
        "drive.mount('/content/drive')\n",
        "coswara_data_dir ='/content/drive/MyDrive/Datasets/coswara/'\n",
        "extracted_data_dir = '/content/Extracted_data'\n",
        "\n",
        "if not os.path.exists(coswara_data_dir):\n",
        "    print(\"Check the Coswara dataset directory!\")\n",
        "\n",
        "if not os.path.exists(extracted_data_dir):\n",
        "    os.makedirs(extracted_data_dir)\n",
        "dirs_extracted = set(map(os.path.basename,glob.glob('{}/202*'.format(extracted_data_dir))))\n",
        "dirs_all = set(map(os.path.basename,glob.glob('{}/202*'.format(coswara_data_dir))))"
      ],
      "metadata": {
        "colab": {
          "base_uri": "https://localhost:8080/"
        },
        "id": "632VX-cKpZPZ",
        "outputId": "69f0b23a-707c-41a8-eede-f327599e1404"
      },
      "execution_count": null,
      "outputs": [
        {
          "output_type": "stream",
          "name": "stdout",
          "text": [
            "Drive already mounted at /content/drive; to attempt to forcibly remount, call drive.mount(\"/content/drive\", force_remount=True).\n"
          ]
        }
      ]
    },
    {
      "cell_type": "code",
      "source": [
        "for d in dirs_all:\n",
        "    p = subprocess.Popen('cat {}/{}/*.tar.gz.* |tar -xvz -C {}/'.format(coswara_data_dir, d, extracted_data_dir), shell=True)\n",
        "    #p = subprocess.Popen('cat {}/{}/*.tar.gz.* |tar -xvz -C {}/'.format(coswara_data_dir, d, extracted_data_dir), shell=True)\n",
        "    p.wait()\n",
        "\n",
        "\n",
        "    print(\"Extraction process complete!\")"
      ],
      "metadata": {
        "id": "RzbiV-LJp4Sj",
        "colab": {
          "base_uri": "https://localhost:8080/"
        },
        "outputId": "e02a4354-b16c-4e55-f29c-545842f64c11"
      },
      "execution_count": null,
      "outputs": [
        {
          "output_type": "stream",
          "name": "stdout",
          "text": [
            "Extraction process complete!\n",
            "Extraction process complete!\n",
            "Extraction process complete!\n",
            "Extraction process complete!\n",
            "Extraction process complete!\n",
            "Extraction process complete!\n",
            "Extraction process complete!\n",
            "Extraction process complete!\n",
            "Extraction process complete!\n",
            "Extraction process complete!\n",
            "Extraction process complete!\n",
            "Extraction process complete!\n",
            "Extraction process complete!\n",
            "Extraction process complete!\n",
            "Extraction process complete!\n",
            "Extraction process complete!\n",
            "Extraction process complete!\n",
            "Extraction process complete!\n",
            "Extraction process complete!\n",
            "Extraction process complete!\n",
            "Extraction process complete!\n",
            "Extraction process complete!\n",
            "Extraction process complete!\n",
            "Extraction process complete!\n",
            "Extraction process complete!\n",
            "Extraction process complete!\n",
            "Extraction process complete!\n",
            "Extraction process complete!\n",
            "Extraction process complete!\n",
            "Extraction process complete!\n",
            "Extraction process complete!\n",
            "Extraction process complete!\n",
            "Extraction process complete!\n",
            "Extraction process complete!\n",
            "Extraction process complete!\n",
            "Extraction process complete!\n",
            "Extraction process complete!\n",
            "Extraction process complete!\n",
            "Extraction process complete!\n",
            "Extraction process complete!\n",
            "Extraction process complete!\n",
            "Extraction process complete!\n"
          ]
        }
      ]
    },
    {
      "cell_type": "markdown",
      "source": [
        "#  EDA"
      ],
      "metadata": {
        "id": "_uI9EKC1sXsq"
      }
    },
    {
      "cell_type": "code",
      "source": [
        "combined = pd.read_csv('/content/drive/MyDrive/Datasets/coswara/combined_data.csv')\n",
        "combined.head()"
      ],
      "metadata": {
        "colab": {
          "base_uri": "https://localhost:8080/",
          "height": 235
        },
        "id": "DflQnCcNsftq",
        "outputId": "5a62087a-e3cb-457e-e436-12abd398b987"
      },
      "execution_count": null,
      "outputs": [
        {
          "output_type": "execute_result",
          "data": {
            "text/plain": [
              "                             id   a covid_status record_date ep       g  \\\n",
              "0  iV3Db6t1T8b7c5HQY2TwxIhjbzD3  28      healthy  2020-04-23  y    male   \n",
              "1  AxuYWBN0jFVLINCBqIW5aZmGCdu1  25      healthy  2020-04-20  y    male   \n",
              "2  C5eIsssb9GSkaAgIfsHMHeR6fSh1  28      healthy  2020-04-24  y  female   \n",
              "3  YjbEAECMBIaZKyfqOvWy5DDImUb2  26      healthy  2020-04-23  y    male   \n",
              "4  aGOvk4ji0cVqIzCs1jHnzlw2UEy2  32      healthy  2020-04-22  y    male   \n",
              "\n",
              "             l_c              l_l             l_s rU  ... vacc   bd  \\\n",
              "0          India        Anantapur  Andhra Pradesh  n  ...  NaN  NaN   \n",
              "1          India  BENGALURU URBAN       Karnataka  n  ...  NaN  NaN   \n",
              "2  United States       Pittsburgh    Pennsylvania  n  ...  NaN  NaN   \n",
              "3          India        Bangalore       Karnataka  n  ...  NaN  NaN   \n",
              "4          India          Nalanda           Bihar  n  ...  NaN  NaN   \n",
              "\n",
              "  others_resp  ftg   st  ihd asthma  others_preexist  cld pneumonia  \n",
              "0         NaN  NaN  NaN  NaN    NaN              NaN  NaN       NaN  \n",
              "1         NaN  NaN  NaN  NaN    NaN              NaN  NaN       NaN  \n",
              "2         NaN  NaN  NaN  NaN    NaN              NaN  NaN       NaN  \n",
              "3         NaN  NaN  NaN  NaN    NaN              NaN  NaN       NaN  \n",
              "4         NaN  NaN  NaN  NaN    NaN              NaN  NaN       NaN  \n",
              "\n",
              "[5 rows x 36 columns]"
            ],
            "text/html": [
              "\n",
              "  <div id=\"df-7ca8efcb-83fa-4a28-bcf2-6891c2e18419\">\n",
              "    <div class=\"colab-df-container\">\n",
              "      <div>\n",
              "<style scoped>\n",
              "    .dataframe tbody tr th:only-of-type {\n",
              "        vertical-align: middle;\n",
              "    }\n",
              "\n",
              "    .dataframe tbody tr th {\n",
              "        vertical-align: top;\n",
              "    }\n",
              "\n",
              "    .dataframe thead th {\n",
              "        text-align: right;\n",
              "    }\n",
              "</style>\n",
              "<table border=\"1\" class=\"dataframe\">\n",
              "  <thead>\n",
              "    <tr style=\"text-align: right;\">\n",
              "      <th></th>\n",
              "      <th>id</th>\n",
              "      <th>a</th>\n",
              "      <th>covid_status</th>\n",
              "      <th>record_date</th>\n",
              "      <th>ep</th>\n",
              "      <th>g</th>\n",
              "      <th>l_c</th>\n",
              "      <th>l_l</th>\n",
              "      <th>l_s</th>\n",
              "      <th>rU</th>\n",
              "      <th>...</th>\n",
              "      <th>vacc</th>\n",
              "      <th>bd</th>\n",
              "      <th>others_resp</th>\n",
              "      <th>ftg</th>\n",
              "      <th>st</th>\n",
              "      <th>ihd</th>\n",
              "      <th>asthma</th>\n",
              "      <th>others_preexist</th>\n",
              "      <th>cld</th>\n",
              "      <th>pneumonia</th>\n",
              "    </tr>\n",
              "  </thead>\n",
              "  <tbody>\n",
              "    <tr>\n",
              "      <th>0</th>\n",
              "      <td>iV3Db6t1T8b7c5HQY2TwxIhjbzD3</td>\n",
              "      <td>28</td>\n",
              "      <td>healthy</td>\n",
              "      <td>2020-04-23</td>\n",
              "      <td>y</td>\n",
              "      <td>male</td>\n",
              "      <td>India</td>\n",
              "      <td>Anantapur</td>\n",
              "      <td>Andhra Pradesh</td>\n",
              "      <td>n</td>\n",
              "      <td>...</td>\n",
              "      <td>NaN</td>\n",
              "      <td>NaN</td>\n",
              "      <td>NaN</td>\n",
              "      <td>NaN</td>\n",
              "      <td>NaN</td>\n",
              "      <td>NaN</td>\n",
              "      <td>NaN</td>\n",
              "      <td>NaN</td>\n",
              "      <td>NaN</td>\n",
              "      <td>NaN</td>\n",
              "    </tr>\n",
              "    <tr>\n",
              "      <th>1</th>\n",
              "      <td>AxuYWBN0jFVLINCBqIW5aZmGCdu1</td>\n",
              "      <td>25</td>\n",
              "      <td>healthy</td>\n",
              "      <td>2020-04-20</td>\n",
              "      <td>y</td>\n",
              "      <td>male</td>\n",
              "      <td>India</td>\n",
              "      <td>BENGALURU URBAN</td>\n",
              "      <td>Karnataka</td>\n",
              "      <td>n</td>\n",
              "      <td>...</td>\n",
              "      <td>NaN</td>\n",
              "      <td>NaN</td>\n",
              "      <td>NaN</td>\n",
              "      <td>NaN</td>\n",
              "      <td>NaN</td>\n",
              "      <td>NaN</td>\n",
              "      <td>NaN</td>\n",
              "      <td>NaN</td>\n",
              "      <td>NaN</td>\n",
              "      <td>NaN</td>\n",
              "    </tr>\n",
              "    <tr>\n",
              "      <th>2</th>\n",
              "      <td>C5eIsssb9GSkaAgIfsHMHeR6fSh1</td>\n",
              "      <td>28</td>\n",
              "      <td>healthy</td>\n",
              "      <td>2020-04-24</td>\n",
              "      <td>y</td>\n",
              "      <td>female</td>\n",
              "      <td>United States</td>\n",
              "      <td>Pittsburgh</td>\n",
              "      <td>Pennsylvania</td>\n",
              "      <td>n</td>\n",
              "      <td>...</td>\n",
              "      <td>NaN</td>\n",
              "      <td>NaN</td>\n",
              "      <td>NaN</td>\n",
              "      <td>NaN</td>\n",
              "      <td>NaN</td>\n",
              "      <td>NaN</td>\n",
              "      <td>NaN</td>\n",
              "      <td>NaN</td>\n",
              "      <td>NaN</td>\n",
              "      <td>NaN</td>\n",
              "    </tr>\n",
              "    <tr>\n",
              "      <th>3</th>\n",
              "      <td>YjbEAECMBIaZKyfqOvWy5DDImUb2</td>\n",
              "      <td>26</td>\n",
              "      <td>healthy</td>\n",
              "      <td>2020-04-23</td>\n",
              "      <td>y</td>\n",
              "      <td>male</td>\n",
              "      <td>India</td>\n",
              "      <td>Bangalore</td>\n",
              "      <td>Karnataka</td>\n",
              "      <td>n</td>\n",
              "      <td>...</td>\n",
              "      <td>NaN</td>\n",
              "      <td>NaN</td>\n",
              "      <td>NaN</td>\n",
              "      <td>NaN</td>\n",
              "      <td>NaN</td>\n",
              "      <td>NaN</td>\n",
              "      <td>NaN</td>\n",
              "      <td>NaN</td>\n",
              "      <td>NaN</td>\n",
              "      <td>NaN</td>\n",
              "    </tr>\n",
              "    <tr>\n",
              "      <th>4</th>\n",
              "      <td>aGOvk4ji0cVqIzCs1jHnzlw2UEy2</td>\n",
              "      <td>32</td>\n",
              "      <td>healthy</td>\n",
              "      <td>2020-04-22</td>\n",
              "      <td>y</td>\n",
              "      <td>male</td>\n",
              "      <td>India</td>\n",
              "      <td>Nalanda</td>\n",
              "      <td>Bihar</td>\n",
              "      <td>n</td>\n",
              "      <td>...</td>\n",
              "      <td>NaN</td>\n",
              "      <td>NaN</td>\n",
              "      <td>NaN</td>\n",
              "      <td>NaN</td>\n",
              "      <td>NaN</td>\n",
              "      <td>NaN</td>\n",
              "      <td>NaN</td>\n",
              "      <td>NaN</td>\n",
              "      <td>NaN</td>\n",
              "      <td>NaN</td>\n",
              "    </tr>\n",
              "  </tbody>\n",
              "</table>\n",
              "<p>5 rows × 36 columns</p>\n",
              "</div>\n",
              "      <button class=\"colab-df-convert\" onclick=\"convertToInteractive('df-7ca8efcb-83fa-4a28-bcf2-6891c2e18419')\"\n",
              "              title=\"Convert this dataframe to an interactive table.\"\n",
              "              style=\"display:none;\">\n",
              "        \n",
              "  <svg xmlns=\"http://www.w3.org/2000/svg\" height=\"24px\"viewBox=\"0 0 24 24\"\n",
              "       width=\"24px\">\n",
              "    <path d=\"M0 0h24v24H0V0z\" fill=\"none\"/>\n",
              "    <path d=\"M18.56 5.44l.94 2.06.94-2.06 2.06-.94-2.06-.94-.94-2.06-.94 2.06-2.06.94zm-11 1L8.5 8.5l.94-2.06 2.06-.94-2.06-.94L8.5 2.5l-.94 2.06-2.06.94zm10 10l.94 2.06.94-2.06 2.06-.94-2.06-.94-.94-2.06-.94 2.06-2.06.94z\"/><path d=\"M17.41 7.96l-1.37-1.37c-.4-.4-.92-.59-1.43-.59-.52 0-1.04.2-1.43.59L10.3 9.45l-7.72 7.72c-.78.78-.78 2.05 0 2.83L4 21.41c.39.39.9.59 1.41.59.51 0 1.02-.2 1.41-.59l7.78-7.78 2.81-2.81c.8-.78.8-2.07 0-2.86zM5.41 20L4 18.59l7.72-7.72 1.47 1.35L5.41 20z\"/>\n",
              "  </svg>\n",
              "      </button>\n",
              "      \n",
              "  <style>\n",
              "    .colab-df-container {\n",
              "      display:flex;\n",
              "      flex-wrap:wrap;\n",
              "      gap: 12px;\n",
              "    }\n",
              "\n",
              "    .colab-df-convert {\n",
              "      background-color: #E8F0FE;\n",
              "      border: none;\n",
              "      border-radius: 50%;\n",
              "      cursor: pointer;\n",
              "      display: none;\n",
              "      fill: #1967D2;\n",
              "      height: 32px;\n",
              "      padding: 0 0 0 0;\n",
              "      width: 32px;\n",
              "    }\n",
              "\n",
              "    .colab-df-convert:hover {\n",
              "      background-color: #E2EBFA;\n",
              "      box-shadow: 0px 1px 2px rgba(60, 64, 67, 0.3), 0px 1px 3px 1px rgba(60, 64, 67, 0.15);\n",
              "      fill: #174EA6;\n",
              "    }\n",
              "\n",
              "    [theme=dark] .colab-df-convert {\n",
              "      background-color: #3B4455;\n",
              "      fill: #D2E3FC;\n",
              "    }\n",
              "\n",
              "    [theme=dark] .colab-df-convert:hover {\n",
              "      background-color: #434B5C;\n",
              "      box-shadow: 0px 1px 3px 1px rgba(0, 0, 0, 0.15);\n",
              "      filter: drop-shadow(0px 1px 2px rgba(0, 0, 0, 0.3));\n",
              "      fill: #FFFFFF;\n",
              "    }\n",
              "  </style>\n",
              "\n",
              "      <script>\n",
              "        const buttonEl =\n",
              "          document.querySelector('#df-7ca8efcb-83fa-4a28-bcf2-6891c2e18419 button.colab-df-convert');\n",
              "        buttonEl.style.display =\n",
              "          google.colab.kernel.accessAllowed ? 'block' : 'none';\n",
              "\n",
              "        async function convertToInteractive(key) {\n",
              "          const element = document.querySelector('#df-7ca8efcb-83fa-4a28-bcf2-6891c2e18419');\n",
              "          const dataTable =\n",
              "            await google.colab.kernel.invokeFunction('convertToInteractive',\n",
              "                                                     [key], {});\n",
              "          if (!dataTable) return;\n",
              "\n",
              "          const docLinkHtml = 'Like what you see? Visit the ' +\n",
              "            '<a target=\"_blank\" href=https://colab.research.google.com/notebooks/data_table.ipynb>data table notebook</a>'\n",
              "            + ' to learn more about interactive tables.';\n",
              "          element.innerHTML = '';\n",
              "          dataTable['output_type'] = 'display_data';\n",
              "          await google.colab.output.renderOutput(dataTable, element);\n",
              "          const docLink = document.createElement('div');\n",
              "          docLink.innerHTML = docLinkHtml;\n",
              "          element.appendChild(docLink);\n",
              "        }\n",
              "      </script>\n",
              "    </div>\n",
              "  </div>\n",
              "  "
            ]
          },
          "metadata": {},
          "execution_count": 21
        }
      ]
    },
    {
      "cell_type": "code",
      "source": [
        "init_path = './Extracted_data/'\n",
        "end_path = '/cough-shallow.wav'\n",
        "combined['source'] = init_path + combined['record_date'] + '/' + combined['id'] + end_path\n",
        "combined.source"
      ],
      "metadata": {
        "colab": {
          "base_uri": "https://localhost:8080/"
        },
        "id": "6_Nb0Gu8tPhv",
        "outputId": "f7adbffd-a697-4ba9-9b9d-897710a085dc"
      },
      "execution_count": null,
      "outputs": [
        {
          "output_type": "execute_result",
          "data": {
            "text/plain": [
              "0       ./Extracted_data/2020-04-23/iV3Db6t1T8b7c5HQY2...\n",
              "1       ./Extracted_data/2020-04-20/AxuYWBN0jFVLINCBqI...\n",
              "2       ./Extracted_data/2020-04-24/C5eIsssb9GSkaAgIfs...\n",
              "3       ./Extracted_data/2020-04-23/YjbEAECMBIaZKyfqOv...\n",
              "4       ./Extracted_data/2020-04-22/aGOvk4ji0cVqIzCs1j...\n",
              "                              ...                        \n",
              "2369    ./Extracted_data/2021-07-13/333NjqA1TfZJuICEdX...\n",
              "2370    ./Extracted_data/2021-07-06/dpA0EeRrtJUeKJjEuf...\n",
              "2371    ./Extracted_data/2021-07-13/UXhG3vgoxkWtd4Meky...\n",
              "2372    ./Extracted_data/2021-07-01/A5KW9PXraNgckln1gn...\n",
              "2373    ./Extracted_data/2021-07-06/iYwmYc9CdlSuzqGwIl...\n",
              "Name: source, Length: 2374, dtype: object"
            ]
          },
          "metadata": {},
          "execution_count": 22
        }
      ]
    },
    {
      "cell_type": "code",
      "source": [
        "combined.covid_status.value_counts()"
      ],
      "metadata": {
        "colab": {
          "base_uri": "https://localhost:8080/"
        },
        "id": "3Ya-KhrMtXdw",
        "outputId": "6c2dd038-7860-4dd1-c645-17b39d11f6a0"
      },
      "execution_count": null,
      "outputs": [
        {
          "output_type": "execute_result",
          "data": {
            "text/plain": [
              "healthy                        1404\n",
              "positive_mild                   325\n",
              "no_resp_illness_exposed         192\n",
              "resp_illness_not_identified     153\n",
              "positive_moderate               127\n",
              "recovered_full                  103\n",
              "positive_asymp                   70\n",
              "Name: covid_status, dtype: int64"
            ]
          },
          "metadata": {},
          "execution_count": 23
        }
      ]
    },
    {
      "cell_type": "code",
      "source": [
        "new_df = combined[combined.covid_status != 'positive_mild']\n",
        "new_df = new_df[new_df.covid_status != 'no_resp_illness_exposed']\n",
        "new_df = new_df[new_df.covid_status != 'resp_illness_not_identified']\n",
        "\n",
        "new_df = new_df[new_df.covid_status != 'recovered_full']\n",
        "new_df = new_df[new_df.covid_status != 'positive_asymp']\n",
        "new_df.covid_status.value_counts()"
      ],
      "metadata": {
        "colab": {
          "base_uri": "https://localhost:8080/"
        },
        "id": "Xqfz6qL2RM_4",
        "outputId": "8529b609-a479-4e75-9623-632219dd7a8d"
      },
      "execution_count": null,
      "outputs": [
        {
          "output_type": "execute_result",
          "data": {
            "text/plain": [
              "healthy              1404\n",
              "positive_moderate     127\n",
              "Name: covid_status, dtype: int64"
            ]
          },
          "metadata": {},
          "execution_count": 24
        }
      ]
    },
    {
      "cell_type": "code",
      "source": [
        "f, axs = plt.subplots(1, 2, figsize=(12, 4), gridspec_kw=dict(width_ratios=[4, 4]))\n",
        "sns.countplot(data=combined, x=\"test_status\", ax=axs[0])\n",
        "sns.countplot(data=new_df, x=\"covid_status\", ax=axs[1])\n",
        "f.tight_layout()"
      ],
      "metadata": {
        "colab": {
          "base_uri": "https://localhost:8080/",
          "height": 296
        },
        "id": "OEooEaB4xwXx",
        "outputId": "ba026992-3f49-4aaf-e9d1-acca9d34f54a"
      },
      "execution_count": null,
      "outputs": [
        {
          "output_type": "display_data",
          "data": {
            "text/plain": [
              "<Figure size 864x288 with 2 Axes>"
            ],
            "image/png": "[encoded data removed]"
          },
          "metadata": {
            "needs_background": "light"
          }
        }
      ]
    },
    {
      "cell_type": "code",
      "source": [
        "test_result_csv = new_df.loc[combined.test_status!='na']\n",
        "test_result_csv\n",
        "cleaned_data = test_result_csv.drop(['test_date', 'l_l', 'l_c', 'l_s', 'ep'], axis=1)\n",
        "cleaned_data"
      ],
      "metadata": {
        "colab": {
          "base_uri": "https://localhost:8080/",
          "height": 468
        },
        "id": "OklYI13zMaq2",
        "outputId": "08815c5a-d8d4-44c3-c8c9-512950ea2057"
      },
      "execution_count": null,
      "outputs": [
        {
          "output_type": "execute_result",
          "data": {
            "text/plain": [
              "                                id   a       covid_status record_date       g  \\\n",
              "0     iV3Db6t1T8b7c5HQY2TwxIhjbzD3  28            healthy  2020-04-23    male   \n",
              "1     AxuYWBN0jFVLINCBqIW5aZmGCdu1  25            healthy  2020-04-20    male   \n",
              "2     C5eIsssb9GSkaAgIfsHMHeR6fSh1  28            healthy  2020-04-24  female   \n",
              "3     YjbEAECMBIaZKyfqOvWy5DDImUb2  26            healthy  2020-04-23    male   \n",
              "4     aGOvk4ji0cVqIzCs1jHnzlw2UEy2  32            healthy  2020-04-22    male   \n",
              "...                            ...  ..                ...         ...     ...   \n",
              "2351  eAH6zemkWAfsP96K8tMyZJIDvgR2  23  positive_moderate  2021-07-01  female   \n",
              "2359  gGgG540lBOZoSK1vyqNVlqBzQBl1  20            healthy  2021-07-12    male   \n",
              "2361  nx6RCgD0OjdzLa07UHBdHfz54ML2  24            healthy  2021-07-13  female   \n",
              "2365  Ft82dZ2O4PMuq64dPIEVik9upMr2  41  positive_moderate  2021-07-03    male   \n",
              "2372  A5KW9PXraNgckln1gnNaJnX6DvB2  25  positive_moderate  2021-07-01    male   \n",
              "\n",
              "     rU smoker  cold   ht diabetes  ...   bd others_resp   ftg    st  ihd  \\\n",
              "0     n    NaN   NaN  NaN      NaN  ...  NaN         NaN   NaN   NaN  NaN   \n",
              "1     n   True   NaN  NaN      NaN  ...  NaN         NaN   NaN   NaN  NaN   \n",
              "2     n    NaN   NaN  NaN      NaN  ...  NaN         NaN   NaN   NaN  NaN   \n",
              "3     n    NaN  True  NaN      NaN  ...  NaN         NaN   NaN   NaN  NaN   \n",
              "4     n    NaN   NaN  NaN      NaN  ...  NaN         NaN   NaN   NaN  NaN   \n",
              "...  ..    ...   ...  ...      ...  ...  ...         ...   ...   ...  ...   \n",
              "2351  n      n  True  NaN      NaN  ...  NaN         NaN   NaN  True  NaN   \n",
              "2359  n      n   NaN  NaN      NaN  ...  NaN         NaN   NaN   NaN  NaN   \n",
              "2361  n      n   NaN  NaN      NaN  ...  NaN         NaN   NaN   NaN  NaN   \n",
              "2365  n      n  True  NaN      NaN  ...  NaN         NaN  True   NaN  NaN   \n",
              "2372  n      n  True  NaN      NaN  ...  NaN         NaN   NaN   NaN  NaN   \n",
              "\n",
              "     asthma others_preexist  cld pneumonia  \\\n",
              "0       NaN             NaN  NaN       NaN   \n",
              "1       NaN             NaN  NaN       NaN   \n",
              "2       NaN             NaN  NaN       NaN   \n",
              "3       NaN             NaN  NaN       NaN   \n",
              "4       NaN             NaN  NaN       NaN   \n",
              "...     ...             ...  ...       ...   \n",
              "2351    NaN             NaN  NaN       NaN   \n",
              "2359    NaN             NaN  NaN       NaN   \n",
              "2361    NaN             NaN  NaN       NaN   \n",
              "2365    NaN             NaN  NaN       NaN   \n",
              "2372    NaN             NaN  NaN       NaN   \n",
              "\n",
              "                                                 source  \n",
              "0     ./Extracted_data/2020-04-23/iV3Db6t1T8b7c5HQY2...  \n",
              "1     ./Extracted_data/2020-04-20/AxuYWBN0jFVLINCBqI...  \n",
              "2     ./Extracted_data/2020-04-24/C5eIsssb9GSkaAgIfs...  \n",
              "3     ./Extracted_data/2020-04-23/YjbEAECMBIaZKyfqOv...  \n",
              "4     ./Extracted_data/2020-04-22/aGOvk4ji0cVqIzCs1j...  \n",
              "...                                                 ...  \n",
              "2351  ./Extracted_data/2021-07-01/eAH6zemkWAfsP96K8t...  \n",
              "2359  ./Extracted_data/2021-07-12/gGgG540lBOZoSK1vyq...  \n",
              "2361  ./Extracted_data/2021-07-13/nx6RCgD0OjdzLa07UH...  \n",
              "2365  ./Extracted_data/2021-07-03/Ft82dZ2O4PMuq64dPI...  \n",
              "2372  ./Extracted_data/2021-07-01/A5KW9PXraNgckln1gn...  \n",
              "\n",
              "[1350 rows x 32 columns]"
            ],
            "text/html": [
              "\n",
              "  <div id=\"df-0568b473-d7a8-4bfa-8a5d-a8415dc55a8d\">\n",
              "    <div class=\"colab-df-container\">\n",
              "      <div>\n",
              "<style scoped>\n",
              "    .dataframe tbody tr th:only-of-type {\n",
              "        vertical-align: middle;\n",
              "    }\n",
              "\n",
              "    .dataframe tbody tr th {\n",
              "        vertical-align: top;\n",
              "    }\n",
              "\n",
              "    .dataframe thead th {\n",
              "        text-align: right;\n",
              "    }\n",
              "</style>\n",
              "<table border=\"1\" class=\"dataframe\">\n",
              "  <thead>\n",
              "    <tr style=\"text-align: right;\">\n",
              "      <th></th>\n",
              "      <th>id</th>\n",
              "      <th>a</th>\n",
              "      <th>covid_status</th>\n",
              "      <th>record_date</th>\n",
              "      <th>g</th>\n",
              "      <th>rU</th>\n",
              "      <th>smoker</th>\n",
              "      <th>cold</th>\n",
              "      <th>ht</th>\n",
              "      <th>diabetes</th>\n",
              "      <th>...</th>\n",
              "      <th>bd</th>\n",
              "      <th>others_resp</th>\n",
              "      <th>ftg</th>\n",
              "      <th>st</th>\n",
              "      <th>ihd</th>\n",
              "      <th>asthma</th>\n",
              "      <th>others_preexist</th>\n",
              "      <th>cld</th>\n",
              "      <th>pneumonia</th>\n",
              "      <th>source</th>\n",
              "    </tr>\n",
              "  </thead>\n",
              "  <tbody>\n",
              "    <tr>\n",
              "      <th>0</th>\n",
              "      <td>iV3Db6t1T8b7c5HQY2TwxIhjbzD3</td>\n",
              "      <td>28</td>\n",
              "      <td>healthy</td>\n",
              "      <td>2020-04-23</td>\n",
              "      <td>male</td>\n",
              "      <td>n</td>\n",
              "      <td>NaN</td>\n",
              "      <td>NaN</td>\n",
              "      <td>NaN</td>\n",
              "      <td>NaN</td>\n",
              "      <td>...</td>\n",
              "      <td>NaN</td>\n",
              "      <td>NaN</td>\n",
              "      <td>NaN</td>\n",
              "      <td>NaN</td>\n",
              "      <td>NaN</td>\n",
              "      <td>NaN</td>\n",
              "      <td>NaN</td>\n",
              "      <td>NaN</td>\n",
              "      <td>NaN</td>\n",
              "      <td>./Extracted_data/2020-04-23/iV3Db6t1T8b7c5HQY2...</td>\n",
              "    </tr>\n",
              "    <tr>\n",
              "      <th>1</th>\n",
              "      <td>AxuYWBN0jFVLINCBqIW5aZmGCdu1</td>\n",
              "      <td>25</td>\n",
              "      <td>healthy</td>\n",
              "      <td>2020-04-20</td>\n",
              "      <td>male</td>\n",
              "      <td>n</td>\n",
              "      <td>True</td>\n",
              "      <td>NaN</td>\n",
              "      <td>NaN</td>\n",
              "      <td>NaN</td>\n",
              "      <td>...</td>\n",
              "      <td>NaN</td>\n",
              "      <td>NaN</td>\n",
              "      <td>NaN</td>\n",
              "      <td>NaN</td>\n",
              "      <td>NaN</td>\n",
              "      <td>NaN</td>\n",
              "      <td>NaN</td>\n",
              "      <td>NaN</td>\n",
              "      <td>NaN</td>\n",
              "      <td>./Extracted_data/2020-04-20/AxuYWBN0jFVLINCBqI...</td>\n",
              "    </tr>\n",
              "    <tr>\n",
              "      <th>2</th>\n",
              "      <td>C5eIsssb9GSkaAgIfsHMHeR6fSh1</td>\n",
              "      <td>28</td>\n",
              "      <td>healthy</td>\n",
              "      <td>2020-04-24</td>\n",
              "      <td>female</td>\n",
              "      <td>n</td>\n",
              "      <td>NaN</td>\n",
              "      <td>NaN</td>\n",
              "      <td>NaN</td>\n",
              "      <td>NaN</td>\n",
              "      <td>...</td>\n",
              "      <td>NaN</td>\n",
              "      <td>NaN</td>\n",
              "      <td>NaN</td>\n",
              "      <td>NaN</td>\n",
              "      <td>NaN</td>\n",
              "      <td>NaN</td>\n",
              "      <td>NaN</td>\n",
              "      <td>NaN</td>\n",
              "      <td>NaN</td>\n",
              "      <td>./Extracted_data/2020-04-24/C5eIsssb9GSkaAgIfs...</td>\n",
              "    </tr>\n",
              "    <tr>\n",
              "      <th>3</th>\n",
              "      <td>YjbEAECMBIaZKyfqOvWy5DDImUb2</td>\n",
              "      <td>26</td>\n",
              "      <td>healthy</td>\n",
              "      <td>2020-04-23</td>\n",
              "      <td>male</td>\n",
              "      <td>n</td>\n",
              "      <td>NaN</td>\n",
              "      <td>True</td>\n",
              "      <td>NaN</td>\n",
              "      <td>NaN</td>\n",
              "      <td>...</td>\n",
              "      <td>NaN</td>\n",
              "      <td>NaN</td>\n",
              "      <td>NaN</td>\n",
              "      <td>NaN</td>\n",
              "      <td>NaN</td>\n",
              "      <td>NaN</td>\n",
              "      <td>NaN</td>\n",
              "      <td>NaN</td>\n",
              "      <td>NaN</td>\n",
              "      <td>./Extracted_data/2020-04-23/YjbEAECMBIaZKyfqOv...</td>\n",
              "    </tr>\n",
              "    <tr>\n",
              "      <th>4</th>\n",
              "      <td>aGOvk4ji0cVqIzCs1jHnzlw2UEy2</td>\n",
              "      <td>32</td>\n",
              "      <td>healthy</td>\n",
              "      <td>2020-04-22</td>\n",
              "      <td>male</td>\n",
              "      <td>n</td>\n",
              "      <td>NaN</td>\n",
              "      <td>NaN</td>\n",
              "      <td>NaN</td>\n",
              "      <td>NaN</td>\n",
              "      <td>...</td>\n",
              "      <td>NaN</td>\n",
              "      <td>NaN</td>\n",
              "      <td>NaN</td>\n",
              "      <td>NaN</td>\n",
              "      <td>NaN</td>\n",
              "      <td>NaN</td>\n",
              "      <td>NaN</td>\n",
              "      <td>NaN</td>\n",
              "      <td>NaN</td>\n",
              "      <td>./Extracted_data/2020-04-22/aGOvk4ji0cVqIzCs1j...</td>\n",
              "    </tr>\n",
              "    <tr>\n",
              "      <th>...</th>\n",
              "      <td>...</td>\n",
              "      <td>...</td>\n",
              "      <td>...</td>\n",
              "      <td>...</td>\n",
              "      <td>...</td>\n",
              "      <td>...</td>\n",
              "      <td>...</td>\n",
              "      <td>...</td>\n",
              "      <td>...</td>\n",
              "      <td>...</td>\n",
              "      <td>...</td>\n",
              "      <td>...</td>\n",
              "      <td>...</td>\n",
              "      <td>...</td>\n",
              "      <td>...</td>\n",
              "      <td>...</td>\n",
              "      <td>...</td>\n",
              "      <td>...</td>\n",
              "      <td>...</td>\n",
              "      <td>...</td>\n",
              "      <td>...</td>\n",
              "    </tr>\n",
              "    <tr>\n",
              "      <th>2351</th>\n",
              "      <td>eAH6zemkWAfsP96K8tMyZJIDvgR2</td>\n",
              "      <td>23</td>\n",
              "      <td>positive_moderate</td>\n",
              "      <td>2021-07-01</td>\n",
              "      <td>female</td>\n",
              "      <td>n</td>\n",
              "      <td>n</td>\n",
              "      <td>True</td>\n",
              "      <td>NaN</td>\n",
              "      <td>NaN</td>\n",
              "      <td>...</td>\n",
              "      <td>NaN</td>\n",
              "      <td>NaN</td>\n",
              "      <td>NaN</td>\n",
              "      <td>True</td>\n",
              "      <td>NaN</td>\n",
              "      <td>NaN</td>\n",
              "      <td>NaN</td>\n",
              "      <td>NaN</td>\n",
              "      <td>NaN</td>\n",
              "      <td>./Extracted_data/2021-07-01/eAH6zemkWAfsP96K8t...</td>\n",
              "    </tr>\n",
              "    <tr>\n",
              "      <th>2359</th>\n",
              "      <td>gGgG540lBOZoSK1vyqNVlqBzQBl1</td>\n",
              "      <td>20</td>\n",
              "      <td>healthy</td>\n",
              "      <td>2021-07-12</td>\n",
              "      <td>male</td>\n",
              "      <td>n</td>\n",
              "      <td>n</td>\n",
              "      <td>NaN</td>\n",
              "      <td>NaN</td>\n",
              "      <td>NaN</td>\n",
              "      <td>...</td>\n",
              "      <td>NaN</td>\n",
              "      <td>NaN</td>\n",
              "      <td>NaN</td>\n",
              "      <td>NaN</td>\n",
              "      <td>NaN</td>\n",
              "      <td>NaN</td>\n",
              "      <td>NaN</td>\n",
              "      <td>NaN</td>\n",
              "      <td>NaN</td>\n",
              "      <td>./Extracted_data/2021-07-12/gGgG540lBOZoSK1vyq...</td>\n",
              "    </tr>\n",
              "    <tr>\n",
              "      <th>2361</th>\n",
              "      <td>nx6RCgD0OjdzLa07UHBdHfz54ML2</td>\n",
              "      <td>24</td>\n",
              "      <td>healthy</td>\n",
              "      <td>2021-07-13</td>\n",
              "      <td>female</td>\n",
              "      <td>n</td>\n",
              "      <td>n</td>\n",
              "      <td>NaN</td>\n",
              "      <td>NaN</td>\n",
              "      <td>NaN</td>\n",
              "      <td>...</td>\n",
              "      <td>NaN</td>\n",
              "      <td>NaN</td>\n",
              "      <td>NaN</td>\n",
              "      <td>NaN</td>\n",
              "      <td>NaN</td>\n",
              "      <td>NaN</td>\n",
              "      <td>NaN</td>\n",
              "      <td>NaN</td>\n",
              "      <td>NaN</td>\n",
              "      <td>./Extracted_data/2021-07-13/nx6RCgD0OjdzLa07UH...</td>\n",
              "    </tr>\n",
              "    <tr>\n",
              "      <th>2365</th>\n",
              "      <td>Ft82dZ2O4PMuq64dPIEVik9upMr2</td>\n",
              "      <td>41</td>\n",
              "      <td>positive_moderate</td>\n",
              "      <td>2021-07-03</td>\n",
              "      <td>male</td>\n",
              "      <td>n</td>\n",
              "      <td>n</td>\n",
              "      <td>True</td>\n",
              "      <td>NaN</td>\n",
              "      <td>NaN</td>\n",
              "      <td>...</td>\n",
              "      <td>NaN</td>\n",
              "      <td>NaN</td>\n",
              "      <td>True</td>\n",
              "      <td>NaN</td>\n",
              "      <td>NaN</td>\n",
              "      <td>NaN</td>\n",
              "      <td>NaN</td>\n",
              "      <td>NaN</td>\n",
              "      <td>NaN</td>\n",
              "      <td>./Extracted_data/2021-07-03/Ft82dZ2O4PMuq64dPI...</td>\n",
              "    </tr>\n",
              "    <tr>\n",
              "      <th>2372</th>\n",
              "      <td>A5KW9PXraNgckln1gnNaJnX6DvB2</td>\n",
              "      <td>25</td>\n",
              "      <td>positive_moderate</td>\n",
              "      <td>2021-07-01</td>\n",
              "      <td>male</td>\n",
              "      <td>n</td>\n",
              "      <td>n</td>\n",
              "      <td>True</td>\n",
              "      <td>NaN</td>\n",
              "      <td>NaN</td>\n",
              "      <td>...</td>\n",
              "      <td>NaN</td>\n",
              "      <td>NaN</td>\n",
              "      <td>NaN</td>\n",
              "      <td>NaN</td>\n",
              "      <td>NaN</td>\n",
              "      <td>NaN</td>\n",
              "      <td>NaN</td>\n",
              "      <td>NaN</td>\n",
              "      <td>NaN</td>\n",
              "      <td>./Extracted_data/2021-07-01/A5KW9PXraNgckln1gn...</td>\n",
              "    </tr>\n",
              "  </tbody>\n",
              "</table>\n",
              "<p>1350 rows × 32 columns</p>\n",
              "</div>\n",
              "      <button class=\"colab-df-convert\" onclick=\"convertToInteractive('df-0568b473-d7a8-4bfa-8a5d-a8415dc55a8d')\"\n",
              "              title=\"Convert this dataframe to an interactive table.\"\n",
              "              style=\"display:none;\">\n",
              "        \n",
              "  <svg xmlns=\"http://www.w3.org/2000/svg\" height=\"24px\"viewBox=\"0 0 24 24\"\n",
              "       width=\"24px\">\n",
              "    <path d=\"M0 0h24v24H0V0z\" fill=\"none\"/>\n",
              "    <path d=\"M18.56 5.44l.94 2.06.94-2.06 2.06-.94-2.06-.94-.94-2.06-.94 2.06-2.06.94zm-11 1L8.5 8.5l.94-2.06 2.06-.94-2.06-.94L8.5 2.5l-.94 2.06-2.06.94zm10 10l.94 2.06.94-2.06 2.06-.94-2.06-.94-.94-2.06-.94 2.06-2.06.94z\"/><path d=\"M17.41 7.96l-1.37-1.37c-.4-.4-.92-.59-1.43-.59-.52 0-1.04.2-1.43.59L10.3 9.45l-7.72 7.72c-.78.78-.78 2.05 0 2.83L4 21.41c.39.39.9.59 1.41.59.51 0 1.02-.2 1.41-.59l7.78-7.78 2.81-2.81c.8-.78.8-2.07 0-2.86zM5.41 20L4 18.59l7.72-7.72 1.47 1.35L5.41 20z\"/>\n",
              "  </svg>\n",
              "      </button>\n",
              "      \n",
              "  <style>\n",
              "    .colab-df-container {\n",
              "      display:flex;\n",
              "      flex-wrap:wrap;\n",
              "      gap: 12px;\n",
              "    }\n",
              "\n",
              "    .colab-df-convert {\n",
              "      background-color: #E8F0FE;\n",
              "      border: none;\n",
              "      border-radius: 50%;\n",
              "      cursor: pointer;\n",
              "      display: none;\n",
              "      fill: #1967D2;\n",
              "      height: 32px;\n",
              "      padding: 0 0 0 0;\n",
              "      width: 32px;\n",
              "    }\n",
              "\n",
              "    .colab-df-convert:hover {\n",
              "      background-color: #E2EBFA;\n",
              "      box-shadow: 0px 1px 2px rgba(60, 64, 67, 0.3), 0px 1px 3px 1px rgba(60, 64, 67, 0.15);\n",
              "      fill: #174EA6;\n",
              "    }\n",
              "\n",
              "    [theme=dark] .colab-df-convert {\n",
              "      background-color: #3B4455;\n",
              "      fill: #D2E3FC;\n",
              "    }\n",
              "\n",
              "    [theme=dark] .colab-df-convert:hover {\n",
              "      background-color: #434B5C;\n",
              "      box-shadow: 0px 1px 3px 1px rgba(0, 0, 0, 0.15);\n",
              "      filter: drop-shadow(0px 1px 2px rgba(0, 0, 0, 0.3));\n",
              "      fill: #FFFFFF;\n",
              "    }\n",
              "  </style>\n",
              "\n",
              "      <script>\n",
              "        const buttonEl =\n",
              "          document.querySelector('#df-0568b473-d7a8-4bfa-8a5d-a8415dc55a8d button.colab-df-convert');\n",
              "        buttonEl.style.display =\n",
              "          google.colab.kernel.accessAllowed ? 'block' : 'none';\n",
              "\n",
              "        async function convertToInteractive(key) {\n",
              "          const element = document.querySelector('#df-0568b473-d7a8-4bfa-8a5d-a8415dc55a8d');\n",
              "          const dataTable =\n",
              "            await google.colab.kernel.invokeFunction('convertToInteractive',\n",
              "                                                     [key], {});\n",
              "          if (!dataTable) return;\n",
              "\n",
              "          const docLinkHtml = 'Like what you see? Visit the ' +\n",
              "            '<a target=\"_blank\" href=https://colab.research.google.com/notebooks/data_table.ipynb>data table notebook</a>'\n",
              "            + ' to learn more about interactive tables.';\n",
              "          element.innerHTML = '';\n",
              "          dataTable['output_type'] = 'display_data';\n",
              "          await google.colab.output.renderOutput(dataTable, element);\n",
              "          const docLink = document.createElement('div');\n",
              "          docLink.innerHTML = docLinkHtml;\n",
              "          element.appendChild(docLink);\n",
              "        }\n",
              "      </script>\n",
              "    </div>\n",
              "  </div>\n",
              "  "
            ]
          },
          "metadata": {},
          "execution_count": 26
        }
      ]
    },
    {
      "cell_type": "code",
      "source": [
        "paths_lis = cleaned_data.id.unique()\n",
        "wav_paths1 = []\n",
        "for i in range(len(paths_lis)):\n",
        "  for f in glob.glob(\"./Extracted_data/*/\"+paths_lis[i]+\"/cough-heavy.wav\"):\n",
        "    print(f)\n",
        "    wav_paths1.append(f)"
      ],
      "metadata": {
        "id": "yfhr0W07NAa6",
        "colab": {
          "base_uri": "https://localhost:8080/"
        },
        "outputId": "1831f58c-b47f-45e2-e573-124e000ba6f8"
      },
      "execution_count": null,
      "outputs": [
        {
          "output_type": "stream",
          "name": "stdout",
          "text": [
            "./Extracted_data/20200424/iV3Db6t1T8b7c5HQY2TwxIhjbzD3/cough-heavy.wav\n",
            "./Extracted_data/20200424/AxuYWBN0jFVLINCBqIW5aZmGCdu1/cough-heavy.wav\n",
            "./Extracted_data/20200424/C5eIsssb9GSkaAgIfsHMHeR6fSh1/cough-heavy.wav\n",
            "./Extracted_data/20200424/YjbEAECMBIaZKyfqOvWy5DDImUb2/cough-heavy.wav\n",
            "./Extracted_data/20200424/aGOvk4ji0cVqIzCs1jHnzlw2UEy2/cough-heavy.wav\n",
            "./Extracted_data/20200424/rB5oGtrGYZR5uJUXEaDYrrredz13/cough-heavy.wav\n",
            "./Extracted_data/20200424/OW5RTM4WXPawz0QLpsfjsl4FqM22/cough-heavy.wav\n",
            "./Extracted_data/20200424/lF4uHVWCoBPlnxvapmUJ4ROtYV73/cough-heavy.wav\n",
            "./Extracted_data/20200424/LYJToDRYDZfpjBuNC6YkUcphr0q1/cough-heavy.wav\n",
            "./Extracted_data/20200424/pOZwqBg4NsVYWASmwwhXFq4UlpC2/cough-heavy.wav\n",
            "./Extracted_data/20200424/aB7zSIAFW7bCmQC7IBUWFjNncTF3/cough-heavy.wav\n",
            "./Extracted_data/20200424/GzhrTQhWHSTwvweRKx2x1Uh4wx52/cough-heavy.wav\n",
            "./Extracted_data/20200424/OTSzQ3koIrTIdjRbfrDBzn88rLe2/cough-heavy.wav\n",
            "./Extracted_data/20200424/Q2rqPfhdilf16SbycBrtJ4gQ5Ep1/cough-heavy.wav\n",
            "./Extracted_data/20200424/Q8ADRNJMa3ecKbRrrVWqBsbNmsL2/cough-heavy.wav\n",
            "./Extracted_data/20200424/2n0fnSeTNiWvPi7aLxRrFsCGU8D2/cough-heavy.wav\n",
            "./Extracted_data/20200424/nE9m0JsRXTYoni1nN9LpiBJJJXJ2/cough-heavy.wav\n",
            "./Extracted_data/20200424/Ny6G594aKENcYgURBgYJJa62ziV2/cough-heavy.wav\n",
            "./Extracted_data/20200424/R4AY1hLOZtUJRsYeDGgGZR4sKVP2/cough-heavy.wav\n",
            "./Extracted_data/20200424/RUG3ss3JaEVElB4LvuOrW8wC1pD2/cough-heavy.wav\n",
            "./Extracted_data/20200424/fKZtrxD1qFVpLIgnmwEzWvnQZc83/cough-heavy.wav\n",
            "./Extracted_data/20200424/4e9u1T1conYlXIQp89SQRgMPScY2/cough-heavy.wav\n",
            "./Extracted_data/20200424/qhYsqvdV41c4THE9gd4ugJqIYW03/cough-heavy.wav\n",
            "./Extracted_data/20200424/zga52aKD4sQJbsqwZg1RrLKjkus2/cough-heavy.wav\n",
            "./Extracted_data/20200424/rf6smT3AxxYh5E5LqwXPy0VHrRr1/cough-heavy.wav\n",
            "./Extracted_data/20200424/r0XiFJDYZCMvV7xT8LowfFV3DJQ2/cough-heavy.wav\n",
            "./Extracted_data/20210816/9hXEs9OejdVxG6JJGCyKQpqVvy43/cough-heavy.wav\n",
            "./Extracted_data/20210816/dPi1G2i821MDlbBUQWboTaExz023/cough-heavy.wav\n",
            "./Extracted_data/20210816/XbOUJCUl8GWEpQpIRMvujDE1sTE2/cough-heavy.wav\n",
            "./Extracted_data/20210816/Qcliznd3z1VdWmJOZh9nvlstTYv1/cough-heavy.wav\n",
            "./Extracted_data/20210816/srdG1jMMYHUtAU7bKP1dsbwJvxv1/cough-heavy.wav\n",
            "./Extracted_data/20210816/u9b2Qx6yTPV1J5XWC19x0GP596C3/cough-heavy.wav\n",
            "./Extracted_data/20210816/EaZfxkcnIWgsPfPW2XfFTjh7GQk2/cough-heavy.wav\n",
            "./Extracted_data/20210816/7lfdqN3JS8ZUOw42lMsIHbyCajA3/cough-heavy.wav\n",
            "./Extracted_data/20210816/lN6Y7317RFS0apVdnffs95djXIj1/cough-heavy.wav\n",
            "./Extracted_data/20210816/hbLP3s7RLsTgaMSRNWkIuuggpyL2/cough-heavy.wav\n",
            "./Extracted_data/20210816/tkM8UQsV2hVGrkSwelg3AyFiXoy2/cough-heavy.wav\n",
            "./Extracted_data/20210816/PSMPpfYMQ0MPLFeOAbb43DrmiNm2/cough-heavy.wav\n",
            "./Extracted_data/20210816/H2taWn5GjlQJaBy2Fvw3yp3zabg2/cough-heavy.wav\n",
            "./Extracted_data/20210816/xyNunpsL01N3hkRYCo7pfIkSDgf2/cough-heavy.wav\n",
            "./Extracted_data/20210816/gZzVS7gHpQYZS5Xk5P0O2noJRN82/cough-heavy.wav\n",
            "./Extracted_data/20210816/08tlSbvXpAggZavIGW994adhh1m1/cough-heavy.wav\n",
            "./Extracted_data/20210816/4h4p5SvPlHaV60UB1wA0uzaQwMt1/cough-heavy.wav\n",
            "./Extracted_data/20210816/SxFxlGEvukdQzz8w08BlXJMR5E52/cough-heavy.wav\n",
            "./Extracted_data/20210816/9qTEkN9zyqc9zYKt4qpsgatdTLo2/cough-heavy.wav\n",
            "./Extracted_data/20210816/OTa3jtPjzyQC7FezmlYX3o5U2I83/cough-heavy.wav\n",
            "./Extracted_data/20210816/acNcVO2ualNYfKX5k7tJe2nw40Q2/cough-heavy.wav\n",
            "./Extracted_data/20210816/G5wWAa7nvkOR9QvfsAt7tsd5qa82/cough-heavy.wav\n",
            "./Extracted_data/20210816/OUUxmNJuz3Wp0zoDNFdsiEtBstb2/cough-heavy.wav\n",
            "./Extracted_data/20210816/a96ovf71KqfbVIG8ZF5m6DaRE9Z2/cough-heavy.wav\n",
            "./Extracted_data/20210816/ubQOYCka4BUGeIeo6x3A9HYh8In2/cough-heavy.wav\n",
            "./Extracted_data/20210816/JsTOkdqknPeCRi6i63Cfu1ciuuh2/cough-heavy.wav\n",
            "./Extracted_data/20210816/BauEFEXAglbZSSgJEYGF4FqluZG3/cough-heavy.wav\n",
            "./Extracted_data/20210816/o8LJfYAChnd5Jv0WVa6Ni7jpHf92/cough-heavy.wav\n",
            "./Extracted_data/20210816/c96Fr87Qw8cbz2JKR4yE6DiuSrq1/cough-heavy.wav\n",
            "./Extracted_data/20210816/YpViFd6bZEaMT5i5DUd18Qh6NQI3/cough-heavy.wav\n",
            "./Extracted_data/20200419/nDhgdZFoNRUBm7qY6tw3z4ZLOdw2/cough-heavy.wav\n",
            "./Extracted_data/20200419/xyM7qnHrkeSfQsGyRCsomcKfMDG3/cough-heavy.wav\n",
            "./Extracted_data/20200419/Y5YzktJpmdMp3h3YOTEWcxE41F83/cough-heavy.wav\n",
            "./Extracted_data/20200419/HRtlc2Oedzd7Q70BgFjlJGMbyPL2/cough-heavy.wav\n",
            "./Extracted_data/20200419/vxQXoOBf9Oa0zTwHaKRyHqiUQTB2/cough-heavy.wav\n",
            "./Extracted_data/20200419/zHug6OwMsNQnCCKu5TAiHKddqer2/cough-heavy.wav\n",
            "./Extracted_data/20200419/Qriv4y0rwfWRZDatFMOj9zdXeB43/cough-heavy.wav\n",
            "./Extracted_data/20200419/RQqyn5Ur0gcPPYhafDG9DDfIgVh2/cough-heavy.wav\n",
            "./Extracted_data/20200419/XFX3DxpzWlTsqde0wmliVzvRXnf1/cough-heavy.wav\n",
            "./Extracted_data/20200419/lS9YdIeCTmfaDKr4AgtF1hjdlR23/cough-heavy.wav\n",
            "./Extracted_data/20200419/tkr2LeHuJyNXW3uM4NUZBmp1qIb2/cough-heavy.wav\n",
            "./Extracted_data/20200419/HtCYru78WihN83VInC0etddLCv62/cough-heavy.wav\n",
            "./Extracted_data/20200419/GMjhTrVkYsfH4RWjGFLCskzNnys2/cough-heavy.wav\n",
            "./Extracted_data/20200419/gfAVpM1IV5RhiO6CAiOjjn1AHVG2/cough-heavy.wav\n",
            "./Extracted_data/20200419/Uy5OhcHEQXY65CsYbiRPtN7RVBf1/cough-heavy.wav\n",
            "./Extracted_data/20200419/2jFheyh8bLO5peh0HPYGYjH5N9x2/cough-heavy.wav\n",
            "./Extracted_data/20200419/W9x1xBd8ZCggMQLy9vNSgo8zeAI3/cough-heavy.wav\n",
            "./Extracted_data/20200419/XlPcBLOUHdNZwOeNJvVy1KfjQDf2/cough-heavy.wav\n",
            "./Extracted_data/20200419/UbRWBwc42vQH5WKiUUP89RvPlA92/cough-heavy.wav\n",
            "./Extracted_data/20200419/PAngvEIaGxXq92VkTOyQPquFkVI2/cough-heavy.wav\n",
            "./Extracted_data/20200419/rsVzlx8x0INOnHAt8Xu6jrxeGqG2/cough-heavy.wav\n",
            "./Extracted_data/20200419/zir8PPnBwfOaT05GrKj9nK4opfk1/cough-heavy.wav\n",
            "./Extracted_data/20200419/l4rsSAm6LtVu9k22v8PJnYp1pnC3/cough-heavy.wav\n",
            "./Extracted_data/20200419/MEEGIoNSX4exg4oIL3Q9MdysPJq1/cough-heavy.wav\n",
            "./Extracted_data/20200419/1irqEfgfrbXwr2ymwtkMB1Y0rnB3/cough-heavy.wav\n",
            "./Extracted_data/20200824/xh2LPx4DZNXX3hdsmHa7Lk41fPJ3/cough-heavy.wav\n",
            "./Extracted_data/20200824/yZtohTVxlSauCUNuIIEUcdIA2TJ3/cough-heavy.wav\n",
            "./Extracted_data/20200824/V4vtnfRZS8bjKjuR7KVyYnJQXw32/cough-heavy.wav\n",
            "./Extracted_data/20200824/vSVws79jhxXr1iQrtbvhchHaHCE3/cough-heavy.wav\n",
            "./Extracted_data/20200824/oeOuvTlUMEfWPcNOA4EnTk5Bh4K2/cough-heavy.wav\n",
            "./Extracted_data/20200930/nQzxtyMOM3bSn98zqwBe9C7r7MI2/cough-heavy.wav\n",
            "./Extracted_data/20200930/vn3xkK3lIdViBCa9kMj8LDOy9yV2/cough-heavy.wav\n",
            "./Extracted_data/20200930/tLK9Z6BpfWVDFV7DQKMnEy0Woo22/cough-heavy.wav\n",
            "./Extracted_data/20200930/zBiORuLmvGhOciaUXFeAKRhMyhj2/cough-heavy.wav\n",
            "./Extracted_data/20200930/pQIRKYbiQ3ZHhnVt8CV73OvmBUU2/cough-heavy.wav\n",
            "./Extracted_data/20200930/op1WefhMk4PWXOP5mzMctzOWM3x1/cough-heavy.wav\n",
            "./Extracted_data/20200930/JuzR5zpE9HU3NsFabIcz4Kkp0Ag1/cough-heavy.wav\n",
            "./Extracted_data/20200930/pvX8fr2fMcebtfWq2wXqyIp56PL2/cough-heavy.wav\n",
            "./Extracted_data/20200820/FIgw7gymskPu3RGgk3Q6GeSH7yB3/cough-heavy.wav\n",
            "./Extracted_data/20200820/0zUxdfS5aoS6SiEoF1x6JXOk25B3/cough-heavy.wav\n",
            "./Extracted_data/20200820/xuXF9GD5zhWX6SqjzWsrUWvevhh2/cough-heavy.wav\n",
            "./Extracted_data/20200820/g2CeKxcydaSeP7WB3qIWjB8ZW8o1/cough-heavy.wav\n",
            "./Extracted_data/20200820/yZuoG6z3pRfycT6JKqwqKDMj4tM2/cough-heavy.wav\n",
            "./Extracted_data/20200820/2suYua5dbdh2cSreNFm8flktMEc2/cough-heavy.wav\n",
            "./Extracted_data/20200820/65JopCV7ExeP1scqYfg8nP5KjKy2/cough-heavy.wav\n",
            "./Extracted_data/20200820/fuCq7eA5CPYcnRpJqc0hFSr8klr2/cough-heavy.wav\n",
            "./Extracted_data/20200820/01OCEf1yB4czsq8ygRoT51s96Ba2/cough-heavy.wav\n",
            "./Extracted_data/20200820/DmKc9V8ZeqQBMqOaGMDZ3mvRIY13/cough-heavy.wav\n",
            "./Extracted_data/20200820/LziLApJbcWWu3MzbIL8k6mLdyFK2/cough-heavy.wav\n",
            "./Extracted_data/20200820/m6UxfLHv0nWKNqMZP2uNiGzXgKh2/cough-heavy.wav\n",
            "./Extracted_data/20200820/IG629UPMI0SQe0tpOKcTKCnQYr82/cough-heavy.wav\n",
            "./Extracted_data/20200820/59dIvwH1JDU9pHbH1rc3FoVlJWl1/cough-heavy.wav\n",
            "./Extracted_data/20200820/Tfvspm3rapd3ZLyAoMG36VxNQnr2/cough-heavy.wav\n",
            "./Extracted_data/20200820/aU8pLZV1OUQJV0GKeeIlgWhYWeA2/cough-heavy.wav\n",
            "./Extracted_data/20200820/5q8gLM0yCrgGCT8F9fWlH4ycl1D3/cough-heavy.wav\n",
            "./Extracted_data/20200820/jppvqUD1X3VH39cGDRRlmhj4wu12/cough-heavy.wav\n",
            "./Extracted_data/20200820/k0uQAYNhiUZvHePzPoWE9wUfBNk2/cough-heavy.wav\n",
            "./Extracted_data/20200820/aNOpaVGqF7PiG5n1ln5B1VJnmCO2/cough-heavy.wav\n",
            "./Extracted_data/20200820/9LCBZHRlg3Nk6NMZHu7AZJ9Rju53/cough-heavy.wav\n",
            "./Extracted_data/20200820/XzIjEtRHHPci6Zq0zb9Lx0d6zEr2/cough-heavy.wav\n",
            "./Extracted_data/20200820/BNraT7TUj1ZHWnxzh3eVOM2CwIm1/cough-heavy.wav\n",
            "./Extracted_data/20200820/VLrOagtGVFYxWiEnMVFn1BnSWHM2/cough-heavy.wav\n",
            "./Extracted_data/20200820/NRG3cVOEhsTaVQeeNG60tBv247Z2/cough-heavy.wav\n",
            "./Extracted_data/20200415/UhGuA2vn7sUfKJRENR472IxQaEu2/cough-heavy.wav\n",
            "./Extracted_data/20200415/jaNAcGlkQvUYEcRFXm5gNwnOOn93/cough-heavy.wav\n",
            "./Extracted_data/20200415/IVUrhfpO08QnE9S8UR1hk4DquTa2/cough-heavy.wav\n",
            "./Extracted_data/20200415/O9jPNdypMudWbGGiqtlgi4ae2er1/cough-heavy.wav\n",
            "./Extracted_data/20200415/1pXSBzMeizcu5IpLAJUaYpmJyhB3/cough-heavy.wav\n",
            "./Extracted_data/20200415/4EAxuOcgN5d81JCmqo2YxXlxYNL2/cough-heavy.wav\n",
            "./Extracted_data/20200415/5CuTYRsGM5QRNjG7HejSHQh7ULi1/cough-heavy.wav\n",
            "./Extracted_data/20200415/HltnpdE31PPFAFYRdJXRXokmdUF2/cough-heavy.wav\n",
            "./Extracted_data/20200415/MbCfQyWYGIeZ5m0BCTeiM1oi7282/cough-heavy.wav\n",
            "./Extracted_data/20200415/QOmSmWWvcLOxZgzrV4u04ByoebE2/cough-heavy.wav\n",
            "./Extracted_data/20200415/C1Jk83bZcXQM2lljEqVIr6OfMr83/cough-heavy.wav\n",
            "./Extracted_data/20200415/X7NBHQKdeDODKCzXwbmKdIbjIRG2/cough-heavy.wav\n",
            "./Extracted_data/20200415/g1nDdvDWgDhgbVDyfl6NyFIfPAp2/cough-heavy.wav\n",
            "./Extracted_data/20200415/5eEXozx61BXKT71PLRaQASRcC832/cough-heavy.wav\n",
            "./Extracted_data/20200415/QC2olizheGbckya2rPjOWhn00vp1/cough-heavy.wav\n",
            "./Extracted_data/20200415/A6eyvPDHwBNMYFzA65XRMboV96s2/cough-heavy.wav\n",
            "./Extracted_data/20200415/6IBOagmXVWPJaN48oiaAigwiDbw2/cough-heavy.wav\n",
            "./Extracted_data/20200415/6sUnPQNXQCYawfmLL8Pg91UxoiI3/cough-heavy.wav\n",
            "./Extracted_data/20200415/abpYyjmAQAMGlnyqXPGIL9lbnQo2/cough-heavy.wav\n",
            "./Extracted_data/20200415/Na6w7stX7ocNYZPQW9MQAiM6mrw2/cough-heavy.wav\n",
            "./Extracted_data/20200415/jSb7SyucSmTHhzs3qQoBExRMQZ02/cough-heavy.wav\n",
            "./Extracted_data/20200415/3LCqXTY14jROmsMpG3XkEiMJ9cD3/cough-heavy.wav\n",
            "./Extracted_data/20200415/j0bgqdkBSRaRrpBmJLa1MkkKg593/cough-heavy.wav\n",
            "./Extracted_data/20200415/t0wrpS8L5WamJS9NhyjeHAqhaVv1/cough-heavy.wav\n",
            "./Extracted_data/20200415/gyzIhontEeY2zHHaiy2zjZot6hg1/cough-heavy.wav\n",
            "./Extracted_data/20200415/l57TNYomN4Z56eIotPFe6hN1Vgm2/cough-heavy.wav\n",
            "./Extracted_data/20200415/evcMtXUBFWS6bXPYqv7BXVfqFIc2/cough-heavy.wav\n",
            "./Extracted_data/20200415/jRlVIgE9hofnOP2Lo8He6ebcecz1/cough-heavy.wav\n",
            "./Extracted_data/20200415/3Hi3v8KLYxXvAp9v1fuhKtaU44G2/cough-heavy.wav\n",
            "./Extracted_data/20200415/vw3Nw1Gmt3WA78SHAzJwelNRduv1/cough-heavy.wav\n",
            "./Extracted_data/20200415/L6Bo4rMk15fKste9Gvn7ZyTB4qw2/cough-heavy.wav\n",
            "./Extracted_data/20200415/BRi5khF6PxMORMTOXjeS6r2dNqt1/cough-heavy.wav\n",
            "./Extracted_data/20200415/26xevAvhh4PSIz1ls0QAwwfz89i1/cough-heavy.wav\n",
            "./Extracted_data/20200415/D1d4hc9MrgTDxgAhqpTgqOEJtLp2/cough-heavy.wav\n",
            "./Extracted_data/20200415/a1BWeGHqK6f0KyevbStawfUvvK83/cough-heavy.wav\n",
            "./Extracted_data/20200415/1j2LqFPOJIQ8nTlovQqNr6bdUMl1/cough-heavy.wav\n",
            "./Extracted_data/20200415/UYQqLbdvfMeQOnISZq4Okwuas6K2/cough-heavy.wav\n",
            "./Extracted_data/20200415/QKEe27GzshbGSIGQZ6nB6lpLb7l2/cough-heavy.wav\n",
            "./Extracted_data/20200415/ArKST1jJWqRPPvdCu92MyQoGs762/cough-heavy.wav\n",
            "./Extracted_data/20200415/JLXdsKrUesSLpwUOMSqQFfYwtZ82/cough-heavy.wav\n",
            "./Extracted_data/20200415/V3EIT06H4JN5KwoK8aGRXQNzGRi1/cough-heavy.wav\n",
            "./Extracted_data/20200415/Qxlw2hDL29g1Sb9ZQO3XDPIG5Qr1/cough-heavy.wav\n",
            "./Extracted_data/20200415/2j94Kg8TewQwjwbrRyto6seGsut1/cough-heavy.wav\n",
            "./Extracted_data/20200415/sSJoDuR1etTsr85E8wRfxIvfiCf1/cough-heavy.wav\n",
            "./Extracted_data/20200415/0KOy96zEUfdMY4rZzwrDT0gMPDa2/cough-heavy.wav\n",
            "./Extracted_data/20200415/E3X8YtvZzYZiXwBevZEAByJc2v63/cough-heavy.wav\n",
            "./Extracted_data/20200415/3OQBJD8fnBepqWPGQT3eTozrhLn1/cough-heavy.wav\n",
            "./Extracted_data/20200415/yHn6UxlPk8RvWZ3X5jrTa89CPwG2/cough-heavy.wav\n",
            "./Extracted_data/20200415/M1RgcbGDbWbsxNkmPHlrh9J9n572/cough-heavy.wav\n",
            "./Extracted_data/20200415/LwOBSX8F07Z5HgRGLFS3aOQEVKk2/cough-heavy.wav\n",
            "./Extracted_data/20200415/YjUO0QbUUAUJyUfgApL52jRs8Z52/cough-heavy.wav\n",
            "./Extracted_data/20200415/w51QbggHBvVnSSNG5tsEgScigyF3/cough-heavy.wav\n",
            "./Extracted_data/20200415/PfuMI67JW2h6z4MsRDegrhZ8FSH2/cough-heavy.wav\n",
            "./Extracted_data/20200415/NBD8pzxLyyYZs8wul5W6UUKBZbz1/cough-heavy.wav\n",
            "./Extracted_data/20200415/xO54amKmQMQwbMoSbmADa6Wa2kK2/cough-heavy.wav\n",
            "./Extracted_data/20200415/1kj3twlB9PcVyePxzqNGwnkYZZx2/cough-heavy.wav\n",
            "./Extracted_data/20200415/QX7F5dwjZKPahv2qzqpSSBIyHXg2/cough-heavy.wav\n",
            "./Extracted_data/20200415/VGh9wqs8iDXHhUdrA12VtBhN1lJ3/cough-heavy.wav\n",
            "./Extracted_data/20200415/w8GzYkRUeuVtuONdQbOrrFefVco1/cough-heavy.wav\n",
            "./Extracted_data/20200415/f9g4olEAspen4dJakQJsI2EME032/cough-heavy.wav\n",
            "./Extracted_data/20200415/Qs7OP1Hyo6Y4ZE2s4aZyZ3Ew6r62/cough-heavy.wav\n",
            "./Extracted_data/20200415/ZbFodPVPEZMK0DaH4J74kowt1d53/cough-heavy.wav\n",
            "./Extracted_data/20200415/FQ9gUWPXRGc9z7Q4f3tMojFVrR82/cough-heavy.wav\n",
            "./Extracted_data/20200415/nkSUWnQgO0Tn7flFkVp7CrdsatW2/cough-heavy.wav\n",
            "./Extracted_data/20200415/wwedtVmUE2dHLXmCHaIXW4uGRmq2/cough-heavy.wav\n",
            "./Extracted_data/20200415/9LGZxIxgbgSheKov7FzsNcFIu4v1/cough-heavy.wav\n",
            "./Extracted_data/20200415/zAdXj9IixzaM6KUwFYIhXbNJnJ42/cough-heavy.wav\n",
            "./Extracted_data/20200415/UJkJrzKjH6UQRZF7eHhUQVQwCHB2/cough-heavy.wav\n",
            "./Extracted_data/20200415/aisIUPkXXdQv8nvNAjeJb8cebOq2/cough-heavy.wav\n",
            "./Extracted_data/20200415/u1G8LRJRwyUWNf8J9McgKGyfQJ33/cough-heavy.wav\n",
            "./Extracted_data/20200415/g0gdNMhQIbUlZRTod20TdtqafgJ3/cough-heavy.wav\n",
            "./Extracted_data/20200415/dosEoi5rKRVXDZzENH1QpxCfPWu1/cough-heavy.wav\n",
            "./Extracted_data/20200415/YXqC5B7h7iQZH3RubUFG6SBvZ5L2/cough-heavy.wav\n",
            "./Extracted_data/20200415/TIFqRMyFsNVEYSMu9P05PF5N2Px1/cough-heavy.wav\n",
            "./Extracted_data/20200415/1woiacXdMmXUQiMWESqr83uk1NV2/cough-heavy.wav\n",
            "./Extracted_data/20200415/cxchnGnCHJQ3Tjqn5faj2Sfqa0e2/cough-heavy.wav\n",
            "./Extracted_data/20200415/JtJEMsy1XPalUgUWmzkLyq9LWbI2/cough-heavy.wav\n",
            "./Extracted_data/20200415/wq5WR6X7egP0MydXWR8nqSpHqq12/cough-heavy.wav\n",
            "./Extracted_data/20200415/meYzBgsbbHT9rLhVNx4SYzjRYjK2/cough-heavy.wav\n",
            "./Extracted_data/20200415/LVfs0kH8h3YRSg7J3Y8g3ufC3a53/cough-heavy.wav\n",
            "./Extracted_data/20200415/78UvO8TmtycKb98kr2eXeDdLpST2/cough-heavy.wav\n",
            "./Extracted_data/20200415/FNjPKyX47sUuQlzMc1urJ3VB3YE3/cough-heavy.wav\n",
            "./Extracted_data/20200415/KqhQ8Eo62fYCdBse8NiW1BYCtxp1/cough-heavy.wav\n",
            "./Extracted_data/20200415/1Vm44aluw7PMy2mfETHc3MvwQxx1/cough-heavy.wav\n",
            "./Extracted_data/20200415/hkbGDo0CbGUStRblqwQj7KJc5lk2/cough-heavy.wav\n",
            "./Extracted_data/20200415/PmbK8Rb4ohNWp4KwTtlU8xzxFGs2/cough-heavy.wav\n",
            "./Extracted_data/20200415/bEzlLV5ZV3fSBFl6JLs1e0t3GEG2/cough-heavy.wav\n",
            "./Extracted_data/20200415/779c1GiOSsSsxsi1PrMGXwOrIuo2/cough-heavy.wav\n",
            "./Extracted_data/20200415/CFwFsoyLtGUxPNPw5vMD7cznAnO2/cough-heavy.wav\n",
            "./Extracted_data/20200415/bGAOAliULjMQIFSvoMFuNCedl582/cough-heavy.wav\n",
            "./Extracted_data/20200415/P8Qw2Prg2BRb7H72PbY3Dftp9Rv2/cough-heavy.wav\n",
            "./Extracted_data/20200415/85XodgEaKrPebeSPsJo2UFaDlWj1/cough-heavy.wav\n",
            "./Extracted_data/20200415/AeJcnB6Pl6ayw2YL7whgWyYSVnz2/cough-heavy.wav\n",
            "./Extracted_data/20200415/DpU572tPYaXZXMglBud6sRIaq8y2/cough-heavy.wav\n",
            "./Extracted_data/20200415/cAqSJ74dT8S95pUV3nj98Pp12cp1/cough-heavy.wav\n",
            "./Extracted_data/20200415/HmsAhPiHhiQOnvXYXzZ5u5qFqLq1/cough-heavy.wav\n",
            "./Extracted_data/20200415/PaLptWlM9gTtp7lUybcAaXGkqhj2/cough-heavy.wav\n",
            "./Extracted_data/20200415/HxbOUFGbq4fKbs0nTLUQ5UmlZ9y2/cough-heavy.wav\n",
            "./Extracted_data/20200415/6VbC2mWfKiWVQPL1tHVmG5eCkua2/cough-heavy.wav\n",
            "./Extracted_data/20200415/rJtkSijv5ROjzB6LHN1XCAfe9752/cough-heavy.wav\n",
            "./Extracted_data/20200415/IxdOYraXjNXf620JP1hexb3YDJ93/cough-heavy.wav\n",
            "./Extracted_data/20200415/R1wbQWmviENBtOcugCHjcmvRl6o2/cough-heavy.wav\n",
            "./Extracted_data/20200415/rjI1qyc5W6RkajiRcmde0VISAIF3/cough-heavy.wav\n",
            "./Extracted_data/20200415/ZnfFHbrHryWzAq27TCTQtY7uWTm1/cough-heavy.wav\n",
            "./Extracted_data/20200415/vBRMIg1ACdeSAFmcWnII6ZkDefV2/cough-heavy.wav\n",
            "./Extracted_data/20200415/SiEdfz3YnndtOTlm8CIVK4YQcg42/cough-heavy.wav\n",
            "./Extracted_data/20200415/EcO51zxmIHcVtAUlxnvO6wA8JcR2/cough-heavy.wav\n",
            "./Extracted_data/20200415/3PIiY2eRLVUN4Tba0a8ZN5W6frA3/cough-heavy.wav\n",
            "./Extracted_data/20200415/0gB18cWHioTobGuU3qVE0QV5mBN2/cough-heavy.wav\n",
            "./Extracted_data/20200415/zNNcSmfHhTbjLm5NcVmrOAf5C2j2/cough-heavy.wav\n",
            "./Extracted_data/20200415/33uBb3ZF1NekffyAZpRdmyP0KHH2/cough-heavy.wav\n",
            "./Extracted_data/20200415/eu2Hm19FIUhs68KsWGAlCQ4WVc43/cough-heavy.wav\n",
            "./Extracted_data/20200415/vdaDi7xUoVepm15b98az1F6RN1e2/cough-heavy.wav\n",
            "./Extracted_data/20200415/GZM32y1Sy6X9D9hfrrvpTdPfmoV2/cough-heavy.wav\n",
            "./Extracted_data/20200415/pbXQf83tO4bPFQ0UZjs9HDE7i7r1/cough-heavy.wav\n",
            "./Extracted_data/20200415/AdRRprqo5ZUuLMOPs61ZKS6vrdU2/cough-heavy.wav\n",
            "./Extracted_data/20200415/fMi5uNWoboXWzfIDskyLCl8HHxH3/cough-heavy.wav\n",
            "./Extracted_data/20200415/dxKWK5iTjWdjch9zRGCnc7R0eeq2/cough-heavy.wav\n",
            "./Extracted_data/20200415/h0XfL2JtCLb7hgupJ7lLQJ0fzgF2/cough-heavy.wav\n",
            "./Extracted_data/20200415/jFtviHrZKLUXECg7rQPRt16g0zv1/cough-heavy.wav\n",
            "./Extracted_data/20200415/qje01PDBImMG8VBE3hnyw4GbJ7W2/cough-heavy.wav\n",
            "./Extracted_data/20200415/j0q8isyOE2akw5RDUOV9whSwNDW2/cough-heavy.wav\n",
            "./Extracted_data/20200415/269e2kDksfRXKVHNXf4ACl9JUVm1/cough-heavy.wav\n",
            "./Extracted_data/20200415/H0tBSJN5l8db5f6xB2yMm6QxjFO2/cough-heavy.wav\n",
            "./Extracted_data/20200415/CZT9HTBNgaQrTVKBjIBUtlu6Dgx1/cough-heavy.wav\n",
            "./Extracted_data/20200415/IH5AenjC1DTmH4Rw4PhvnaKHbmw2/cough-heavy.wav\n",
            "./Extracted_data/20200415/QlMu7Fl8iIgOZM3QHEOzOJY6npH3/cough-heavy.wav\n",
            "./Extracted_data/20200415/9esRO6MV7jhuNNWR9i0j6gBrkXG2/cough-heavy.wav\n",
            "./Extracted_data/20200415/5JO89F9hCpVbVFy7jFqPKtVRyIV2/cough-heavy.wav\n",
            "./Extracted_data/20200415/GWjZnz8QWXXGzHLaG0HNHFyeZgS2/cough-heavy.wav\n",
            "./Extracted_data/20200415/giXzRAAuoRRAg7xQ9Y56DX0FVDr1/cough-heavy.wav\n",
            "./Extracted_data/20200415/GKhkkTlN0PdIgHoEtwXlRlCqMd13/cough-heavy.wav\n",
            "./Extracted_data/20200415/ByeE6FPls3S20RP7vxsLDkmqpA32/cough-heavy.wav\n",
            "./Extracted_data/20200415/9qXBPCugOSe0Yl1GhThi1kCVZDD2/cough-heavy.wav\n",
            "./Extracted_data/20200415/StMoprM57wPyrUs5p0s78r1X0Qt1/cough-heavy.wav\n",
            "./Extracted_data/20200415/95XA3QmnULQ1KPlcdw4RDDKnBhH2/cough-heavy.wav\n",
            "./Extracted_data/20200415/mX9OLV39QwhCicc7VLqQyniNdU63/cough-heavy.wav\n",
            "./Extracted_data/20200415/RXZtiZlgDxObuYr4m2s8eSavVg72/cough-heavy.wav\n",
            "./Extracted_data/20200707/fYjYHeLgCOUf5m1f8EAgGDol5G73/cough-heavy.wav\n",
            "./Extracted_data/20200707/QjBZv868nydJzk0ZzwgKDHSG6Q82/cough-heavy.wav\n",
            "./Extracted_data/20200707/VB3X18XtrRdSVJ8zDzdyKohlX2F2/cough-heavy.wav\n",
            "./Extracted_data/20200707/0c00ybTdnIRUTXeg20bZjJOzhKv1/cough-heavy.wav\n",
            "./Extracted_data/20200707/Z7ZMrrVuJKSK1JEfLQjxGXI1VTq1/cough-heavy.wav\n",
            "./Extracted_data/20200707/YR33hHou5PgrLYv2L1mLzHE4na12/cough-heavy.wav\n",
            "./Extracted_data/20200707/stnT0xsBXhb159fZrbzN9kwAKvF2/cough-heavy.wav\n",
            "./Extracted_data/20200707/v8s9qaC0OZbY4OXHQBR5Nb0juq52/cough-heavy.wav\n",
            "./Extracted_data/20200707/odZaQSfT6QRKhAhPRikjU7y7L9Q2/cough-heavy.wav\n",
            "./Extracted_data/20200707/Fuj8ConlkeNoRot2tyMMyzYCKfo2/cough-heavy.wav\n",
            "./Extracted_data/20200707/yS7pj7vgWyMU5nqgYXglXiTcW9A2/cough-heavy.wav\n",
            "./Extracted_data/20200707/f4wYeTyCImQ0BQiwBOlScS9C2H03/cough-heavy.wav\n",
            "./Extracted_data/20200707/sW80fLKGSiXcPBKFwnwRaaRdPKX2/cough-heavy.wav\n",
            "./Extracted_data/20200707/6WVdsp5LDLRRfYrfiR4BU2G6wve2/cough-heavy.wav\n",
            "./Extracted_data/20200707/jaRfWYxsWjV2L833wIIyuivEWFG3/cough-heavy.wav\n",
            "./Extracted_data/20200707/nlKBKSlza3VwbasF1voiECoUs6d2/cough-heavy.wav\n",
            "./Extracted_data/20200707/Ms3fiiaGeta2PNzjXEE3iMBmh1h1/cough-heavy.wav\n",
            "./Extracted_data/20200707/w1JLuqfRlwcQjnvBRZgdSo89zoz2/cough-heavy.wav\n",
            "./Extracted_data/20200707/HqILRgOnPoYTBOwV923xNysDhA82/cough-heavy.wav\n",
            "./Extracted_data/20200707/RNnxsLNUWPeqrfpPcDb4b903fpj2/cough-heavy.wav\n",
            "./Extracted_data/20200707/5ohNPSLiNWRs1vvHxKBj9odGFXl1/cough-heavy.wav\n",
            "./Extracted_data/20200707/UTqsNsZQCThhJduOChbctH76Avj2/cough-heavy.wav\n",
            "./Extracted_data/20200707/mLARvz7XxoODpubk3Q53K562JVf2/cough-heavy.wav\n",
            "./Extracted_data/20200707/iu13CF47sRTOnPlhkzTszNkqAZ83/cough-heavy.wav\n",
            "./Extracted_data/20200707/YPqxeCMKNuMVhEg9xQPA4hD8dQC2/cough-heavy.wav\n",
            "./Extracted_data/20200707/ZiwS2q40gsX5X7pMp0y30PUFpE93/cough-heavy.wav\n",
            "./Extracted_data/20200707/Z5Y8ewskqQWeyIFkqRKuwGz9fCv1/cough-heavy.wav\n",
            "./Extracted_data/20200707/xMOI1306iZMtFQ5FCNcYraYUSDA3/cough-heavy.wav\n",
            "./Extracted_data/20200707/NatLK4N2EkhPwEQoxz59taEL3B32/cough-heavy.wav\n",
            "./Extracted_data/20200707/9JhZlp6ebpZYjnKlK2NTZTihDme2/cough-heavy.wav\n",
            "./Extracted_data/20200707/RfrT8p9208NHn3170qOYmxel8Kw2/cough-heavy.wav\n",
            "./Extracted_data/20200707/tpCCClZhHxXqu31XbOhexT55KdP2/cough-heavy.wav\n",
            "./Extracted_data/20200707/dtV4ZlnWakRFGKpIfiUqdu3q6iq1/cough-heavy.wav\n",
            "./Extracted_data/20200417/zLJnwXeJwCZI7uk7aDmLweAZCIl2/cough-heavy.wav\n",
            "./Extracted_data/20200417/uqD6aEx3ObQK5DE4GH900S42U352/cough-heavy.wav\n",
            "./Extracted_data/20200417/pitYbc063SXoFPZmDTvyI6yGxLm2/cough-heavy.wav\n",
            "./Extracted_data/20200417/vwUqgVSWMCWzCNxdD8uE97pk0I53/cough-heavy.wav\n",
            "./Extracted_data/20200417/gX0K8ASvV0epRvdo50i3a27JEUC3/cough-heavy.wav\n",
            "./Extracted_data/20200417/rGYIwhkeGffRq318R229inpudYg2/cough-heavy.wav\n",
            "./Extracted_data/20200417/5FQMhLSr6je06dBSJvZjbiddFID2/cough-heavy.wav\n",
            "./Extracted_data/20200417/5pGi7OUjz9SyuylhXvZQ7rWH6WW2/cough-heavy.wav\n",
            "./Extracted_data/20200417/BTyDWg2XGnaMNkwlmO6ZWdd6LtF3/cough-heavy.wav\n",
            "./Extracted_data/20200417/qr3tupBiFNgeVUX9N4ct8GigLP53/cough-heavy.wav\n",
            "./Extracted_data/20200417/aDPRTmlNZ3XLxOMP2KafJi1lnWz2/cough-heavy.wav\n",
            "./Extracted_data/20200417/DwCHgxHJFhf0nAqiQfHS3lycTuv2/cough-heavy.wav\n",
            "./Extracted_data/20200417/JOimE3qKkOWxkKYIDBvIpXgQ9HJ3/cough-heavy.wav\n",
            "./Extracted_data/20200417/o0HUIrKBsMXkygZgI161LVIydIp1/cough-heavy.wav\n",
            "./Extracted_data/20200417/VhY3VgRdsbasG2EvYQxcYDN7Fw72/cough-heavy.wav\n",
            "./Extracted_data/20200417/4achmXwhZ6UIFduMW6ShHrJpRPV2/cough-heavy.wav\n",
            "./Extracted_data/20200417/yiPghdPwkdfosD5DgpsWCwryhI12/cough-heavy.wav\n",
            "./Extracted_data/20200417/NKfo9DcpbQeYHlZ6pHDOwRx08i72/cough-heavy.wav\n",
            "./Extracted_data/20200417/RHVaEkR1YzMXV33Bl1ScXlpBkpA3/cough-heavy.wav\n",
            "./Extracted_data/20200417/yxCtaUoJBHXnzfMfxfA9rJGR5ue2/cough-heavy.wav\n",
            "./Extracted_data/20200417/5FnTn9FS7uUjXCbNzKuQY28pI3G2/cough-heavy.wav\n",
            "./Extracted_data/20200417/EPA8c37Cb5e2aaUfisoVCzoxMnT2/cough-heavy.wav\n",
            "./Extracted_data/20200417/qRSYuXkgdobbygXanSccCsfBiSK2/cough-heavy.wav\n",
            "./Extracted_data/20200417/dlSirkwl7JPl36hawynOTHhscyy1/cough-heavy.wav\n",
            "./Extracted_data/20200417/YRwYptwqVUfHZbZh1hiqsczaT8m1/cough-heavy.wav\n",
            "./Extracted_data/20200417/fezNxeyeMSSvqIiQvCsQROuhbNv1/cough-heavy.wav\n",
            "./Extracted_data/20200417/U1xH6cTpR6VhCLwJKx2wKZc5XE03/cough-heavy.wav\n",
            "./Extracted_data/20200417/yHRFkSwYEehBF4AtthYzXkR6jUc2/cough-heavy.wav\n",
            "./Extracted_data/20200417/uJEVN893b2Pntd1Ck3cdY7RZZRo1/cough-heavy.wav\n",
            "./Extracted_data/20200417/RYJRtbTc26a12dQ5ddAwV2hJ4Cv1/cough-heavy.wav\n",
            "./Extracted_data/20200417/T9yi2QIANkPz28yo2bSNHTtpyJw1/cough-heavy.wav\n",
            "./Extracted_data/20200417/Pjs0FDjZUofs8mvB3cjg0Hibe8B2/cough-heavy.wav\n",
            "./Extracted_data/20200417/RJCywZ62exQqXX42zLDhAuaVjdt1/cough-heavy.wav\n",
            "./Extracted_data/20200417/oNB3E8WhVsOEhgx0sgNm0Czv5bK2/cough-heavy.wav\n",
            "./Extracted_data/20200417/g9WjuKnjoYZYmLVDY86u4JIwZ333/cough-heavy.wav\n",
            "./Extracted_data/20200417/JNTWsYYQjzMMOsmFMml8OXjHYx92/cough-heavy.wav\n",
            "./Extracted_data/20200417/Hsd2XPLTHxa0q43WgjzaQl22cB42/cough-heavy.wav\n",
            "./Extracted_data/20200417/uiMtR0VGFIaO3CQ1Tl8znyjlyHF2/cough-heavy.wav\n",
            "./Extracted_data/20200417/XCgsAnLqDUW7V3qSgO6exYqSvvB3/cough-heavy.wav\n",
            "./Extracted_data/20200417/L6zbMqqGS1et0kjPXmSsLUI3vz22/cough-heavy.wav\n",
            "./Extracted_data/20200417/Q9mjuJioRUSHLiSgS67ZTjRtCy53/cough-heavy.wav\n",
            "./Extracted_data/20200417/8XoAGDSPjVWjpjfIDHrIiHd4NEC2/cough-heavy.wav\n",
            "./Extracted_data/20200417/eSJm8nx2ygT4ZzQRzgYKpJiis1B2/cough-heavy.wav\n",
            "./Extracted_data/20200417/YpvrpmeZ2bRKrSUIWVe8a4fzSHg1/cough-heavy.wav\n",
            "./Extracted_data/20200417/8FnL5QpBazelNsGBTVkBuTSpMEt1/cough-heavy.wav\n",
            "./Extracted_data/20200417/z3dpsRp0YuPntedc6sgMaRfW04t2/cough-heavy.wav\n",
            "./Extracted_data/20200417/MQSayo88HXcUcse3I8S4Fp3V52C2/cough-heavy.wav\n",
            "./Extracted_data/20200417/Ahv0311uRogDaFFI4X22nzsNVvK2/cough-heavy.wav\n",
            "./Extracted_data/20200417/HCsgRpbj4vdEXoAjjSDJj9vQFbB2/cough-heavy.wav\n",
            "./Extracted_data/20200417/ORaul0HINZblPYZIFh9V1g2G4q43/cough-heavy.wav\n",
            "./Extracted_data/20200417/pOWaDLmSdob8jJcu8rxztAhHRIo2/cough-heavy.wav\n",
            "./Extracted_data/20200417/xxeoHryZgjVJhQiY6LAR7EDABMn2/cough-heavy.wav\n",
            "./Extracted_data/20200417/0W7xMFW538WmDghkiujx2v4xVnt2/cough-heavy.wav\n",
            "./Extracted_data/20200417/E3gn7SKrMhOK49iJSeIAEa1s7Kb2/cough-heavy.wav\n",
            "./Extracted_data/20200417/h6fnYcaAXxMQWF7H5QbSx4PVajk1/cough-heavy.wav\n",
            "./Extracted_data/20200417/NPwHtrWOTPgBVHkElhwB91qJXts1/cough-heavy.wav\n",
            "./Extracted_data/20200417/hmqyX7Xq7gMmLDSmb7MtmLc92R93/cough-heavy.wav\n",
            "./Extracted_data/20200417/Hx0gMpwXrbhBp9SV7clzSDQ50EM2/cough-heavy.wav\n",
            "./Extracted_data/20200417/vEuocXKs0mhMOO3e5l5ZWImJG6O2/cough-heavy.wav\n",
            "./Extracted_data/20200417/SkZeafTL9dd9dwV9nEbNrszqc8u1/cough-heavy.wav\n",
            "./Extracted_data/20200417/N0YQy11YpgTDM6243yERZXmKVas2/cough-heavy.wav\n",
            "./Extracted_data/20200417/f4tk6UjR0Ldbnq5tRfgYhT6VGqV2/cough-heavy.wav\n",
            "./Extracted_data/20200417/SwrvfymSTCSlj270wmp4wfo1iV83/cough-heavy.wav\n",
            "./Extracted_data/20200417/ThEx12Qb23UTenYWttvsRvioxqE2/cough-heavy.wav\n",
            "./Extracted_data/20200417/ZwwWzt46hVhcDukhR2G4bCNnZe52/cough-heavy.wav\n",
            "./Extracted_data/20200417/YKJ4AmuaSThm9fM7nAE2rxLs9Bm2/cough-heavy.wav\n",
            "./Extracted_data/20200417/FYINlRe3mfOO34R8QcT3skESVRl1/cough-heavy.wav\n",
            "./Extracted_data/20200417/3k5Rnc8QjVP7LRKe0SV3R8WsfQh2/cough-heavy.wav\n",
            "./Extracted_data/20200417/RTuiIzd8iGX3h3QWpU5CIJYHqD32/cough-heavy.wav\n",
            "./Extracted_data/20200417/0xWyChUEHYOWQLxEAL3ln4FDtUL2/cough-heavy.wav\n",
            "./Extracted_data/20200417/DYiC8Ym6NBgFGQMSLy104RVs4b43/cough-heavy.wav\n",
            "./Extracted_data/20200417/l1ObBBBZYMOCAlTxeFyd1ToMwjy2/cough-heavy.wav\n",
            "./Extracted_data/20200417/zdUE4UjuVwXhBeBZqWBGCDL9CSx2/cough-heavy.wav\n",
            "./Extracted_data/20200417/dGYruZO8jma3p1x7KKIXmuTbQvA2/cough-heavy.wav\n",
            "./Extracted_data/20200417/mikiKeqF4SVTeAyZiLFsC6FpGEO2/cough-heavy.wav\n",
            "./Extracted_data/20200417/wr9fXFGgtfPzQMIXpgDlBU8I01H2/cough-heavy.wav\n",
            "./Extracted_data/20200417/rXM1xzEoPifwWHJUFngAdye7u112/cough-heavy.wav\n",
            "./Extracted_data/20200417/pqhuVm6oPbd3A4FSf5p9shz9OO02/cough-heavy.wav\n",
            "./Extracted_data/20200417/DXIw27Fbg6PgosoH84rFPOVaQ5q2/cough-heavy.wav\n",
            "./Extracted_data/20200417/t19ZtqDNiJd7nL1SntNpS8KQDO73/cough-heavy.wav\n",
            "./Extracted_data/20200417/VKV5w2sVwhequJqUVG2kaaGakiq1/cough-heavy.wav\n",
            "./Extracted_data/20200417/5ulPmiY2NpQMXjnjn5w8unXOOnl2/cough-heavy.wav\n",
            "./Extracted_data/20200417/mpN8LVqfHAWvNZZrJw5cQ3vOVWg2/cough-heavy.wav\n",
            "./Extracted_data/20200417/kirLJEuOWzYOWBeTC4CRHrTTRVv1/cough-heavy.wav\n",
            "./Extracted_data/20200417/y7dTHpmIaYgPwbazH5f8o57WHoH3/cough-heavy.wav\n",
            "./Extracted_data/20200417/JCnMZyujiFf0m2QpwIlpld2ISDF3/cough-heavy.wav\n",
            "./Extracted_data/20200417/cPASvlDX0wewuwxfdbJgqqjYEH13/cough-heavy.wav\n",
            "./Extracted_data/20200417/Kck5aZ8dc5N49j8UPNqpsoHrKgA2/cough-heavy.wav\n",
            "./Extracted_data/20200417/HHKpf1D4mWga1lxwcxAQjZAqELv2/cough-heavy.wav\n",
            "./Extracted_data/20200417/ikYIaaUJutT91dYfNqA7iQoAQKN2/cough-heavy.wav\n",
            "./Extracted_data/20200417/FxxDIIr8jQRkvmA2rqn9rUGGXlI2/cough-heavy.wav\n",
            "./Extracted_data/20200417/96vge8k4YhZKRuYBP7T1WVw2Ouz2/cough-heavy.wav\n",
            "./Extracted_data/20200417/IvPA6FZJ5OSNOllqglmE2mkcnz83/cough-heavy.wav\n",
            "./Extracted_data/20200417/OAtQ58EyToOK0NsnlDdwpFnrwF63/cough-heavy.wav\n",
            "./Extracted_data/20200417/w3QJygDVetN5sPAsKTXe273bpau2/cough-heavy.wav\n",
            "./Extracted_data/20200417/MvMha3CRSic03lfuBh8UIj7k3ak1/cough-heavy.wav\n",
            "./Extracted_data/20200417/ck8pNfygbfardUsaoS2NNVvMTt83/cough-heavy.wav\n",
            "./Extracted_data/20200417/1CtdDsZvTshuIGrVGvF9pilcHP13/cough-heavy.wav\n",
            "./Extracted_data/20200417/4gkSRZ0IWxVAOJSuVEFhQqrzIYx1/cough-heavy.wav\n",
            "./Extracted_data/20200417/Fi4TZCxqYqMvq8ncC4aYajCVRcz1/cough-heavy.wav\n",
            "./Extracted_data/20200417/YwhRHergRUamkPHHq2Vo5LA0WIw1/cough-heavy.wav\n",
            "./Extracted_data/20200417/eD46zs0Gr9Rm2dRnRvkdjI0jc953/cough-heavy.wav\n",
            "./Extracted_data/20200417/fuZ1Iu9k84gcTbZKIWElwq2RsLo1/cough-heavy.wav\n",
            "./Extracted_data/20200417/kufd2yIRZccwghYMiRxdc1Gc6VH2/cough-heavy.wav\n",
            "./Extracted_data/20200417/S4QDAi84LeV9bdeIeITuXAPSfVE2/cough-heavy.wav\n",
            "./Extracted_data/20200417/nDTky90V1seGFJaYNa0m4Io1eYQ2/cough-heavy.wav\n",
            "./Extracted_data/20200417/XQVpgnaYz4NHmXRFWov9lBKP1tg1/cough-heavy.wav\n",
            "./Extracted_data/20200417/L5tZkFTeajV4uDCQnvbWLNoG5az1/cough-heavy.wav\n",
            "./Extracted_data/20200417/kaIGgo2Cw7ff8AkV7vzWQ1KArwm1/cough-heavy.wav\n",
            "./Extracted_data/20200417/KXQDb2qDnpTQTTqx3JivfvB8zz83/cough-heavy.wav\n",
            "./Extracted_data/20200417/GuZQNW2ktwaUr8OxHPLN0iVGy2G2/cough-heavy.wav\n",
            "./Extracted_data/20200417/5dHPKHgDlcVJOWjQMg5t46IN06H2/cough-heavy.wav\n",
            "./Extracted_data/20200417/H1Ml5J5BxFT5aJB3687GpncQjOi2/cough-heavy.wav\n",
            "./Extracted_data/20200417/jkP5JFFckOVBrO7AaRcacyXkgMk1/cough-heavy.wav\n",
            "./Extracted_data/20200417/tAqfUCGTWKdgIF95SfZU0gtLPZt1/cough-heavy.wav\n",
            "./Extracted_data/20200417/gkgap61ehlgkpjvtbEm1EVbhv8j1/cough-heavy.wav\n",
            "./Extracted_data/20200417/Icj21hlLQ5ZwFOgpuekc0Bn7Ucy1/cough-heavy.wav\n",
            "./Extracted_data/20200417/aESHvWgJIodaDacHGg6i3o05bYo2/cough-heavy.wav\n",
            "./Extracted_data/20200417/jzZNRqxGsTXZVZJbipHEyBaGPAI2/cough-heavy.wav\n",
            "./Extracted_data/20200417/Xq0KTVn9T2TQhl644ZuZHT5ByQy2/cough-heavy.wav\n",
            "./Extracted_data/20200417/GLIDHIQIWigOOPXUqR9SYKIN2v83/cough-heavy.wav\n",
            "./Extracted_data/20200417/L6ScULj3LRPFLYdvs8HdWpzhkdp1/cough-heavy.wav\n",
            "./Extracted_data/20200417/8BmywU3Y0Xh4xucX5Zt2xXDkMzB2/cough-heavy.wav\n",
            "./Extracted_data/20200417/SeJVLdrWddXdcxmY9Q51FUjCFRv1/cough-heavy.wav\n",
            "./Extracted_data/20200417/ZIsSazVaDRZmnV0GzL164wnjQGV2/cough-heavy.wav\n",
            "./Extracted_data/20200417/qvKy3g7enMOhjEGqHPtNrrrExQl2/cough-heavy.wav\n",
            "./Extracted_data/20200417/kCKhyeak3fP2IsFcRgP3AOPBDvz2/cough-heavy.wav\n",
            "./Extracted_data/20200417/yMd8IFHnWWYgs6CNSFypl9QhFGu1/cough-heavy.wav\n",
            "./Extracted_data/20200417/HSj0b9JLMjVfqxpQi1s6OVQXkZw1/cough-heavy.wav\n",
            "./Extracted_data/20200417/chMsCb2SqaYxVB1lc93vPGPa5ho1/cough-heavy.wav\n",
            "./Extracted_data/20200417/imhxF3UQDZNVEnNeyw8jOAsgtjv2/cough-heavy.wav\n",
            "./Extracted_data/20200417/y8aGpi9HTmaSDBAKR70SEv9w4Ca2/cough-heavy.wav\n",
            "./Extracted_data/20200417/eQQfGXkyq4PbUnshUIBuHNt9jcV2/cough-heavy.wav\n",
            "./Extracted_data/20200417/xthD326W2odUKmaURdpqoX18XEW2/cough-heavy.wav\n",
            "./Extracted_data/20200417/kOVQkT3hXPSecuCMdUHB35ejBAl2/cough-heavy.wav\n",
            "./Extracted_data/20200417/gxy19SDvEBZdJ7ZYr2b5sS2Fxrn2/cough-heavy.wav\n",
            "./Extracted_data/20200417/k7R0sHWreMTQCDnV5dMzd7t101A3/cough-heavy.wav\n",
            "./Extracted_data/20200417/jtlvbJgDl6Sum26M9Tm6uZIXr6u2/cough-heavy.wav\n",
            "./Extracted_data/20200417/MxWWtrKw3RcNjG0Rmrw9Rt4YD9E3/cough-heavy.wav\n",
            "./Extracted_data/20200417/ZfZdmrhvFUVDL6jqf0GaWC6rzia2/cough-heavy.wav\n",
            "./Extracted_data/20200417/io9q2gZdUWhPDbYnJbzv8XsgCZz1/cough-heavy.wav\n",
            "./Extracted_data/20200417/JeM753cUNJdIV37vCj94583kYCE2/cough-heavy.wav\n",
            "./Extracted_data/20200417/ojihroSqhjfXVXHu7hB7gtI2Pl13/cough-heavy.wav\n",
            "./Extracted_data/20200417/zt2ssuTmZESDhYPW40dyo5RW2sT2/cough-heavy.wav\n",
            "./Extracted_data/20200417/QQx7MsHhXfPFNPjPAydYMmTWkpo2/cough-heavy.wav\n",
            "./Extracted_data/20200417/nsmJcSu7zRYegSynfe707MwRpjp2/cough-heavy.wav\n",
            "./Extracted_data/20201130/FA82s56D4CP2QAkUpv7Zlbz95NW2/cough-heavy.wav\n",
            "./Extracted_data/20201130/QHDZOE4ryxMbsGpXU7Dad9egAts2/cough-heavy.wav\n",
            "./Extracted_data/20220116/MzfeFflqlyWPwz3A1qscgJpZnXz2/cough-heavy.wav\n",
            "./Extracted_data/20220116/bEJSKYnh3xVuOaqa9APory8yjr12/cough-heavy.wav\n",
            "./Extracted_data/20220116/aJ01vacKROcen6rG19ieBFuYm0K2/cough-heavy.wav\n",
            "./Extracted_data/20220116/SmN42H0265e51D39Ta6QMLmbteK2/cough-heavy.wav\n",
            "./Extracted_data/20220116/JB2pFiQsjrhqFEHMzaVPryVK8tP2/cough-heavy.wav\n",
            "./Extracted_data/20220116/g6XvvCwb27VPOBJP0Q14xIpIgXh2/cough-heavy.wav\n",
            "./Extracted_data/20220116/iowFPDECVScrXnuQUdAzFR5lZTn2/cough-heavy.wav\n",
            "./Extracted_data/20220116/sQF52orawHVKB3MgZ746Q6Nby4H3/cough-heavy.wav\n",
            "./Extracted_data/20220116/78ZjqzoMgLTlZUCp9LB6pz4Kv1r2/cough-heavy.wav\n",
            "./Extracted_data/20220116/0kFnp420ZNR1jLp0JWCjMGDzvXo2/cough-heavy.wav\n",
            "./Extracted_data/20220116/JcnEWYQlvAc34RZ15oa1aIdxXmu2/cough-heavy.wav\n",
            "./Extracted_data/20220116/0YCuLUeRDeVmOwglsjizHm6Rq5S2/cough-heavy.wav\n",
            "./Extracted_data/20220116/RvUXdksXUjPGz9GqFI0cQtpdFw13/cough-heavy.wav\n",
            "./Extracted_data/20200502/d2Z7BHOMYlaJlksH8MiGJ9wKlBX2/cough-heavy.wav\n",
            "./Extracted_data/20200502/WrM6hLW3fGbGgwpWSZT9HOSU7CC3/cough-heavy.wav\n",
            "./Extracted_data/20200502/IP6mdjKfmKNgsLLT110MkgGvWK02/cough-heavy.wav\n",
            "./Extracted_data/20200502/oOAokpgIGldpKKlBoPfcyOoycf23/cough-heavy.wav\n",
            "./Extracted_data/20200502/34FItWuiLofMlaG1BmqHWVgHelh2/cough-heavy.wav\n",
            "./Extracted_data/20200502/K5SeTDLlXVQ0U5sl17KluTKEOKJ3/cough-heavy.wav\n",
            "./Extracted_data/20200502/l0PKph2FdVW5pGpo8cXFg6vj2DN2/cough-heavy.wav\n",
            "./Extracted_data/20200502/DeMaRSg6lVO7oA6v9HK3mbWjr3r2/cough-heavy.wav\n",
            "./Extracted_data/20200502/6EIX9NrJ1oWfURDgcOsxZ8j4z5o2/cough-heavy.wav\n",
            "./Extracted_data/20200502/EAqrht1aIXZSoBIuuULWnWTjwQr2/cough-heavy.wav\n",
            "./Extracted_data/20200502/t7dXTi07q9Uu8jKWAkO7FvTGD9c2/cough-heavy.wav\n",
            "./Extracted_data/20200502/6BGTwwcsLoZpqSMhSzFeT2Z7Pqr2/cough-heavy.wav\n",
            "./Extracted_data/20200502/MViWQGORcQfI5lGwqT4CDXP9iHG3/cough-heavy.wav\n",
            "./Extracted_data/20200502/0xsz0lbpsoVgfojvTNSAjv9dhBq1/cough-heavy.wav\n",
            "./Extracted_data/20200502/J1YTIleE4HWC6wCg1gIC1N4Hgw13/cough-heavy.wav\n",
            "./Extracted_data/20200502/nwXAgQmOEVRx6dZqQzc0GdmNSx22/cough-heavy.wav\n",
            "./Extracted_data/20200502/ZdpBUfXPEpShEdHGVTUxULhNtn23/cough-heavy.wav\n",
            "./Extracted_data/20200502/M8Y156MBhmYtI8n9jopclvzzK362/cough-heavy.wav\n",
            "./Extracted_data/20200502/igcBoCJELsfzituxLn61lJybxgD2/cough-heavy.wav\n",
            "./Extracted_data/20200502/A9YX4pRpOyW1PuuL9YjMs0kFQI03/cough-heavy.wav\n",
            "./Extracted_data/20200502/y2ceQRvov6OusKPKa7okrqRHkLo2/cough-heavy.wav\n",
            "./Extracted_data/20200502/TfuCgDdguMVRpKIAXs2kINT1Yxx1/cough-heavy.wav\n",
            "./Extracted_data/20200502/IIKtjdSBHDUkAzLMBs6n3SLbR8Y2/cough-heavy.wav\n",
            "./Extracted_data/20200502/D246kD9hgaasRxrRMzEaQSkft032/cough-heavy.wav\n",
            "./Extracted_data/20200502/DZmX1dGK8KdmY3WYQFuCXrVWuhk2/cough-heavy.wav\n",
            "./Extracted_data/20200502/O924JvpBNRN7jHvErWkpfjqGvat1/cough-heavy.wav\n",
            "./Extracted_data/20200502/VxQekDvwa3N5B2FqB4FlQ5jBjTp2/cough-heavy.wav\n",
            "./Extracted_data/20200502/lkIyl8ZSqIVKiLcfXF6cez7i4o13/cough-heavy.wav\n",
            "./Extracted_data/20200502/I5gTlFVoKbVFGCKxwV6QXSOdkZN2/cough-heavy.wav\n",
            "./Extracted_data/20200502/dGnCoUaAVqQqp1p7Kr74K87Hm2D2/cough-heavy.wav\n",
            "./Extracted_data/20200502/K0LmigcBKlRdTAlrCyfmBJaQJwk1/cough-heavy.wav\n",
            "./Extracted_data/20200502/IBjSkzn7W6WpVSw49EXPM2ME75t2/cough-heavy.wav\n",
            "./Extracted_data/20200502/KnZ1QsM9c8UoOBXrbt4qassreFj1/cough-heavy.wav\n",
            "./Extracted_data/20200502/3rQH10GnP9UFC6WD8iVbwZLI75K2/cough-heavy.wav\n",
            "./Extracted_data/20200502/ykpL1HVINBYQdqFtTk9IPAtC2FG3/cough-heavy.wav\n",
            "./Extracted_data/20200502/T6a1ltY6OiOg38ChVI4URNFmGe23/cough-heavy.wav\n",
            "./Extracted_data/20200502/xf8WMloFOzegmJfwltZVuSQHTyA2/cough-heavy.wav\n",
            "./Extracted_data/20200502/kIpoXJzNPWQXgvSIdHiJj2kBK6n1/cough-heavy.wav\n",
            "./Extracted_data/20200502/jEkD1ffbScZx6wVALbrAhPz3w1S2/cough-heavy.wav\n",
            "./Extracted_data/20200502/USIcgb7j6ofzFTvbjQVofvgJOoD2/cough-heavy.wav\n",
            "./Extracted_data/20200502/6igAuPMTp6YCmFo4g6qp9Cj8t1k1/cough-heavy.wav\n",
            "./Extracted_data/20200502/8Ngu7IThNzTVZLqXDCm2BkMBSLl1/cough-heavy.wav\n",
            "./Extracted_data/20200502/A58ps4OZgaO0Y1E5rbeUBGJAxiW2/cough-heavy.wav\n",
            "./Extracted_data/20200502/Hb9DrqUzdCfKOQWYs4T85y3S3Rl1/cough-heavy.wav\n",
            "./Extracted_data/20200502/20jWH9MjwmbBKFjhi7KkMYZn9bk1/cough-heavy.wav\n",
            "./Extracted_data/20200502/IbHJbk0Rz4QkL9zRJzb28SEDxJj1/cough-heavy.wav\n",
            "./Extracted_data/20200502/wgHmm8HnFkZXb1MypYI0nym1zz13/cough-heavy.wav\n",
            "./Extracted_data/20200502/t36yqxelXtUEMy6tQJd8Bn1Kr673/cough-heavy.wav\n",
            "./Extracted_data/20200502/RN1h8pdpLkMEdRKNVZvFJZqWfGD2/cough-heavy.wav\n",
            "./Extracted_data/20200502/gr6bSWC4ScN21fpbwxCXpwgFE2X2/cough-heavy.wav\n",
            "./Extracted_data/20200502/3VCMGx9M1tTUiEcjERCBG6iC1Ko1/cough-heavy.wav\n",
            "./Extracted_data/20200502/229rWq0xWbfGANPmsv6F39xhjnS2/cough-heavy.wav\n",
            "./Extracted_data/20200502/mNcNjQMsv8aZXFGuguWbLdmkOQk2/cough-heavy.wav\n",
            "./Extracted_data/20200502/3RBbwztykUWGLJ5UmBZoL5pqOtA3/cough-heavy.wav\n",
            "./Extracted_data/20200502/z7RqPeGUQ4X8rxD6ftMf9i4ZE3w2/cough-heavy.wav\n",
            "./Extracted_data/20200502/q3DEiVNvlkNAGJq8LoHEb1TVPao1/cough-heavy.wav\n",
            "./Extracted_data/20200502/LAGGMvR7ScbjwTmMYBbEBfWRcN93/cough-heavy.wav\n",
            "./Extracted_data/20200502/nXZU2OEKmtPSXhbaHZAKb3snrJt2/cough-heavy.wav\n",
            "./Extracted_data/20200502/kDI4V7d7CNOZp3DwAK825tYAzsw2/cough-heavy.wav\n",
            "./Extracted_data/20200502/Gcs79sztbbauDn62MJa2xq2jrqT2/cough-heavy.wav\n",
            "./Extracted_data/20200502/spM6cgJG4VQfYjnnTqxwx3Cg3pk1/cough-heavy.wav\n",
            "./Extracted_data/20200502/dmE3r0LE6Yg9qmCd7aubpgug9te2/cough-heavy.wav\n",
            "./Extracted_data/20200502/y3xOwlrqS3QhFVHCYnzJfCN0I8F2/cough-heavy.wav\n",
            "./Extracted_data/20200502/4mg0uaY0GYTtgo4hvP2APxs7zhL2/cough-heavy.wav\n",
            "./Extracted_data/20200502/83BZjlFTcYZWakpS3tf63fpwbQO2/cough-heavy.wav\n",
            "./Extracted_data/20200502/1oiS7CTfV2NXbNqmYiQ9rs5toFS2/cough-heavy.wav\n",
            "./Extracted_data/20200502/PlplsT6dnBbbDLRRXiSGU5I8Jls2/cough-heavy.wav\n",
            "./Extracted_data/20200502/z1SsPGv63YeNLOjgDUTa2kEG1wY2/cough-heavy.wav\n",
            "./Extracted_data/20200502/EAj5X2nQbNhAzPOqXj28BgI9Wpp2/cough-heavy.wav\n",
            "./Extracted_data/20200502/wnYwVtKVX9f8UdFFAkWGUvN98V83/cough-heavy.wav\n",
            "./Extracted_data/20200502/7a71ntGZtkQKltg52eiRPJj4cr33/cough-heavy.wav\n",
            "./Extracted_data/20200502/X2oy68UUgdNd97dpzW1ZubPZVIC2/cough-heavy.wav\n",
            "./Extracted_data/20200502/goCuK84Tklfu22gFPPMqt1ZIjxo2/cough-heavy.wav\n",
            "./Extracted_data/20200502/us7APpurf2OG6PGiYAvqrE4fZtQ2/cough-heavy.wav\n",
            "./Extracted_data/20200502/p892e9IyF2dZFs8eqIF1TCtxf0A3/cough-heavy.wav\n",
            "./Extracted_data/20200502/sWcxNpUjPcbEfjNw7RouuKrSMyx2/cough-heavy.wav\n",
            "./Extracted_data/20200502/p5vVbB3dnSSw6SBYjsgsi1Hv4Eu1/cough-heavy.wav\n",
            "./Extracted_data/20200502/gjF0L8phdmPxc9az1muox66bQD93/cough-heavy.wav\n",
            "./Extracted_data/20200502/aBhVajwUynU2XvqHDXl7EA9bVNm1/cough-heavy.wav\n",
            "./Extracted_data/20200502/60JfHHIcNZUf9lCy68R1Cgl69ZN2/cough-heavy.wav\n",
            "./Extracted_data/20200502/BMhTCbqVnHNePVbFulnWNu6ZSUg2/cough-heavy.wav\n",
            "./Extracted_data/20200502/JecvGmjPyEVl7y6fupTTp6QZvoJ2/cough-heavy.wav\n",
            "./Extracted_data/20200502/8XF2UFLn3Wd6dHHMdOlcGbQiMqb2/cough-heavy.wav\n",
            "./Extracted_data/20200502/p2aSmxkCu5fzI6FfIGwYEMYEChl2/cough-heavy.wav\n",
            "./Extracted_data/20200502/3xebjLX0tvTb7LwpMw7QiNixBln2/cough-heavy.wav\n",
            "./Extracted_data/20200502/yUN7VBVk2wP9yT2vpgzHyVUZi5q1/cough-heavy.wav\n",
            "./Extracted_data/20200502/eNTXqhPqTser8AI98QMVcwQpV5p1/cough-heavy.wav\n",
            "./Extracted_data/20200502/UKeaEFOLZbT7lMl0qZr3uGPO4wK2/cough-heavy.wav\n",
            "./Extracted_data/20200502/Yk18VcaTrIZ58BIGGgfGRvrf19b2/cough-heavy.wav\n",
            "./Extracted_data/20200502/qqMKI7lvNFO8aQqGkWs0lvww3zJ2/cough-heavy.wav\n",
            "./Extracted_data/20200502/nWexc69oEiZ6d1YP3v2CDJBipkM2/cough-heavy.wav\n",
            "./Extracted_data/20200502/fVL3e9RKRgN2yNKT0KMNZhbal8R2/cough-heavy.wav\n",
            "./Extracted_data/20200502/iwgKSGOJCSXNupqJWO2JeuT3Omf2/cough-heavy.wav\n",
            "./Extracted_data/20200502/kgtFoIOecEZqthRZTYMaYb4zjQy2/cough-heavy.wav\n",
            "./Extracted_data/20200502/y1BNWatVkKPrYY9TfvTnWjZVaJp2/cough-heavy.wav\n",
            "./Extracted_data/20200502/xSNAaXDQn7NXL8xgSb4ix26X1R93/cough-heavy.wav\n",
            "./Extracted_data/20200502/H6bxcGub1wOdaWWZ7kyk8KYuswf1/cough-heavy.wav\n",
            "./Extracted_data/20200502/ypvsQ6trNDhlWTd8A5vXrRCC8mg1/cough-heavy.wav\n",
            "./Extracted_data/20200502/nPnKdupHeJQ46bqslx7STREbkXt2/cough-heavy.wav\n",
            "./Extracted_data/20200502/4wRQbTA56AgZ27o7Yq6oVWUzR7A3/cough-heavy.wav\n",
            "./Extracted_data/20200502/NjLggybuDbN2vcR2Va2hyDuDwQv2/cough-heavy.wav\n",
            "./Extracted_data/20200502/RrdJGUs5gtbagFUqPyOzF19r9Sv1/cough-heavy.wav\n",
            "./Extracted_data/20200502/B6X0O4W1xyP5lMLvMIzc4fGhQSj1/cough-heavy.wav\n",
            "./Extracted_data/20200502/PZhCH5PyO8RD2FPFQbeCmuGB5q33/cough-heavy.wav\n",
            "./Extracted_data/20200502/uiJ6vlTGUtO7akwp4VhP2142D9u1/cough-heavy.wav\n",
            "./Extracted_data/20200502/Ed1ZsgwOyYcEnpPXOXKPQd1QaS62/cough-heavy.wav\n",
            "./Extracted_data/20200502/LuWrKc4LBRWEfrsF2sCdR7o57m12/cough-heavy.wav\n",
            "./Extracted_data/20200502/GpkFX9qB33ZsvFG4HWQHkOMWjFW2/cough-heavy.wav\n",
            "./Extracted_data/20200502/jU6lNbGSe4TXBJdMhRoUCRnAWsT2/cough-heavy.wav\n",
            "./Extracted_data/20200502/bk1oHM5vebe9ZNtgyRq54UVOIQR2/cough-heavy.wav\n",
            "./Extracted_data/20200502/796K27lWKTfniw99yaqsYIvPrvi1/cough-heavy.wav\n",
            "./Extracted_data/20200502/ZHsY7y4Y8JOoafrQpOKJEr6gORq2/cough-heavy.wav\n",
            "./Extracted_data/20200502/BPQxhBSlypXZICqfsmZcUYBxFmz1/cough-heavy.wav\n",
            "./Extracted_data/20200502/9znW0Bni1Scj62DqhsfoagP6HLI2/cough-heavy.wav\n",
            "./Extracted_data/20200502/6fqe8i160qM5rtC4uHrlu3MZXe32/cough-heavy.wav\n",
            "./Extracted_data/20200502/2JEOCn5AtuQh5Skzhzf5ASuIC9z1/cough-heavy.wav\n",
            "./Extracted_data/20200502/svTIg0ZpdObLgdUfB3x7aehwRHj2/cough-heavy.wav\n",
            "./Extracted_data/20200502/JCDtX8bUuMbQNeh7SkMjavkAgVv2/cough-heavy.wav\n",
            "./Extracted_data/20200502/LJ7VSEWnDqb3lPknPM9Q64zjdof1/cough-heavy.wav\n",
            "./Extracted_data/20200502/gyh4z7KnY9eBGjNzBmKh5CeJyKA2/cough-heavy.wav\n",
            "./Extracted_data/20200502/jOUwCxF1qygGp8DqIt0zMiueXXj1/cough-heavy.wav\n",
            "./Extracted_data/20200502/SopKRSJ4JcY36rGE8X4wRE7vPHl2/cough-heavy.wav\n",
            "./Extracted_data/20200502/URgU2WswGtQp3hFNsrkdGsVxAzJ2/cough-heavy.wav\n",
            "./Extracted_data/20200502/s4cWXeTXzEagPfbizekEnRnDh4p1/cough-heavy.wav\n",
            "./Extracted_data/20200502/p5ZEeEq5AgbI7KMhSP9HTCXTDQ62/cough-heavy.wav\n",
            "./Extracted_data/20200502/teOvCnrHvkhO4p7XASV9OXfL0k72/cough-heavy.wav\n",
            "./Extracted_data/20200502/Tg9azT9vyfe95C5l2z8hwHEc1p73/cough-heavy.wav\n",
            "./Extracted_data/20200502/1gKYFXop8UQtz5vrzrbVcnjX0Vi1/cough-heavy.wav\n",
            "./Extracted_data/20200502/euLpkmzCb1cGb2gkZRQ6gh7hGsC3/cough-heavy.wav\n",
            "./Extracted_data/20200502/sGG3SWYeDtd52RBt3dMM3HSv8SG3/cough-heavy.wav\n",
            "./Extracted_data/20200502/FJTHLyF7sGYFJpundI1mZ28HQQ03/cough-heavy.wav\n",
            "./Extracted_data/20200502/FYXJ3Brvf1Wi8YdILInJ19dSiJM2/cough-heavy.wav\n",
            "./Extracted_data/20200502/Q5C7zucNKTZSpYWQBFkZaoKucwi1/cough-heavy.wav\n",
            "./Extracted_data/20200502/TmtSpBMTFzSu3z7HHtir7UqUNbl2/cough-heavy.wav\n",
            "./Extracted_data/20200502/DsEh7p2DEgWLuhbSTrqgQnTJJjC2/cough-heavy.wav\n",
            "./Extracted_data/20200502/2TOBsGCz6ZUYjZ1DKt3C0ae2VlZ2/cough-heavy.wav\n",
            "./Extracted_data/20200502/qDaEukMgm3YGWKR1SdJqKIaxG6Z2/cough-heavy.wav\n",
            "./Extracted_data/20200502/CStOCq03YfgBopyDsibRbZlahm13/cough-heavy.wav\n",
            "./Extracted_data/20201031/6nUulJemkddThm7rsaNw4z31Ntu2/cough-heavy.wav\n",
            "./Extracted_data/20201031/ankVK1DxMvbVFA9PYyKvHk6CQLP2/cough-heavy.wav\n",
            "./Extracted_data/20201031/owp10hao8XZzW0ooJYkACRmuGDu1/cough-heavy.wav\n",
            "./Extracted_data/20201031/4aI0r8RKKtcp2MopsUZjtA6ldKx2/cough-heavy.wav\n",
            "./Extracted_data/20201031/vflTaeqGRDgNyjCbTvMt2dajbRX2/cough-heavy.wav\n",
            "./Extracted_data/20200604/RP28VzHbG0crJB2RnboqUaM9SRm1/cough-heavy.wav\n",
            "./Extracted_data/20200604/qZEBUZAYCHhWEWXUeOGrLFhaZCW2/cough-heavy.wav\n",
            "./Extracted_data/20200604/Gs2gwBq34aMMglNC9jqGHS3ZzIs1/cough-heavy.wav\n",
            "./Extracted_data/20200604/uHPhyLsj5eYghJQOYj7iXa0fyOE3/cough-heavy.wav\n",
            "./Extracted_data/20200604/LyCZNUHMdqQtXwEox0mUHngB1Gx1/cough-heavy.wav\n",
            "./Extracted_data/20200604/cSBabP68WbPG0xQs8NnlgtVw5R42/cough-heavy.wav\n",
            "./Extracted_data/20200604/LGiTXwr1u8YlLpxd1nvTlhGCZJn2/cough-heavy.wav\n",
            "./Extracted_data/20200604/awro2Lz4F9SgVweiUzROf1IE8GK2/cough-heavy.wav\n",
            "./Extracted_data/20200604/pBB2aZFbLCMky5VPRAoWIClKN2Y2/cough-heavy.wav\n",
            "./Extracted_data/20200604/IkwAlxsvmhXfpi9seBDU6rksY7C2/cough-heavy.wav\n",
            "./Extracted_data/20200604/C7Q6zEVYAZR7yC0DeDQVIYqfWCi2/cough-heavy.wav\n",
            "./Extracted_data/20200604/aLeBZp6qmVVooQsTvP1ptnQk9IS2/cough-heavy.wav\n",
            "./Extracted_data/20200604/4FJNm8IlWySNOgF0Jyyvw6beLxF2/cough-heavy.wav\n",
            "./Extracted_data/20200604/RFqBDNt9sLR9PxvBliE1JhFVzK42/cough-heavy.wav\n",
            "./Extracted_data/20200604/8e6tYVdZj2btq3rYpi9zsy5VujF3/cough-heavy.wav\n",
            "./Extracted_data/20200604/KmMFugVd4Pa4fZW9FqWFcHBVovf2/cough-heavy.wav\n",
            "./Extracted_data/20200604/3kUDnCX53IYe2LGsEDHwuXE8bWP2/cough-heavy.wav\n",
            "./Extracted_data/20200604/Ruz6RW2jXUVDXkYX7GsYC3hzagn1/cough-heavy.wav\n",
            "./Extracted_data/20210507/fYwrpxbyuVeCaIFAST2XCi5HALv1/cough-heavy.wav\n",
            "./Extracted_data/20210507/VO8vkvfYKaM5zzj1YDN07Z40MP13/cough-heavy.wav\n",
            "./Extracted_data/20210507/Lo9OvxpnOmSsMC0qy4rwtXVamU13/cough-heavy.wav\n",
            "./Extracted_data/20210507/4BsVbbiOh1a5X9UgYOIPOj3Hsi62/cough-heavy.wav\n",
            "./Extracted_data/20210507/yHDFkOJHVZTgJAab31hQ0cq9rUb2/cough-heavy.wav\n",
            "./Extracted_data/20210507/6kMlitGRc3XF2Nt13Wl3LOs4wMl1/cough-heavy.wav\n",
            "./Extracted_data/20210507/kjPSx3B3tXf79RLmpSEvInCJUXx2/cough-heavy.wav\n",
            "./Extracted_data/20210507/rfZxLORiZraDBDfqVP5OX9MwprW2/cough-heavy.wav\n",
            "./Extracted_data/20210507/FBdqiwdp4Kc7PpyUkLBM9qMSo2k1/cough-heavy.wav\n",
            "./Extracted_data/20210507/ZIuG3ACI2aQ7spKg26hQM9nxFWi1/cough-heavy.wav\n",
            "./Extracted_data/20210507/6eeE5vinOTT3eH98PW5jBcpqmom1/cough-heavy.wav\n",
            "./Extracted_data/20210507/3BUB0leQxthtm7CndU3zJdUktrK2/cough-heavy.wav\n",
            "./Extracted_data/20210507/6d2och05gaZuhGjLC5rEVdGPSsS2/cough-heavy.wav\n",
            "./Extracted_data/20210507/xtfp7P3edRNGnQniJlEUvTXGPoq2/cough-heavy.wav\n",
            "./Extracted_data/20210419/gXKyKSft8sWALKf93iCMzoiYitW2/cough-heavy.wav\n",
            "./Extracted_data/20210419/51OnFkHZ12ay7VyGlPkA3AYsB6s2/cough-heavy.wav\n",
            "./Extracted_data/20200525/yeo7HwJ5Dcbqc4ozwv6az8iRVTJ3/cough-heavy.wav\n",
            "./Extracted_data/20200525/6wlO9IzJRZZ3tp02z0La8JCAU8Z2/cough-heavy.wav\n",
            "./Extracted_data/20200525/1swHxN9xPFUu90g29z2RMCxG3oJ2/cough-heavy.wav\n",
            "./Extracted_data/20200525/6WQPyHp9AZThZUTD1Z2rOXv3d5R2/cough-heavy.wav\n",
            "./Extracted_data/20200525/EJSbChF4LfPisqLxlUqiwYU7zy83/cough-heavy.wav\n",
            "./Extracted_data/20200525/zzh7tK9CrZacOddJTG9YQwCZz4f2/cough-heavy.wav\n",
            "./Extracted_data/20200525/OpvwYQFOschINBVkxBVeKgC0FeJ3/cough-heavy.wav\n",
            "./Extracted_data/20200525/t0UxwxXhJxX6jA1bJNTQYjOWeQj1/cough-heavy.wav\n",
            "./Extracted_data/20200525/gH4tLBmPiFWp96S6j3z0wjKYhab2/cough-heavy.wav\n",
            "./Extracted_data/20200525/Fohk6SJxcJVo4rtuGD6PMwJ9qTQ2/cough-heavy.wav\n",
            "./Extracted_data/20200525/z2ormj7bF7Zkgibaf97vOCUqrm62/cough-heavy.wav\n",
            "./Extracted_data/20200525/rb0viHBCj1fiEgWX34QcL3Zv8B02/cough-heavy.wav\n",
            "./Extracted_data/20200525/f3NCnb7N1qS2qraT8fdnW7BVVCm1/cough-heavy.wav\n",
            "./Extracted_data/20200525/eTJRhMtqLcO1Q8rLtaIsALyTOyC3/cough-heavy.wav\n",
            "./Extracted_data/20200525/j4xItLU4BzcKshmihayCM0pTooH3/cough-heavy.wav\n",
            "./Extracted_data/20200525/ZThKb36K24N2UGu9fRqjlpp27da2/cough-heavy.wav\n",
            "./Extracted_data/20200525/asYD2xAnKuTdSZPIYo242wrgKVD3/cough-heavy.wav\n",
            "./Extracted_data/20200525/1G9prDQSP1fpNL0yc7C6Rqy7jmK2/cough-heavy.wav\n",
            "./Extracted_data/20200525/CDJLmx0CWdNRiAvgFwn2aHonth43/cough-heavy.wav\n",
            "./Extracted_data/20200525/tZ4S3CC8pvNc72VYadUYndOUlCE3/cough-heavy.wav\n",
            "./Extracted_data/20200525/zOmz0TaNdmQfF2jUFkqUKuNa80m1/cough-heavy.wav\n",
            "./Extracted_data/20200525/ETcnGsA5gNUC1t3cXJY6KXLvF7W2/cough-heavy.wav\n",
            "./Extracted_data/20200525/ReILZl8aPPQXHUYQzD2AUzuEF2w2/cough-heavy.wav\n",
            "./Extracted_data/20200525/IQJWFucM7GbQ00iw3lt2UvBFzaW2/cough-heavy.wav\n",
            "./Extracted_data/20200525/7GWUfrhqMCWAotCUbROzgawkCh82/cough-heavy.wav\n",
            "./Extracted_data/20200525/F2sQBi45ZdZMn8gQdcQB5wklMct2/cough-heavy.wav\n",
            "./Extracted_data/20200525/LG9JXKoSkeN9IHceg9xruqw1yt23/cough-heavy.wav\n",
            "./Extracted_data/20200525/ajjbkAkwKDMcEEsiPxXiug5F8v03/cough-heavy.wav\n",
            "./Extracted_data/20200525/oWBd1blxbTefqPydUAes1xlr5VJ2/cough-heavy.wav\n",
            "./Extracted_data/20200525/m9MMgToUSXV8Z3BhCJF2PGOZCMS2/cough-heavy.wav\n",
            "./Extracted_data/20200525/8Suz7Jl7GtXpdB7UeIPtLuZb1Lp2/cough-heavy.wav\n",
            "./Extracted_data/20200525/MjbZoe5Xl6gQAFFZAjORLjIZoC93/cough-heavy.wav\n",
            "./Extracted_data/20200525/A1tmg4RT7Mekg8LKxGC2agpfmdi1/cough-heavy.wav\n",
            "./Extracted_data/20200525/FYqsLjb8gjOLhrB64aWUc53KVVf2/cough-heavy.wav\n",
            "./Extracted_data/20200525/9zO8MvWYvBMLy2y2rRFKRHb9A1r1/cough-heavy.wav\n",
            "./Extracted_data/20200525/bixijc4LCCRqES9K306RjUCIHsJ2/cough-heavy.wav\n",
            "./Extracted_data/20200525/elSiVyo2V3USxFXNuExlbh9hrNm1/cough-heavy.wav\n",
            "./Extracted_data/20200525/BAMibuHkXaNr3JNc0Cvbu3kdSIp1/cough-heavy.wav\n",
            "./Extracted_data/20200525/9CUhQAT3U5YhxXmqkw01co7jVOU2/cough-heavy.wav\n",
            "./Extracted_data/20200525/fja76ZsTgfPWoDCUcwnRLI5XrLZ2/cough-heavy.wav\n",
            "./Extracted_data/20200525/3CMQ3nCRdaU5K8pfUiqOpzUgQRz2/cough-heavy.wav\n",
            "./Extracted_data/20200525/1kXfAOTvLBbCCcTBJOrHUFzARSo1/cough-heavy.wav\n",
            "./Extracted_data/20200525/KVKLfU8zZ1MEywuVYflH2KYOHr52/cough-heavy.wav\n",
            "./Extracted_data/20200525/48PWPg1zZZS9UbuHspwNMsiOfep1/cough-heavy.wav\n",
            "./Extracted_data/20200525/yQoN4YK60acISpPHhXR5YQKM9mm2/cough-heavy.wav\n",
            "./Extracted_data/20200525/MKb4BFUuYAZfOtzGlAz1UwNzo6R2/cough-heavy.wav\n",
            "./Extracted_data/20200525/KNoT33BrSIfmsHryE9UR2TgfDew1/cough-heavy.wav\n",
            "./Extracted_data/20200525/7MWN4jSmv3QD2sRi12K1BNjmct83/cough-heavy.wav\n",
            "./Extracted_data/20200525/YLjbjcoMy1bCh25iChGjXXTc8RK2/cough-heavy.wav\n",
            "./Extracted_data/20200525/OLMx2P1UahSgkhGyN5zLHZsXMo02/cough-heavy.wav\n",
            "./Extracted_data/20200430/DRBAZX64nuVtqBQf13gH7r36Mh52/cough-heavy.wav\n",
            "./Extracted_data/20200430/Jw7YMfwGqMX22UbHh1TTgYMTYWs1/cough-heavy.wav\n",
            "./Extracted_data/20200430/xKW2EpGmJcfigLecUTLVXEWQHPg2/cough-heavy.wav\n",
            "./Extracted_data/20200430/tM8IvvHCyCXpEsx5T6egMVLj7Lu1/cough-heavy.wav\n",
            "./Extracted_data/20200430/hP0R5MMdSNThSMZ7TNLjU7sxyws1/cough-heavy.wav\n",
            "./Extracted_data/20200430/YiFpl4utCGTCGxQHqjYMOUgKlV63/cough-heavy.wav\n",
            "./Extracted_data/20200430/97Rb1xwK1GTHQL9OqkuoKV18Zug2/cough-heavy.wav\n",
            "./Extracted_data/20200430/hD3OkVpgQJNlJSQxLgzqXzHp4jr2/cough-heavy.wav\n",
            "./Extracted_data/20200430/GrE7GAhI8UUX1BK0QHOBGLvOQJb2/cough-heavy.wav\n",
            "./Extracted_data/20200430/vulAApAIpgcosLjfJtaN7Rrp2jo2/cough-heavy.wav\n",
            "./Extracted_data/20200430/C3luMlCgAFZqGmGjFscXe9fVHSG3/cough-heavy.wav\n",
            "./Extracted_data/20200430/pnoznkafNcbciLGFDaDsiyKzf4W2/cough-heavy.wav\n",
            "./Extracted_data/20200430/PlsyeCq5jHO4E70iZHfrfHSqSJu2/cough-heavy.wav\n",
            "./Extracted_data/20200430/gHDyWKwAjxPkdxg4hh1hElbzbbR2/cough-heavy.wav\n",
            "./Extracted_data/20200430/VOj0YLhyFhRIvXu1YYcWHVa8esT2/cough-heavy.wav\n",
            "./Extracted_data/20200430/cV9R1idnuDfxw4jmzpA7Sj94O5J3/cough-heavy.wav\n",
            "./Extracted_data/20200430/QU89L9WuhdW74Fj41RQwBPCl9Vv1/cough-heavy.wav\n",
            "./Extracted_data/20200430/OllJVQmVKDgnUjNCKFCP0tPlQU03/cough-heavy.wav\n",
            "./Extracted_data/20200430/PWXapCML3JSGefaCRAxKjCNp0Ps2/cough-heavy.wav\n",
            "./Extracted_data/20200430/JdsUKe6JKBdfU7NZC6KeU0z2xKh1/cough-heavy.wav\n",
            "./Extracted_data/20200504/dwCHWFYULRfluqFV2B10a2aUavI3/cough-heavy.wav\n",
            "./Extracted_data/20200504/LShW1854ahW9IMubCKJH9L3Kdxh2/cough-heavy.wav\n",
            "./Extracted_data/20200504/8PtpwfiaGpMFqciQAnNjDnnbvjw2/cough-heavy.wav\n",
            "./Extracted_data/20200504/sEXwP0TZ79eEEbNZR1KRl3nLvN22/cough-heavy.wav\n",
            "./Extracted_data/20200504/EVWPvD070lhgBsNRXIJ0TsQj3iz2/cough-heavy.wav\n",
            "./Extracted_data/20200504/HSgMHc61GdN0PC5BSzR6X96yzZw2/cough-heavy.wav\n",
            "./Extracted_data/20200504/Ml6JGK0BGDYiU7CulDVQnD065BI3/cough-heavy.wav\n",
            "./Extracted_data/20200504/ARnHOwUIKyfpC9ryG6AqrTcksmq1/cough-heavy.wav\n",
            "./Extracted_data/20200504/an56VxZWQ5RKFCHxW3Y0NquAEcA3/cough-heavy.wav\n",
            "./Extracted_data/20200504/Qxsv89ELtlUniEBfEvmDldEdZBy2/cough-heavy.wav\n",
            "./Extracted_data/20200504/tmguPZG0j4X5PktnGJyOYxVGtqW2/cough-heavy.wav\n",
            "./Extracted_data/20200504/lRTZkLVfotSCNqqchfmOZo4Zc1o2/cough-heavy.wav\n",
            "./Extracted_data/20200504/sh8x9M4ZeXXllQvCiFENINxFf9h1/cough-heavy.wav\n",
            "./Extracted_data/20200504/TPrDC0bAYpdmhKxfDzCivJnfpKP2/cough-heavy.wav\n",
            "./Extracted_data/20200504/UJqJesZ2UHZm7YnsQZkzNzXdoFC2/cough-heavy.wav\n",
            "./Extracted_data/20200504/eW3UMx8SACOoZft0ZOLZUIVaTFb2/cough-heavy.wav\n",
            "./Extracted_data/20200504/8t3IFTtBOVOtvpX9aX2vryuhSaG2/cough-heavy.wav\n",
            "./Extracted_data/20200504/oT3KtPYs2CSp3MKgmhGPbuK9QIp2/cough-heavy.wav\n",
            "./Extracted_data/20200504/0EAAFsDWfTcrhktHy78LS6nf19G3/cough-heavy.wav\n",
            "./Extracted_data/20200504/5FC78ahXNGa1Mc8A3X0Bfj5sHIJ2/cough-heavy.wav\n",
            "./Extracted_data/20200504/itvtyBYukyL63vESDviOtQzwGit1/cough-heavy.wav\n",
            "./Extracted_data/20200504/7Z834FePKIhCrPJPjkOE69XeNcm1/cough-heavy.wav\n",
            "./Extracted_data/20200504/OK2CZltrvfZbpTWB75LWMFqxfpM2/cough-heavy.wav\n",
            "./Extracted_data/20200504/9CjIhgGiWqP4wrhOximVkQgE8tq2/cough-heavy.wav\n",
            "./Extracted_data/20200504/qpCGgfO05mWt67NzsFBKWJ5ZF1U2/cough-heavy.wav\n",
            "./Extracted_data/20200504/uzZEBGlFZ5c1dY39rmcphVB0s1q2/cough-heavy.wav\n",
            "./Extracted_data/20200504/vwqgm68Z4gZ9T5Ry9T4u8tYsJxn2/cough-heavy.wav\n",
            "./Extracted_data/20200504/Ou2g3o2wWgXZuyjlZr8ZABItDYx1/cough-heavy.wav\n",
            "./Extracted_data/20200504/pUOk49eAwAcbHBwdL3OldmF1iHd2/cough-heavy.wav\n",
            "./Extracted_data/20200504/1fMS9159tNOgEbgTXBoUpBXQUIr1/cough-heavy.wav\n",
            "./Extracted_data/20200504/exj2e14KykUjLNwbOGgOgFieo8a2/cough-heavy.wav\n",
            "./Extracted_data/20200504/IVQDOUP0a8cwMvCkp1TnZ1FI88Z2/cough-heavy.wav\n",
            "./Extracted_data/20200504/vfh8Qe0ILbWxIEeQGC0GWyLe3yt2/cough-heavy.wav\n",
            "./Extracted_data/20200504/EVEnOepr9yaACgz1aJgRRoNpqaw1/cough-heavy.wav\n",
            "./Extracted_data/20200504/zhSebSRltXd69mGoGRVeYZ5eQ3l1/cough-heavy.wav\n",
            "./Extracted_data/20200504/8jj80VIjJDhstlysp9ak8kFJwex1/cough-heavy.wav\n",
            "./Extracted_data/20200504/LC266EVhXoa7KP4o3naQ6oZczml1/cough-heavy.wav\n",
            "./Extracted_data/20200504/gdMY0DOvz8QrFltj0X4Ez0PpsHS2/cough-heavy.wav\n",
            "./Extracted_data/20200504/LBNOC0NrwANadd7m4SVO9cT0dyH2/cough-heavy.wav\n",
            "./Extracted_data/20200504/PR1ZyxKH1MVEQjjCaRsghm8DrEf1/cough-heavy.wav\n",
            "./Extracted_data/20200504/SQb3JATyGKUZvdfaoVEBhhB2d752/cough-heavy.wav\n",
            "./Extracted_data/20200504/NZ7eJVaMFDMMhpOKZ1ztgkr3fVO2/cough-heavy.wav\n",
            "./Extracted_data/20200504/qkdJKHOBuAYsKvnxbLvnoJ5Dc8y2/cough-heavy.wav\n",
            "./Extracted_data/20200504/jLxswjEWjZQh3Wg6Dzu5VCoPhG92/cough-heavy.wav\n",
            "./Extracted_data/20200504/W1c56dgBsoe34ilAX8vAZs8tNcX2/cough-heavy.wav\n",
            "./Extracted_data/20200504/NxnNleTNUYaE2lndP2HIlGUbimy1/cough-heavy.wav\n",
            "./Extracted_data/20200504/sjRWRFsE64R2o0ZFdGJe8PlWwlM2/cough-heavy.wav\n",
            "./Extracted_data/20200504/TQx9HF2p3pXksgf5YNrpQSh81qu1/cough-heavy.wav\n",
            "./Extracted_data/20200504/6OVT42wvVggUA7rkEuziRRtNNuo2/cough-heavy.wav\n",
            "./Extracted_data/20200504/F349Of1rExaZ82Od6sp2jEzInKj1/cough-heavy.wav\n",
            "./Extracted_data/20200504/DINJ1hI4xpQ0fcf7TsZN4pjXrol2/cough-heavy.wav\n",
            "./Extracted_data/20200504/Fsy78EiP9pOaFmMc6VjdI30SMvV2/cough-heavy.wav\n",
            "./Extracted_data/20200504/qf3n0FsFJkfsUbOFngrrxDd5x7m1/cough-heavy.wav\n",
            "./Extracted_data/20200504/DTvGOScaAzWfSBXf8B8uF916AKP2/cough-heavy.wav\n",
            "./Extracted_data/20200504/NkibhMc8cVQQq1cj4RSU3NkkMW33/cough-heavy.wav\n",
            "./Extracted_data/20200504/8UDw6kiGKhgchuwIhHR3o2npPk92/cough-heavy.wav\n",
            "./Extracted_data/20200504/gGuUN1zRpINudd2X5CgQvDfJY0E2/cough-heavy.wav\n",
            "./Extracted_data/20200504/gdt5iG6NWAWoK1edYqNFXUuZXQS2/cough-heavy.wav\n",
            "./Extracted_data/20200504/kus7obTENSPvUNbwD2yi6vUi0x23/cough-heavy.wav\n",
            "./Extracted_data/20200504/PzAQz6zDDcPbdSePDK02jGd4Rm42/cough-heavy.wav\n",
            "./Extracted_data/20200504/ki8Scyp1FRUOGvhgpjYjYFgx0gp1/cough-heavy.wav\n",
            "./Extracted_data/20200504/gWIawRTh97MMSACF9Mq9braP8s12/cough-heavy.wav\n",
            "./Extracted_data/20200504/EBJVTXGpKucYUqz7evI887oS1162/cough-heavy.wav\n",
            "./Extracted_data/20200504/VWfBoslFF1fFUnApuT6svVPDbi52/cough-heavy.wav\n",
            "./Extracted_data/20200504/HLrE1Z2wnQSraudLRqiWgR154rA3/cough-heavy.wav\n",
            "./Extracted_data/20200504/2csA9O1LIDQd55vbgSb3Nbva2UE3/cough-heavy.wav\n",
            "./Extracted_data/20200504/Akn9RWpa1hMNtsrYVHGlBsmHkAB2/cough-heavy.wav\n",
            "./Extracted_data/20200504/zLM432Aox7ZcmTXoglELTXNAVnf2/cough-heavy.wav\n",
            "./Extracted_data/20200504/7Xzlu6oIWGc0odCvFMQkr612jVr1/cough-heavy.wav\n",
            "./Extracted_data/20200504/DQbyjZoEh1chrWRqOkPrUsxvqpv2/cough-heavy.wav\n",
            "./Extracted_data/20200504/EiXN9D41sOZRBpHVHCLq3QUpKrq1/cough-heavy.wav\n",
            "./Extracted_data/20201012/w7pdOIUnHPRfYLXVVRtIRsOjGnr2/cough-heavy.wav\n",
            "./Extracted_data/20201012/WyCgdIfGzxXRPeimIoqiPVysAHB2/cough-heavy.wav\n",
            "./Extracted_data/20201012/zPFIJ3JDo7P5qIIdKvELq76kYi02/cough-heavy.wav\n",
            "./Extracted_data/20201012/cpkq5jRCUDOvtB7vROcz6LuOAzr2/cough-heavy.wav\n",
            "./Extracted_data/20201012/7J57fRRIEENoMhm7xRL7HNxh7Xy2/cough-heavy.wav\n",
            "./Extracted_data/20201012/NRG2CtRi4KdGF8XvpvD5X0DJo2h1/cough-heavy.wav\n",
            "./Extracted_data/20201012/HNQHvssRu1QD9oJKikpEcT8ENjX2/cough-heavy.wav\n",
            "./Extracted_data/20201012/7arBtLdzGeW8oCN0DXhI6dqqUdP2/cough-heavy.wav\n",
            "./Extracted_data/20201012/joORHxc0iCTwgP7Uh5SM5N7rnnf2/cough-heavy.wav\n",
            "./Extracted_data/20210630/8UdvlhiJqYY2AWjGtBu0Vd3SSTP2/cough-heavy.wav\n",
            "./Extracted_data/20210630/ADUIall6exYvek5ktU2P6pHWnza2/cough-heavy.wav\n",
            "./Extracted_data/20210630/BjSaOnCo37bIz4AgpvWPiAYqwzA3/cough-heavy.wav\n",
            "./Extracted_data/20210630/139P5XQHCAPJlxTo53QLd6FviL82/cough-heavy.wav\n",
            "./Extracted_data/20210630/LPP0njvvovO1Wi3wq9IcMxJVyau1/cough-heavy.wav\n",
            "./Extracted_data/20210630/pi4VnHGXBRXiKcAd1ukYE0d7As42/cough-heavy.wav\n",
            "./Extracted_data/20210630/wEMYsNrzUvXhlQHYnFAF6U5a0Py1/cough-heavy.wav\n",
            "./Extracted_data/20210630/MaJ7xxBo22SHULIdQjnWzrc6uCf1/cough-heavy.wav\n",
            "./Extracted_data/20210630/nY6Af5bvitY4R8Vp4KGFTFUkdio2/cough-heavy.wav\n",
            "./Extracted_data/20210630/ri2VbVnIcMNkS8zYnXrLAXa1dM92/cough-heavy.wav\n",
            "./Extracted_data/20210630/A0NM2SVNh9YFgRrZ4k20ePIAyiw1/cough-heavy.wav\n",
            "./Extracted_data/20210630/YQzhlTCYjlgentYYTgVEDgNPapN2/cough-heavy.wav\n",
            "./Extracted_data/20210630/ArfyG6NyeWefgvOsFhWMWSkhebE3/cough-heavy.wav\n",
            "./Extracted_data/20210630/Ued1DKV2NkUnzWjJcPMxA6Q261r1/cough-heavy.wav\n",
            "./Extracted_data/20210630/ffrNAGEUQEfL39VAP9Eau1a3UUX2/cough-heavy.wav\n",
            "./Extracted_data/20210630/v8uTeuovxbfNIDu1Rp8IDDLOT5K2/cough-heavy.wav\n",
            "./Extracted_data/20210630/NVzhTN4CXebH2lQVFkBTyl6ue5h2/cough-heavy.wav\n",
            "./Extracted_data/20210630/tTiUDsa4jOZtI0YC3hTl0NZlVGB2/cough-heavy.wav\n",
            "./Extracted_data/20210630/lpohIzcDNEg3DR38ku43WHiCkC42/cough-heavy.wav\n",
            "./Extracted_data/20210630/BT453L7uDzL5IH0BOlDRJhWZWEL2/cough-heavy.wav\n",
            "./Extracted_data/20200413/vK2bLRNzllXNeyOMudnNSL5cfpG2/cough-heavy.wav\n",
            "./Extracted_data/20200413/bjA2KpSxneNskrLBeqi4bqoTDQl2/cough-heavy.wav\n",
            "./Extracted_data/20200413/FSzobvJqOXf0rI6X05cHqOiU9Mu2/cough-heavy.wav\n",
            "./Extracted_data/20200413/EqDWckxbsETyHUeBLQ8jLtxlhir2/cough-heavy.wav\n",
            "./Extracted_data/20200413/FGRDO4IBbAejR0WHD5YbkXTCasg2/cough-heavy.wav\n",
            "./Extracted_data/20200413/htQzROl26OWQpIYFDzv11F79PLR2/cough-heavy.wav\n",
            "./Extracted_data/20200413/pW9mCAeWYiMoM7wW7riLvNRbYDO2/cough-heavy.wav\n",
            "./Extracted_data/20200413/Eu11s84cuBTiPXTAtVf9mj3GkqA2/cough-heavy.wav\n",
            "./Extracted_data/20200413/eP8gEM0KcBU6S5JpMdycX74KP3p2/cough-heavy.wav\n",
            "./Extracted_data/20200413/UiUUhL0PMjWVA6W2dKte1DCE6wG2/cough-heavy.wav\n",
            "./Extracted_data/20200413/2TkAK2YVkYS7Ux3hAPBUgYgg9DI3/cough-heavy.wav\n",
            "./Extracted_data/20200413/QQbzKidDxHQ0eZFEL4uG68s1lc02/cough-heavy.wav\n",
            "./Extracted_data/20200413/9ypQNsTsSQYlx72wxTLrHzzNoAJ2/cough-heavy.wav\n",
            "./Extracted_data/20200413/cfZUmZvsecYVKw5eSi4qIhfJVpI3/cough-heavy.wav\n",
            "./Extracted_data/20200413/tiKv850hJFTmpCAvfJOmOOqkeUs1/cough-heavy.wav\n",
            "./Extracted_data/20200413/LqGeCxef4fN4IPanKEbWkO1fAwJ3/cough-heavy.wav\n",
            "./Extracted_data/20200413/XUsJp0qysAPtu3vBI0UCiHRJhZ22/cough-heavy.wav\n",
            "./Extracted_data/20200413/TRK6gUseEUS7dbF0soG80W1uLm53/cough-heavy.wav\n",
            "./Extracted_data/20200413/iq8oYXczSjPuJoVS7DBpkGNMC2p1/cough-heavy.wav\n",
            "./Extracted_data/20200413/O4BFgxvAgwbwRGZMkMBJRFnGBbd2/cough-heavy.wav\n",
            "./Extracted_data/20200413/nMIOAh7qRFf3pqbchclOLKbPDOm1/cough-heavy.wav\n",
            "./Extracted_data/20200413/Pr79fov0a5TW5KPo0XACvIqMtO72/cough-heavy.wav\n",
            "./Extracted_data/20200413/60Ig4PmU9NMqKGDMR8Um0Tc2KXB3/cough-heavy.wav\n",
            "./Extracted_data/20200413/CrlV0ddIqdbtxNnkIhtPS5dvoX42/cough-heavy.wav\n",
            "./Extracted_data/20200413/KL32QXSSnLZlRRT2B6rQQQKgpx12/cough-heavy.wav\n",
            "./Extracted_data/20200413/tOlOwYDEHCRx1QegeMOPaydVcgv1/cough-heavy.wav\n",
            "./Extracted_data/20200413/zvXkuEaPb0OEgG4EHx59NqdmamR2/cough-heavy.wav\n",
            "./Extracted_data/20200413/l3umDXECeOUTZH8pFN19c2WM4m43/cough-heavy.wav\n",
            "./Extracted_data/20200413/XVjp63ocWZRqJRdxCtklUfmdklm2/cough-heavy.wav\n",
            "./Extracted_data/20200413/JmN2KXZoEThB2e8KFMbM7L4fOwy1/cough-heavy.wav\n",
            "./Extracted_data/20200413/SY4Ekt5W4VZdeIm5r3iLmjxz9pA2/cough-heavy.wav\n",
            "./Extracted_data/20200413/1ctsxp37dWNbCbizTioZzpAWqJx2/cough-heavy.wav\n",
            "./Extracted_data/20200413/2XgDqzQkqLX9SbmSHfbqdRxSmRD2/cough-heavy.wav\n",
            "./Extracted_data/20200413/kIHldMnyvmXvpLq0LjWr7ecclSj2/cough-heavy.wav\n",
            "./Extracted_data/20200413/AI4aa1tjlXQw4iOH4RuTvgMtK3G3/cough-heavy.wav\n",
            "./Extracted_data/20200413/U98J2q0NnycYzzUS2BYZpUa55X83/cough-heavy.wav\n",
            "./Extracted_data/20200413/KGWBaTNrJmUgzGZw5Xh2ICSHVu92/cough-heavy.wav\n",
            "./Extracted_data/20200413/9XJ2QSvS9CaIo5hSyRZcdst0K8P2/cough-heavy.wav\n",
            "./Extracted_data/20200413/n7ewrIqB7wUuK1FZGGjef18jtb52/cough-heavy.wav\n",
            "./Extracted_data/20200413/5le68NJRZWV6TrMTYn3j7gSlqTi2/cough-heavy.wav\n",
            "./Extracted_data/20200413/qHN6U03r3TRKVZ83fmWDDQvtDuz1/cough-heavy.wav\n",
            "./Extracted_data/20200413/1AuoEhB8vAfCtxTFFV0W916yBqA3/cough-heavy.wav\n",
            "./Extracted_data/20200413/w1TDsR75t5PsGyAksqF3kMQ6DXT2/cough-heavy.wav\n",
            "./Extracted_data/20200413/VcmjCfW6ddgE9lFhDXTO6hDlb452/cough-heavy.wav\n",
            "./Extracted_data/20200413/maTMkkXbqOhLPOYLpGyMPPigDFt1/cough-heavy.wav\n",
            "./Extracted_data/20200413/UV965HIG9saPO9HjKNFSm2aFeBt2/cough-heavy.wav\n",
            "./Extracted_data/20200413/LwfZvk9xa6bAJbz4wQGEcyoDOmL2/cough-heavy.wav\n",
            "./Extracted_data/20200413/V247RjX91RY4fxtgfeWjvBhg89s2/cough-heavy.wav\n",
            "./Extracted_data/20200413/g6L8s5Dtq8eIYUTeRWHq0Q7w5L32/cough-heavy.wav\n",
            "./Extracted_data/20200413/Eoyf44CUffgVCPPjJJkopEyAO7k2/cough-heavy.wav\n",
            "./Extracted_data/20200413/VrBIdIVnQkPbR9D2Gi7WCb17ST62/cough-heavy.wav\n",
            "./Extracted_data/20200413/aGEXEhp3mbUandZBtCuEooDQrK53/cough-heavy.wav\n",
            "./Extracted_data/20200413/tFFUbYL9nSNEyaBK3w9UAtATcgO2/cough-heavy.wav\n",
            "./Extracted_data/20200413/hRB1GYdlKAgCnwg4xFzAUE3SiUG2/cough-heavy.wav\n",
            "./Extracted_data/20200413/6MmSmB1lmmOiyKNNA0p7IuVe3CA3/cough-heavy.wav\n",
            "./Extracted_data/20200413/9D1go0wkvuPkFebFk4uQQpcBuZw1/cough-heavy.wav\n",
            "./Extracted_data/20200413/O2axQgHDogQ1mORlKYAGiPTiHvB3/cough-heavy.wav\n",
            "./Extracted_data/20200413/wawUd75qJgXdQz6qxRATEzuKvMn1/cough-heavy.wav\n",
            "./Extracted_data/20200413/n4t5cgNQKXO3F8KP55vWOgYWcXC3/cough-heavy.wav\n",
            "./Extracted_data/20200413/CAf8ILsDpQMeTPPLwi7nFlgRT2t1/cough-heavy.wav\n",
            "./Extracted_data/20200413/l8qDG3sN6tczDZGHbgPje0suopx1/cough-heavy.wav\n",
            "./Extracted_data/20200413/G3iIP9QRHPTItOsK6lpEMd6IQKw1/cough-heavy.wav\n",
            "./Extracted_data/20200413/jRjAYMmAQee5uVm5fU8yVnpuvs33/cough-heavy.wav\n",
            "./Extracted_data/20200413/0zexHIcM7tQDdnFiEj2Eb0v3g212/cough-heavy.wav\n",
            "./Extracted_data/20200413/3VWhvtBFHKMgEKxlXzMYeg5NeBN2/cough-heavy.wav\n",
            "./Extracted_data/20200413/FLhjsgqrgQMKwNt5iEryxG5sDlW2/cough-heavy.wav\n",
            "./Extracted_data/20200418/chGPz3cGyvRFMdWo36WHlyEBgpx1/cough-heavy.wav\n",
            "./Extracted_data/20200418/uwWEy23DDNYBMukZ3lpzFQOlT7m2/cough-heavy.wav\n",
            "./Extracted_data/20200418/V2l1rcUUl3VsRmbvIWuaazcBMF12/cough-heavy.wav\n",
            "./Extracted_data/20200418/0VpjgRGE5kR8uTEhksBgvFR3xlA2/cough-heavy.wav\n",
            "./Extracted_data/20200418/kOBN8dMQckbYR0PtSZAxOciIcY62/cough-heavy.wav\n",
            "./Extracted_data/20200418/ZFjDpdVMiNgc4ApSUv0yY4b4B193/cough-heavy.wav\n",
            "./Extracted_data/20200418/VQVtmKC3HwVHbY1xMTued5OOP4E2/cough-heavy.wav\n",
            "./Extracted_data/20200418/pGxub66GjDdAaJDd95hGHo3BcnJ3/cough-heavy.wav\n",
            "./Extracted_data/20200418/HHXDoqaHN1QbtSZkgu37f38RGqh1/cough-heavy.wav\n",
            "./Extracted_data/20200418/kiduiciSl7YBDAK9XuvaRizJUnU2/cough-heavy.wav\n",
            "./Extracted_data/20200418/iukMZ50a9COYLA8Rc1l3ejRdhT92/cough-heavy.wav\n",
            "./Extracted_data/20200418/huZjiHT43maN3OQ8DAwgYImatr92/cough-heavy.wav\n",
            "./Extracted_data/20200418/C7Km0KttQRMMM6UoyocajfgZAOB3/cough-heavy.wav\n",
            "./Extracted_data/20200418/6MOH79fX0ReMHLdJCA5W9ZFBYn42/cough-heavy.wav\n",
            "./Extracted_data/20200418/5Lln9rjGG3RqbQ1bo0SzlkB0vxq2/cough-heavy.wav\n",
            "./Extracted_data/20200418/6YaTXgSnexec5CPOQg0EboLqnJJ2/cough-heavy.wav\n",
            "./Extracted_data/20200418/6qGIqJ2gx2h8BJRLD5YJE9zhiRG3/cough-heavy.wav\n",
            "./Extracted_data/20200418/IQ7tfWcSsRXGe0J94ouY9rsTB8V2/cough-heavy.wav\n",
            "./Extracted_data/20200418/19VBCVaFPcWROz6wWui9G9IU9K12/cough-heavy.wav\n",
            "./Extracted_data/20200418/ZcKPQiZXR4Q0SXU9r7ZkWuQGmd52/cough-heavy.wav\n",
            "./Extracted_data/20200418/Dj0W2BYly4ZgQCCyCznEhLH5sYG2/cough-heavy.wav\n",
            "./Extracted_data/20200418/V0Wtp76p8QaDtvEnAsgSimyMspH3/cough-heavy.wav\n",
            "./Extracted_data/20200418/qtAMbhJqxAaVBZCt7rT5IkUtWGi2/cough-heavy.wav\n",
            "./Extracted_data/20200418/TyKZXsSHoMO2h8aqmLNlpaU2FZ72/cough-heavy.wav\n",
            "./Extracted_data/20200418/YdfYHpfmDMOnsxTHmUESvpgqg612/cough-heavy.wav\n",
            "./Extracted_data/20200418/22oBvWaWwBhbdNfWoshbse1qZ4q2/cough-heavy.wav\n",
            "./Extracted_data/20200418/mh19KvxVPfMXJ823tZzidOF1Wwn2/cough-heavy.wav\n",
            "./Extracted_data/20200418/yJRZfiFIsQhFptP6nnlJp825AHF2/cough-heavy.wav\n",
            "./Extracted_data/20200418/KfOIJCkbgjUKy9vbOXdcaGMO46C2/cough-heavy.wav\n",
            "./Extracted_data/20200418/p4caw19QwZOW16e0wVjZD34Nlkv2/cough-heavy.wav\n",
            "./Extracted_data/20200418/hkALlH5TJ9Pj4tbOCoXyVPtOIBf1/cough-heavy.wav\n",
            "./Extracted_data/20200418/YNkZcKCX0mOhKIUO2VRQQd63ydn1/cough-heavy.wav\n",
            "./Extracted_data/20200418/s9pMRe4F46aJf8Jg9SvLfJoxgg93/cough-heavy.wav\n",
            "./Extracted_data/20200418/JIafPire6JYhDR73srLG2xmrdJk1/cough-heavy.wav\n",
            "./Extracted_data/20200418/T02pBwp6UGagCMICnB4oiElAWUP2/cough-heavy.wav\n",
            "./Extracted_data/20200418/X2oCYyUk9HQsz8UHY03sxnrCXGF3/cough-heavy.wav\n",
            "./Extracted_data/20200418/uZjB5Oxr9zS4xZn8rq5ubyAp17A2/cough-heavy.wav\n",
            "./Extracted_data/20200418/xFzTujSkizdGzHg8fPWeETDDG5R2/cough-heavy.wav\n",
            "./Extracted_data/20200418/UxRRwXJtdjRZI4pgQcHHURVa33n2/cough-heavy.wav\n",
            "./Extracted_data/20200418/fXT3tXtSwYRqFf2V66ND3RpMash1/cough-heavy.wav\n",
            "./Extracted_data/20200418/LyyyoHyVVygA9sFTiv5SWaaUR2E3/cough-heavy.wav\n",
            "./Extracted_data/20200418/Jz4Ct4GvrVPZUJlPOL7htkozn4v2/cough-heavy.wav\n",
            "./Extracted_data/20200418/shKIgOZPRZWiewJ3vr9gCkx9ebw1/cough-heavy.wav\n",
            "./Extracted_data/20200418/jvrGsRzHKEU4izNgLFGitM7AZVK2/cough-heavy.wav\n",
            "./Extracted_data/20210523/OXtf0PsobreM3phUk9HmzPGaGZA3/cough-heavy.wav\n",
            "./Extracted_data/20210523/wDqOiRYshQTO37726tjnEy1lUQ33/cough-heavy.wav\n",
            "./Extracted_data/20210523/PkfBnCa4dFYuRjEZpsvTAerF2fS2/cough-heavy.wav\n",
            "./Extracted_data/20210523/jAP3y51Zjcd3gkB80PuRAfSXTGa2/cough-heavy.wav\n",
            "./Extracted_data/20210830/zbIXdZwHjgb2uDtKqIgcSnr7pyD2/cough-heavy.wav\n",
            "./Extracted_data/20210830/OC99RqHzOjNvaA0rJhPUgP4PM2o1/cough-heavy.wav\n",
            "./Extracted_data/20200911/0RHdUsu2qFMmG4dhpJd1NqM5ZTC2/cough-heavy.wav\n",
            "./Extracted_data/20200911/CdU4pgCdFcZxtDHTpLUn1mO9J3o2/cough-heavy.wav\n",
            "./Extracted_data/20200911/RY495l51qRPkLQxPMtN65Fkzcbw1/cough-heavy.wav\n",
            "./Extracted_data/20200919/DCTTU4q664ROLrpqFatjOKllp9i1/cough-heavy.wav\n",
            "./Extracted_data/20200919/bjLKJTRQudYoV82mLEiCmc2lyXz1/cough-heavy.wav\n",
            "./Extracted_data/20200919/W673kSjviTeaeIVpuLAtv9up4s72/cough-heavy.wav\n",
            "./Extracted_data/20200919/CkDhDGNX3iWEqDFJZXn9FrxPxYF3/cough-heavy.wav\n",
            "./Extracted_data/20200919/b7mMUQm5bObj1jwGFaNyaR07pt83/cough-heavy.wav\n",
            "./Extracted_data/20200919/vqIREUmn5CMqyrMHxlLVmcuN5qW2/cough-heavy.wav\n",
            "./Extracted_data/20200919/ffyNrzu5ZGXrZ0I7MbxBwqbtIln1/cough-heavy.wav\n",
            "./Extracted_data/20200919/pVh5tOiOZHgxAWt7lBUe6pAtfEg2/cough-heavy.wav\n",
            "./Extracted_data/20200919/Q82KnSDEDTc0w7CDj1fSBntRTyg1/cough-heavy.wav\n",
            "./Extracted_data/20200919/KFQ0ksPwkDcLUUjbVBYWGWr9ei62/cough-heavy.wav\n",
            "./Extracted_data/20210206/CU6Sqlt8NfMboou9neSzsyNLyKD2/cough-heavy.wav\n",
            "./Extracted_data/20210206/eiJE5pZGVMOmSsG6dLBLxAuXNzf2/cough-heavy.wav\n",
            "./Extracted_data/20200416/ByvAxiKJC5QyNZi2YJu6GyZYgPs1/cough-heavy.wav\n",
            "./Extracted_data/20200416/S0VydT0PnkaGbSLPpfoz2kr48yz1/cough-heavy.wav\n",
            "./Extracted_data/20200416/mR2kMg6kMuatgjlTHPPDNmY4YFC3/cough-heavy.wav\n",
            "./Extracted_data/20200416/VtwjlKASmmZBtDjNuo4ryqCBfr33/cough-heavy.wav\n",
            "./Extracted_data/20200416/b3xN4I45RJb7nxHBRUd6Q6yx3z33/cough-heavy.wav\n",
            "./Extracted_data/20200416/sQOS8ZFe4wN6uXSrjtI5ivCt92C3/cough-heavy.wav\n",
            "./Extracted_data/20200416/XanIvOwNxde5zwMzliOagKFFYUt1/cough-heavy.wav\n",
            "./Extracted_data/20200416/88mEmnYlbaPo3iQRZGn8Fbm9mNs1/cough-heavy.wav\n",
            "./Extracted_data/20200416/zyX6JZlkhxayEeUP5SL4L6WA1h13/cough-heavy.wav\n",
            "./Extracted_data/20200416/Z0JZ3bVzYZcEx2GkbTKAyWbyC2J3/cough-heavy.wav\n",
            "./Extracted_data/20200416/Gkp0AAA7iJakBNaPSDfnA5eEUoN2/cough-heavy.wav\n",
            "./Extracted_data/20200416/welbkeuEJpggaMpfcDyPgP8im703/cough-heavy.wav\n",
            "./Extracted_data/20200416/VZjOs3lF37fWrg6PsWpmwjCP5UK2/cough-heavy.wav\n",
            "./Extracted_data/20200416/EXFN8iHqxjXW7ApntIPI2qxQiMz2/cough-heavy.wav\n",
            "./Extracted_data/20200416/g6wE0LPtHWdH7XAWDCGHB5Kj1So1/cough-heavy.wav\n",
            "./Extracted_data/20200416/1HW5boss6UZ2uPXxGDCcwiKR8gh2/cough-heavy.wav\n",
            "./Extracted_data/20200416/pT9egK3TaHP0NBelDs9O5mhOPLo2/cough-heavy.wav\n",
            "./Extracted_data/20200416/JqVURYFKRWXXcxYNrqGTVte8IIJ3/cough-heavy.wav\n",
            "./Extracted_data/20200416/O7eAgc4vq5fZQmGh60gDaMxOjgz2/cough-heavy.wav\n",
            "./Extracted_data/20200416/gM6ePm1Ew2d0nCVAHMf2ANaKI8D2/cough-heavy.wav\n",
            "./Extracted_data/20200416/AaTqzQjwIYaQW0MHufWVP5GWQ4I3/cough-heavy.wav\n",
            "./Extracted_data/20200416/v0Cj73yuwacWiGqDlaVsMa1GHqd2/cough-heavy.wav\n",
            "./Extracted_data/20200416/isi9jPjYQIRlc93sv5mb9dQseEA2/cough-heavy.wav\n",
            "./Extracted_data/20200416/6FftFl1jWlQHb0N37KW4ajs9dqH3/cough-heavy.wav\n",
            "./Extracted_data/20200416/65ePxgK5pQY9m95iEk0gTXX38vK2/cough-heavy.wav\n",
            "./Extracted_data/20200416/lpnAzDCKhnNhryfkxvnedo1xnan1/cough-heavy.wav\n",
            "./Extracted_data/20200416/g31DKGN9FreFz5HQtF6z732O0LO2/cough-heavy.wav\n",
            "./Extracted_data/20200416/lyvfINttmWUoQsNNYdkTv8CzBa43/cough-heavy.wav\n",
            "./Extracted_data/20200416/VFG4CURiubQsHbGiux3co3TyL043/cough-heavy.wav\n",
            "./Extracted_data/20200416/cPuXXUduYDh1lEnHlSkDeHnbTvq2/cough-heavy.wav\n",
            "./Extracted_data/20200416/jaaBKWGuppchj0ahnBiFzFeuBB23/cough-heavy.wav\n",
            "./Extracted_data/20200416/jVdlO7RPQmaumDLciCDspJInwMx2/cough-heavy.wav\n",
            "./Extracted_data/20200416/0ujmfEsuhJRsGfbW3ttpSMjwJi73/cough-heavy.wav\n",
            "./Extracted_data/20200416/DES9AsgsFdVdBotRJ6R46C4tc9c2/cough-heavy.wav\n",
            "./Extracted_data/20200416/hqzMroQpC0QHDRI78EvbdmhgksU2/cough-heavy.wav\n",
            "./Extracted_data/20200416/xB1PJ5sqyuQDj48VQ3E47ap9dPn1/cough-heavy.wav\n",
            "./Extracted_data/20200416/ItB1KcAWo8Y8Cy59mt262mXYxXU2/cough-heavy.wav\n",
            "./Extracted_data/20200416/n53G4OdIz7a5kkUyObojHfGBvki2/cough-heavy.wav\n",
            "./Extracted_data/20200416/Cxk4DW9S6fQhB2mafs7RBT6HCLt1/cough-heavy.wav\n",
            "./Extracted_data/20200416/2BdU00Hv7XWhJQOz0TiyeLtvbAG3/cough-heavy.wav\n",
            "./Extracted_data/20200416/OatFCKWJSXcyyGHHGozArF6mCVU2/cough-heavy.wav\n",
            "./Extracted_data/20200416/YDqGf8vnHSPjo3q3PjdkQ5Pm7C12/cough-heavy.wav\n",
            "./Extracted_data/20200416/6CcWU1oa6YeaL1hletunsAHLiOx2/cough-heavy.wav\n",
            "./Extracted_data/20200416/XGXvJt5p7wQ7fcvMbdN92bAPzZE2/cough-heavy.wav\n",
            "./Extracted_data/20200416/6foPVVE8lRXyaiy38TRYH55s3zN2/cough-heavy.wav\n",
            "./Extracted_data/20200416/A6cnzNlOAmM8GCpUKtC1ZwTKUiO2/cough-heavy.wav\n",
            "./Extracted_data/20200416/jtTWQOkCx0RG5LBfKnPekeYuhMD2/cough-heavy.wav\n",
            "./Extracted_data/20200416/UOSC4wYpuNVn7If8bs0nrpetNix2/cough-heavy.wav\n",
            "./Extracted_data/20200416/KOKCooQejva2hnY3f1LnxqL4gUR2/cough-heavy.wav\n",
            "./Extracted_data/20200416/hVWqZEL0c6RSrDEjSCyvyFPMEum1/cough-heavy.wav\n",
            "./Extracted_data/20200416/pLk1k0G3cnbfzxENxL8axlc1PTj1/cough-heavy.wav\n",
            "./Extracted_data/20200416/5YSIWpZPYZUqG5rGievs4epu33g2/cough-heavy.wav\n",
            "./Extracted_data/20200416/GGGztp5BbtgwQ7McufNdfMAvSFv1/cough-heavy.wav\n",
            "./Extracted_data/20200416/sbdVe2aEGKeFcPXdhSf5QOuA5qA3/cough-heavy.wav\n",
            "./Extracted_data/20200416/bbemMSSF2DWykY2lW3pFokk39Wr1/cough-heavy.wav\n",
            "./Extracted_data/20200416/jx5lw63NN0SESDVLpYEQTHXuzti2/cough-heavy.wav\n",
            "./Extracted_data/20200416/cFePAw64vTSRzgy3ZXZFGC1E7rS2/cough-heavy.wav\n",
            "./Extracted_data/20200416/7uVROrqAKPMofUKBkPhYGgeU1513/cough-heavy.wav\n",
            "./Extracted_data/20200416/xTrcp3vDL8bkpVEICdd1YsOURKx1/cough-heavy.wav\n",
            "./Extracted_data/20200416/e5xiRpxobLe69psjXzZtitwdxpg1/cough-heavy.wav\n",
            "./Extracted_data/20200416/14bqYTAafsSLdCtHZVw1gavRhpd2/cough-heavy.wav\n",
            "./Extracted_data/20200416/T6yyKorHTOXc7a7Hdw18FnNLN3I2/cough-heavy.wav\n",
            "./Extracted_data/20200416/av4p9I9aBGfNYwrwkh4jEiEk1lE2/cough-heavy.wav\n",
            "./Extracted_data/20200416/YEPHDMGy11bhRKUTSh5vHHfRk4K3/cough-heavy.wav\n",
            "./Extracted_data/20200416/ugXNiwAC4VZuidrzssew4IEViQM2/cough-heavy.wav\n",
            "./Extracted_data/20200416/UKnLR9FqNMSQ4rXR6iclPC4fknp2/cough-heavy.wav\n",
            "./Extracted_data/20200416/BvSvfAT0dRRNGX7n6wmIpOlp7W12/cough-heavy.wav\n",
            "./Extracted_data/20200416/tk32lejaXfVLODylFxYZC199STm2/cough-heavy.wav\n",
            "./Extracted_data/20200416/Zs8oTVcUPTc8pk9UES7sFEhRDxX2/cough-heavy.wav\n",
            "./Extracted_data/20200416/80M2CERHxJcqnfMAjwyheSC67Ec2/cough-heavy.wav\n",
            "./Extracted_data/20200416/dauyEPjsulULmwBQ7REEMrEAxBk2/cough-heavy.wav\n",
            "./Extracted_data/20200416/HTYeSgQx0TcOekPlmxF7AwDgMJq1/cough-heavy.wav\n",
            "./Extracted_data/20200416/6xGgPexIjOVVNpVmRxzIarZHaqo1/cough-heavy.wav\n",
            "./Extracted_data/20200416/1YKLwejE06Poo1Whg1sYL3EC8sz2/cough-heavy.wav\n",
            "./Extracted_data/20200416/oeUYi9pKtHWMWaOPoKCjBjfOSHJ3/cough-heavy.wav\n",
            "./Extracted_data/20200416/uUqS0VsfJrTv9zCPWwLqRmF8Uoq1/cough-heavy.wav\n",
            "./Extracted_data/20200416/9dNkv55RCuQGvkd7ueflfG6VT2W2/cough-heavy.wav\n",
            "./Extracted_data/20200416/pCvmqsHirKcCQyWTKFUJF14jbTH3/cough-heavy.wav\n",
            "./Extracted_data/20200416/9hftEYixyhP1Neeq3fB7ZwITQC53/cough-heavy.wav\n",
            "./Extracted_data/20200416/cbmcTV6z0NVgO0i6yeYyAO7AoI72/cough-heavy.wav\n",
            "./Extracted_data/20200416/cfkQZPXKiwUdOgACOzPoZ7alrOh1/cough-heavy.wav\n",
            "./Extracted_data/20200416/lJlHlD5QIlOavw5qLRHbyR18T0H2/cough-heavy.wav\n",
            "./Extracted_data/20200416/tKPYt15PqwZH8RcZnoRnkk4Q8UZ2/cough-heavy.wav\n",
            "./Extracted_data/20200416/lMsEJjeKrHaNhvVOMzsUoCcTguY2/cough-heavy.wav\n",
            "./Extracted_data/20200416/KzArWjCjApUOIz69TPVaZxSKQ6W2/cough-heavy.wav\n",
            "./Extracted_data/20200416/697xpWya0DbSEN4Y6tsEH3BchHw1/cough-heavy.wav\n",
            "./Extracted_data/20200416/0eQAE4NgLUWYqAaMuWoO4XgIgvF2/cough-heavy.wav\n",
            "./Extracted_data/20200416/4pSWWWdAaUd7s2dh6eXaaXeSLIO2/cough-heavy.wav\n",
            "./Extracted_data/20200416/eqI4Ht18bCU6HbJVycb8GgXRmbU2/cough-heavy.wav\n",
            "./Extracted_data/20200416/j0KRTzpx8hepjyKHU3GuZ4JgmBW2/cough-heavy.wav\n",
            "./Extracted_data/20200416/okpi2sQ8U8Vmf21zXNO6kCgks5y2/cough-heavy.wav\n",
            "./Extracted_data/20200416/nHni2h50bzR6jh4FDPgY2NtVs7I2/cough-heavy.wav\n",
            "./Extracted_data/20200416/3oM1GutSzARkQnaiMdIUMOSczz42/cough-heavy.wav\n",
            "./Extracted_data/20200416/oTCyHYFIjtezHe2Tr9yZg8Lj5sv2/cough-heavy.wav\n",
            "./Extracted_data/20200416/38CylWLQxybGkrRABrmg63KnAJd2/cough-heavy.wav\n",
            "./Extracted_data/20200416/cAdvtOxMKHg9hO3IbimCRK9Vooi1/cough-heavy.wav\n",
            "./Extracted_data/20200416/Eik9USYv51RYy1mxzPOGxPLhn4o1/cough-heavy.wav\n",
            "./Extracted_data/20200416/OmMVi6kdnHbu8sKZsh6HsGHm4Cs1/cough-heavy.wav\n",
            "./Extracted_data/20200416/MCyZwW6oHlddq3Cy7QRwPHw5gof1/cough-heavy.wav\n",
            "./Extracted_data/20200416/f1tDfcVYVlOPYBAWP1ZDMdGER4m2/cough-heavy.wav\n",
            "./Extracted_data/20200416/j6TNknVPY1Y5LO4PYT6RoykWbha2/cough-heavy.wav\n",
            "./Extracted_data/20200416/3W9lHLbMzRVftjy3sxNnXwOTy6q1/cough-heavy.wav\n",
            "./Extracted_data/20200416/TLfuOcZh0HfnVRRdez4CxLFiPki2/cough-heavy.wav\n",
            "./Extracted_data/20200416/IS3AoZuo0cXtuYb2aDWkrIWTciP2/cough-heavy.wav\n",
            "./Extracted_data/20200416/9g7Qa5FMZgUoDcKvLIPLo7m6mOD3/cough-heavy.wav\n",
            "./Extracted_data/20200416/nyOEOseZX2cXF7ItBTJP316eTrx2/cough-heavy.wav\n",
            "./Extracted_data/20200416/wGREdkmvqncUfRgcia9679biMIC3/cough-heavy.wav\n",
            "./Extracted_data/20200416/11GcRROEvCReCSBzteGoFLw1GyS2/cough-heavy.wav\n",
            "./Extracted_data/20200416/rAPBfRm8PdZvmMY0SVTQCbN6hhE2/cough-heavy.wav\n",
            "./Extracted_data/20200416/REFqANOm1nYxqZQ8t5EftdmwYeh1/cough-heavy.wav\n",
            "./Extracted_data/20200416/KoVhPh3wszMRh4pyxUzNhhSwxyX2/cough-heavy.wav\n",
            "./Extracted_data/20200416/tpnRTSUMvkT4tJZpIQi0OghPefz1/cough-heavy.wav\n",
            "./Extracted_data/20200416/1yXs34J4y9VaRQSdwgm4NVWs6Y12/cough-heavy.wav\n",
            "./Extracted_data/20200416/eX9y5J7LtpfNf6c2cl8yDBRhmXV2/cough-heavy.wav\n",
            "./Extracted_data/20200416/4atnIFwUK3ZZTiWezgLwrvHHOzT2/cough-heavy.wav\n",
            "./Extracted_data/20200416/CwGGsPFeFQPwRy8ba33e8SXGS132/cough-heavy.wav\n",
            "./Extracted_data/20200416/DVdBgadmkvN8uJy0Q1kPTOBdUhu2/cough-heavy.wav\n",
            "./Extracted_data/20200416/2ACkagjqT6NFG3zysVS1cfoL4Ad2/cough-heavy.wav\n",
            "./Extracted_data/20200416/1BFTsgEVsJdltjiXvECDOi35nT53/cough-heavy.wav\n",
            "./Extracted_data/20200416/7CiFcbXjGcMnMjOfs4Y4ejS9LaC2/cough-heavy.wav\n",
            "./Extracted_data/20200416/wM9q9kHdbbUV3RfjYj7wJeXdmFd2/cough-heavy.wav\n",
            "./Extracted_data/20200416/vMGhws3ezYdCMfegQ6GXlLxmdGJ3/cough-heavy.wav\n",
            "./Extracted_data/20200416/9Rhe6RDHuMNXaGiqKVaspw71Exo1/cough-heavy.wav\n",
            "./Extracted_data/20200416/z3HiQpxpksYG6UTo9umAL7qWB532/cough-heavy.wav\n",
            "./Extracted_data/20200416/Hl3DXvP5aMhh2JhHFE0K2ofITyl2/cough-heavy.wav\n",
            "./Extracted_data/20200416/SI6TF4Wk7XdAyxpOK4rW3usdrAm1/cough-heavy.wav\n",
            "./Extracted_data/20200416/hTXACBsoo2XasDWx8U9y7kzs8rc2/cough-heavy.wav\n",
            "./Extracted_data/20200416/N926xnCk8rTlXrPA1dleXFO4XMJ3/cough-heavy.wav\n",
            "./Extracted_data/20200416/weDSWB2g4cRfj2Xi6DfJ1DCouZr2/cough-heavy.wav\n",
            "./Extracted_data/20200416/zxRJaPEBRGX8uH4egnctWAuIuy32/cough-heavy.wav\n",
            "./Extracted_data/20200416/MXVuW7mecgTkOLUIH7zETZopKkw1/cough-heavy.wav\n",
            "./Extracted_data/20200416/ysvx8FCvKbPi3Z6Jkhcd6sNsnwn1/cough-heavy.wav\n",
            "./Extracted_data/20200416/1gimjLEgqBdoHReixdq8HlEBfEr2/cough-heavy.wav\n",
            "./Extracted_data/20200416/TCLyqYcr88coeJe3jnikuqyjBvs1/cough-heavy.wav\n",
            "./Extracted_data/20200416/9KCtOKDALHXZZpzXizYJxBQ2Ulz1/cough-heavy.wav\n",
            "./Extracted_data/20200416/jP5F3ypFwtN53rC9dVSUG8sMqHr2/cough-heavy.wav\n",
            "./Extracted_data/20200416/6sZ85LTF8WdTDcMX028uCjK4UH32/cough-heavy.wav\n",
            "./Extracted_data/20200416/ok6CEL3947hifXVHHmCDt35a7D32/cough-heavy.wav\n",
            "./Extracted_data/20200416/5FcCm1G9aPbjeCwnAgd7UUQFK062/cough-heavy.wav\n",
            "./Extracted_data/20200416/MnRYYa6FN4VLwxLmTCQ05UPqmsW2/cough-heavy.wav\n",
            "./Extracted_data/20200416/iIAyplBPqGgFXKzvpIxFlcTgb4r2/cough-heavy.wav\n",
            "./Extracted_data/20200416/7sW9NvDUCfWdCR5bPANiS05bqRc2/cough-heavy.wav\n",
            "./Extracted_data/20200416/vus9YM3VqCXq3QckSGoeHJs6pBN2/cough-heavy.wav\n",
            "./Extracted_data/20200416/7dibZ9sOTyYwP45P75NlmZQksjt2/cough-heavy.wav\n",
            "./Extracted_data/20200416/UDEHS36gwSOkEmBhQZSlwGnijax2/cough-heavy.wav\n",
            "./Extracted_data/20200416/e5zod8UiU5SDAOqqwi4utU24KMo2/cough-heavy.wav\n",
            "./Extracted_data/20200416/QPUF1XfHBbZCGh4QhsgDhGLnjTi2/cough-heavy.wav\n",
            "./Extracted_data/20200416/WTy9ym2R87WxEwQufFkYxRZDY0C3/cough-heavy.wav\n",
            "./Extracted_data/20200416/kgO3qInKxTZQeaLHAceD3knSCZf2/cough-heavy.wav\n",
            "./Extracted_data/20200416/LCa0jYXkxJZ7JUJC262jrqy0Zao2/cough-heavy.wav\n",
            "./Extracted_data/20200416/Ouvxbo8RR6Rs4u9EMksEqxP84DW2/cough-heavy.wav\n",
            "./Extracted_data/20200416/SI80JBOb0XcjW0Ez4Dn4Y0Ev5mw2/cough-heavy.wav\n",
            "./Extracted_data/20200416/aImqoeTbibTbtdXNmH4F1qc3Jr43/cough-heavy.wav\n",
            "./Extracted_data/20200416/CjVKAdiAXkdaeNfQ7O9VWBrSpLl2/cough-heavy.wav\n",
            "./Extracted_data/20200416/vd5cQ5ZzjDXepHCAivkUaRFATk32/cough-heavy.wav\n",
            "./Extracted_data/20200416/wByjVbPfagQsv9nerwycE1QDQ5B3/cough-heavy.wav\n",
            "./Extracted_data/20200416/3bcZt9qehyWmDKvJeohIgrEwUsL2/cough-heavy.wav\n",
            "./Extracted_data/20200416/SG95RAgm0wY3bzyIZPPSpHwyYuD3/cough-heavy.wav\n",
            "./Extracted_data/20200416/yWcihv2x97Rzj5Z4i72YVe1FZMG2/cough-heavy.wav\n",
            "./Extracted_data/20200416/nyQzKuJfGpRc1KD8cXFY9l6qdcv2/cough-heavy.wav\n",
            "./Extracted_data/20200416/90jN60jxwIMkR1qknR8Ziahvbe53/cough-heavy.wav\n",
            "./Extracted_data/20200416/cmb5xzMisFOW3SKYjF7C8mgLfD83/cough-heavy.wav\n",
            "./Extracted_data/20200416/ROuIITY6ZYQRx0FR202YGkTsmSD2/cough-heavy.wav\n",
            "./Extracted_data/20200416/xheyhxTtPHMng1BLZoH0b9jgDZ52/cough-heavy.wav\n",
            "./Extracted_data/20200416/3fKAFFPrGTZTay5GlkoipIjRUPL2/cough-heavy.wav\n",
            "./Extracted_data/20200416/CFkIEzwZ5PcogCElOD2K3RJQzmh1/cough-heavy.wav\n",
            "./Extracted_data/20200416/8ZV97Hmq6VSrBRqWaiOLx44cHY33/cough-heavy.wav\n",
            "./Extracted_data/20200416/Vq1h51z5x3Wp4wS2pCm6yEAZvu82/cough-heavy.wav\n",
            "./Extracted_data/20200416/OuoIQIvPBETkv1JvPOpHjGAK9UJ3/cough-heavy.wav\n",
            "./Extracted_data/20200416/6wvKyVH5jNcuBCjwHE7WvgbtaqI3/cough-heavy.wav\n",
            "./Extracted_data/20200416/xb5Zffvkf5MqrUPju4A98njfRMy1/cough-heavy.wav\n",
            "./Extracted_data/20200416/I9Nm8cGaL5OB4fnmDPM8HrnULVj1/cough-heavy.wav\n",
            "./Extracted_data/20200416/JiWX55SWdOeOspm0SChcEMFURkJ2/cough-heavy.wav\n",
            "./Extracted_data/20200416/ipBVOuYKjmSBDq7O2y5NOwH1R2I2/cough-heavy.wav\n",
            "./Extracted_data/20200416/hrxbMWssnVa3JHnqQ3CN8CE6QRE3/cough-heavy.wav\n",
            "./Extracted_data/20200416/zpjoDhhHvJcfhSHTK9i895kmr2f1/cough-heavy.wav\n",
            "./Extracted_data/20200416/HdJdEWQecehLzEQcyDV7vjr85C82/cough-heavy.wav\n",
            "./Extracted_data/20200416/VRTMrYKsWURrc4AH2nNRiElqTxB3/cough-heavy.wav\n",
            "./Extracted_data/20200416/AWZWqZAsydRwCkb1CSCZTjiG1YD2/cough-heavy.wav\n",
            "./Extracted_data/20200416/3JXWfUZsCThwlwp2VuuS0LsfrXD2/cough-heavy.wav\n",
            "./Extracted_data/20200416/Mx0Ij186LMVXmLB3xX54QCAbyhu1/cough-heavy.wav\n",
            "./Extracted_data/20200901/8J17ZUDTdXfN5NYwjjp1ANcRqbJ2/cough-heavy.wav\n",
            "./Extracted_data/20200901/9TA7dm7qVygA0rTNGmNJOlofvtP2/cough-heavy.wav\n",
            "./Extracted_data/20200901/t6twqoKKSMOJdmehEj2gbVo6Lao2/cough-heavy.wav\n",
            "./Extracted_data/20200901/lVHnQ9UNkAYmjNm7wL885LzpsOk2/cough-heavy.wav\n",
            "./Extracted_data/20200901/k9c8ik6XlhbYFnHoXHqyDIQ5axe2/cough-heavy.wav\n",
            "./Extracted_data/20200901/6mCAHbyEebbEDkxHxOqihoJRkX83/cough-heavy.wav\n",
            "./Extracted_data/20200901/IQSMEGOrc3XegUpIARWm07D2K2a2/cough-heavy.wav\n",
            "./Extracted_data/20200901/oNVwfrIb63g5zB4jsaduCjuufPo1/cough-heavy.wav\n",
            "./Extracted_data/20200901/CGGk5Y7thvXSCYhDX0e4yPN7g5R2/cough-heavy.wav\n",
            "./Extracted_data/20210914/v8cNN5eg09b4auxFmOqPrNiTZBu1/cough-heavy.wav\n",
            "./Extracted_data/20210914/aTSU2ShIvnMzIsWQo2OoiyLxIZl1/cough-heavy.wav\n",
            "./Extracted_data/20210914/FtDju4lrx4PqJCMCo9zctj7IFnV2/cough-heavy.wav\n",
            "./Extracted_data/20210914/gRD62e1wMoOWkrXS4zbWu95DXj93/cough-heavy.wav\n",
            "./Extracted_data/20210914/y9eSqZBOJbUkIbg9oM0XSACsIg33/cough-heavy.wav\n",
            "./Extracted_data/20210914/M7fB5i9Pj0Xh2wrlgUYZw47wojo1/cough-heavy.wav\n",
            "./Extracted_data/20200720/0zAgZhOXaGhmL1SnhkzJOIoowKg2/cough-heavy.wav\n",
            "./Extracted_data/20200720/2Kc88N5ZQKXucjghAP4Jzq0Dnej2/cough-heavy.wav\n",
            "./Extracted_data/20200720/6pXKrZlDycStXTNMBjGXtxxYfvc2/cough-heavy.wav\n",
            "./Extracted_data/20200720/Id2BHKfccpS2K8eOtrXRKjBAsds1/cough-heavy.wav\n",
            "./Extracted_data/20200720/XwiK6FSjg5b5RuQQFYmz67zSpYC3/cough-heavy.wav\n",
            "./Extracted_data/20200720/BHFxu6LIoWfHOaN9fXmkO5xBXyz2/cough-heavy.wav\n",
            "./Extracted_data/20200720/OnYf35hpRnNpCxV6vTU9n2ETMiD2/cough-heavy.wav\n",
            "./Extracted_data/20200720/3Vqysidm4ihlWFBQPErMAClnMbu2/cough-heavy.wav\n",
            "./Extracted_data/20200720/Afi7SdxjNOetySybYTZ7RPxwFiW2/cough-heavy.wav\n",
            "./Extracted_data/20200720/bTiu7RJ0JkPVSja5Sr5YSHBulQ43/cough-heavy.wav\n",
            "./Extracted_data/20200720/rlklHwPKGycGalH7q9XMRnUqXxd2/cough-heavy.wav\n",
            "./Extracted_data/20200720/5w8ZIMTjkXOMI78Q3sccWcvMKiI2/cough-heavy.wav\n",
            "./Extracted_data/20200720/LW6U5C8CENR1PsmldatYGdCBcYg1/cough-heavy.wav\n",
            "./Extracted_data/20200720/RV4V6j3c5cbSb2B4pY9vlF6kbeE2/cough-heavy.wav\n",
            "./Extracted_data/20200720/Sy1VK1UgX0ZMcMJitgPal1sp8jj2/cough-heavy.wav\n",
            "./Extracted_data/20200720/4drDZUlQcteX5StlFT2CXEL0N0L2/cough-heavy.wav\n",
            "./Extracted_data/20200720/qSDQMZj4iqhaRUz1SvwiUqyUzKH3/cough-heavy.wav\n",
            "./Extracted_data/20200720/vX3NZt9tyQUhXgS4dlz55VGEMdU2/cough-heavy.wav\n",
            "./Extracted_data/20200720/JQyIFoDDO1fwOuEH0GaOFskQ90q1/cough-heavy.wav\n",
            "./Extracted_data/20210406/r0PkYZFUK1M0lhIUFHziLkwjsL53/cough-heavy.wav\n",
            "./Extracted_data/20210406/pWFMPFBys1bBerYz5Si4Gb8brGn1/cough-heavy.wav\n",
            "./Extracted_data/20210406/0Nuh8uDalHe47HGM31i2Ew6BPcl1/cough-heavy.wav\n",
            "./Extracted_data/20210406/yiVfb7qpTOXWhTQITq6P4zqGtXt2/cough-heavy.wav\n",
            "./Extracted_data/20210406/v9zvxaIjcfds4XGZvqBK0moPX8a2/cough-heavy.wav\n",
            "./Extracted_data/20210406/EXTWYCHCzyc8k6PE2L7fAqqAudA2/cough-heavy.wav\n",
            "./Extracted_data/20210406/NxqOq1i4PtUiqBxV1wFUII9SQj43/cough-heavy.wav\n",
            "./Extracted_data/20210406/fLbjQYqFGzeKly7IY7b3JqKvae02/cough-heavy.wav\n",
            "./Extracted_data/20210406/YrJHnx1PgzPLiCgkSLaQqMhyBeA2/cough-heavy.wav\n",
            "./Extracted_data/20210406/yOgmlp4SsRfgN3OIWhxsQC4QdaC3/cough-heavy.wav\n",
            "./Extracted_data/20210406/0mkAUAbpROMIFjKpdFxlUnYTV262/cough-heavy.wav\n",
            "./Extracted_data/20210406/PXFeh2WexbZ9HXhXg6tToFfY3PM2/cough-heavy.wav\n",
            "./Extracted_data/20210406/W42AKc6SZlNz1NOBAJrCpa3Io0E2/cough-heavy.wav\n",
            "./Extracted_data/20210406/hLXcyDliDYXrcKna9jaDwtryhK93/cough-heavy.wav\n",
            "./Extracted_data/20210406/Zj552DZntDTpdVbrQhp7KNVL9sC3/cough-heavy.wav\n",
            "./Extracted_data/20210406/f78ZFmqneaOWttg3xhtcmO4XZOu2/cough-heavy.wav\n",
            "./Extracted_data/20210406/kAnUnZf9b6d4bkjJCawv0nCGJUI2/cough-heavy.wav\n",
            "./Extracted_data/20210406/NcPBzMBBxNbjK84kdCv2z4IJzLC3/cough-heavy.wav\n",
            "./Extracted_data/20210618/3qA9Ym3caTbMsegKE0yUvLdapHi1/cough-heavy.wav\n",
            "./Extracted_data/20210618/yT2MdQkNRvMvI418P1AQ2SystgE3/cough-heavy.wav\n",
            "./Extracted_data/20210618/IHOunHyVaoO7AR6Z0QJgIa31BvS2/cough-heavy.wav\n",
            "./Extracted_data/20210618/cGsyomvRhzLiAzPk98QyHu8988q2/cough-heavy.wav\n",
            "./Extracted_data/20210618/4w3GC0eRNVXJ4q4vRLphW9RIiQY2/cough-heavy.wav\n",
            "./Extracted_data/20210618/0pqMnxeSybfQnGV9nHW3P69FSzE3/cough-heavy.wav\n",
            "./Extracted_data/20210618/bx564wHvi9d0HyJTtdi0haZuU493/cough-heavy.wav\n",
            "./Extracted_data/20210618/hCGWjxLPdKhkAOQkOWtF9fJzQWA2/cough-heavy.wav\n",
            "./Extracted_data/20210618/6Tn00kNMgrhXRNTtafxIoOoodgm2/cough-heavy.wav\n",
            "./Extracted_data/20210618/kITWulcVb7cnGpGxSo0bKUE7MAs2/cough-heavy.wav\n",
            "./Extracted_data/20200814/esVDCnpv7ChUwuJMmzxAItbB3km1/cough-heavy.wav\n",
            "./Extracted_data/20200814/Zb2Inq1UVhcMnWA41GpKyRdF4z62/cough-heavy.wav\n",
            "./Extracted_data/20200814/BNbiq1U3xWVT44hg7Bl0f8SWjbt2/cough-heavy.wav\n",
            "./Extracted_data/20200814/cenBFTi9bYhzTeEIyN8YuQzFb3R2/cough-heavy.wav\n",
            "./Extracted_data/20200814/EucWZQ2KbbQ74NhWqnrUEuS7pU53/cough-heavy.wav\n",
            "./Extracted_data/20200814/cUmQfhZCLYML6b9ETc7qJAKXv1G3/cough-heavy.wav\n",
            "./Extracted_data/20200814/5AL2X1GP3aVAAMeMPnvxOCNAQlA2/cough-heavy.wav\n",
            "./Extracted_data/20200814/zDGjm6ARbgVsIDCGpaHyHrArImr2/cough-heavy.wav\n",
            "./Extracted_data/20200814/QLfHliTV2YMbuC5y06vcclyWdEF2/cough-heavy.wav\n",
            "./Extracted_data/20200814/PNSX8UstjlY1mxA69mrklK5N2i32/cough-heavy.wav\n",
            "./Extracted_data/20200814/ecy0t93dh8TS3yPI4YJZDSuDFAi2/cough-heavy.wav\n",
            "./Extracted_data/20200814/Z6qimRi4c2NDdPHsocMRk9IlgdH2/cough-heavy.wav\n",
            "./Extracted_data/20200814/P1FePApIBQedglthtDiBvs3G84M2/cough-heavy.wav\n",
            "./Extracted_data/20200814/ResMUOUcy2MrsL3bksITWifqla52/cough-heavy.wav\n",
            "./Extracted_data/20200814/VtRlegQfrDTPW4WxmoW3iJPzedQ2/cough-heavy.wav\n",
            "./Extracted_data/20200814/YvhPqG9MqhbjHErOmOctaNdVdJZ2/cough-heavy.wav\n",
            "./Extracted_data/20200814/9qFHoE68V7RDn79M2QtChoCpiGo2/cough-heavy.wav\n",
            "./Extracted_data/20200814/38kz9bimrcUUgifY8S27MVR89eN2/cough-heavy.wav\n",
            "./Extracted_data/20200814/1xhe0J87pIMJlB7TdQDwUTpHMKr1/cough-heavy.wav\n",
            "./Extracted_data/20200814/AaGldp1blyVKOPpV1KVhsPhrmAg1/cough-heavy.wav\n",
            "./Extracted_data/20200814/IwdtdPMreWTA8nzpEkgfkGWZTTm1/cough-heavy.wav\n",
            "./Extracted_data/20200814/byVsWVHvkgc9Pkf4lUPOGSdZ0Vl2/cough-heavy.wav\n",
            "./Extracted_data/20200814/0kQAWAGJHffg9kZhji65QkUaEvx1/cough-heavy.wav\n",
            "./Extracted_data/20200814/yTBcpP8fONc1QpKYqlaQDyo5DYy2/cough-heavy.wav\n",
            "./Extracted_data/20200814/6Or8DONUwObeo4MH2Sbtx7JTVNU2/cough-heavy.wav\n",
            "./Extracted_data/20200814/zw0pYfsZxDShQGV2HTuont8wU8V2/cough-heavy.wav\n",
            "./Extracted_data/20200814/r3sBhLDneedRBXKLvZU0PL2Q4R82/cough-heavy.wav\n",
            "./Extracted_data/20200814/ePaI9geAOLYTcCjN0bI0vvbHAyR2/cough-heavy.wav\n",
            "./Extracted_data/20200814/fNZ3MnqiGRQlpOptmB2S09fDdYi1/cough-heavy.wav\n",
            "./Extracted_data/20200814/IDotbUiFVpel1SpaktjKZftIVYx2/cough-heavy.wav\n",
            "./Extracted_data/20200814/zVkoMlwOqwXzjsgyGs99OoU10J92/cough-heavy.wav\n",
            "./Extracted_data/20200814/pvLLeiltxePL7csr2rkLJ8fD0gc2/cough-heavy.wav\n",
            "./Extracted_data/20200814/kgjTguvo3vZJTO7F1qO9GxEicbA3/cough-heavy.wav\n",
            "./Extracted_data/20200814/AAFe8wVTf8Op4UTlq1QJmCyBdK33/cough-heavy.wav\n",
            "./Extracted_data/20200814/O4l1a5TWsdgLlW9cECz5PnWX6UP2/cough-heavy.wav\n",
            "./Extracted_data/20200814/DycfRd7vyobY2PgwT3rQOemSbP53/cough-heavy.wav\n",
            "./Extracted_data/20200814/LtqbA3mrmKN4wsTG0sEoPl6fAfB2/cough-heavy.wav\n",
            "./Extracted_data/20200814/Ts5Rbl9h9pWKqCQPJwoTduGvjMm2/cough-heavy.wav\n",
            "./Extracted_data/20200814/76N4aFIJXScxI1iHeSsihGmRKnv1/cough-heavy.wav\n",
            "./Extracted_data/20200814/CEn02KlCBsUgUqUmf5BfUgaITG33/cough-heavy.wav\n",
            "./Extracted_data/20200814/ZfgCPP4WpOP78cBnZ39az9sb0F82/cough-heavy.wav\n",
            "./Extracted_data/20200814/JJAEXqn68kVaaOsFjX7n5Qehaws1/cough-heavy.wav\n",
            "./Extracted_data/20200814/JUVJnOVJKKcdzppK3hkci4TO4ij1/cough-heavy.wav\n",
            "./Extracted_data/20200814/foENi3P7alPC0yTEcDMIJEPFm4E2/cough-heavy.wav\n",
            "./Extracted_data/20200814/6tVIf27diWR1deIqd3HGXxR6tlC3/cough-heavy.wav\n",
            "./Extracted_data/20200814/Ww58ucOI9ofTXq34sGGDQmx7Qwk1/cough-heavy.wav\n",
            "./Extracted_data/20200814/466aPruIIbOEG3V1IaKzu5O8kun2/cough-heavy.wav\n",
            "./Extracted_data/20200814/mvUyFeIK2CSh8vtYDviTKeSQuZ62/cough-heavy.wav\n",
            "./Extracted_data/20200814/yWWeEGFFbQV2s7QqXUQjSrdp6573/cough-heavy.wav\n",
            "./Extracted_data/20200814/Zs7tQ487P7hws3ur1TG53aiF0eC2/cough-heavy.wav\n",
            "./Extracted_data/20200814/eqtebymPdFfBCm8B85n5oSR7Gja2/cough-heavy.wav\n",
            "./Extracted_data/20200814/symIMnhx0SXZB11UPJXEWP4pTbO2/cough-heavy.wav\n",
            "./Extracted_data/20200814/a86P7j0ZQccywZYCvzsunFdDRaV2/cough-heavy.wav\n",
            "./Extracted_data/20200814/gXkNMIy5J4VwXV2ZxAAObvb7S3Q2/cough-heavy.wav\n",
            "./Extracted_data/20200814/4U5fWjzYiROaFxurdK2BCMt2IIg2/cough-heavy.wav\n",
            "./Extracted_data/20200814/ekXeaNBZYgZvh7mpGGwDQR4Jlwv2/cough-heavy.wav\n",
            "./Extracted_data/20200814/Lz3Pu5AOFbQLTA8cIqRAmjPy8qw1/cough-heavy.wav\n",
            "./Extracted_data/20200814/r5SHRp49MiOtkuPzoLHbDiVphkB3/cough-heavy.wav\n",
            "./Extracted_data/20200814/c0qg1BdEVyNXI9Uq7fxJtBjy8dq2/cough-heavy.wav\n",
            "./Extracted_data/20200814/5P3EfdsLvKSOquCjSeutXLqqJKL2/cough-heavy.wav\n",
            "./Extracted_data/20200814/AQTaxycYpIWSoPUFSEUiFlqgenu2/cough-heavy.wav\n",
            "./Extracted_data/20200814/D31ydMgq8wMpO9OOGwxpMfOp9qg1/cough-heavy.wav\n",
            "./Extracted_data/20200814/3FD9salx6KQf114qJSSvW74Ffi63/cough-heavy.wav\n",
            "./Extracted_data/20200814/9rRdrR81MVgC0ITeAwOYyqj8ju43/cough-heavy.wav\n",
            "./Extracted_data/20200814/dk845iIpzubUAv2YuoWHaWTLRAv2/cough-heavy.wav\n",
            "./Extracted_data/20200814/05bieNLXPuaIWEVaX81EkbbjVrh1/cough-heavy.wav\n",
            "./Extracted_data/20200814/M3mk9u8tIBUCavOhsxcGej5s9Vg2/cough-heavy.wav\n",
            "./Extracted_data/20200803/H3sxaOqiOSgbKWig7NdWEPgrm6f2/cough-heavy.wav\n",
            "./Extracted_data/20200803/HN3yAvicf4RTVGb6l0PjM41iBAn2/cough-heavy.wav\n",
            "./Extracted_data/20200803/X2CDAl47UaUtiS9UGq7Yn0NTOLu2/cough-heavy.wav\n",
            "./Extracted_data/20200803/s3gFlexwXGaT6sBmU6g82B6Zczh2/cough-heavy.wav\n",
            "./Extracted_data/20200803/8nVQh7sxmWTMdHOSFZRgCSbwFCl2/cough-heavy.wav\n",
            "./Extracted_data/20200803/AHHrquikw8db8IuCsKUXqunYJz73/cough-heavy.wav\n",
            "./Extracted_data/20200803/Y5eS0NFkNCPdRy7EFiTvm5QJ4qO2/cough-heavy.wav\n",
            "./Extracted_data/20200803/AbtlW73g2HUScOPZZQYMD7jRlkX2/cough-heavy.wav\n",
            "./Extracted_data/20200803/nFYEOudV6AXO7kSQU7mjyezJXUw2/cough-heavy.wav\n",
            "./Extracted_data/20200803/MeUiOR3KHJOGkU0rpWsA5oiBt672/cough-heavy.wav\n",
            "./Extracted_data/20200803/JxSb6sEnk0RC9NPyET9sCpJ3OqN2/cough-heavy.wav\n",
            "./Extracted_data/20200803/gFfiG6fg9dgWt96aPPuIdtFAYc53/cough-heavy.wav\n",
            "./Extracted_data/20200803/7PIIt8R3JWVfSFURfFyRR5ufM243/cough-heavy.wav\n",
            "./Extracted_data/20200803/YgKJK1UxM6NMjfugUnV4mi50d732/cough-heavy.wav\n",
            "./Extracted_data/20200803/B4zHaFYEkYfCKyKRsjNjme1hwjk2/cough-heavy.wav\n",
            "./Extracted_data/20200803/P5mI5OKQZ3WbFo8FkU7VuvAwUwz2/cough-heavy.wav\n",
            "./Extracted_data/20200803/lzB1CcCk33VjfRiW9vbXkplPO0r1/cough-heavy.wav\n",
            "./Extracted_data/20200803/8Iug9hOgiBZTCKZuDxazXlamW0g1/cough-heavy.wav\n",
            "./Extracted_data/20200803/aJDwaJhhehbgKgHpYaP0sng5rcn2/cough-heavy.wav\n",
            "./Extracted_data/20200803/iECdjKjowNVh89DwO6HqoRnaDtY2/cough-heavy.wav\n",
            "./Extracted_data/20200803/c8fyZREWSdfus5ISad0LwnMAUcQ2/cough-heavy.wav\n",
            "./Extracted_data/20200803/2zDWjtjSxeUuy2or5XThZNSzvwO2/cough-heavy.wav\n",
            "./Extracted_data/20200803/k73r7MJLJyav5AF6DJS6LFQnvn82/cough-heavy.wav\n",
            "./Extracted_data/20200803/yBJ20a3np3a8FHUUVUnXslUoX4f1/cough-heavy.wav\n",
            "./Extracted_data/20200803/IA47R6m1qMbEqlv31Gf5sjN91cA2/cough-heavy.wav\n",
            "./Extracted_data/20210930/t5wo2qvXdBehDj8JuF9pGWbb3Rt1/cough-heavy.wav\n",
            "./Extracted_data/20210930/TkOj2GRygbe2J9HxfMWk02A4e7v1/cough-heavy.wav\n",
            "./Extracted_data/20210930/Eg9ruIHboWO7h59MkqSHGAjgZyz1/cough-heavy.wav\n",
            "./Extracted_data/20210930/6WWaE2bjq1YgmugnDuBgA3kLEoL2/cough-heavy.wav\n",
            "./Extracted_data/20210930/75OYElXmxdQTQne9breAIqnSo7Z2/cough-heavy.wav\n",
            "./Extracted_data/20210930/tPN4PkMTo3P1oQKcYXs6WIFeH3U2/cough-heavy.wav\n",
            "./Extracted_data/20210930/XjrvY8BduPbProBlAHGDHpD2iPa2/cough-heavy.wav\n",
            "./Extracted_data/20210930/xH2X6KXzfefgZFURY27gKT30ysR2/cough-heavy.wav\n",
            "./Extracted_data/20210930/x89c2X4Q5LdiRvU9XWVkU1XXLE13/cough-heavy.wav\n",
            "./Extracted_data/20210930/ZaTgRbDWn9d1MMPanam0NCupVCl1/cough-heavy.wav\n",
            "./Extracted_data/20210930/fWuphwJwitW9dSX0gNJBZX7YnN52/cough-heavy.wav\n",
            "./Extracted_data/20210930/373AihVhKDYxeUR24zNi11JavqC3/cough-heavy.wav\n",
            "./Extracted_data/20210930/gwg5V9vEkMYvDqW38tY5b82qYoi2/cough-heavy.wav\n",
            "./Extracted_data/20210930/FC4RKq4W8uRrjmin8n2BXC4SrnU2/cough-heavy.wav\n",
            "./Extracted_data/20210930/8Ul16g4L9nP9lcp16BKh1X6cfhb2/cough-heavy.wav\n",
            "./Extracted_data/20210930/QwS7dzEJ48f6hh4eQny6ywozazg2/cough-heavy.wav\n",
            "./Extracted_data/20210930/DiFXnzp1b5UwVXpNPKPaIH1fTWd2/cough-heavy.wav\n",
            "./Extracted_data/20210930/MBs72wy9MATqbupZbIaYYCzj7dg1/cough-heavy.wav\n",
            "./Extracted_data/20210930/UJkPqAafahN2a9BGQdfC67aInu73/cough-heavy.wav\n",
            "./Extracted_data/20210930/TlZeYdISczYnBtyApltf2DUIKcy2/cough-heavy.wav\n",
            "./Extracted_data/20210930/NdKb06TNBJf7YHQwfJ9O6eT7fP72/cough-heavy.wav\n",
            "./Extracted_data/20210930/YE3Hs5yD9BeIzT8cctZEBKGJIXN2/cough-heavy.wav\n",
            "./Extracted_data/20210930/b5dxDgKCZXVNYVrBLTjeV1rGoW62/cough-heavy.wav\n",
            "./Extracted_data/20210930/gYPjun6LB5RvdkXcP83uDjCJyhN2/cough-heavy.wav\n",
            "./Extracted_data/20210930/UVNJbaiYLMMfREwFxt1LdpdhWWD2/cough-heavy.wav\n",
            "./Extracted_data/20210930/kcQhvQN6eeS8DUCNmpADYBr33h93/cough-heavy.wav\n",
            "./Extracted_data/20210930/IgwjLDmZRyTv03Mq7VdUYL6O5fV2/cough-heavy.wav\n",
            "./Extracted_data/20210930/YuahWhZmLgMcw3hpc83mcz06bMS2/cough-heavy.wav\n",
            "./Extracted_data/20210930/XULw9m5p4Xb2eWMoWDhX0AqRCfB3/cough-heavy.wav\n",
            "./Extracted_data/20210930/f9LON5JU5reyllM213wpaoJqUSu2/cough-heavy.wav\n",
            "./Extracted_data/20210930/TeWit59ewCYq9lQyAu8gAdUoqQc2/cough-heavy.wav\n",
            "./Extracted_data/20210930/dQEgRb1WIAOmomgTx4amrxbQ2513/cough-heavy.wav\n",
            "./Extracted_data/20210930/2lsppspH44WH3Scc1ojisHaXJzp1/cough-heavy.wav\n",
            "./Extracted_data/20210930/BVcBPtxcv3cqEdIkhjM6YenlWtb2/cough-heavy.wav\n",
            "./Extracted_data/20210930/H7CA9UCGWhXOL2ycjqtRBHNXMsk1/cough-heavy.wav\n",
            "./Extracted_data/20210930/4SjSzRW7o2P3lHyxHBfNRfooMun2/cough-heavy.wav\n",
            "./Extracted_data/20210930/2oEWhawfKmanWlvgQfkdkmgoJ9k1/cough-heavy.wav\n",
            "./Extracted_data/20210930/d7w3B2YcJ3TLx58ryhiASEtwaAu1/cough-heavy.wav\n",
            "./Extracted_data/20210930/GKupow0m24SgP8whGGJBZrPbS9k2/cough-heavy.wav\n",
            "./Extracted_data/20210930/Tpz3FMkc1NPmXLufylt9YVf9NQG3/cough-heavy.wav\n",
            "./Extracted_data/20210930/tdqx6pwgAaeiofZLQHT82VZcUf33/cough-heavy.wav\n",
            "./Extracted_data/20210930/rR7IyyhZigMCIvfd2q2cjaGAIXY2/cough-heavy.wav\n",
            "./Extracted_data/20210930/P25gmf6a64UuD7XtIDeL9VQMzXb2/cough-heavy.wav\n",
            "./Extracted_data/20210930/1NQvmLMrJyTwrmbNwAm6wDT4wpz2/cough-heavy.wav\n",
            "./Extracted_data/20210930/h4T9i8JwCEbfw4hzNowalt393Wp1/cough-heavy.wav\n",
            "./Extracted_data/20210930/4RTWSyPKTdc7aRr4ocbrk5m153M2/cough-heavy.wav\n",
            "./Extracted_data/20210930/0Js6ZUZQ9NUnu568Fh7B6mZ1R8o1/cough-heavy.wav\n",
            "./Extracted_data/20210930/HdrqqQ7ijlPhesMLkVgZlG81nba2/cough-heavy.wav\n",
            "./Extracted_data/20210930/WW9oVXsc3XdK0oO5RdE6WiQcz4k2/cough-heavy.wav\n",
            "./Extracted_data/20210426/hB8ntHij4nOm6YoGj86MtZJVTyr2/cough-heavy.wav\n",
            "./Extracted_data/20210426/YAw9rkwSGUakz8LhvifMQk2JyNA2/cough-heavy.wav\n",
            "./Extracted_data/20210426/ibsftXiIIaTlmiN1fVp4MjtS9Hl2/cough-heavy.wav\n",
            "./Extracted_data/20210426/kvrE8UiQfHO8R7NaadPtaHRLqtG3/cough-heavy.wav\n",
            "./Extracted_data/20210426/qndmFcdekodLGpiKxKMVQlrJfcp2/cough-heavy.wav\n",
            "./Extracted_data/20201221/Bjp6S2aILuesK2yOZQIG06WliTM2/cough-heavy.wav\n",
            "./Extracted_data/20201221/H8O1z8p8LlQWSI98eGl4X7RtLPD2/cough-heavy.wav\n",
            "./Extracted_data/20201221/WBNoFWUY9MhZOfFiLvIDsfIWnSZ2/cough-heavy.wav\n",
            "./Extracted_data/20201221/I90bUGzBTMZpwCnA4eWqzKkq3362/cough-heavy.wav\n",
            "./Extracted_data/20201221/QhBRYhmdt7XYAQlhkRX19wWuuCH2/cough-heavy.wav\n",
            "./Extracted_data/20201221/NAL6D2MCyQbiZUGtdQixl39IH3X2/cough-heavy.wav\n",
            "./Extracted_data/20201221/49Ih3xxOmCT53KfYuC2BKGvSAi13/cough-heavy.wav\n",
            "./Extracted_data/20200505/GBZ88OAxQfg6NBTxjDRI0Pf59mq1/cough-heavy.wav\n",
            "./Extracted_data/20200505/XOfL6t78sMQHHG9VppmLHnaawvg2/cough-heavy.wav\n",
            "./Extracted_data/20200505/U5bTmSt9PRfWHiGleINUHMl8cg13/cough-heavy.wav\n",
            "./Extracted_data/20200505/0M4YhLM7FwWO5IjCqhi7MlBhvJv2/cough-heavy.wav\n",
            "./Extracted_data/20200505/0Ha52POVIxTKEPqI1eGpIoMHUd52/cough-heavy.wav\n",
            "./Extracted_data/20200505/HmLWj3LIICf3jJshJCvZPdw7S1I2/cough-heavy.wav\n",
            "./Extracted_data/20200505/yT9Pq9LwzFalmb7PBeWKoIoUcng1/cough-heavy.wav\n",
            "./Extracted_data/20200505/WSNcPIb74jUzQoVPA7RGZKWtMrM2/cough-heavy.wav\n",
            "./Extracted_data/20210603/t0IcY0l4PcU8VicMlC1xC3taL2E2/cough-heavy.wav\n",
            "./Extracted_data/20210603/70rp2jgNpWU7FK3UabUcNvIp5us2/cough-heavy.wav\n",
            "./Extracted_data/20210603/yMJAWvrwJOUbMR0ev3LeqgWr0zI2/cough-heavy.wav\n",
            "./Extracted_data/20210603/ELTqUBJoR4MPBzMZH3yL6yLMc283/cough-heavy.wav\n",
            "./Extracted_data/20210714/j8snVeVNX8arLjDPnD9NGjL7MLD3/cough-heavy.wav\n",
            "./Extracted_data/20210714/hCix5UmABWZVW40elRFgkGabPa52/cough-heavy.wav\n",
            "./Extracted_data/20210714/pTWb2MrlwEVwkDAQkOFb1uh5Ddy2/cough-heavy.wav\n",
            "./Extracted_data/20210714/6yut3EO9tXPCCY8O0VDWA5PCWYN2/cough-heavy.wav\n",
            "./Extracted_data/20210714/D9EEvq1ksqN6PEWzIAy7Mu5e8jJ3/cough-heavy.wav\n",
            "./Extracted_data/20210714/RmWwhKI8kjPi5qN9H740rfm0jHA2/cough-heavy.wav\n",
            "./Extracted_data/20210714/F5zeWi4QqdP2EMOX8P1LacSKaAD2/cough-heavy.wav\n",
            "./Extracted_data/20210714/cRKKIIXiXQUgy3HHRhOoXl3Cfn93/cough-heavy.wav\n",
            "./Extracted_data/20210714/eAH6zemkWAfsP96K8tMyZJIDvgR2/cough-heavy.wav\n",
            "./Extracted_data/20210714/gGgG540lBOZoSK1vyqNVlqBzQBl1/cough-heavy.wav\n",
            "./Extracted_data/20210714/nx6RCgD0OjdzLa07UHBdHfz54ML2/cough-heavy.wav\n",
            "./Extracted_data/20210714/Ft82dZ2O4PMuq64dPIEVik9upMr2/cough-heavy.wav\n",
            "./Extracted_data/20210714/A5KW9PXraNgckln1gnNaJnX6DvB2/cough-heavy.wav\n"
          ]
        }
      ]
    },
    {
      "cell_type": "code",
      "source": [
        "cleaned_data.reset_index(drop=True, inplace=True)\n",
        "cleaned_data['wav1_path'] = pd.DataFrame(wav_paths1, index=None)\n",
        "# cleaned_data['wav2_path'] = pd.DataFrame(wav_paths2, index=None)\n",
        "\n",
        "final_csv = cleaned_data.reindex(columns=['id', 'wav1_path', 'a', 'covid_status', 'dT', 'fV', 'g', 'rU', 'test_status', 'um',\n",
        "       'cough', 'cold', 'fever', 'loss_of_smell', 'diabetes', 'st', 'bd', 'ht',\n",
        "       'pneumonia', 'mp', 'ftg', 'smoker', 'ctScan', 'vacc', 'testType', 'ihd',\n",
        "       'asthma', 'others_preexist', 'ctDate', 'ctScore', 'diarrhoea', 'cld',\n",
        "       'others_resp'])\n",
        "\n",
        "final_csv = final_csv.filter(items=['id','wav1_path','covid_status'])\n",
        "final_csv"
      ],
      "metadata": {
        "colab": {
          "base_uri": "https://localhost:8080/",
          "height": 423
        },
        "id": "jJEARdbbNODx",
        "outputId": "eb98b505-2cd1-4485-ab9a-d30313a6dccd"
      },
      "execution_count": null,
      "outputs": [
        {
          "output_type": "execute_result",
          "data": {
            "text/plain": [
              "                                id  \\\n",
              "0     iV3Db6t1T8b7c5HQY2TwxIhjbzD3   \n",
              "1     AxuYWBN0jFVLINCBqIW5aZmGCdu1   \n",
              "2     C5eIsssb9GSkaAgIfsHMHeR6fSh1   \n",
              "3     YjbEAECMBIaZKyfqOvWy5DDImUb2   \n",
              "4     aGOvk4ji0cVqIzCs1jHnzlw2UEy2   \n",
              "...                            ...   \n",
              "1345  eAH6zemkWAfsP96K8tMyZJIDvgR2   \n",
              "1346  gGgG540lBOZoSK1vyqNVlqBzQBl1   \n",
              "1347  nx6RCgD0OjdzLa07UHBdHfz54ML2   \n",
              "1348  Ft82dZ2O4PMuq64dPIEVik9upMr2   \n",
              "1349  A5KW9PXraNgckln1gnNaJnX6DvB2   \n",
              "\n",
              "                                              wav1_path       covid_status  \n",
              "0     ./Extracted_data/20200424/iV3Db6t1T8b7c5HQY2Tw...            healthy  \n",
              "1     ./Extracted_data/20200424/AxuYWBN0jFVLINCBqIW5...            healthy  \n",
              "2     ./Extracted_data/20200424/C5eIsssb9GSkaAgIfsHM...            healthy  \n",
              "3     ./Extracted_data/20200424/YjbEAECMBIaZKyfqOvWy...            healthy  \n",
              "4     ./Extracted_data/20200424/aGOvk4ji0cVqIzCs1jHn...            healthy  \n",
              "...                                                 ...                ...  \n",
              "1345  ./Extracted_data/20210714/eAH6zemkWAfsP96K8tMy...  positive_moderate  \n",
              "1346  ./Extracted_data/20210714/gGgG540lBOZoSK1vyqNV...            healthy  \n",
              "1347  ./Extracted_data/20210714/nx6RCgD0OjdzLa07UHBd...            healthy  \n",
              "1348  ./Extracted_data/20210714/Ft82dZ2O4PMuq64dPIEV...  positive_moderate  \n",
              "1349  ./Extracted_data/20210714/A5KW9PXraNgckln1gnNa...  positive_moderate  \n",
              "\n",
              "[1350 rows x 3 columns]"
            ],
            "text/html": [
              "\n",
              "  <div id=\"df-5f6d50b8-e997-4523-a0b2-a2e3bf1954de\">\n",
              "    <div class=\"colab-df-container\">\n",
              "      <div>\n",
              "<style scoped>\n",
              "    .dataframe tbody tr th:only-of-type {\n",
              "        vertical-align: middle;\n",
              "    }\n",
              "\n",
              "    .dataframe tbody tr th {\n",
              "        vertical-align: top;\n",
              "    }\n",
              "\n",
              "    .dataframe thead th {\n",
              "        text-align: right;\n",
              "    }\n",
              "</style>\n",
              "<table border=\"1\" class=\"dataframe\">\n",
              "  <thead>\n",
              "    <tr style=\"text-align: right;\">\n",
              "      <th></th>\n",
              "      <th>id</th>\n",
              "      <th>wav1_path</th>\n",
              "      <th>covid_status</th>\n",
              "    </tr>\n",
              "  </thead>\n",
              "  <tbody>\n",
              "    <tr>\n",
              "      <th>0</th>\n",
              "      <td>iV3Db6t1T8b7c5HQY2TwxIhjbzD3</td>\n",
              "      <td>./Extracted_data/20200424/iV3Db6t1T8b7c5HQY2Tw...</td>\n",
              "      <td>healthy</td>\n",
              "    </tr>\n",
              "    <tr>\n",
              "      <th>1</th>\n",
              "      <td>AxuYWBN0jFVLINCBqIW5aZmGCdu1</td>\n",
              "      <td>./Extracted_data/20200424/AxuYWBN0jFVLINCBqIW5...</td>\n",
              "      <td>healthy</td>\n",
              "    </tr>\n",
              "    <tr>\n",
              "      <th>2</th>\n",
              "      <td>C5eIsssb9GSkaAgIfsHMHeR6fSh1</td>\n",
              "      <td>./Extracted_data/20200424/C5eIsssb9GSkaAgIfsHM...</td>\n",
              "      <td>healthy</td>\n",
              "    </tr>\n",
              "    <tr>\n",
              "      <th>3</th>\n",
              "      <td>YjbEAECMBIaZKyfqOvWy5DDImUb2</td>\n",
              "      <td>./Extracted_data/20200424/YjbEAECMBIaZKyfqOvWy...</td>\n",
              "      <td>healthy</td>\n",
              "    </tr>\n",
              "    <tr>\n",
              "      <th>4</th>\n",
              "      <td>aGOvk4ji0cVqIzCs1jHnzlw2UEy2</td>\n",
              "      <td>./Extracted_data/20200424/aGOvk4ji0cVqIzCs1jHn...</td>\n",
              "      <td>healthy</td>\n",
              "    </tr>\n",
              "    <tr>\n",
              "      <th>...</th>\n",
              "      <td>...</td>\n",
              "      <td>...</td>\n",
              "      <td>...</td>\n",
              "    </tr>\n",
              "    <tr>\n",
              "      <th>1345</th>\n",
              "      <td>eAH6zemkWAfsP96K8tMyZJIDvgR2</td>\n",
              "      <td>./Extracted_data/20210714/eAH6zemkWAfsP96K8tMy...</td>\n",
              "      <td>positive_moderate</td>\n",
              "    </tr>\n",
              "    <tr>\n",
              "      <th>1346</th>\n",
              "      <td>gGgG540lBOZoSK1vyqNVlqBzQBl1</td>\n",
              "      <td>./Extracted_data/20210714/gGgG540lBOZoSK1vyqNV...</td>\n",
              "      <td>healthy</td>\n",
              "    </tr>\n",
              "    <tr>\n",
              "      <th>1347</th>\n",
              "      <td>nx6RCgD0OjdzLa07UHBdHfz54ML2</td>\n",
              "      <td>./Extracted_data/20210714/nx6RCgD0OjdzLa07UHBd...</td>\n",
              "      <td>healthy</td>\n",
              "    </tr>\n",
              "    <tr>\n",
              "      <th>1348</th>\n",
              "      <td>Ft82dZ2O4PMuq64dPIEVik9upMr2</td>\n",
              "      <td>./Extracted_data/20210714/Ft82dZ2O4PMuq64dPIEV...</td>\n",
              "      <td>positive_moderate</td>\n",
              "    </tr>\n",
              "    <tr>\n",
              "      <th>1349</th>\n",
              "      <td>A5KW9PXraNgckln1gnNaJnX6DvB2</td>\n",
              "      <td>./Extracted_data/20210714/A5KW9PXraNgckln1gnNa...</td>\n",
              "      <td>positive_moderate</td>\n",
              "    </tr>\n",
              "  </tbody>\n",
              "</table>\n",
              "<p>1350 rows × 3 columns</p>\n",
              "</div>\n",
              "      <button class=\"colab-df-convert\" onclick=\"convertToInteractive('df-5f6d50b8-e997-4523-a0b2-a2e3bf1954de')\"\n",
              "              title=\"Convert this dataframe to an interactive table.\"\n",
              "              style=\"display:none;\">\n",
              "        \n",
              "  <svg xmlns=\"http://www.w3.org/2000/svg\" height=\"24px\"viewBox=\"0 0 24 24\"\n",
              "       width=\"24px\">\n",
              "    <path d=\"M0 0h24v24H0V0z\" fill=\"none\"/>\n",
              "    <path d=\"M18.56 5.44l.94 2.06.94-2.06 2.06-.94-2.06-.94-.94-2.06-.94 2.06-2.06.94zm-11 1L8.5 8.5l.94-2.06 2.06-.94-2.06-.94L8.5 2.5l-.94 2.06-2.06.94zm10 10l.94 2.06.94-2.06 2.06-.94-2.06-.94-.94-2.06-.94 2.06-2.06.94z\"/><path d=\"M17.41 7.96l-1.37-1.37c-.4-.4-.92-.59-1.43-.59-.52 0-1.04.2-1.43.59L10.3 9.45l-7.72 7.72c-.78.78-.78 2.05 0 2.83L4 21.41c.39.39.9.59 1.41.59.51 0 1.02-.2 1.41-.59l7.78-7.78 2.81-2.81c.8-.78.8-2.07 0-2.86zM5.41 20L4 18.59l7.72-7.72 1.47 1.35L5.41 20z\"/>\n",
              "  </svg>\n",
              "      </button>\n",
              "      \n",
              "  <style>\n",
              "    .colab-df-container {\n",
              "      display:flex;\n",
              "      flex-wrap:wrap;\n",
              "      gap: 12px;\n",
              "    }\n",
              "\n",
              "    .colab-df-convert {\n",
              "      background-color: #E8F0FE;\n",
              "      border: none;\n",
              "      border-radius: 50%;\n",
              "      cursor: pointer;\n",
              "      display: none;\n",
              "      fill: #1967D2;\n",
              "      height: 32px;\n",
              "      padding: 0 0 0 0;\n",
              "      width: 32px;\n",
              "    }\n",
              "\n",
              "    .colab-df-convert:hover {\n",
              "      background-color: #E2EBFA;\n",
              "      box-shadow: 0px 1px 2px rgba(60, 64, 67, 0.3), 0px 1px 3px 1px rgba(60, 64, 67, 0.15);\n",
              "      fill: #174EA6;\n",
              "    }\n",
              "\n",
              "    [theme=dark] .colab-df-convert {\n",
              "      background-color: #3B4455;\n",
              "      fill: #D2E3FC;\n",
              "    }\n",
              "\n",
              "    [theme=dark] .colab-df-convert:hover {\n",
              "      background-color: #434B5C;\n",
              "      box-shadow: 0px 1px 3px 1px rgba(0, 0, 0, 0.15);\n",
              "      filter: drop-shadow(0px 1px 2px rgba(0, 0, 0, 0.3));\n",
              "      fill: #FFFFFF;\n",
              "    }\n",
              "  </style>\n",
              "\n",
              "      <script>\n",
              "        const buttonEl =\n",
              "          document.querySelector('#df-5f6d50b8-e997-4523-a0b2-a2e3bf1954de button.colab-df-convert');\n",
              "        buttonEl.style.display =\n",
              "          google.colab.kernel.accessAllowed ? 'block' : 'none';\n",
              "\n",
              "        async function convertToInteractive(key) {\n",
              "          const element = document.querySelector('#df-5f6d50b8-e997-4523-a0b2-a2e3bf1954de');\n",
              "          const dataTable =\n",
              "            await google.colab.kernel.invokeFunction('convertToInteractive',\n",
              "                                                     [key], {});\n",
              "          if (!dataTable) return;\n",
              "\n",
              "          const docLinkHtml = 'Like what you see? Visit the ' +\n",
              "            '<a target=\"_blank\" href=https://colab.research.google.com/notebooks/data_table.ipynb>data table notebook</a>'\n",
              "            + ' to learn more about interactive tables.';\n",
              "          element.innerHTML = '';\n",
              "          dataTable['output_type'] = 'display_data';\n",
              "          await google.colab.output.renderOutput(dataTable, element);\n",
              "          const docLink = document.createElement('div');\n",
              "          docLink.innerHTML = docLinkHtml;\n",
              "          element.appendChild(docLink);\n",
              "        }\n",
              "      </script>\n",
              "    </div>\n",
              "  </div>\n",
              "  "
            ]
          },
          "metadata": {},
          "execution_count": 28
        }
      ]
    },
    {
      "cell_type": "code",
      "source": [
        "healthy_audio_coswara, fs = librosa.load(final_csv.wav1_path[0], mono=True)"
      ],
      "metadata": {
        "id": "-tbNVzZ9PBVV"
      },
      "execution_count": null,
      "outputs": []
    },
    {
      "cell_type": "code",
      "source": [
        "\n",
        "fig = plt.figure(figsize=(12,4))\n",
        "plt.plot(healthy_audio_coswara)\n",
        "plt.title(\"Audio Sample\")\n",
        "plt.axis('off')"
      ],
      "metadata": {
        "id": "XbNKZXyvPxW5",
        "colab": {
          "base_uri": "https://localhost:8080/",
          "height": 280
        },
        "outputId": "aa199122-ecf5-4c44-e9ca-dad0878958eb"
      },
      "execution_count": null,
      "outputs": [
        {
          "output_type": "execute_result",
          "data": {
            "text/plain": [
              "(-8843.5, 185713.5, -0.7307213008403778, 0.8006345689296722)"
            ]
          },
          "metadata": {},
          "execution_count": 30
        },
        {
          "output_type": "display_data",
          "data": {
            "text/plain": [
              "<Figure size 864x288 with 1 Axes>"
            ],
            "image/png": "[encoded data removed]"
          },
          "metadata": {
            "needs_background": "light"
          }
        }
      ]
    },
    {
      "cell_type": "code",
      "source": [
        "final_csv = final_csv.drop(64)\n",
        "final_csv = final_csv.drop(106)\n",
        "final_csv = final_csv.drop(107)\n",
        "final_csv = final_csv.drop(108)\n",
        "final_csv = final_csv.drop(178)\n",
        "final_csv = final_csv.drop(477)\n",
        "final_csv = final_csv.drop(503)\n",
        "final_csv = final_csv.drop(581)\n",
        "final_csv = final_csv.drop(657)\n",
        "final_csv = final_csv.drop(658)\n",
        "final_csv = final_csv.drop(688)\n",
        "final_csv = final_csv.drop(814)\n",
        "final_csv = final_csv.drop(815)\n",
        "final_csv = final_csv.drop(876)\n",
        "final_csv = final_csv.drop(913)\n",
        "final_csv = final_csv.drop(982)\n",
        "final_csv = final_csv.drop(1008)\n",
        "final_csv = final_csv.drop(1014)\n",
        "final_csv = final_csv.drop(1026)\n",
        "final_csv = final_csv.drop(1031)\n",
        "final_csv = final_csv.drop(1051)\n",
        "final_csv = final_csv.drop(1086)\n",
        "final_csv = final_csv.drop(479)\n",
        "final_csv = final_csv.drop(1204)\n",
        "final_csv = final_csv.drop(1207)\n",
        "final_csv = final_csv.drop(1209)\n",
        "final_csv = final_csv.drop(1214)\n",
        "final_csv = final_csv.drop(1096)\n",
        "final_csv = final_csv.drop(1256)"
      ],
      "metadata": {
        "id": "lePja8zMceTw"
      },
      "execution_count": null,
      "outputs": []
    },
    {
      "cell_type": "code",
      "source": [
        "final_csv.covid_status.value_counts()"
      ],
      "metadata": {
        "id": "4d2muE2gIipF",
        "colab": {
          "base_uri": "https://localhost:8080/"
        },
        "outputId": "214a8f01-304e-46f4-8b7d-1a54b67ed4d9"
      },
      "execution_count": null,
      "outputs": [
        {
          "output_type": "execute_result",
          "data": {
            "text/plain": [
              "healthy              1194\n",
              "positive_moderate     127\n",
              "Name: covid_status, dtype: int64"
            ]
          },
          "metadata": {},
          "execution_count": 32
        }
      ]
    },
    {
      "cell_type": "code",
      "source": [
        "def features_extractor(file_name):\n",
        "    audio, sample_rate = librosa.load(file_name, res_type='kaiser_fast')\n",
        "    mfccs_features = librosa.feature.mfcc(y=audio, sr=sample_rate, n_mfcc=40)\n",
        "    mfccs_scaled_features = np.mean(mfccs_features.T,axis=0)\n",
        "\n",
        "    return mfccs_scaled_features"
      ],
      "metadata": {
        "id": "9WRcGJBEUSEI"
      },
      "execution_count": null,
      "outputs": []
    },
    {
      "cell_type": "code",
      "source": [
        "import numpy as np\n",
        "from tqdm import tqdm\n",
        "### Now we iterate through every audio file and extract features\n",
        "### using Mel-Frequency Cepstral Coefficients\n",
        "extracted_features=[]\n",
        "for index_num,row in tqdm(final_csv.iterrows()):\n",
        "    print(index_num)\n",
        "    file_name = final_csv.wav1_path[index_num]\n",
        "    final_class_labels=row[\"covid_status\"]\n",
        "    data=features_extractor(file_name)\n",
        "    extracted_features.append([data,final_class_labels])"
      ],
      "metadata": {
        "id": "1qoAhn0PTlBu",
        "colab": {
          "base_uri": "https://localhost:8080/"
        },
        "outputId": "b99c01ca-2da9-4540-dd57-ff180370156c"
      },
      "execution_count": null,
      "outputs": [
        {
          "output_type": "stream",
          "name": "stderr",
          "text": [
            "1it [00:00,  5.63it/s]"
          ]
        },
        {
          "output_type": "stream",
          "name": "stdout",
          "text": [
            "0\n",
            "1\n"
          ]
        },
        {
          "output_type": "stream",
          "name": "stderr",
          "text": [
            "3it [00:00,  5.39it/s]"
          ]
        },
        {
          "output_type": "stream",
          "name": "stdout",
          "text": [
            "2\n",
            "3\n"
          ]
        },
        {
          "output_type": "stream",
          "name": "stderr",
          "text": [
            "5it [00:00,  5.86it/s]"
          ]
        },
        {
          "output_type": "stream",
          "name": "stdout",
          "text": [
            "4\n",
            "5\n"
          ]
        },
        {
          "output_type": "stream",
          "name": "stderr",
          "text": [
            "\r7it [00:01,  8.22it/s]"
          ]
        },
        {
          "output_type": "stream",
          "name": "stdout",
          "text": [
            "6\n",
            "7\n"
          ]
        },
        {
          "output_type": "stream",
          "name": "stderr",
          "text": [
            "9it [00:01,  7.69it/s]"
          ]
        },
        {
          "output_type": "stream",
          "name": "stdout",
          "text": [
            "8\n",
            "9\n"
          ]
        },
        {
          "output_type": "stream",
          "name": "stderr",
          "text": [
            "\r11it [00:01,  8.58it/s]"
          ]
        },
        {
          "output_type": "stream",
          "name": "stdout",
          "text": [
            "10\n",
            "11\n"
          ]
        },
        {
          "output_type": "stream",
          "name": "stderr",
          "text": [
            "13it [00:01,  8.89it/s]"
          ]
        },
        {
          "output_type": "stream",
          "name": "stdout",
          "text": [
            "12\n",
            "13\n"
          ]
        },
        {
          "output_type": "stream",
          "name": "stderr",
          "text": [
            "15it [00:01,  8.19it/s]"
          ]
        },
        {
          "output_type": "stream",
          "name": "stdout",
          "text": [
            "14\n",
            "15\n"
          ]
        },
        {
          "output_type": "stream",
          "name": "stderr",
          "text": [
            "\r16it [00:02,  7.96it/s]"
          ]
        },
        {
          "output_type": "stream",
          "name": "stdout",
          "text": [
            "16\n",
            "17\n"
          ]
        },
        {
          "output_type": "stream",
          "name": "stderr",
          "text": [
            "19it [00:02,  8.46it/s]"
          ]
        },
        {
          "output_type": "stream",
          "name": "stdout",
          "text": [
            "18\n",
            "19\n"
          ]
        },
        {
          "output_type": "stream",
          "name": "stderr",
          "text": [
            "21it [00:02,  7.67it/s]"
          ]
        },
        {
          "output_type": "stream",
          "name": "stdout",
          "text": [
            "20\n",
            "21\n"
          ]
        },
        {
          "output_type": "stream",
          "name": "stderr",
          "text": [
            "23it [00:03,  7.31it/s]"
          ]
        },
        {
          "output_type": "stream",
          "name": "stdout",
          "text": [
            "22\n",
            "23\n"
          ]
        },
        {
          "output_type": "stream",
          "name": "stderr",
          "text": [
            "\r25it [00:03,  7.28it/s]"
          ]
        },
        {
          "output_type": "stream",
          "name": "stdout",
          "text": [
            "24\n",
            "25\n"
          ]
        },
        {
          "output_type": "stream",
          "name": "stderr",
          "text": [
            "27it [00:03,  7.52it/s]"
          ]
        },
        {
          "output_type": "stream",
          "name": "stdout",
          "text": [
            "26\n",
            "27\n"
          ]
        },
        {
          "output_type": "stream",
          "name": "stderr",
          "text": [
            "30it [00:03,  7.63it/s]"
          ]
        },
        {
          "output_type": "stream",
          "name": "stdout",
          "text": [
            "28\n",
            "29\n"
          ]
        },
        {
          "output_type": "stream",
          "name": "stderr",
          "text": [
            "\r31it [00:04,  7.67it/s]"
          ]
        },
        {
          "output_type": "stream",
          "name": "stdout",
          "text": [
            "30\n",
            "31\n"
          ]
        },
        {
          "output_type": "stream",
          "name": "stderr",
          "text": [
            "34it [00:04,  8.90it/s]"
          ]
        },
        {
          "output_type": "stream",
          "name": "stdout",
          "text": [
            "32\n",
            "33\n",
            "34\n"
          ]
        },
        {
          "output_type": "stream",
          "name": "stderr",
          "text": [
            "\r36it [00:04,  8.78it/s]"
          ]
        },
        {
          "output_type": "stream",
          "name": "stdout",
          "text": [
            "35\n",
            "36\n"
          ]
        },
        {
          "output_type": "stream",
          "name": "stderr",
          "text": [
            "\r38it [00:04,  9.16it/s]"
          ]
        },
        {
          "output_type": "stream",
          "name": "stdout",
          "text": [
            "37\n",
            "38\n"
          ]
        },
        {
          "output_type": "stream",
          "name": "stderr",
          "text": [
            "41it [00:05,  8.84it/s]"
          ]
        },
        {
          "output_type": "stream",
          "name": "stdout",
          "text": [
            "39\n",
            "40\n",
            "41"
          ]
        },
        {
          "output_type": "stream",
          "name": "stderr",
          "text": [
            "\r42it [00:05,  8.49it/s]"
          ]
        },
        {
          "output_type": "stream",
          "name": "stdout",
          "text": [
            "\n",
            "42\n"
          ]
        },
        {
          "output_type": "stream",
          "name": "stderr",
          "text": [
            "45it [00:05, 10.24it/s]"
          ]
        },
        {
          "output_type": "stream",
          "name": "stdout",
          "text": [
            "43\n",
            "44\n",
            "45\n"
          ]
        },
        {
          "output_type": "stream",
          "name": "stderr",
          "text": [
            "\r47it [00:05,  9.35it/s]"
          ]
        },
        {
          "output_type": "stream",
          "name": "stdout",
          "text": [
            "46\n",
            "47\n"
          ]
        },
        {
          "output_type": "stream",
          "name": "stderr",
          "text": [
            "\r49it [00:06,  9.11it/s]"
          ]
        },
        {
          "output_type": "stream",
          "name": "stdout",
          "text": [
            "48\n",
            "49\n"
          ]
        },
        {
          "output_type": "stream",
          "name": "stderr",
          "text": [
            "\r51it [00:06,  8.96it/s]"
          ]
        },
        {
          "output_type": "stream",
          "name": "stdout",
          "text": [
            "50\n",
            "51\n"
          ]
        },
        {
          "output_type": "stream",
          "name": "stderr",
          "text": [
            "\r53it [00:06,  9.41it/s]"
          ]
        },
        {
          "output_type": "stream",
          "name": "stdout",
          "text": [
            "52\n",
            "53\n"
          ]
        },
        {
          "output_type": "stream",
          "name": "stderr",
          "text": [
            "56it [00:06,  9.64it/s]"
          ]
        },
        {
          "output_type": "stream",
          "name": "stdout",
          "text": [
            "54\n",
            "55\n",
            "56\n"
          ]
        },
        {
          "output_type": "stream",
          "name": "stderr",
          "text": [
            "\r58it [00:07,  9.40it/s]"
          ]
        },
        {
          "output_type": "stream",
          "name": "stdout",
          "text": [
            "57\n",
            "58\n",
            "59"
          ]
        },
        {
          "output_type": "stream",
          "name": "stderr",
          "text": [
            "\r60it [00:07,  9.13it/s]"
          ]
        },
        {
          "output_type": "stream",
          "name": "stdout",
          "text": [
            "\n",
            "60\n"
          ]
        },
        {
          "output_type": "stream",
          "name": "stderr",
          "text": [
            "63it [00:07,  9.77it/s]"
          ]
        },
        {
          "output_type": "stream",
          "name": "stdout",
          "text": [
            "61\n",
            "62\n",
            "63\n"
          ]
        },
        {
          "output_type": "stream",
          "name": "stderr",
          "text": [
            "\r65it [00:07,  8.98it/s]"
          ]
        },
        {
          "output_type": "stream",
          "name": "stdout",
          "text": [
            "65\n",
            "66\n"
          ]
        },
        {
          "output_type": "stream",
          "name": "stderr",
          "text": [
            "\r67it [00:08,  8.86it/s]"
          ]
        },
        {
          "output_type": "stream",
          "name": "stdout",
          "text": [
            "67\n",
            "68\n"
          ]
        },
        {
          "output_type": "stream",
          "name": "stderr",
          "text": [
            "69it [00:08,  8.33it/s]"
          ]
        },
        {
          "output_type": "stream",
          "name": "stdout",
          "text": [
            "69\n",
            "70\n"
          ]
        },
        {
          "output_type": "stream",
          "name": "stderr",
          "text": [
            "\r71it [00:08,  8.46it/s]"
          ]
        },
        {
          "output_type": "stream",
          "name": "stdout",
          "text": [
            "71\n",
            "72\n"
          ]
        },
        {
          "output_type": "stream",
          "name": "stderr",
          "text": [
            "73it [00:08,  7.63it/s]"
          ]
        },
        {
          "output_type": "stream",
          "name": "stdout",
          "text": [
            "73\n",
            "74\n"
          ]
        },
        {
          "output_type": "stream",
          "name": "stderr",
          "text": [
            "75it [00:09,  7.20it/s]"
          ]
        },
        {
          "output_type": "stream",
          "name": "stdout",
          "text": [
            "75\n",
            "76\n"
          ]
        },
        {
          "output_type": "stream",
          "name": "stderr",
          "text": [
            "77it [00:09,  6.91it/s]"
          ]
        },
        {
          "output_type": "stream",
          "name": "stdout",
          "text": [
            "77\n",
            "78\n"
          ]
        },
        {
          "output_type": "stream",
          "name": "stderr",
          "text": [
            "79it [00:09,  7.09it/s]"
          ]
        },
        {
          "output_type": "stream",
          "name": "stdout",
          "text": [
            "79\n",
            "80\n"
          ]
        },
        {
          "output_type": "stream",
          "name": "stderr",
          "text": [
            "\r81it [00:09,  9.29it/s]"
          ]
        },
        {
          "output_type": "stream",
          "name": "stdout",
          "text": [
            "81\n",
            "82\n"
          ]
        },
        {
          "output_type": "stream",
          "name": "stderr",
          "text": [
            "83it [00:10,  7.79it/s]"
          ]
        },
        {
          "output_type": "stream",
          "name": "stdout",
          "text": [
            "83\n",
            "84\n"
          ]
        },
        {
          "output_type": "stream",
          "name": "stderr",
          "text": [
            "\r84it [00:10,  7.53it/s]"
          ]
        },
        {
          "output_type": "stream",
          "name": "stdout",
          "text": [
            "85\n",
            "86\n"
          ]
        },
        {
          "output_type": "stream",
          "name": "stderr",
          "text": [
            "87it [00:10,  7.99it/s]"
          ]
        },
        {
          "output_type": "stream",
          "name": "stdout",
          "text": [
            "87\n",
            "88\n",
            "89\n"
          ]
        },
        {
          "output_type": "stream",
          "name": "stderr",
          "text": [
            "90it [00:11,  8.08it/s]"
          ]
        },
        {
          "output_type": "stream",
          "name": "stdout",
          "text": [
            "90\n",
            "91\n"
          ]
        },
        {
          "output_type": "stream",
          "name": "stderr",
          "text": [
            "92it [00:11,  8.30it/s]"
          ]
        },
        {
          "output_type": "stream",
          "name": "stdout",
          "text": [
            "92\n",
            "93\n"
          ]
        },
        {
          "output_type": "stream",
          "name": "stderr",
          "text": [
            "94it [00:11,  8.32it/s]"
          ]
        },
        {
          "output_type": "stream",
          "name": "stdout",
          "text": [
            "94\n",
            "95\n"
          ]
        },
        {
          "output_type": "stream",
          "name": "stderr",
          "text": [
            "96it [00:11,  8.20it/s]"
          ]
        },
        {
          "output_type": "stream",
          "name": "stdout",
          "text": [
            "96\n",
            "97\n"
          ]
        },
        {
          "output_type": "stream",
          "name": "stderr",
          "text": [
            "98it [00:12,  6.73it/s]"
          ]
        },
        {
          "output_type": "stream",
          "name": "stdout",
          "text": [
            "98\n",
            "99\n"
          ]
        },
        {
          "output_type": "stream",
          "name": "stderr",
          "text": [
            "102it [00:12, 10.12it/s]"
          ]
        },
        {
          "output_type": "stream",
          "name": "stdout",
          "text": [
            "100\n",
            "101\n",
            "102\n",
            "103\n"
          ]
        },
        {
          "output_type": "stream",
          "name": "stderr",
          "text": [
            "\r104it [00:12,  9.97it/s]"
          ]
        },
        {
          "output_type": "stream",
          "name": "stdout",
          "text": [
            "104\n",
            "105\n",
            "109\n"
          ]
        },
        {
          "output_type": "stream",
          "name": "stderr",
          "text": [
            "107it [00:13,  8.29it/s]"
          ]
        },
        {
          "output_type": "stream",
          "name": "stdout",
          "text": [
            "110\n",
            "111\n"
          ]
        },
        {
          "output_type": "stream",
          "name": "stderr",
          "text": [
            "109it [00:13,  7.93it/s]"
          ]
        },
        {
          "output_type": "stream",
          "name": "stdout",
          "text": [
            "112\n",
            "113\n",
            "114\n"
          ]
        },
        {
          "output_type": "stream",
          "name": "stderr",
          "text": [
            "112it [00:13,  8.89it/s]"
          ]
        },
        {
          "output_type": "stream",
          "name": "stdout",
          "text": [
            "115\n",
            "116\n"
          ]
        },
        {
          "output_type": "stream",
          "name": "stderr",
          "text": [
            "115it [00:13,  9.27it/s]"
          ]
        },
        {
          "output_type": "stream",
          "name": "stdout",
          "text": [
            "117\n",
            "118\n",
            "119\n"
          ]
        },
        {
          "output_type": "stream",
          "name": "stderr",
          "text": [
            "117it [00:14,  8.50it/s]"
          ]
        },
        {
          "output_type": "stream",
          "name": "stdout",
          "text": [
            "120\n",
            "121\n"
          ]
        },
        {
          "output_type": "stream",
          "name": "stderr",
          "text": [
            "120it [00:14,  9.10it/s]"
          ]
        },
        {
          "output_type": "stream",
          "name": "stdout",
          "text": [
            "122\n",
            "123\n",
            "124\n"
          ]
        },
        {
          "output_type": "stream",
          "name": "stderr",
          "text": [
            "122it [00:14,  7.57it/s]"
          ]
        },
        {
          "output_type": "stream",
          "name": "stdout",
          "text": [
            "125\n",
            "126\n"
          ]
        },
        {
          "output_type": "stream",
          "name": "stderr",
          "text": [
            "124it [00:15,  7.59it/s]"
          ]
        },
        {
          "output_type": "stream",
          "name": "stdout",
          "text": [
            "127\n",
            "128\n"
          ]
        },
        {
          "output_type": "stream",
          "name": "stderr",
          "text": [
            "\r126it [00:15,  8.24it/s]"
          ]
        },
        {
          "output_type": "stream",
          "name": "stdout",
          "text": [
            "129\n",
            "130\n"
          ]
        },
        {
          "output_type": "stream",
          "name": "stderr",
          "text": [
            "128it [00:15,  7.57it/s]"
          ]
        },
        {
          "output_type": "stream",
          "name": "stdout",
          "text": [
            "131\n",
            "132\n"
          ]
        },
        {
          "output_type": "stream",
          "name": "stderr",
          "text": [
            "130it [00:15,  7.12it/s]"
          ]
        },
        {
          "output_type": "stream",
          "name": "stdout",
          "text": [
            "133\n",
            "134\n"
          ]
        },
        {
          "output_type": "stream",
          "name": "stderr",
          "text": [
            "133it [00:16,  9.33it/s]"
          ]
        },
        {
          "output_type": "stream",
          "name": "stdout",
          "text": [
            "135\n",
            "136\n",
            "137\n"
          ]
        },
        {
          "output_type": "stream",
          "name": "stderr",
          "text": [
            "135it [00:16,  7.55it/s]"
          ]
        },
        {
          "output_type": "stream",
          "name": "stdout",
          "text": [
            "138\n",
            "139\n"
          ]
        },
        {
          "output_type": "stream",
          "name": "stderr",
          "text": [
            "\r137it [00:16,  8.58it/s]"
          ]
        },
        {
          "output_type": "stream",
          "name": "stdout",
          "text": [
            "140\n",
            "141\n"
          ]
        },
        {
          "output_type": "stream",
          "name": "stderr",
          "text": [
            "139it [00:17,  7.74it/s]"
          ]
        },
        {
          "output_type": "stream",
          "name": "stdout",
          "text": [
            "142\n",
            "143\n"
          ]
        },
        {
          "output_type": "stream",
          "name": "stderr",
          "text": [
            "141it [00:17,  8.19it/s]"
          ]
        },
        {
          "output_type": "stream",
          "name": "stdout",
          "text": [
            "144\n",
            "145\n"
          ]
        },
        {
          "output_type": "stream",
          "name": "stderr",
          "text": [
            "143it [00:17,  7.81it/s]"
          ]
        },
        {
          "output_type": "stream",
          "name": "stdout",
          "text": [
            "146\n",
            "147\n"
          ]
        },
        {
          "output_type": "stream",
          "name": "stderr",
          "text": [
            "145it [00:17,  7.92it/s]"
          ]
        },
        {
          "output_type": "stream",
          "name": "stdout",
          "text": [
            "148\n",
            "149\n"
          ]
        },
        {
          "output_type": "stream",
          "name": "stderr",
          "text": [
            "147it [00:18,  7.66it/s]"
          ]
        },
        {
          "output_type": "stream",
          "name": "stdout",
          "text": [
            "150\n",
            "151\n"
          ]
        },
        {
          "output_type": "stream",
          "name": "stderr",
          "text": [
            "149it [00:18,  7.55it/s]"
          ]
        },
        {
          "output_type": "stream",
          "name": "stdout",
          "text": [
            "152\n",
            "153\n"
          ]
        },
        {
          "output_type": "stream",
          "name": "stderr",
          "text": [
            "151it [00:18,  8.18it/s]"
          ]
        },
        {
          "output_type": "stream",
          "name": "stdout",
          "text": [
            "154\n",
            "155\n"
          ]
        },
        {
          "output_type": "stream",
          "name": "stderr",
          "text": [
            "153it [00:18,  8.02it/s]"
          ]
        },
        {
          "output_type": "stream",
          "name": "stdout",
          "text": [
            "156\n",
            "157\n"
          ]
        },
        {
          "output_type": "stream",
          "name": "stderr",
          "text": [
            "155it [00:19,  7.64it/s]"
          ]
        },
        {
          "output_type": "stream",
          "name": "stdout",
          "text": [
            "158\n",
            "159\n"
          ]
        },
        {
          "output_type": "stream",
          "name": "stderr",
          "text": [
            "157it [00:19,  6.68it/s]"
          ]
        },
        {
          "output_type": "stream",
          "name": "stdout",
          "text": [
            "160\n",
            "161\n"
          ]
        },
        {
          "output_type": "stream",
          "name": "stderr",
          "text": [
            "\r159it [00:19,  7.72it/s]"
          ]
        },
        {
          "output_type": "stream",
          "name": "stdout",
          "text": [
            "162\n",
            "163\n"
          ]
        },
        {
          "output_type": "stream",
          "name": "stderr",
          "text": [
            "161it [00:19,  8.09it/s]"
          ]
        },
        {
          "output_type": "stream",
          "name": "stdout",
          "text": [
            "164\n",
            "165\n"
          ]
        },
        {
          "output_type": "stream",
          "name": "stderr",
          "text": [
            "163it [00:20,  7.32it/s]"
          ]
        },
        {
          "output_type": "stream",
          "name": "stdout",
          "text": [
            "166\n",
            "167\n"
          ]
        },
        {
          "output_type": "stream",
          "name": "stderr",
          "text": [
            "165it [00:20,  7.02it/s]"
          ]
        },
        {
          "output_type": "stream",
          "name": "stdout",
          "text": [
            "168\n",
            "169\n"
          ]
        },
        {
          "output_type": "stream",
          "name": "stderr",
          "text": [
            "167it [00:20,  6.71it/s]"
          ]
        },
        {
          "output_type": "stream",
          "name": "stdout",
          "text": [
            "170\n",
            "171\n"
          ]
        },
        {
          "output_type": "stream",
          "name": "stderr",
          "text": [
            "169it [00:20,  7.42it/s]"
          ]
        },
        {
          "output_type": "stream",
          "name": "stdout",
          "text": [
            "172\n",
            "173\n"
          ]
        },
        {
          "output_type": "stream",
          "name": "stderr",
          "text": [
            "172it [00:21,  8.74it/s]"
          ]
        },
        {
          "output_type": "stream",
          "name": "stdout",
          "text": [
            "174\n",
            "175\n",
            "176\n"
          ]
        },
        {
          "output_type": "stream",
          "name": "stderr",
          "text": [
            "175it [00:21,  9.30it/s]"
          ]
        },
        {
          "output_type": "stream",
          "name": "stdout",
          "text": [
            "177\n",
            "179\n",
            "180\n"
          ]
        },
        {
          "output_type": "stream",
          "name": "stderr",
          "text": [
            "178it [00:21,  8.84it/s]"
          ]
        },
        {
          "output_type": "stream",
          "name": "stdout",
          "text": [
            "181\n",
            "182\n",
            "183\n"
          ]
        },
        {
          "output_type": "stream",
          "name": "stderr",
          "text": [
            "180it [00:22,  7.39it/s]"
          ]
        },
        {
          "output_type": "stream",
          "name": "stdout",
          "text": [
            "184\n",
            "185\n"
          ]
        },
        {
          "output_type": "stream",
          "name": "stderr",
          "text": [
            "182it [00:22,  7.18it/s]"
          ]
        },
        {
          "output_type": "stream",
          "name": "stdout",
          "text": [
            "186\n",
            "187\n"
          ]
        },
        {
          "output_type": "stream",
          "name": "stderr",
          "text": [
            "185it [00:22,  8.39it/s]"
          ]
        },
        {
          "output_type": "stream",
          "name": "stdout",
          "text": [
            "188\n",
            "189\n",
            "190\n"
          ]
        },
        {
          "output_type": "stream",
          "name": "stderr",
          "text": [
            "\r187it [00:23,  9.07it/s]"
          ]
        },
        {
          "output_type": "stream",
          "name": "stdout",
          "text": [
            "191\n",
            "192\n"
          ]
        },
        {
          "output_type": "stream",
          "name": "stderr",
          "text": [
            "189it [00:23,  8.94it/s]"
          ]
        },
        {
          "output_type": "stream",
          "name": "stdout",
          "text": [
            "193\n",
            "194\n"
          ]
        },
        {
          "output_type": "stream",
          "name": "stderr",
          "text": [
            "\r190it [00:23,  8.47it/s]"
          ]
        },
        {
          "output_type": "stream",
          "name": "stdout",
          "text": [
            "195\n",
            "196\n"
          ]
        },
        {
          "output_type": "stream",
          "name": "stderr",
          "text": [
            "193it [00:23,  8.40it/s]"
          ]
        },
        {
          "output_type": "stream",
          "name": "stdout",
          "text": [
            "197\n",
            "198\n"
          ]
        },
        {
          "output_type": "stream",
          "name": "stderr",
          "text": [
            "195it [00:24,  7.39it/s]"
          ]
        },
        {
          "output_type": "stream",
          "name": "stdout",
          "text": [
            "199\n",
            "200\n"
          ]
        },
        {
          "output_type": "stream",
          "name": "stderr",
          "text": [
            "197it [00:24,  7.11it/s]"
          ]
        },
        {
          "output_type": "stream",
          "name": "stdout",
          "text": [
            "201\n",
            "202\n"
          ]
        },
        {
          "output_type": "stream",
          "name": "stderr",
          "text": [
            "199it [00:24,  6.96it/s]"
          ]
        },
        {
          "output_type": "stream",
          "name": "stdout",
          "text": [
            "203\n",
            "204\n"
          ]
        },
        {
          "output_type": "stream",
          "name": "stderr",
          "text": [
            "201it [00:25,  7.08it/s]"
          ]
        },
        {
          "output_type": "stream",
          "name": "stdout",
          "text": [
            "205\n",
            "206\n"
          ]
        },
        {
          "output_type": "stream",
          "name": "stderr",
          "text": [
            "203it [00:25,  7.79it/s]"
          ]
        },
        {
          "output_type": "stream",
          "name": "stdout",
          "text": [
            "207\n",
            "208\n"
          ]
        },
        {
          "output_type": "stream",
          "name": "stderr",
          "text": [
            "205it [00:25,  8.18it/s]"
          ]
        },
        {
          "output_type": "stream",
          "name": "stdout",
          "text": [
            "209\n",
            "210\n"
          ]
        },
        {
          "output_type": "stream",
          "name": "stderr",
          "text": [
            "207it [00:25,  7.13it/s]"
          ]
        },
        {
          "output_type": "stream",
          "name": "stdout",
          "text": [
            "211\n",
            "212\n"
          ]
        },
        {
          "output_type": "stream",
          "name": "stderr",
          "text": [
            "209it [00:26,  7.72it/s]"
          ]
        },
        {
          "output_type": "stream",
          "name": "stdout",
          "text": [
            "213\n",
            "214\n"
          ]
        },
        {
          "output_type": "stream",
          "name": "stderr",
          "text": [
            "211it [00:26,  7.19it/s]"
          ]
        },
        {
          "output_type": "stream",
          "name": "stdout",
          "text": [
            "215\n",
            "216\n"
          ]
        },
        {
          "output_type": "stream",
          "name": "stderr",
          "text": [
            "213it [00:26,  7.36it/s]"
          ]
        },
        {
          "output_type": "stream",
          "name": "stdout",
          "text": [
            "217\n",
            "218\n"
          ]
        },
        {
          "output_type": "stream",
          "name": "stderr",
          "text": [
            "215it [00:26,  7.04it/s]"
          ]
        },
        {
          "output_type": "stream",
          "name": "stdout",
          "text": [
            "219\n",
            "220\n"
          ]
        },
        {
          "output_type": "stream",
          "name": "stderr",
          "text": [
            "217it [00:27,  6.97it/s]"
          ]
        },
        {
          "output_type": "stream",
          "name": "stdout",
          "text": [
            "221\n",
            "222\n"
          ]
        },
        {
          "output_type": "stream",
          "name": "stderr",
          "text": [
            "219it [00:27,  6.68it/s]"
          ]
        },
        {
          "output_type": "stream",
          "name": "stdout",
          "text": [
            "223\n",
            "224\n"
          ]
        },
        {
          "output_type": "stream",
          "name": "stderr",
          "text": [
            "221it [00:27,  6.86it/s]"
          ]
        },
        {
          "output_type": "stream",
          "name": "stdout",
          "text": [
            "225\n",
            "226\n"
          ]
        },
        {
          "output_type": "stream",
          "name": "stderr",
          "text": [
            "223it [00:28,  6.21it/s]"
          ]
        },
        {
          "output_type": "stream",
          "name": "stdout",
          "text": [
            "227\n",
            "228\n"
          ]
        },
        {
          "output_type": "stream",
          "name": "stderr",
          "text": [
            "225it [00:28,  7.26it/s]"
          ]
        },
        {
          "output_type": "stream",
          "name": "stdout",
          "text": [
            "229\n",
            "230\n"
          ]
        },
        {
          "output_type": "stream",
          "name": "stderr",
          "text": [
            "227it [00:28,  7.88it/s]"
          ]
        },
        {
          "output_type": "stream",
          "name": "stdout",
          "text": [
            "231\n",
            "232\n"
          ]
        },
        {
          "output_type": "stream",
          "name": "stderr",
          "text": [
            "229it [00:28,  7.72it/s]"
          ]
        },
        {
          "output_type": "stream",
          "name": "stdout",
          "text": [
            "233\n",
            "234\n"
          ]
        },
        {
          "output_type": "stream",
          "name": "stderr",
          "text": [
            "\r231it [00:29,  8.33it/s]"
          ]
        },
        {
          "output_type": "stream",
          "name": "stdout",
          "text": [
            "235\n",
            "236\n"
          ]
        },
        {
          "output_type": "stream",
          "name": "stderr",
          "text": [
            "\r232it [00:29,  8.45it/s]"
          ]
        },
        {
          "output_type": "stream",
          "name": "stdout",
          "text": [
            "237\n",
            "238\n"
          ]
        },
        {
          "output_type": "stream",
          "name": "stderr",
          "text": [
            "\r234it [00:29,  8.78it/s]"
          ]
        },
        {
          "output_type": "stream",
          "name": "stdout",
          "text": [
            "239\n"
          ]
        },
        {
          "output_type": "stream",
          "name": "stderr",
          "text": [
            "236it [00:29,  7.39it/s]"
          ]
        },
        {
          "output_type": "stream",
          "name": "stdout",
          "text": [
            "240\n",
            "241\n"
          ]
        },
        {
          "output_type": "stream",
          "name": "stderr",
          "text": [
            "238it [00:30,  7.14it/s]"
          ]
        },
        {
          "output_type": "stream",
          "name": "stdout",
          "text": [
            "242\n",
            "243\n"
          ]
        },
        {
          "output_type": "stream",
          "name": "stderr",
          "text": [
            "240it [00:30,  6.68it/s]"
          ]
        },
        {
          "output_type": "stream",
          "name": "stdout",
          "text": [
            "244\n",
            "245\n"
          ]
        },
        {
          "output_type": "stream",
          "name": "stderr",
          "text": [
            "\r242it [00:30,  8.19it/s]"
          ]
        },
        {
          "output_type": "stream",
          "name": "stdout",
          "text": [
            "246\n",
            "247\n"
          ]
        },
        {
          "output_type": "stream",
          "name": "stderr",
          "text": [
            "244it [00:30,  7.30it/s]"
          ]
        },
        {
          "output_type": "stream",
          "name": "stdout",
          "text": [
            "248\n",
            "249\n"
          ]
        },
        {
          "output_type": "stream",
          "name": "stderr",
          "text": [
            "246it [00:31,  7.22it/s]"
          ]
        },
        {
          "output_type": "stream",
          "name": "stdout",
          "text": [
            "250\n",
            "251\n"
          ]
        },
        {
          "output_type": "stream",
          "name": "stderr",
          "text": [
            "248it [00:31,  7.15it/s]"
          ]
        },
        {
          "output_type": "stream",
          "name": "stdout",
          "text": [
            "252\n",
            "253\n"
          ]
        },
        {
          "output_type": "stream",
          "name": "stderr",
          "text": [
            "250it [00:31,  6.63it/s]"
          ]
        },
        {
          "output_type": "stream",
          "name": "stdout",
          "text": [
            "254\n",
            "255\n",
            "256\n"
          ]
        },
        {
          "output_type": "stream",
          "name": "stderr",
          "text": [
            "253it [00:32,  5.26it/s]"
          ]
        },
        {
          "output_type": "stream",
          "name": "stdout",
          "text": [
            "257\n",
            "258\n"
          ]
        },
        {
          "output_type": "stream",
          "name": "stderr",
          "text": [
            "255it [00:32,  5.41it/s]"
          ]
        },
        {
          "output_type": "stream",
          "name": "stdout",
          "text": [
            "259\n",
            "260\n"
          ]
        },
        {
          "output_type": "stream",
          "name": "stderr",
          "text": [
            "257it [00:33,  6.15it/s]"
          ]
        },
        {
          "output_type": "stream",
          "name": "stdout",
          "text": [
            "261\n",
            "262\n"
          ]
        },
        {
          "output_type": "stream",
          "name": "stderr",
          "text": [
            "\r258it [00:33,  6.26it/s]"
          ]
        },
        {
          "output_type": "stream",
          "name": "stdout",
          "text": [
            "263\n",
            "264\n"
          ]
        },
        {
          "output_type": "stream",
          "name": "stderr",
          "text": [
            "261it [00:33,  7.03it/s]"
          ]
        },
        {
          "output_type": "stream",
          "name": "stdout",
          "text": [
            "265\n",
            "266\n"
          ]
        },
        {
          "output_type": "stream",
          "name": "stderr",
          "text": [
            "263it [00:33,  7.60it/s]"
          ]
        },
        {
          "output_type": "stream",
          "name": "stdout",
          "text": [
            "267\n",
            "268\n"
          ]
        },
        {
          "output_type": "stream",
          "name": "stderr",
          "text": [
            "265it [00:34,  6.69it/s]"
          ]
        },
        {
          "output_type": "stream",
          "name": "stdout",
          "text": [
            "269\n",
            "270\n"
          ]
        },
        {
          "output_type": "stream",
          "name": "stderr",
          "text": [
            "267it [00:34,  7.38it/s]"
          ]
        },
        {
          "output_type": "stream",
          "name": "stdout",
          "text": [
            "271\n",
            "272\n"
          ]
        },
        {
          "output_type": "stream",
          "name": "stderr",
          "text": [
            "269it [00:34,  7.29it/s]"
          ]
        },
        {
          "output_type": "stream",
          "name": "stdout",
          "text": [
            "273\n",
            "274\n"
          ]
        },
        {
          "output_type": "stream",
          "name": "stderr",
          "text": [
            "271it [00:34,  6.92it/s]"
          ]
        },
        {
          "output_type": "stream",
          "name": "stdout",
          "text": [
            "275\n",
            "276\n"
          ]
        },
        {
          "output_type": "stream",
          "name": "stderr",
          "text": [
            "273it [00:35,  6.88it/s]"
          ]
        },
        {
          "output_type": "stream",
          "name": "stdout",
          "text": [
            "277\n",
            "278\n"
          ]
        },
        {
          "output_type": "stream",
          "name": "stderr",
          "text": [
            "\r275it [00:35,  7.02it/s]"
          ]
        },
        {
          "output_type": "stream",
          "name": "stdout",
          "text": [
            "279\n",
            "280\n"
          ]
        },
        {
          "output_type": "stream",
          "name": "stderr",
          "text": [
            "\r277it [00:35,  8.28it/s]"
          ]
        },
        {
          "output_type": "stream",
          "name": "stdout",
          "text": [
            "281\n",
            "282\n"
          ]
        },
        {
          "output_type": "stream",
          "name": "stderr",
          "text": [
            "279it [00:35,  7.85it/s]"
          ]
        },
        {
          "output_type": "stream",
          "name": "stdout",
          "text": [
            "283\n",
            "284\n"
          ]
        },
        {
          "output_type": "stream",
          "name": "stderr",
          "text": [
            "281it [00:36,  7.70it/s]"
          ]
        },
        {
          "output_type": "stream",
          "name": "stdout",
          "text": [
            "285\n",
            "286\n"
          ]
        },
        {
          "output_type": "stream",
          "name": "stderr",
          "text": [
            "283it [00:36,  7.36it/s]"
          ]
        },
        {
          "output_type": "stream",
          "name": "stdout",
          "text": [
            "287\n",
            "288\n"
          ]
        },
        {
          "output_type": "stream",
          "name": "stderr",
          "text": [
            "285it [00:36,  6.70it/s]"
          ]
        },
        {
          "output_type": "stream",
          "name": "stdout",
          "text": [
            "289\n",
            "290\n"
          ]
        },
        {
          "output_type": "stream",
          "name": "stderr",
          "text": [
            "\r287it [00:37,  7.29it/s]"
          ]
        },
        {
          "output_type": "stream",
          "name": "stdout",
          "text": [
            "291\n",
            "292\n"
          ]
        },
        {
          "output_type": "stream",
          "name": "stderr",
          "text": [
            "289it [00:37,  7.70it/s]"
          ]
        },
        {
          "output_type": "stream",
          "name": "stdout",
          "text": [
            "293\n",
            "294\n"
          ]
        },
        {
          "output_type": "stream",
          "name": "stderr",
          "text": [
            "292it [00:37,  8.31it/s]"
          ]
        },
        {
          "output_type": "stream",
          "name": "stdout",
          "text": [
            "295\n",
            "296\n"
          ]
        },
        {
          "output_type": "stream",
          "name": "stderr",
          "text": [
            "294it [00:37,  8.03it/s]"
          ]
        },
        {
          "output_type": "stream",
          "name": "stdout",
          "text": [
            "297\n",
            "298\n",
            "299\n"
          ]
        },
        {
          "output_type": "stream",
          "name": "stderr",
          "text": [
            "\r296it [00:38,  8.67it/s]"
          ]
        },
        {
          "output_type": "stream",
          "name": "stdout",
          "text": [
            "300\n",
            "301\n"
          ]
        },
        {
          "output_type": "stream",
          "name": "stderr",
          "text": [
            "298it [00:38,  8.25it/s]"
          ]
        },
        {
          "output_type": "stream",
          "name": "stdout",
          "text": [
            "302\n",
            "303\n"
          ]
        },
        {
          "output_type": "stream",
          "name": "stderr",
          "text": [
            "300it [00:38,  7.91it/s]"
          ]
        },
        {
          "output_type": "stream",
          "name": "stdout",
          "text": [
            "304\n",
            "305\n"
          ]
        },
        {
          "output_type": "stream",
          "name": "stderr",
          "text": [
            "302it [00:38,  7.93it/s]"
          ]
        },
        {
          "output_type": "stream",
          "name": "stdout",
          "text": [
            "306\n",
            "307\n"
          ]
        },
        {
          "output_type": "stream",
          "name": "stderr",
          "text": [
            "304it [00:39,  7.31it/s]"
          ]
        },
        {
          "output_type": "stream",
          "name": "stdout",
          "text": [
            "308\n",
            "309\n"
          ]
        },
        {
          "output_type": "stream",
          "name": "stderr",
          "text": [
            "306it [00:39,  6.72it/s]"
          ]
        },
        {
          "output_type": "stream",
          "name": "stdout",
          "text": [
            "310\n",
            "311\n"
          ]
        },
        {
          "output_type": "stream",
          "name": "stderr",
          "text": [
            "\r308it [00:39,  8.07it/s]"
          ]
        },
        {
          "output_type": "stream",
          "name": "stdout",
          "text": [
            "312\n",
            "313\n"
          ]
        },
        {
          "output_type": "stream",
          "name": "stderr",
          "text": [
            "310it [00:40,  7.62it/s]"
          ]
        },
        {
          "output_type": "stream",
          "name": "stdout",
          "text": [
            "314\n",
            "315\n"
          ]
        },
        {
          "output_type": "stream",
          "name": "stderr",
          "text": [
            "\r311it [00:40,  7.87it/s]"
          ]
        },
        {
          "output_type": "stream",
          "name": "stdout",
          "text": [
            "316\n"
          ]
        },
        {
          "output_type": "stream",
          "name": "stderr",
          "text": [
            "313it [00:40,  4.59it/s]"
          ]
        },
        {
          "output_type": "stream",
          "name": "stdout",
          "text": [
            "317\n",
            "318\n"
          ]
        },
        {
          "output_type": "stream",
          "name": "stderr",
          "text": [
            "315it [00:41,  5.34it/s]"
          ]
        },
        {
          "output_type": "stream",
          "name": "stdout",
          "text": [
            "319\n",
            "320\n"
          ]
        },
        {
          "output_type": "stream",
          "name": "stderr",
          "text": [
            "\r316it [00:41,  5.82it/s]"
          ]
        },
        {
          "output_type": "stream",
          "name": "stdout",
          "text": [
            "321\n",
            "322\n"
          ]
        },
        {
          "output_type": "stream",
          "name": "stderr",
          "text": [
            "319it [00:41,  6.68it/s]"
          ]
        },
        {
          "output_type": "stream",
          "name": "stdout",
          "text": [
            "323\n",
            "324\n"
          ]
        },
        {
          "output_type": "stream",
          "name": "stderr",
          "text": [
            "321it [00:41,  6.75it/s]"
          ]
        },
        {
          "output_type": "stream",
          "name": "stdout",
          "text": [
            "325\n",
            "326\n"
          ]
        },
        {
          "output_type": "stream",
          "name": "stderr",
          "text": [
            "323it [00:42,  7.28it/s]"
          ]
        },
        {
          "output_type": "stream",
          "name": "stdout",
          "text": [
            "327\n",
            "328\n"
          ]
        },
        {
          "output_type": "stream",
          "name": "stderr",
          "text": [
            "\r324it [00:42,  7.55it/s]"
          ]
        },
        {
          "output_type": "stream",
          "name": "stdout",
          "text": [
            "329\n",
            "330\n"
          ]
        },
        {
          "output_type": "stream",
          "name": "stderr",
          "text": [
            "327it [00:42,  7.33it/s]"
          ]
        },
        {
          "output_type": "stream",
          "name": "stdout",
          "text": [
            "331\n",
            "332\n"
          ]
        },
        {
          "output_type": "stream",
          "name": "stderr",
          "text": [
            "329it [00:43,  7.03it/s]"
          ]
        },
        {
          "output_type": "stream",
          "name": "stdout",
          "text": [
            "333\n",
            "334\n"
          ]
        },
        {
          "output_type": "stream",
          "name": "stderr",
          "text": [
            "\r331it [00:43,  8.34it/s]"
          ]
        },
        {
          "output_type": "stream",
          "name": "stdout",
          "text": [
            "335\n",
            "336\n"
          ]
        },
        {
          "output_type": "stream",
          "name": "stderr",
          "text": [
            "333it [00:43,  7.65it/s]"
          ]
        },
        {
          "output_type": "stream",
          "name": "stdout",
          "text": [
            "337\n",
            "338\n"
          ]
        },
        {
          "output_type": "stream",
          "name": "stderr",
          "text": [
            "335it [00:43,  6.74it/s]"
          ]
        },
        {
          "output_type": "stream",
          "name": "stdout",
          "text": [
            "339\n",
            "340\n"
          ]
        },
        {
          "output_type": "stream",
          "name": "stderr",
          "text": [
            "\r337it [00:44,  6.90it/s]"
          ]
        },
        {
          "output_type": "stream",
          "name": "stdout",
          "text": [
            "341\n",
            "342\n"
          ]
        },
        {
          "output_type": "stream",
          "name": "stderr",
          "text": [
            "\r339it [00:44,  7.46it/s]"
          ]
        },
        {
          "output_type": "stream",
          "name": "stdout",
          "text": [
            "343\n",
            "344\n"
          ]
        },
        {
          "output_type": "stream",
          "name": "stderr",
          "text": [
            "341it [00:44,  7.22it/s]"
          ]
        },
        {
          "output_type": "stream",
          "name": "stdout",
          "text": [
            "345\n",
            "346\n"
          ]
        },
        {
          "output_type": "stream",
          "name": "stderr",
          "text": [
            "\r342it [00:44,  6.81it/s]"
          ]
        },
        {
          "output_type": "stream",
          "name": "stdout",
          "text": [
            "347\n",
            "348\n"
          ]
        },
        {
          "output_type": "stream",
          "name": "stderr",
          "text": [
            "346it [00:45,  7.98it/s]"
          ]
        },
        {
          "output_type": "stream",
          "name": "stdout",
          "text": [
            "349\n",
            "350\n",
            "351\n"
          ]
        },
        {
          "output_type": "stream",
          "name": "stderr",
          "text": [
            "348it [00:45,  7.75it/s]"
          ]
        },
        {
          "output_type": "stream",
          "name": "stdout",
          "text": [
            "352\n",
            "353\n"
          ]
        },
        {
          "output_type": "stream",
          "name": "stderr",
          "text": [
            "350it [00:45,  7.05it/s]"
          ]
        },
        {
          "output_type": "stream",
          "name": "stdout",
          "text": [
            "354\n",
            "355\n"
          ]
        },
        {
          "output_type": "stream",
          "name": "stderr",
          "text": [
            "352it [00:46,  7.17it/s]"
          ]
        },
        {
          "output_type": "stream",
          "name": "stdout",
          "text": [
            "356\n",
            "357\n"
          ]
        },
        {
          "output_type": "stream",
          "name": "stderr",
          "text": [
            "\r353it [00:46,  7.47it/s]"
          ]
        },
        {
          "output_type": "stream",
          "name": "stdout",
          "text": [
            "358\n"
          ]
        },
        {
          "output_type": "stream",
          "name": "stderr",
          "text": [
            "355it [00:46,  6.84it/s]"
          ]
        },
        {
          "output_type": "stream",
          "name": "stdout",
          "text": [
            "359\n",
            "360\n"
          ]
        },
        {
          "output_type": "stream",
          "name": "stderr",
          "text": [
            "357it [00:46,  7.03it/s]"
          ]
        },
        {
          "output_type": "stream",
          "name": "stdout",
          "text": [
            "361\n",
            "362\n"
          ]
        },
        {
          "output_type": "stream",
          "name": "stderr",
          "text": [
            "\r358it [00:47,  7.26it/s]"
          ]
        },
        {
          "output_type": "stream",
          "name": "stdout",
          "text": [
            "363\n",
            "364\n"
          ]
        },
        {
          "output_type": "stream",
          "name": "stderr",
          "text": [
            "361it [00:47,  6.84it/s]"
          ]
        },
        {
          "output_type": "stream",
          "name": "stdout",
          "text": [
            "365\n",
            "366\n"
          ]
        },
        {
          "output_type": "stream",
          "name": "stderr",
          "text": [
            "363it [00:47,  7.05it/s]"
          ]
        },
        {
          "output_type": "stream",
          "name": "stdout",
          "text": [
            "367\n",
            "368\n"
          ]
        },
        {
          "output_type": "stream",
          "name": "stderr",
          "text": [
            "365it [00:47,  7.71it/s]"
          ]
        },
        {
          "output_type": "stream",
          "name": "stdout",
          "text": [
            "369\n",
            "370\n"
          ]
        },
        {
          "output_type": "stream",
          "name": "stderr",
          "text": [
            "367it [00:48,  7.43it/s]"
          ]
        },
        {
          "output_type": "stream",
          "name": "stdout",
          "text": [
            "371\n",
            "372\n"
          ]
        },
        {
          "output_type": "stream",
          "name": "stderr",
          "text": [
            "\r368it [00:48,  7.18it/s]"
          ]
        },
        {
          "output_type": "stream",
          "name": "stdout",
          "text": [
            "373\n",
            "374\n"
          ]
        },
        {
          "output_type": "stream",
          "name": "stderr",
          "text": [
            "371it [00:48,  8.07it/s]"
          ]
        },
        {
          "output_type": "stream",
          "name": "stdout",
          "text": [
            "375\n",
            "376\n"
          ]
        },
        {
          "output_type": "stream",
          "name": "stderr",
          "text": [
            "\r372it [00:48,  7.61it/s]"
          ]
        },
        {
          "output_type": "stream",
          "name": "stdout",
          "text": [
            "377\n",
            "378\n"
          ]
        },
        {
          "output_type": "stream",
          "name": "stderr",
          "text": [
            "375it [00:49,  7.14it/s]"
          ]
        },
        {
          "output_type": "stream",
          "name": "stdout",
          "text": [
            "379\n",
            "380\n"
          ]
        },
        {
          "output_type": "stream",
          "name": "stderr",
          "text": [
            "377it [00:49,  6.98it/s]"
          ]
        },
        {
          "output_type": "stream",
          "name": "stdout",
          "text": [
            "381\n",
            "382\n"
          ]
        },
        {
          "output_type": "stream",
          "name": "stderr",
          "text": [
            "379it [00:49,  7.31it/s]"
          ]
        },
        {
          "output_type": "stream",
          "name": "stdout",
          "text": [
            "383\n",
            "384\n"
          ]
        },
        {
          "output_type": "stream",
          "name": "stderr",
          "text": [
            "\r381it [00:50,  7.85it/s]"
          ]
        },
        {
          "output_type": "stream",
          "name": "stdout",
          "text": [
            "385\n",
            "386\n"
          ]
        },
        {
          "output_type": "stream",
          "name": "stderr",
          "text": [
            "383it [00:50,  7.37it/s]"
          ]
        },
        {
          "output_type": "stream",
          "name": "stdout",
          "text": [
            "387\n",
            "388\n"
          ]
        },
        {
          "output_type": "stream",
          "name": "stderr",
          "text": [
            "385it [00:50,  8.05it/s]"
          ]
        },
        {
          "output_type": "stream",
          "name": "stdout",
          "text": [
            "389\n",
            "390\n"
          ]
        },
        {
          "output_type": "stream",
          "name": "stderr",
          "text": [
            "387it [00:50,  6.67it/s]"
          ]
        },
        {
          "output_type": "stream",
          "name": "stdout",
          "text": [
            "391\n",
            "392\n"
          ]
        },
        {
          "output_type": "stream",
          "name": "stderr",
          "text": [
            "\r388it [00:51,  6.72it/s]"
          ]
        },
        {
          "output_type": "stream",
          "name": "stdout",
          "text": [
            "393\n"
          ]
        },
        {
          "output_type": "stream",
          "name": "stderr",
          "text": [
            "390it [00:51,  6.65it/s]"
          ]
        },
        {
          "output_type": "stream",
          "name": "stdout",
          "text": [
            "394\n",
            "395\n"
          ]
        },
        {
          "output_type": "stream",
          "name": "stderr",
          "text": [
            "392it [00:51,  7.35it/s]"
          ]
        },
        {
          "output_type": "stream",
          "name": "stdout",
          "text": [
            "396\n",
            "397\n"
          ]
        },
        {
          "output_type": "stream",
          "name": "stderr",
          "text": [
            "\r394it [00:51,  7.69it/s]"
          ]
        },
        {
          "output_type": "stream",
          "name": "stdout",
          "text": [
            "398\n",
            "399\n"
          ]
        },
        {
          "output_type": "stream",
          "name": "stderr",
          "text": [
            "397it [00:52,  8.60it/s]"
          ]
        },
        {
          "output_type": "stream",
          "name": "stdout",
          "text": [
            "400\n",
            "401\n",
            "402\n"
          ]
        },
        {
          "output_type": "stream",
          "name": "stderr",
          "text": [
            "400it [00:52,  9.18it/s]"
          ]
        },
        {
          "output_type": "stream",
          "name": "stdout",
          "text": [
            "403\n",
            "404\n",
            "405\n"
          ]
        },
        {
          "output_type": "stream",
          "name": "stderr",
          "text": [
            "402it [00:52,  7.04it/s]"
          ]
        },
        {
          "output_type": "stream",
          "name": "stdout",
          "text": [
            "406\n",
            "407\n"
          ]
        },
        {
          "output_type": "stream",
          "name": "stderr",
          "text": [
            "404it [00:53,  7.25it/s]"
          ]
        },
        {
          "output_type": "stream",
          "name": "stdout",
          "text": [
            "408\n",
            "409\n"
          ]
        },
        {
          "output_type": "stream",
          "name": "stderr",
          "text": [
            "406it [00:53,  6.24it/s]"
          ]
        },
        {
          "output_type": "stream",
          "name": "stdout",
          "text": [
            "410\n",
            "411\n"
          ]
        },
        {
          "output_type": "stream",
          "name": "stderr",
          "text": [
            "409it [00:53,  8.18it/s]"
          ]
        },
        {
          "output_type": "stream",
          "name": "stdout",
          "text": [
            "412\n",
            "413\n",
            "414\n"
          ]
        },
        {
          "output_type": "stream",
          "name": "stderr",
          "text": [
            "\r411it [00:54,  9.32it/s]"
          ]
        },
        {
          "output_type": "stream",
          "name": "stdout",
          "text": [
            "415\n",
            "416\n"
          ]
        },
        {
          "output_type": "stream",
          "name": "stderr",
          "text": [
            "413it [00:54,  8.52it/s]"
          ]
        },
        {
          "output_type": "stream",
          "name": "stdout",
          "text": [
            "417\n",
            "418\n"
          ]
        },
        {
          "output_type": "stream",
          "name": "stderr",
          "text": [
            "415it [00:54,  6.94it/s]"
          ]
        },
        {
          "output_type": "stream",
          "name": "stdout",
          "text": [
            "419\n",
            "420\n"
          ]
        },
        {
          "output_type": "stream",
          "name": "stderr",
          "text": [
            "417it [00:54,  7.00it/s]"
          ]
        },
        {
          "output_type": "stream",
          "name": "stdout",
          "text": [
            "421\n",
            "422\n"
          ]
        },
        {
          "output_type": "stream",
          "name": "stderr",
          "text": [
            "419it [00:55,  7.29it/s]"
          ]
        },
        {
          "output_type": "stream",
          "name": "stdout",
          "text": [
            "423\n",
            "424\n"
          ]
        },
        {
          "output_type": "stream",
          "name": "stderr",
          "text": [
            "421it [00:55,  6.91it/s]"
          ]
        },
        {
          "output_type": "stream",
          "name": "stdout",
          "text": [
            "425\n",
            "426\n"
          ]
        },
        {
          "output_type": "stream",
          "name": "stderr",
          "text": [
            "423it [00:55,  6.66it/s]"
          ]
        },
        {
          "output_type": "stream",
          "name": "stdout",
          "text": [
            "427\n",
            "428\n"
          ]
        },
        {
          "output_type": "stream",
          "name": "stderr",
          "text": [
            "425it [00:56,  6.53it/s]"
          ]
        },
        {
          "output_type": "stream",
          "name": "stdout",
          "text": [
            "429\n",
            "430\n"
          ]
        },
        {
          "output_type": "stream",
          "name": "stderr",
          "text": [
            "427it [00:56,  7.53it/s]"
          ]
        },
        {
          "output_type": "stream",
          "name": "stdout",
          "text": [
            "431\n",
            "432\n"
          ]
        },
        {
          "output_type": "stream",
          "name": "stderr",
          "text": [
            "429it [00:56,  6.73it/s]"
          ]
        },
        {
          "output_type": "stream",
          "name": "stdout",
          "text": [
            "433\n",
            "434\n"
          ]
        },
        {
          "output_type": "stream",
          "name": "stderr",
          "text": [
            "\r431it [00:56,  9.21it/s]"
          ]
        },
        {
          "output_type": "stream",
          "name": "stdout",
          "text": [
            "435\n",
            "436\n"
          ]
        },
        {
          "output_type": "stream",
          "name": "stderr",
          "text": [
            "433it [00:57,  7.62it/s]"
          ]
        },
        {
          "output_type": "stream",
          "name": "stdout",
          "text": [
            "437\n",
            "438\n"
          ]
        },
        {
          "output_type": "stream",
          "name": "stderr",
          "text": [
            "\r435it [00:57,  7.89it/s]"
          ]
        },
        {
          "output_type": "stream",
          "name": "stdout",
          "text": [
            "439\n",
            "440\n"
          ]
        },
        {
          "output_type": "stream",
          "name": "stderr",
          "text": [
            "438it [00:57,  8.51it/s]"
          ]
        },
        {
          "output_type": "stream",
          "name": "stdout",
          "text": [
            "441\n",
            "442\n",
            "443\n"
          ]
        },
        {
          "output_type": "stream",
          "name": "stderr",
          "text": [
            "\r439it [00:57,  8.38it/s]"
          ]
        },
        {
          "output_type": "stream",
          "name": "stdout",
          "text": [
            "444\n",
            "445\n"
          ]
        },
        {
          "output_type": "stream",
          "name": "stderr",
          "text": [
            "442it [00:58,  8.96it/s]"
          ]
        },
        {
          "output_type": "stream",
          "name": "stdout",
          "text": [
            "446\n",
            "447\n"
          ]
        },
        {
          "output_type": "stream",
          "name": "stderr",
          "text": [
            "444it [00:58,  8.03it/s]"
          ]
        },
        {
          "output_type": "stream",
          "name": "stdout",
          "text": [
            "448\n",
            "449\n"
          ]
        },
        {
          "output_type": "stream",
          "name": "stderr",
          "text": [
            "\r445it [00:58,  7.87it/s]"
          ]
        },
        {
          "output_type": "stream",
          "name": "stdout",
          "text": [
            "450\n",
            "451\n"
          ]
        },
        {
          "output_type": "stream",
          "name": "stderr",
          "text": [
            "448it [00:58,  7.65it/s]"
          ]
        },
        {
          "output_type": "stream",
          "name": "stdout",
          "text": [
            "452\n",
            "453\n"
          ]
        },
        {
          "output_type": "stream",
          "name": "stderr",
          "text": [
            "450it [00:59,  7.98it/s]"
          ]
        },
        {
          "output_type": "stream",
          "name": "stdout",
          "text": [
            "454\n",
            "455\n"
          ]
        },
        {
          "output_type": "stream",
          "name": "stderr",
          "text": [
            "452it [00:59,  8.45it/s]"
          ]
        },
        {
          "output_type": "stream",
          "name": "stdout",
          "text": [
            "456\n",
            "457\n"
          ]
        },
        {
          "output_type": "stream",
          "name": "stderr",
          "text": [
            "\r453it [00:59,  7.34it/s]"
          ]
        },
        {
          "output_type": "stream",
          "name": "stdout",
          "text": [
            "458\n",
            "459\n"
          ]
        },
        {
          "output_type": "stream",
          "name": "stderr",
          "text": [
            "456it [00:59,  8.03it/s]"
          ]
        },
        {
          "output_type": "stream",
          "name": "stdout",
          "text": [
            "460\n",
            "461\n"
          ]
        },
        {
          "output_type": "stream",
          "name": "stderr",
          "text": [
            "458it [01:00,  7.11it/s]"
          ]
        },
        {
          "output_type": "stream",
          "name": "stdout",
          "text": [
            "462\n",
            "463\n"
          ]
        },
        {
          "output_type": "stream",
          "name": "stderr",
          "text": [
            "461it [01:00,  8.76it/s]"
          ]
        },
        {
          "output_type": "stream",
          "name": "stdout",
          "text": [
            "464\n",
            "465\n",
            "466\n"
          ]
        },
        {
          "output_type": "stream",
          "name": "stderr",
          "text": [
            "463it [01:00,  8.55it/s]"
          ]
        },
        {
          "output_type": "stream",
          "name": "stdout",
          "text": [
            "467\n",
            "468\n"
          ]
        },
        {
          "output_type": "stream",
          "name": "stderr",
          "text": [
            "465it [01:01,  7.07it/s]"
          ]
        },
        {
          "output_type": "stream",
          "name": "stdout",
          "text": [
            "469\n",
            "470\n"
          ]
        },
        {
          "output_type": "stream",
          "name": "stderr",
          "text": [
            "467it [01:01,  6.44it/s]"
          ]
        },
        {
          "output_type": "stream",
          "name": "stdout",
          "text": [
            "471\n",
            "472\n"
          ]
        },
        {
          "output_type": "stream",
          "name": "stderr",
          "text": [
            "\r469it [01:01,  7.32it/s]"
          ]
        },
        {
          "output_type": "stream",
          "name": "stdout",
          "text": [
            "473\n",
            "474\n"
          ]
        },
        {
          "output_type": "stream",
          "name": "stderr",
          "text": [
            "\r471it [01:01,  8.25it/s]"
          ]
        },
        {
          "output_type": "stream",
          "name": "stdout",
          "text": [
            "475\n",
            "476\n",
            "478\n"
          ]
        },
        {
          "output_type": "stream",
          "name": "stderr",
          "text": [
            "474it [01:02,  7.98it/s]"
          ]
        },
        {
          "output_type": "stream",
          "name": "stdout",
          "text": [
            "480\n",
            "481\n"
          ]
        },
        {
          "output_type": "stream",
          "name": "stderr",
          "text": [
            "476it [01:02,  8.33it/s]"
          ]
        },
        {
          "output_type": "stream",
          "name": "stdout",
          "text": [
            "482\n",
            "483\n"
          ]
        },
        {
          "output_type": "stream",
          "name": "stderr",
          "text": [
            "478it [01:02,  7.87it/s]"
          ]
        },
        {
          "output_type": "stream",
          "name": "stdout",
          "text": [
            "484\n",
            "485\n"
          ]
        },
        {
          "output_type": "stream",
          "name": "stderr",
          "text": [
            "480it [01:03,  6.56it/s]"
          ]
        },
        {
          "output_type": "stream",
          "name": "stdout",
          "text": [
            "486\n",
            "487\n"
          ]
        },
        {
          "output_type": "stream",
          "name": "stderr",
          "text": [
            "482it [01:03,  6.94it/s]"
          ]
        },
        {
          "output_type": "stream",
          "name": "stdout",
          "text": [
            "488\n",
            "489\n"
          ]
        },
        {
          "output_type": "stream",
          "name": "stderr",
          "text": [
            "484it [01:03,  7.24it/s]"
          ]
        },
        {
          "output_type": "stream",
          "name": "stdout",
          "text": [
            "490\n",
            "491\n"
          ]
        },
        {
          "output_type": "stream",
          "name": "stderr",
          "text": [
            "486it [01:03,  7.36it/s]"
          ]
        },
        {
          "output_type": "stream",
          "name": "stdout",
          "text": [
            "492\n",
            "493\n"
          ]
        },
        {
          "output_type": "stream",
          "name": "stderr",
          "text": [
            "488it [01:04,  7.44it/s]"
          ]
        },
        {
          "output_type": "stream",
          "name": "stdout",
          "text": [
            "494\n",
            "495\n",
            "496\n"
          ]
        },
        {
          "output_type": "stream",
          "name": "stderr",
          "text": [
            "491it [01:04,  7.89it/s]"
          ]
        },
        {
          "output_type": "stream",
          "name": "stdout",
          "text": [
            "497\n",
            "498\n"
          ]
        },
        {
          "output_type": "stream",
          "name": "stderr",
          "text": [
            "493it [01:04,  7.44it/s]"
          ]
        },
        {
          "output_type": "stream",
          "name": "stdout",
          "text": [
            "499\n",
            "500\n"
          ]
        },
        {
          "output_type": "stream",
          "name": "stderr",
          "text": [
            "\r494it [01:05,  7.16it/s]"
          ]
        },
        {
          "output_type": "stream",
          "name": "stdout",
          "text": [
            "501\n",
            "502\n"
          ]
        },
        {
          "output_type": "stream",
          "name": "stderr",
          "text": [
            "497it [01:05,  7.55it/s]"
          ]
        },
        {
          "output_type": "stream",
          "name": "stdout",
          "text": [
            "504\n",
            "505\n"
          ]
        },
        {
          "output_type": "stream",
          "name": "stderr",
          "text": [
            "499it [01:05,  6.50it/s]"
          ]
        },
        {
          "output_type": "stream",
          "name": "stdout",
          "text": [
            "506\n",
            "507\n"
          ]
        },
        {
          "output_type": "stream",
          "name": "stderr",
          "text": [
            "501it [01:06,  6.98it/s]"
          ]
        },
        {
          "output_type": "stream",
          "name": "stdout",
          "text": [
            "508\n",
            "509\n"
          ]
        },
        {
          "output_type": "stream",
          "name": "stderr",
          "text": [
            "\r502it [01:06,  6.91it/s]"
          ]
        },
        {
          "output_type": "stream",
          "name": "stdout",
          "text": [
            "510\n"
          ]
        },
        {
          "output_type": "stream",
          "name": "stderr",
          "text": [
            "\r503it [01:06,  6.13it/s]"
          ]
        },
        {
          "output_type": "stream",
          "name": "stdout",
          "text": [
            "511\n",
            "512\n"
          ]
        },
        {
          "output_type": "stream",
          "name": "stderr",
          "text": [
            "506it [01:06,  7.45it/s]"
          ]
        },
        {
          "output_type": "stream",
          "name": "stdout",
          "text": [
            "513\n",
            "514\n"
          ]
        },
        {
          "output_type": "stream",
          "name": "stderr",
          "text": [
            "508it [01:07,  6.74it/s]"
          ]
        },
        {
          "output_type": "stream",
          "name": "stdout",
          "text": [
            "515\n",
            "516\n",
            "517\n"
          ]
        },
        {
          "output_type": "stream",
          "name": "stderr",
          "text": [
            "\r510it [01:07,  6.11it/s]"
          ]
        },
        {
          "output_type": "stream",
          "name": "stdout",
          "text": [
            "518\n"
          ]
        },
        {
          "output_type": "stream",
          "name": "stderr",
          "text": [
            "512it [01:07,  5.49it/s]"
          ]
        },
        {
          "output_type": "stream",
          "name": "stdout",
          "text": [
            "519\n",
            "520\n"
          ]
        },
        {
          "output_type": "stream",
          "name": "stderr",
          "text": [
            "\r513it [01:07,  6.00it/s]"
          ]
        },
        {
          "output_type": "stream",
          "name": "stdout",
          "text": [
            "521\n",
            "522\n"
          ]
        },
        {
          "output_type": "stream",
          "name": "stderr",
          "text": [
            "516it [01:08,  7.34it/s]"
          ]
        },
        {
          "output_type": "stream",
          "name": "stdout",
          "text": [
            "523\n",
            "524\n"
          ]
        },
        {
          "output_type": "stream",
          "name": "stderr",
          "text": [
            "518it [01:08,  7.00it/s]"
          ]
        },
        {
          "output_type": "stream",
          "name": "stdout",
          "text": [
            "525\n",
            "526\n"
          ]
        },
        {
          "output_type": "stream",
          "name": "stderr",
          "text": [
            "520it [01:08,  7.25it/s]"
          ]
        },
        {
          "output_type": "stream",
          "name": "stdout",
          "text": [
            "527\n",
            "528\n",
            "529\n"
          ]
        },
        {
          "output_type": "stream",
          "name": "stderr",
          "text": [
            "\r522it [01:09,  8.53it/s]"
          ]
        },
        {
          "output_type": "stream",
          "name": "stdout",
          "text": [
            "530\n"
          ]
        },
        {
          "output_type": "stream",
          "name": "stderr",
          "text": [
            "524it [01:09,  6.51it/s]"
          ]
        },
        {
          "output_type": "stream",
          "name": "stdout",
          "text": [
            "531\n",
            "532\n"
          ]
        },
        {
          "output_type": "stream",
          "name": "stderr",
          "text": [
            "526it [01:09,  6.10it/s]"
          ]
        },
        {
          "output_type": "stream",
          "name": "stdout",
          "text": [
            "533\n",
            "534\n"
          ]
        },
        {
          "output_type": "stream",
          "name": "stderr",
          "text": [
            "528it [01:10,  6.40it/s]"
          ]
        },
        {
          "output_type": "stream",
          "name": "stdout",
          "text": [
            "535\n",
            "536\n"
          ]
        },
        {
          "output_type": "stream",
          "name": "stderr",
          "text": [
            "\r529it [01:10,  6.46it/s]"
          ]
        },
        {
          "output_type": "stream",
          "name": "stdout",
          "text": [
            "537\n",
            "538\n"
          ]
        },
        {
          "output_type": "stream",
          "name": "stderr",
          "text": [
            "532it [01:10,  6.82it/s]"
          ]
        },
        {
          "output_type": "stream",
          "name": "stdout",
          "text": [
            "539\n",
            "540\n"
          ]
        },
        {
          "output_type": "stream",
          "name": "stderr",
          "text": [
            "534it [01:11,  6.48it/s]"
          ]
        },
        {
          "output_type": "stream",
          "name": "stdout",
          "text": [
            "541\n",
            "542\n"
          ]
        },
        {
          "output_type": "stream",
          "name": "stderr",
          "text": [
            "\r536it [01:11,  7.20it/s]"
          ]
        },
        {
          "output_type": "stream",
          "name": "stdout",
          "text": [
            "543\n",
            "544\n"
          ]
        },
        {
          "output_type": "stream",
          "name": "stderr",
          "text": [
            "\r537it [01:11,  7.64it/s]"
          ]
        },
        {
          "output_type": "stream",
          "name": "stdout",
          "text": [
            "545\n",
            "546\n"
          ]
        },
        {
          "output_type": "stream",
          "name": "stderr",
          "text": [
            "540it [01:11,  7.26it/s]"
          ]
        },
        {
          "output_type": "stream",
          "name": "stdout",
          "text": [
            "547\n",
            "548\n"
          ]
        },
        {
          "output_type": "stream",
          "name": "stderr",
          "text": [
            "542it [01:11,  8.00it/s]"
          ]
        },
        {
          "output_type": "stream",
          "name": "stdout",
          "text": [
            "549\n",
            "550\n"
          ]
        },
        {
          "output_type": "stream",
          "name": "stderr",
          "text": [
            "544it [01:12,  7.71it/s]"
          ]
        },
        {
          "output_type": "stream",
          "name": "stdout",
          "text": [
            "551\n",
            "552\n"
          ]
        },
        {
          "output_type": "stream",
          "name": "stderr",
          "text": [
            "546it [01:12,  7.17it/s]"
          ]
        },
        {
          "output_type": "stream",
          "name": "stdout",
          "text": [
            "553\n",
            "554\n"
          ]
        },
        {
          "output_type": "stream",
          "name": "stderr",
          "text": [
            "\r547it [01:12,  7.34it/s]"
          ]
        },
        {
          "output_type": "stream",
          "name": "stdout",
          "text": [
            "555\n"
          ]
        },
        {
          "output_type": "stream",
          "name": "stderr",
          "text": [
            "549it [01:13,  6.04it/s]"
          ]
        },
        {
          "output_type": "stream",
          "name": "stdout",
          "text": [
            "556\n",
            "557\n"
          ]
        },
        {
          "output_type": "stream",
          "name": "stderr",
          "text": [
            "\r550it [01:13,  5.93it/s]"
          ]
        },
        {
          "output_type": "stream",
          "name": "stdout",
          "text": [
            "558\n",
            "559\n"
          ]
        },
        {
          "output_type": "stream",
          "name": "stderr",
          "text": [
            "553it [01:13,  6.97it/s]"
          ]
        },
        {
          "output_type": "stream",
          "name": "stdout",
          "text": [
            "560\n",
            "561\n"
          ]
        },
        {
          "output_type": "stream",
          "name": "stderr",
          "text": [
            "555it [01:13,  7.86it/s]"
          ]
        },
        {
          "output_type": "stream",
          "name": "stdout",
          "text": [
            "562\n",
            "563\n",
            "564\n"
          ]
        },
        {
          "output_type": "stream",
          "name": "stderr",
          "text": [
            "558it [01:14,  7.49it/s]"
          ]
        },
        {
          "output_type": "stream",
          "name": "stdout",
          "text": [
            "565\n",
            "566\n"
          ]
        },
        {
          "output_type": "stream",
          "name": "stderr",
          "text": [
            "\r559it [01:14,  7.04it/s]"
          ]
        },
        {
          "output_type": "stream",
          "name": "stdout",
          "text": [
            "567\n",
            "568\n"
          ]
        },
        {
          "output_type": "stream",
          "name": "stderr",
          "text": [
            "562it [01:14,  7.52it/s]"
          ]
        },
        {
          "output_type": "stream",
          "name": "stdout",
          "text": [
            "569\n",
            "570\n"
          ]
        },
        {
          "output_type": "stream",
          "name": "stderr",
          "text": [
            "564it [01:15,  7.21it/s]"
          ]
        },
        {
          "output_type": "stream",
          "name": "stdout",
          "text": [
            "571\n",
            "572\n"
          ]
        },
        {
          "output_type": "stream",
          "name": "stderr",
          "text": [
            "566it [01:15,  6.16it/s]"
          ]
        },
        {
          "output_type": "stream",
          "name": "stdout",
          "text": [
            "573\n",
            "574\n"
          ]
        },
        {
          "output_type": "stream",
          "name": "stderr",
          "text": [
            "569it [01:15,  7.97it/s]"
          ]
        },
        {
          "output_type": "stream",
          "name": "stdout",
          "text": [
            "575\n",
            "576\n",
            "577\n"
          ]
        },
        {
          "output_type": "stream",
          "name": "stderr",
          "text": [
            "571it [01:16,  5.99it/s]"
          ]
        },
        {
          "output_type": "stream",
          "name": "stdout",
          "text": [
            "578\n",
            "579\n"
          ]
        },
        {
          "output_type": "stream",
          "name": "stderr",
          "text": [
            "573it [01:16,  6.61it/s]"
          ]
        },
        {
          "output_type": "stream",
          "name": "stdout",
          "text": [
            "580\n",
            "582\n"
          ]
        },
        {
          "output_type": "stream",
          "name": "stderr",
          "text": [
            "575it [01:16,  6.90it/s]"
          ]
        },
        {
          "output_type": "stream",
          "name": "stdout",
          "text": [
            "583\n",
            "584\n"
          ]
        },
        {
          "output_type": "stream",
          "name": "stderr",
          "text": [
            "577it [01:17,  6.46it/s]"
          ]
        },
        {
          "output_type": "stream",
          "name": "stdout",
          "text": [
            "585\n",
            "586\n"
          ]
        },
        {
          "output_type": "stream",
          "name": "stderr",
          "text": [
            "\r578it [01:17,  5.46it/s]"
          ]
        },
        {
          "output_type": "stream",
          "name": "stdout",
          "text": [
            "587\n",
            "588\n"
          ]
        },
        {
          "output_type": "stream",
          "name": "stderr",
          "text": [
            "582it [01:17,  7.57it/s]"
          ]
        },
        {
          "output_type": "stream",
          "name": "stdout",
          "text": [
            "589\n",
            "590\n"
          ]
        },
        {
          "output_type": "stream",
          "name": "stderr",
          "text": [
            "\r584it [01:17,  8.34it/s]"
          ]
        },
        {
          "output_type": "stream",
          "name": "stdout",
          "text": [
            "591\n",
            "592\n",
            "593\n"
          ]
        },
        {
          "output_type": "stream",
          "name": "stderr",
          "text": [
            "\r586it [01:18,  8.68it/s]"
          ]
        },
        {
          "output_type": "stream",
          "name": "stdout",
          "text": [
            "594\n",
            "595\n"
          ]
        },
        {
          "output_type": "stream",
          "name": "stderr",
          "text": [
            "\r587it [01:18,  8.21it/s]"
          ]
        },
        {
          "output_type": "stream",
          "name": "stdout",
          "text": [
            "596\n",
            "597\n"
          ]
        },
        {
          "output_type": "stream",
          "name": "stderr",
          "text": [
            "590it [01:18,  7.91it/s]"
          ]
        },
        {
          "output_type": "stream",
          "name": "stdout",
          "text": [
            "598\n",
            "599\n"
          ]
        },
        {
          "output_type": "stream",
          "name": "stderr",
          "text": [
            "592it [01:19,  7.76it/s]"
          ]
        },
        {
          "output_type": "stream",
          "name": "stdout",
          "text": [
            "600\n",
            "601\n"
          ]
        },
        {
          "output_type": "stream",
          "name": "stderr",
          "text": [
            "594it [01:19,  7.57it/s]"
          ]
        },
        {
          "output_type": "stream",
          "name": "stdout",
          "text": [
            "602\n",
            "603\n"
          ]
        },
        {
          "output_type": "stream",
          "name": "stderr",
          "text": [
            "596it [01:19,  7.71it/s]"
          ]
        },
        {
          "output_type": "stream",
          "name": "stdout",
          "text": [
            "604\n",
            "605\n"
          ]
        },
        {
          "output_type": "stream",
          "name": "stderr",
          "text": [
            "598it [01:19,  7.25it/s]"
          ]
        },
        {
          "output_type": "stream",
          "name": "stdout",
          "text": [
            "606\n",
            "607\n"
          ]
        },
        {
          "output_type": "stream",
          "name": "stderr",
          "text": [
            "600it [01:20,  7.69it/s]"
          ]
        },
        {
          "output_type": "stream",
          "name": "stdout",
          "text": [
            "608\n",
            "609\n"
          ]
        },
        {
          "output_type": "stream",
          "name": "stderr",
          "text": [
            "602it [01:20,  7.11it/s]"
          ]
        },
        {
          "output_type": "stream",
          "name": "stdout",
          "text": [
            "610\n",
            "611\n"
          ]
        },
        {
          "output_type": "stream",
          "name": "stderr",
          "text": [
            "\r603it [01:20,  7.73it/s]"
          ]
        },
        {
          "output_type": "stream",
          "name": "stdout",
          "text": [
            "612\n",
            "613\n"
          ]
        },
        {
          "output_type": "stream",
          "name": "stderr",
          "text": [
            "606it [01:20,  7.63it/s]"
          ]
        },
        {
          "output_type": "stream",
          "name": "stdout",
          "text": [
            "614\n",
            "615\n"
          ]
        },
        {
          "output_type": "stream",
          "name": "stderr",
          "text": [
            "608it [01:21,  7.11it/s]"
          ]
        },
        {
          "output_type": "stream",
          "name": "stdout",
          "text": [
            "616\n",
            "617\n"
          ]
        },
        {
          "output_type": "stream",
          "name": "stderr",
          "text": [
            "611it [01:21,  8.59it/s]"
          ]
        },
        {
          "output_type": "stream",
          "name": "stdout",
          "text": [
            "618\n",
            "619\n",
            "620\n"
          ]
        },
        {
          "output_type": "stream",
          "name": "stderr",
          "text": [
            "613it [01:21,  7.93it/s]"
          ]
        },
        {
          "output_type": "stream",
          "name": "stdout",
          "text": [
            "621\n",
            "622\n"
          ]
        },
        {
          "output_type": "stream",
          "name": "stderr",
          "text": [
            "615it [01:22,  7.80it/s]"
          ]
        },
        {
          "output_type": "stream",
          "name": "stdout",
          "text": [
            "623\n",
            "624\n"
          ]
        },
        {
          "output_type": "stream",
          "name": "stderr",
          "text": [
            "\r616it [01:22,  7.68it/s]"
          ]
        },
        {
          "output_type": "stream",
          "name": "stdout",
          "text": [
            "625\n"
          ]
        },
        {
          "output_type": "stream",
          "name": "stderr",
          "text": [
            "619it [01:22,  7.60it/s]"
          ]
        },
        {
          "output_type": "stream",
          "name": "stdout",
          "text": [
            "626\n",
            "627\n",
            "628\n"
          ]
        },
        {
          "output_type": "stream",
          "name": "stderr",
          "text": [
            "621it [01:22,  7.06it/s]"
          ]
        },
        {
          "output_type": "stream",
          "name": "stdout",
          "text": [
            "629\n",
            "630\n"
          ]
        },
        {
          "output_type": "stream",
          "name": "stderr",
          "text": [
            "623it [01:23,  6.69it/s]"
          ]
        },
        {
          "output_type": "stream",
          "name": "stdout",
          "text": [
            "631\n",
            "632\n"
          ]
        },
        {
          "output_type": "stream",
          "name": "stderr",
          "text": [
            "\r625it [01:23,  7.78it/s]"
          ]
        },
        {
          "output_type": "stream",
          "name": "stdout",
          "text": [
            "633\n",
            "634\n"
          ]
        },
        {
          "output_type": "stream",
          "name": "stderr",
          "text": [
            "\r627it [01:23,  8.54it/s]"
          ]
        },
        {
          "output_type": "stream",
          "name": "stdout",
          "text": [
            "635\n",
            "636\n"
          ]
        },
        {
          "output_type": "stream",
          "name": "stderr",
          "text": [
            "\r628it [01:23,  8.66it/s]"
          ]
        },
        {
          "output_type": "stream",
          "name": "stdout",
          "text": [
            "637\n",
            "638\n"
          ]
        },
        {
          "output_type": "stream",
          "name": "stderr",
          "text": [
            "631it [01:24,  8.66it/s]"
          ]
        },
        {
          "output_type": "stream",
          "name": "stdout",
          "text": [
            "639\n",
            "640\n"
          ]
        },
        {
          "output_type": "stream",
          "name": "stderr",
          "text": [
            "633it [01:24,  7.80it/s]"
          ]
        },
        {
          "output_type": "stream",
          "name": "stdout",
          "text": [
            "641\n",
            "642\n"
          ]
        },
        {
          "output_type": "stream",
          "name": "stderr",
          "text": [
            "635it [01:24,  7.54it/s]"
          ]
        },
        {
          "output_type": "stream",
          "name": "stdout",
          "text": [
            "643\n",
            "644\n"
          ]
        },
        {
          "output_type": "stream",
          "name": "stderr",
          "text": [
            "637it [01:24,  7.88it/s]"
          ]
        },
        {
          "output_type": "stream",
          "name": "stdout",
          "text": [
            "645\n",
            "646\n"
          ]
        },
        {
          "output_type": "stream",
          "name": "stderr",
          "text": [
            "639it [01:25,  7.26it/s]"
          ]
        },
        {
          "output_type": "stream",
          "name": "stdout",
          "text": [
            "647\n",
            "648\n"
          ]
        },
        {
          "output_type": "stream",
          "name": "stderr",
          "text": [
            "\r641it [01:25,  7.64it/s]"
          ]
        },
        {
          "output_type": "stream",
          "name": "stdout",
          "text": [
            "649\n",
            "650\n"
          ]
        },
        {
          "output_type": "stream",
          "name": "stderr",
          "text": [
            "\r642it [01:25,  7.10it/s]"
          ]
        },
        {
          "output_type": "stream",
          "name": "stdout",
          "text": [
            "651\n",
            "652\n"
          ]
        },
        {
          "output_type": "stream",
          "name": "stderr",
          "text": [
            "645it [01:26,  7.56it/s]"
          ]
        },
        {
          "output_type": "stream",
          "name": "stdout",
          "text": [
            "653\n",
            "654\n"
          ]
        },
        {
          "output_type": "stream",
          "name": "stderr",
          "text": [
            "647it [01:26,  7.14it/s]"
          ]
        },
        {
          "output_type": "stream",
          "name": "stdout",
          "text": [
            "655\n",
            "656\n"
          ]
        },
        {
          "output_type": "stream",
          "name": "stderr",
          "text": [
            "\r649it [01:26,  7.49it/s]"
          ]
        },
        {
          "output_type": "stream",
          "name": "stdout",
          "text": [
            "659\n",
            "660\n"
          ]
        },
        {
          "output_type": "stream",
          "name": "stderr",
          "text": [
            "651it [01:26,  6.81it/s]"
          ]
        },
        {
          "output_type": "stream",
          "name": "stdout",
          "text": [
            "661\n",
            "662\n"
          ]
        },
        {
          "output_type": "stream",
          "name": "stderr",
          "text": [
            "653it [01:27,  7.07it/s]"
          ]
        },
        {
          "output_type": "stream",
          "name": "stdout",
          "text": [
            "663\n",
            "664\n"
          ]
        },
        {
          "output_type": "stream",
          "name": "stderr",
          "text": [
            "655it [01:27,  6.86it/s]"
          ]
        },
        {
          "output_type": "stream",
          "name": "stdout",
          "text": [
            "665\n",
            "666\n",
            "667\n"
          ]
        },
        {
          "output_type": "stream",
          "name": "stderr",
          "text": [
            "658it [01:27,  7.95it/s]"
          ]
        },
        {
          "output_type": "stream",
          "name": "stdout",
          "text": [
            "668\n",
            "669\n"
          ]
        },
        {
          "output_type": "stream",
          "name": "stderr",
          "text": [
            "\r659it [01:27,  7.73it/s]"
          ]
        },
        {
          "output_type": "stream",
          "name": "stdout",
          "text": [
            "670\n",
            "671\n"
          ]
        },
        {
          "output_type": "stream",
          "name": "stderr",
          "text": [
            "663it [01:28,  8.95it/s]"
          ]
        },
        {
          "output_type": "stream",
          "name": "stdout",
          "text": [
            "672\n",
            "673\n",
            "674\n"
          ]
        },
        {
          "output_type": "stream",
          "name": "stderr",
          "text": [
            "665it [01:28,  7.74it/s]"
          ]
        },
        {
          "output_type": "stream",
          "name": "stdout",
          "text": [
            "675\n",
            "676\n"
          ]
        },
        {
          "output_type": "stream",
          "name": "stderr",
          "text": [
            "\r667it [01:28,  8.58it/s]"
          ]
        },
        {
          "output_type": "stream",
          "name": "stdout",
          "text": [
            "677\n",
            "678\n"
          ]
        },
        {
          "output_type": "stream",
          "name": "stderr",
          "text": [
            "\r668it [01:29,  7.98it/s]"
          ]
        },
        {
          "output_type": "stream",
          "name": "stdout",
          "text": [
            "679\n",
            "680\n"
          ]
        },
        {
          "output_type": "stream",
          "name": "stderr",
          "text": [
            "671it [01:29,  8.33it/s]"
          ]
        },
        {
          "output_type": "stream",
          "name": "stdout",
          "text": [
            "681\n",
            "682\n"
          ]
        },
        {
          "output_type": "stream",
          "name": "stderr",
          "text": [
            "673it [01:29,  6.95it/s]"
          ]
        },
        {
          "output_type": "stream",
          "name": "stdout",
          "text": [
            "683\n",
            "684\n"
          ]
        },
        {
          "output_type": "stream",
          "name": "stderr",
          "text": [
            "\r675it [01:29,  7.79it/s]"
          ]
        },
        {
          "output_type": "stream",
          "name": "stdout",
          "text": [
            "685\n",
            "686\n"
          ]
        },
        {
          "output_type": "stream",
          "name": "stderr",
          "text": [
            "677it [01:30,  7.87it/s]"
          ]
        },
        {
          "output_type": "stream",
          "name": "stdout",
          "text": [
            "687\n",
            "689\n"
          ]
        },
        {
          "output_type": "stream",
          "name": "stderr",
          "text": [
            "679it [01:30,  7.22it/s]"
          ]
        },
        {
          "output_type": "stream",
          "name": "stdout",
          "text": [
            "690\n",
            "691\n"
          ]
        },
        {
          "output_type": "stream",
          "name": "stderr",
          "text": [
            "681it [01:30,  7.35it/s]"
          ]
        },
        {
          "output_type": "stream",
          "name": "stdout",
          "text": [
            "692\n",
            "693\n"
          ]
        },
        {
          "output_type": "stream",
          "name": "stderr",
          "text": [
            "683it [01:31,  7.41it/s]"
          ]
        },
        {
          "output_type": "stream",
          "name": "stdout",
          "text": [
            "694\n",
            "695\n"
          ]
        },
        {
          "output_type": "stream",
          "name": "stderr",
          "text": [
            "685it [01:31,  6.96it/s]"
          ]
        },
        {
          "output_type": "stream",
          "name": "stdout",
          "text": [
            "696\n",
            "697\n"
          ]
        },
        {
          "output_type": "stream",
          "name": "stderr",
          "text": [
            "687it [01:31,  6.62it/s]"
          ]
        },
        {
          "output_type": "stream",
          "name": "stdout",
          "text": [
            "698\n",
            "699\n"
          ]
        },
        {
          "output_type": "stream",
          "name": "stderr",
          "text": [
            "689it [01:31,  6.88it/s]"
          ]
        },
        {
          "output_type": "stream",
          "name": "stdout",
          "text": [
            "700\n",
            "701\n"
          ]
        },
        {
          "output_type": "stream",
          "name": "stderr",
          "text": [
            "691it [01:32,  6.83it/s]"
          ]
        },
        {
          "output_type": "stream",
          "name": "stdout",
          "text": [
            "702\n",
            "703\n"
          ]
        },
        {
          "output_type": "stream",
          "name": "stderr",
          "text": [
            "693it [01:32,  6.53it/s]"
          ]
        },
        {
          "output_type": "stream",
          "name": "stdout",
          "text": [
            "704\n",
            "705\n"
          ]
        },
        {
          "output_type": "stream",
          "name": "stderr",
          "text": [
            "695it [01:32,  6.89it/s]"
          ]
        },
        {
          "output_type": "stream",
          "name": "stdout",
          "text": [
            "706\n",
            "707\n"
          ]
        },
        {
          "output_type": "stream",
          "name": "stderr",
          "text": [
            "\r696it [01:33,  6.39it/s]"
          ]
        },
        {
          "output_type": "stream",
          "name": "stdout",
          "text": [
            "708\n",
            "709\n"
          ]
        },
        {
          "output_type": "stream",
          "name": "stderr",
          "text": [
            "699it [01:33,  7.08it/s]"
          ]
        },
        {
          "output_type": "stream",
          "name": "stdout",
          "text": [
            "710\n",
            "711\n"
          ]
        },
        {
          "output_type": "stream",
          "name": "stderr",
          "text": [
            "701it [01:33,  6.71it/s]"
          ]
        },
        {
          "output_type": "stream",
          "name": "stdout",
          "text": [
            "712\n",
            "713\n"
          ]
        },
        {
          "output_type": "stream",
          "name": "stderr",
          "text": [
            "703it [01:33,  7.18it/s]"
          ]
        },
        {
          "output_type": "stream",
          "name": "stdout",
          "text": [
            "714\n",
            "715\n"
          ]
        },
        {
          "output_type": "stream",
          "name": "stderr",
          "text": [
            "705it [01:34,  6.86it/s]"
          ]
        },
        {
          "output_type": "stream",
          "name": "stdout",
          "text": [
            "716\n",
            "717\n"
          ]
        },
        {
          "output_type": "stream",
          "name": "stderr",
          "text": [
            "707it [01:34,  6.93it/s]"
          ]
        },
        {
          "output_type": "stream",
          "name": "stdout",
          "text": [
            "718\n",
            "719\n"
          ]
        },
        {
          "output_type": "stream",
          "name": "stderr",
          "text": [
            "709it [01:34,  6.88it/s]"
          ]
        },
        {
          "output_type": "stream",
          "name": "stdout",
          "text": [
            "720\n",
            "721\n"
          ]
        },
        {
          "output_type": "stream",
          "name": "stderr",
          "text": [
            "711it [01:35,  7.05it/s]"
          ]
        },
        {
          "output_type": "stream",
          "name": "stdout",
          "text": [
            "722\n",
            "723\n"
          ]
        },
        {
          "output_type": "stream",
          "name": "stderr",
          "text": [
            "713it [01:35,  8.08it/s]"
          ]
        },
        {
          "output_type": "stream",
          "name": "stdout",
          "text": [
            "724\n",
            "725\n",
            "726\n"
          ]
        },
        {
          "output_type": "stream",
          "name": "stderr",
          "text": [
            "716it [01:35,  7.72it/s]"
          ]
        },
        {
          "output_type": "stream",
          "name": "stdout",
          "text": [
            "727\n",
            "728\n"
          ]
        },
        {
          "output_type": "stream",
          "name": "stderr",
          "text": [
            "718it [01:36,  7.01it/s]"
          ]
        },
        {
          "output_type": "stream",
          "name": "stdout",
          "text": [
            "729\n",
            "730\n"
          ]
        },
        {
          "output_type": "stream",
          "name": "stderr",
          "text": [
            "\r720it [01:36,  7.71it/s]"
          ]
        },
        {
          "output_type": "stream",
          "name": "stdout",
          "text": [
            "731\n",
            "732\n"
          ]
        },
        {
          "output_type": "stream",
          "name": "stderr",
          "text": [
            "722it [01:36,  7.48it/s]"
          ]
        },
        {
          "output_type": "stream",
          "name": "stdout",
          "text": [
            "733\n",
            "734\n"
          ]
        },
        {
          "output_type": "stream",
          "name": "stderr",
          "text": [
            "724it [01:36,  7.59it/s]"
          ]
        },
        {
          "output_type": "stream",
          "name": "stdout",
          "text": [
            "735\n",
            "736\n"
          ]
        },
        {
          "output_type": "stream",
          "name": "stderr",
          "text": [
            "726it [01:37,  7.52it/s]"
          ]
        },
        {
          "output_type": "stream",
          "name": "stdout",
          "text": [
            "737\n",
            "738\n"
          ]
        },
        {
          "output_type": "stream",
          "name": "stderr",
          "text": [
            "728it [01:37,  6.11it/s]"
          ]
        },
        {
          "output_type": "stream",
          "name": "stdout",
          "text": [
            "739\n"
          ]
        },
        {
          "output_type": "stream",
          "name": "stderr",
          "text": [
            "\r729it [01:37,  6.53it/s]"
          ]
        },
        {
          "output_type": "stream",
          "name": "stdout",
          "text": [
            "740\n",
            "741\n"
          ]
        },
        {
          "output_type": "stream",
          "name": "stderr",
          "text": [
            "\r730it [01:37,  5.85it/s]"
          ]
        },
        {
          "output_type": "stream",
          "name": "stdout",
          "text": [
            "742\n",
            "743\n"
          ]
        },
        {
          "output_type": "stream",
          "name": "stderr",
          "text": [
            "733it [01:38,  7.17it/s]"
          ]
        },
        {
          "output_type": "stream",
          "name": "stdout",
          "text": [
            "744\n",
            "745\n"
          ]
        },
        {
          "output_type": "stream",
          "name": "stderr",
          "text": [
            "735it [01:38,  6.63it/s]"
          ]
        },
        {
          "output_type": "stream",
          "name": "stdout",
          "text": [
            "746\n",
            "747\n"
          ]
        },
        {
          "output_type": "stream",
          "name": "stderr",
          "text": [
            "737it [01:38,  6.40it/s]"
          ]
        },
        {
          "output_type": "stream",
          "name": "stdout",
          "text": [
            "748\n",
            "749\n"
          ]
        },
        {
          "output_type": "stream",
          "name": "stderr",
          "text": [
            "739it [01:39,  6.51it/s]"
          ]
        },
        {
          "output_type": "stream",
          "name": "stdout",
          "text": [
            "750\n",
            "751\n"
          ]
        },
        {
          "output_type": "stream",
          "name": "stderr",
          "text": [
            "\r740it [01:39,  7.11it/s]"
          ]
        },
        {
          "output_type": "stream",
          "name": "stdout",
          "text": [
            "752\n",
            "753\n"
          ]
        },
        {
          "output_type": "stream",
          "name": "stderr",
          "text": [
            "743it [01:39,  7.47it/s]"
          ]
        },
        {
          "output_type": "stream",
          "name": "stdout",
          "text": [
            "754\n",
            "755\n"
          ]
        },
        {
          "output_type": "stream",
          "name": "stderr",
          "text": [
            "745it [01:39,  7.27it/s]"
          ]
        },
        {
          "output_type": "stream",
          "name": "stdout",
          "text": [
            "756\n",
            "757\n"
          ]
        },
        {
          "output_type": "stream",
          "name": "stderr",
          "text": [
            "747it [01:40,  7.33it/s]"
          ]
        },
        {
          "output_type": "stream",
          "name": "stdout",
          "text": [
            "758\n",
            "759\n"
          ]
        },
        {
          "output_type": "stream",
          "name": "stderr",
          "text": [
            "749it [01:40,  6.98it/s]"
          ]
        },
        {
          "output_type": "stream",
          "name": "stdout",
          "text": [
            "760\n",
            "761\n"
          ]
        },
        {
          "output_type": "stream",
          "name": "stderr",
          "text": [
            "751it [01:40,  6.79it/s]"
          ]
        },
        {
          "output_type": "stream",
          "name": "stdout",
          "text": [
            "762\n",
            "763\n"
          ]
        },
        {
          "output_type": "stream",
          "name": "stderr",
          "text": [
            "753it [01:41,  6.16it/s]"
          ]
        },
        {
          "output_type": "stream",
          "name": "stdout",
          "text": [
            "764\n",
            "765\n"
          ]
        },
        {
          "output_type": "stream",
          "name": "stderr",
          "text": [
            "\r754it [01:41,  6.40it/s]"
          ]
        },
        {
          "output_type": "stream",
          "name": "stdout",
          "text": [
            "766\n",
            "767\n"
          ]
        },
        {
          "output_type": "stream",
          "name": "stderr",
          "text": [
            "757it [01:41,  6.88it/s]"
          ]
        },
        {
          "output_type": "stream",
          "name": "stdout",
          "text": [
            "768\n",
            "769\n"
          ]
        },
        {
          "output_type": "stream",
          "name": "stderr",
          "text": [
            "\r759it [01:41,  8.12it/s]"
          ]
        },
        {
          "output_type": "stream",
          "name": "stdout",
          "text": [
            "770\n",
            "771\n"
          ]
        },
        {
          "output_type": "stream",
          "name": "stderr",
          "text": [
            "761it [01:42,  7.64it/s]"
          ]
        },
        {
          "output_type": "stream",
          "name": "stdout",
          "text": [
            "772\n",
            "773\n"
          ]
        },
        {
          "output_type": "stream",
          "name": "stderr",
          "text": [
            "764it [01:42,  8.45it/s]"
          ]
        },
        {
          "output_type": "stream",
          "name": "stdout",
          "text": [
            "774\n",
            "775\n",
            "776\n"
          ]
        },
        {
          "output_type": "stream",
          "name": "stderr",
          "text": [
            "\r766it [01:42,  8.65it/s]"
          ]
        },
        {
          "output_type": "stream",
          "name": "stdout",
          "text": [
            "777\n",
            "778\n"
          ]
        },
        {
          "output_type": "stream",
          "name": "stderr",
          "text": [
            "768it [01:43,  8.27it/s]"
          ]
        },
        {
          "output_type": "stream",
          "name": "stdout",
          "text": [
            "779\n",
            "780\n"
          ]
        },
        {
          "output_type": "stream",
          "name": "stderr",
          "text": [
            "\r769it [01:43,  7.68it/s]"
          ]
        },
        {
          "output_type": "stream",
          "name": "stdout",
          "text": [
            "781\n",
            "782\n"
          ]
        },
        {
          "output_type": "stream",
          "name": "stderr",
          "text": [
            "772it [01:43,  7.62it/s]"
          ]
        },
        {
          "output_type": "stream",
          "name": "stdout",
          "text": [
            "783\n",
            "784\n"
          ]
        },
        {
          "output_type": "stream",
          "name": "stderr",
          "text": [
            "774it [01:43,  7.54it/s]"
          ]
        },
        {
          "output_type": "stream",
          "name": "stdout",
          "text": [
            "785\n",
            "786\n"
          ]
        },
        {
          "output_type": "stream",
          "name": "stderr",
          "text": [
            "776it [01:44,  7.06it/s]"
          ]
        },
        {
          "output_type": "stream",
          "name": "stdout",
          "text": [
            "787\n",
            "788\n"
          ]
        },
        {
          "output_type": "stream",
          "name": "stderr",
          "text": [
            "\r777it [01:44,  6.81it/s]"
          ]
        },
        {
          "output_type": "stream",
          "name": "stdout",
          "text": [
            "789\n"
          ]
        },
        {
          "output_type": "stream",
          "name": "stderr",
          "text": [
            "779it [01:44,  6.43it/s]"
          ]
        },
        {
          "output_type": "stream",
          "name": "stdout",
          "text": [
            "790\n",
            "791\n"
          ]
        },
        {
          "output_type": "stream",
          "name": "stderr",
          "text": [
            "781it [01:44,  6.72it/s]"
          ]
        },
        {
          "output_type": "stream",
          "name": "stdout",
          "text": [
            "792\n",
            "793\n"
          ]
        },
        {
          "output_type": "stream",
          "name": "stderr",
          "text": [
            "783it [01:45,  6.95it/s]"
          ]
        },
        {
          "output_type": "stream",
          "name": "stdout",
          "text": [
            "794\n",
            "795\n"
          ]
        },
        {
          "output_type": "stream",
          "name": "stderr",
          "text": [
            "785it [01:45,  7.07it/s]"
          ]
        },
        {
          "output_type": "stream",
          "name": "stdout",
          "text": [
            "796\n",
            "797\n"
          ]
        },
        {
          "output_type": "stream",
          "name": "stderr",
          "text": [
            "788it [01:45,  8.21it/s]"
          ]
        },
        {
          "output_type": "stream",
          "name": "stdout",
          "text": [
            "798\n",
            "799\n",
            "800\n",
            "801\n"
          ]
        },
        {
          "output_type": "stream",
          "name": "stderr",
          "text": [
            "791it [01:46,  8.80it/s]"
          ]
        },
        {
          "output_type": "stream",
          "name": "stdout",
          "text": [
            "802\n",
            "803\n",
            "804\n"
          ]
        },
        {
          "output_type": "stream",
          "name": "stderr",
          "text": [
            "794it [01:46,  9.10it/s]"
          ]
        },
        {
          "output_type": "stream",
          "name": "stdout",
          "text": [
            "805\n",
            "806\n"
          ]
        },
        {
          "output_type": "stream",
          "name": "stderr",
          "text": [
            "796it [01:46,  7.97it/s]"
          ]
        },
        {
          "output_type": "stream",
          "name": "stdout",
          "text": [
            "807\n",
            "808\n"
          ]
        },
        {
          "output_type": "stream",
          "name": "stderr",
          "text": [
            "798it [01:47,  6.89it/s]"
          ]
        },
        {
          "output_type": "stream",
          "name": "stdout",
          "text": [
            "809\n",
            "810\n"
          ]
        },
        {
          "output_type": "stream",
          "name": "stderr",
          "text": [
            "800it [01:47,  6.64it/s]"
          ]
        },
        {
          "output_type": "stream",
          "name": "stdout",
          "text": [
            "811\n",
            "812\n"
          ]
        },
        {
          "output_type": "stream",
          "name": "stderr",
          "text": [
            "802it [01:47,  6.82it/s]"
          ]
        },
        {
          "output_type": "stream",
          "name": "stdout",
          "text": [
            "813\n",
            "816\n"
          ]
        },
        {
          "output_type": "stream",
          "name": "stderr",
          "text": [
            "805it [01:47,  8.63it/s]"
          ]
        },
        {
          "output_type": "stream",
          "name": "stdout",
          "text": [
            "817\n",
            "818\n",
            "819\n"
          ]
        },
        {
          "output_type": "stream",
          "name": "stderr",
          "text": [
            "\r806it [01:48,  7.87it/s]"
          ]
        },
        {
          "output_type": "stream",
          "name": "stdout",
          "text": [
            "820\n",
            "821\n"
          ]
        },
        {
          "output_type": "stream",
          "name": "stderr",
          "text": [
            "\r808it [01:48,  7.72it/s]"
          ]
        },
        {
          "output_type": "stream",
          "name": "stdout",
          "text": [
            "822\n",
            "823\n"
          ]
        },
        {
          "output_type": "stream",
          "name": "stderr",
          "text": [
            "\r810it [01:48,  8.24it/s]"
          ]
        },
        {
          "output_type": "stream",
          "name": "stdout",
          "text": [
            "824\n"
          ]
        },
        {
          "output_type": "stream",
          "name": "stderr",
          "text": [
            "812it [01:49,  6.43it/s]"
          ]
        },
        {
          "output_type": "stream",
          "name": "stdout",
          "text": [
            "825\n",
            "826\n"
          ]
        },
        {
          "output_type": "stream",
          "name": "stderr",
          "text": [
            "814it [01:49,  6.95it/s]"
          ]
        },
        {
          "output_type": "stream",
          "name": "stdout",
          "text": [
            "827\n",
            "828\n"
          ]
        },
        {
          "output_type": "stream",
          "name": "stderr",
          "text": [
            "816it [01:49,  7.11it/s]"
          ]
        },
        {
          "output_type": "stream",
          "name": "stdout",
          "text": [
            "829\n",
            "830\n"
          ]
        },
        {
          "output_type": "stream",
          "name": "stderr",
          "text": [
            "\r817it [01:49,  7.16it/s]"
          ]
        },
        {
          "output_type": "stream",
          "name": "stdout",
          "text": [
            "831\n",
            "832\n"
          ]
        },
        {
          "output_type": "stream",
          "name": "stderr",
          "text": [
            "820it [01:50,  7.26it/s]"
          ]
        },
        {
          "output_type": "stream",
          "name": "stdout",
          "text": [
            "833\n",
            "834\n"
          ]
        },
        {
          "output_type": "stream",
          "name": "stderr",
          "text": [
            "822it [01:50,  7.63it/s]"
          ]
        },
        {
          "output_type": "stream",
          "name": "stdout",
          "text": [
            "835\n",
            "836\n"
          ]
        },
        {
          "output_type": "stream",
          "name": "stderr",
          "text": [
            "\r823it [01:50,  7.72it/s]"
          ]
        },
        {
          "output_type": "stream",
          "name": "stdout",
          "text": [
            "837\n",
            "838\n"
          ]
        },
        {
          "output_type": "stream",
          "name": "stderr",
          "text": [
            "\r825it [01:50,  7.96it/s]"
          ]
        },
        {
          "output_type": "stream",
          "name": "stdout",
          "text": [
            "839\n",
            "840\n"
          ]
        },
        {
          "output_type": "stream",
          "name": "stderr",
          "text": [
            "829it [01:51,  9.07it/s]"
          ]
        },
        {
          "output_type": "stream",
          "name": "stdout",
          "text": [
            "841\n",
            "842\n",
            "843\n"
          ]
        },
        {
          "output_type": "stream",
          "name": "stderr",
          "text": [
            "831it [01:51,  8.27it/s]"
          ]
        },
        {
          "output_type": "stream",
          "name": "stdout",
          "text": [
            "844\n",
            "845\n"
          ]
        },
        {
          "output_type": "stream",
          "name": "stderr",
          "text": [
            "834it [01:51,  9.02it/s]"
          ]
        },
        {
          "output_type": "stream",
          "name": "stdout",
          "text": [
            "846\n",
            "847\n",
            "848\n"
          ]
        },
        {
          "output_type": "stream",
          "name": "stderr",
          "text": [
            "836it [01:51,  8.85it/s]"
          ]
        },
        {
          "output_type": "stream",
          "name": "stdout",
          "text": [
            "849\n",
            "850\n"
          ]
        },
        {
          "output_type": "stream",
          "name": "stderr",
          "text": [
            "838it [01:52,  8.43it/s]"
          ]
        },
        {
          "output_type": "stream",
          "name": "stdout",
          "text": [
            "851\n",
            "852\n"
          ]
        },
        {
          "output_type": "stream",
          "name": "stderr",
          "text": [
            "840it [01:52,  8.14it/s]"
          ]
        },
        {
          "output_type": "stream",
          "name": "stdout",
          "text": [
            "853\n",
            "854\n"
          ]
        },
        {
          "output_type": "stream",
          "name": "stderr",
          "text": [
            "842it [01:52,  7.15it/s]"
          ]
        },
        {
          "output_type": "stream",
          "name": "stdout",
          "text": [
            "855\n",
            "856\n"
          ]
        },
        {
          "output_type": "stream",
          "name": "stderr",
          "text": [
            "844it [01:53,  7.00it/s]"
          ]
        },
        {
          "output_type": "stream",
          "name": "stdout",
          "text": [
            "857\n",
            "858\n"
          ]
        },
        {
          "output_type": "stream",
          "name": "stderr",
          "text": [
            "\r845it [01:53,  7.33it/s]"
          ]
        },
        {
          "output_type": "stream",
          "name": "stdout",
          "text": [
            "859\n",
            "860\n"
          ]
        },
        {
          "output_type": "stream",
          "name": "stderr",
          "text": [
            "848it [01:53,  7.62it/s]"
          ]
        },
        {
          "output_type": "stream",
          "name": "stdout",
          "text": [
            "861\n",
            "862\n"
          ]
        },
        {
          "output_type": "stream",
          "name": "stderr",
          "text": [
            "850it [01:53,  7.14it/s]"
          ]
        },
        {
          "output_type": "stream",
          "name": "stdout",
          "text": [
            "863\n",
            "864\n"
          ]
        },
        {
          "output_type": "stream",
          "name": "stderr",
          "text": [
            "852it [01:54,  7.80it/s]"
          ]
        },
        {
          "output_type": "stream",
          "name": "stdout",
          "text": [
            "865\n",
            "866\n"
          ]
        },
        {
          "output_type": "stream",
          "name": "stderr",
          "text": [
            "854it [01:54,  8.17it/s]"
          ]
        },
        {
          "output_type": "stream",
          "name": "stdout",
          "text": [
            "867\n",
            "868\n"
          ]
        },
        {
          "output_type": "stream",
          "name": "stderr",
          "text": [
            "\r855it [01:54,  8.02it/s]"
          ]
        },
        {
          "output_type": "stream",
          "name": "stdout",
          "text": [
            "869\n",
            "870\n"
          ]
        },
        {
          "output_type": "stream",
          "name": "stderr",
          "text": [
            "858it [01:54,  7.27it/s]"
          ]
        },
        {
          "output_type": "stream",
          "name": "stdout",
          "text": [
            "871\n",
            "872\n"
          ]
        },
        {
          "output_type": "stream",
          "name": "stderr",
          "text": [
            "860it [01:55,  6.97it/s]"
          ]
        },
        {
          "output_type": "stream",
          "name": "stdout",
          "text": [
            "873\n",
            "874\n"
          ]
        },
        {
          "output_type": "stream",
          "name": "stderr",
          "text": [
            "862it [01:55,  6.83it/s]"
          ]
        },
        {
          "output_type": "stream",
          "name": "stdout",
          "text": [
            "875\n",
            "877\n"
          ]
        },
        {
          "output_type": "stream",
          "name": "stderr",
          "text": [
            "864it [01:55,  6.51it/s]"
          ]
        },
        {
          "output_type": "stream",
          "name": "stdout",
          "text": [
            "878\n",
            "879\n"
          ]
        },
        {
          "output_type": "stream",
          "name": "stderr",
          "text": [
            "866it [01:56,  6.21it/s]"
          ]
        },
        {
          "output_type": "stream",
          "name": "stdout",
          "text": [
            "880\n",
            "881\n"
          ]
        },
        {
          "output_type": "stream",
          "name": "stderr",
          "text": [
            "868it [01:56,  6.49it/s]"
          ]
        },
        {
          "output_type": "stream",
          "name": "stdout",
          "text": [
            "882\n",
            "883\n"
          ]
        },
        {
          "output_type": "stream",
          "name": "stderr",
          "text": [
            "870it [01:56,  6.73it/s]"
          ]
        },
        {
          "output_type": "stream",
          "name": "stdout",
          "text": [
            "884\n",
            "885\n"
          ]
        },
        {
          "output_type": "stream",
          "name": "stderr",
          "text": [
            "872it [01:56,  7.62it/s]"
          ]
        },
        {
          "output_type": "stream",
          "name": "stdout",
          "text": [
            "886\n",
            "887\n"
          ]
        },
        {
          "output_type": "stream",
          "name": "stderr",
          "text": [
            "874it [01:57,  7.00it/s]"
          ]
        },
        {
          "output_type": "stream",
          "name": "stdout",
          "text": [
            "888\n",
            "889\n"
          ]
        },
        {
          "output_type": "stream",
          "name": "stderr",
          "text": [
            "876it [01:57,  6.82it/s]"
          ]
        },
        {
          "output_type": "stream",
          "name": "stdout",
          "text": [
            "890\n",
            "891\n"
          ]
        },
        {
          "output_type": "stream",
          "name": "stderr",
          "text": [
            "879it [01:57,  8.07it/s]"
          ]
        },
        {
          "output_type": "stream",
          "name": "stdout",
          "text": [
            "892\n",
            "893\n",
            "894\n"
          ]
        },
        {
          "output_type": "stream",
          "name": "stderr",
          "text": [
            "881it [01:58,  6.92it/s]"
          ]
        },
        {
          "output_type": "stream",
          "name": "stdout",
          "text": [
            "895\n",
            "896\n"
          ]
        },
        {
          "output_type": "stream",
          "name": "stderr",
          "text": [
            "883it [01:58,  7.37it/s]"
          ]
        },
        {
          "output_type": "stream",
          "name": "stdout",
          "text": [
            "897\n",
            "898\n"
          ]
        },
        {
          "output_type": "stream",
          "name": "stderr",
          "text": [
            "885it [01:58,  6.75it/s]"
          ]
        },
        {
          "output_type": "stream",
          "name": "stdout",
          "text": [
            "899\n",
            "900\n"
          ]
        },
        {
          "output_type": "stream",
          "name": "stderr",
          "text": [
            "888it [01:59,  7.93it/s]"
          ]
        },
        {
          "output_type": "stream",
          "name": "stdout",
          "text": [
            "901\n",
            "902\n",
            "903\n"
          ]
        },
        {
          "output_type": "stream",
          "name": "stderr",
          "text": [
            "890it [01:59,  7.67it/s]"
          ]
        },
        {
          "output_type": "stream",
          "name": "stdout",
          "text": [
            "904\n",
            "905\n"
          ]
        },
        {
          "output_type": "stream",
          "name": "stderr",
          "text": [
            "892it [01:59,  7.66it/s]"
          ]
        },
        {
          "output_type": "stream",
          "name": "stdout",
          "text": [
            "906\n",
            "907\n"
          ]
        },
        {
          "output_type": "stream",
          "name": "stderr",
          "text": [
            "\r893it [01:59,  7.96it/s]"
          ]
        },
        {
          "output_type": "stream",
          "name": "stdout",
          "text": [
            "908\n"
          ]
        },
        {
          "output_type": "stream",
          "name": "stderr",
          "text": [
            "895it [02:00,  6.65it/s]"
          ]
        },
        {
          "output_type": "stream",
          "name": "stdout",
          "text": [
            "909\n",
            "910\n"
          ]
        },
        {
          "output_type": "stream",
          "name": "stderr",
          "text": [
            "\r896it [02:00,  5.23it/s]"
          ]
        },
        {
          "output_type": "stream",
          "name": "stdout",
          "text": [
            "911\n"
          ]
        },
        {
          "output_type": "stream",
          "name": "stderr",
          "text": [
            "\r897it [02:00,  4.62it/s]"
          ]
        },
        {
          "output_type": "stream",
          "name": "stdout",
          "text": [
            "912\n"
          ]
        },
        {
          "output_type": "stream",
          "name": "stderr",
          "text": [
            "899it [02:01,  4.26it/s]"
          ]
        },
        {
          "output_type": "stream",
          "name": "stdout",
          "text": [
            "914\n",
            "915\n"
          ]
        },
        {
          "output_type": "stream",
          "name": "stderr",
          "text": [
            "\r900it [02:01,  3.74it/s]"
          ]
        },
        {
          "output_type": "stream",
          "name": "stdout",
          "text": [
            "916\n"
          ]
        },
        {
          "output_type": "stream",
          "name": "stderr",
          "text": [
            "902it [02:02,  4.55it/s]"
          ]
        },
        {
          "output_type": "stream",
          "name": "stdout",
          "text": [
            "917\n",
            "918\n"
          ]
        },
        {
          "output_type": "stream",
          "name": "stderr",
          "text": [
            "\r903it [02:02,  3.94it/s]"
          ]
        },
        {
          "output_type": "stream",
          "name": "stdout",
          "text": [
            "919\n"
          ]
        },
        {
          "output_type": "stream",
          "name": "stderr",
          "text": [
            "\r904it [02:02,  3.90it/s]"
          ]
        },
        {
          "output_type": "stream",
          "name": "stdout",
          "text": [
            "920\n"
          ]
        },
        {
          "output_type": "stream",
          "name": "stderr",
          "text": [
            "906it [02:03,  4.00it/s]"
          ]
        },
        {
          "output_type": "stream",
          "name": "stdout",
          "text": [
            "921\n",
            "922\n"
          ]
        },
        {
          "output_type": "stream",
          "name": "stderr",
          "text": [
            "\r907it [02:03,  3.89it/s]"
          ]
        },
        {
          "output_type": "stream",
          "name": "stdout",
          "text": [
            "923\n"
          ]
        },
        {
          "output_type": "stream",
          "name": "stderr",
          "text": [
            "\r908it [02:03,  4.03it/s]"
          ]
        },
        {
          "output_type": "stream",
          "name": "stdout",
          "text": [
            "924\n"
          ]
        },
        {
          "output_type": "stream",
          "name": "stderr",
          "text": [
            "910it [02:04,  3.68it/s]"
          ]
        },
        {
          "output_type": "stream",
          "name": "stdout",
          "text": [
            "925\n",
            "926\n"
          ]
        },
        {
          "output_type": "stream",
          "name": "stderr",
          "text": [
            "\r911it [02:04,  2.78it/s]"
          ]
        },
        {
          "output_type": "stream",
          "name": "stdout",
          "text": [
            "927\n"
          ]
        },
        {
          "output_type": "stream",
          "name": "stderr",
          "text": [
            "913it [02:05,  3.64it/s]"
          ]
        },
        {
          "output_type": "stream",
          "name": "stdout",
          "text": [
            "928\n",
            "929\n"
          ]
        },
        {
          "output_type": "stream",
          "name": "stderr",
          "text": [
            "\r914it [02:05,  3.63it/s]"
          ]
        },
        {
          "output_type": "stream",
          "name": "stdout",
          "text": [
            "930\n"
          ]
        },
        {
          "output_type": "stream",
          "name": "stderr",
          "text": [
            "\r915it [02:05,  3.84it/s]"
          ]
        },
        {
          "output_type": "stream",
          "name": "stdout",
          "text": [
            "931\n"
          ]
        },
        {
          "output_type": "stream",
          "name": "stderr",
          "text": [
            "917it [02:06,  3.77it/s]"
          ]
        },
        {
          "output_type": "stream",
          "name": "stdout",
          "text": [
            "932\n",
            "933\n"
          ]
        },
        {
          "output_type": "stream",
          "name": "stderr",
          "text": [
            "\r918it [02:06,  4.45it/s]"
          ]
        },
        {
          "output_type": "stream",
          "name": "stdout",
          "text": [
            "934\n"
          ]
        },
        {
          "output_type": "stream",
          "name": "stderr",
          "text": [
            "920it [02:06,  4.66it/s]"
          ]
        },
        {
          "output_type": "stream",
          "name": "stdout",
          "text": [
            "935\n",
            "936\n"
          ]
        },
        {
          "output_type": "stream",
          "name": "stderr",
          "text": [
            "922it [02:07,  5.02it/s]"
          ]
        },
        {
          "output_type": "stream",
          "name": "stdout",
          "text": [
            "937\n",
            "938\n"
          ]
        },
        {
          "output_type": "stream",
          "name": "stderr",
          "text": [
            "924it [02:07,  5.63it/s]"
          ]
        },
        {
          "output_type": "stream",
          "name": "stdout",
          "text": [
            "939\n",
            "940\n"
          ]
        },
        {
          "output_type": "stream",
          "name": "stderr",
          "text": [
            "\r925it [02:07,  5.99it/s]"
          ]
        },
        {
          "output_type": "stream",
          "name": "stdout",
          "text": [
            "941\n",
            "942\n"
          ]
        },
        {
          "output_type": "stream",
          "name": "stderr",
          "text": [
            "928it [02:08,  7.15it/s]"
          ]
        },
        {
          "output_type": "stream",
          "name": "stdout",
          "text": [
            "943\n",
            "944\n"
          ]
        },
        {
          "output_type": "stream",
          "name": "stderr",
          "text": [
            "930it [02:08,  6.83it/s]"
          ]
        },
        {
          "output_type": "stream",
          "name": "stdout",
          "text": [
            "945\n",
            "946\n"
          ]
        },
        {
          "output_type": "stream",
          "name": "stderr",
          "text": [
            "932it [02:08,  6.66it/s]"
          ]
        },
        {
          "output_type": "stream",
          "name": "stdout",
          "text": [
            "947\n",
            "948\n"
          ]
        },
        {
          "output_type": "stream",
          "name": "stderr",
          "text": [
            "934it [02:08,  6.74it/s]"
          ]
        },
        {
          "output_type": "stream",
          "name": "stdout",
          "text": [
            "949\n",
            "950\n"
          ]
        },
        {
          "output_type": "stream",
          "name": "stderr",
          "text": [
            "\r936it [02:09,  7.32it/s]"
          ]
        },
        {
          "output_type": "stream",
          "name": "stdout",
          "text": [
            "951\n",
            "952\n"
          ]
        },
        {
          "output_type": "stream",
          "name": "stderr",
          "text": [
            "938it [02:09,  7.30it/s]"
          ]
        },
        {
          "output_type": "stream",
          "name": "stdout",
          "text": [
            "953\n",
            "954\n"
          ]
        },
        {
          "output_type": "stream",
          "name": "stderr",
          "text": [
            "940it [02:09,  7.11it/s]"
          ]
        },
        {
          "output_type": "stream",
          "name": "stdout",
          "text": [
            "955\n",
            "956\n"
          ]
        },
        {
          "output_type": "stream",
          "name": "stderr",
          "text": [
            "\r941it [02:09,  7.28it/s]"
          ]
        },
        {
          "output_type": "stream",
          "name": "stdout",
          "text": [
            "957\n",
            "958\n"
          ]
        },
        {
          "output_type": "stream",
          "name": "stderr",
          "text": [
            "944it [02:10,  7.43it/s]"
          ]
        },
        {
          "output_type": "stream",
          "name": "stdout",
          "text": [
            "959\n",
            "960\n"
          ]
        },
        {
          "output_type": "stream",
          "name": "stderr",
          "text": [
            "\r946it [02:10,  7.60it/s]"
          ]
        },
        {
          "output_type": "stream",
          "name": "stdout",
          "text": [
            "961\n",
            "962\n"
          ]
        },
        {
          "output_type": "stream",
          "name": "stderr",
          "text": [
            "\r948it [02:10,  8.25it/s]"
          ]
        },
        {
          "output_type": "stream",
          "name": "stdout",
          "text": [
            "963\n",
            "964\n"
          ]
        },
        {
          "output_type": "stream",
          "name": "stderr",
          "text": [
            "950it [02:11,  8.04it/s]"
          ]
        },
        {
          "output_type": "stream",
          "name": "stdout",
          "text": [
            "965\n",
            "966\n"
          ]
        },
        {
          "output_type": "stream",
          "name": "stderr",
          "text": [
            "952it [02:11,  7.33it/s]"
          ]
        },
        {
          "output_type": "stream",
          "name": "stdout",
          "text": [
            "967\n",
            "968\n"
          ]
        },
        {
          "output_type": "stream",
          "name": "stderr",
          "text": [
            "954it [02:11,  6.76it/s]"
          ]
        },
        {
          "output_type": "stream",
          "name": "stdout",
          "text": [
            "969\n",
            "970\n"
          ]
        },
        {
          "output_type": "stream",
          "name": "stderr",
          "text": [
            "956it [02:11,  6.89it/s]"
          ]
        },
        {
          "output_type": "stream",
          "name": "stdout",
          "text": [
            "971\n",
            "972\n"
          ]
        },
        {
          "output_type": "stream",
          "name": "stderr",
          "text": [
            "\r957it [02:12,  7.16it/s]"
          ]
        },
        {
          "output_type": "stream",
          "name": "stdout",
          "text": [
            "973\n",
            "974\n"
          ]
        },
        {
          "output_type": "stream",
          "name": "stderr",
          "text": [
            "\r959it [02:12,  7.46it/s]"
          ]
        },
        {
          "output_type": "stream",
          "name": "stdout",
          "text": [
            "975\n",
            "976\n"
          ]
        },
        {
          "output_type": "stream",
          "name": "stderr",
          "text": [
            "962it [02:12,  8.30it/s]"
          ]
        },
        {
          "output_type": "stream",
          "name": "stdout",
          "text": [
            "977\n",
            "978\n"
          ]
        },
        {
          "output_type": "stream",
          "name": "stderr",
          "text": [
            "\r963it [02:12,  8.18it/s]"
          ]
        },
        {
          "output_type": "stream",
          "name": "stdout",
          "text": [
            "979\n",
            "980\n"
          ]
        },
        {
          "output_type": "stream",
          "name": "stderr",
          "text": [
            "966it [02:13,  7.66it/s]"
          ]
        },
        {
          "output_type": "stream",
          "name": "stdout",
          "text": [
            "981\n",
            "983\n"
          ]
        },
        {
          "output_type": "stream",
          "name": "stderr",
          "text": [
            "\r968it [02:13,  8.43it/s]"
          ]
        },
        {
          "output_type": "stream",
          "name": "stdout",
          "text": [
            "984\n",
            "985\n"
          ]
        },
        {
          "output_type": "stream",
          "name": "stderr",
          "text": [
            "970it [02:13,  7.80it/s]"
          ]
        },
        {
          "output_type": "stream",
          "name": "stdout",
          "text": [
            "986\n",
            "987\n"
          ]
        },
        {
          "output_type": "stream",
          "name": "stderr",
          "text": [
            "972it [02:13,  6.58it/s]"
          ]
        },
        {
          "output_type": "stream",
          "name": "stdout",
          "text": [
            "988\n",
            "989\n"
          ]
        },
        {
          "output_type": "stream",
          "name": "stderr",
          "text": [
            "974it [02:14,  7.38it/s]"
          ]
        },
        {
          "output_type": "stream",
          "name": "stdout",
          "text": [
            "990\n",
            "991\n"
          ]
        },
        {
          "output_type": "stream",
          "name": "stderr",
          "text": [
            "976it [02:14,  6.72it/s]"
          ]
        },
        {
          "output_type": "stream",
          "name": "stdout",
          "text": [
            "992\n",
            "993\n"
          ]
        },
        {
          "output_type": "stream",
          "name": "stderr",
          "text": [
            "978it [02:14,  6.45it/s]"
          ]
        },
        {
          "output_type": "stream",
          "name": "stdout",
          "text": [
            "994\n",
            "995\n"
          ]
        },
        {
          "output_type": "stream",
          "name": "stderr",
          "text": [
            "980it [02:15,  7.17it/s]"
          ]
        },
        {
          "output_type": "stream",
          "name": "stdout",
          "text": [
            "996\n",
            "997\n"
          ]
        },
        {
          "output_type": "stream",
          "name": "stderr",
          "text": [
            "982it [02:15,  7.45it/s]"
          ]
        },
        {
          "output_type": "stream",
          "name": "stdout",
          "text": [
            "998\n",
            "999\n"
          ]
        },
        {
          "output_type": "stream",
          "name": "stderr",
          "text": [
            "984it [02:15,  7.23it/s]"
          ]
        },
        {
          "output_type": "stream",
          "name": "stdout",
          "text": [
            "1000\n",
            "1001\n"
          ]
        },
        {
          "output_type": "stream",
          "name": "stderr",
          "text": [
            "987it [02:15,  9.63it/s]"
          ]
        },
        {
          "output_type": "stream",
          "name": "stdout",
          "text": [
            "1002\n",
            "1003\n",
            "1004\n"
          ]
        },
        {
          "output_type": "stream",
          "name": "stderr",
          "text": [
            "989it [02:16,  7.76it/s]"
          ]
        },
        {
          "output_type": "stream",
          "name": "stdout",
          "text": [
            "1005\n",
            "1006\n"
          ]
        },
        {
          "output_type": "stream",
          "name": "stderr",
          "text": [
            "991it [02:16,  6.53it/s]"
          ]
        },
        {
          "output_type": "stream",
          "name": "stdout",
          "text": [
            "1007\n",
            "1009\n"
          ]
        },
        {
          "output_type": "stream",
          "name": "stderr",
          "text": [
            "993it [02:16,  6.43it/s]"
          ]
        },
        {
          "output_type": "stream",
          "name": "stdout",
          "text": [
            "1010\n",
            "1011\n"
          ]
        },
        {
          "output_type": "stream",
          "name": "stderr",
          "text": [
            "995it [02:17,  6.42it/s]"
          ]
        },
        {
          "output_type": "stream",
          "name": "stdout",
          "text": [
            "1012\n",
            "1013\n"
          ]
        },
        {
          "output_type": "stream",
          "name": "stderr",
          "text": [
            "997it [02:17,  6.31it/s]"
          ]
        },
        {
          "output_type": "stream",
          "name": "stdout",
          "text": [
            "1015\n",
            "1016\n"
          ]
        },
        {
          "output_type": "stream",
          "name": "stderr",
          "text": [
            "999it [02:17,  6.48it/s]"
          ]
        },
        {
          "output_type": "stream",
          "name": "stdout",
          "text": [
            "1017\n",
            "1018\n"
          ]
        },
        {
          "output_type": "stream",
          "name": "stderr",
          "text": [
            "1001it [02:18,  7.01it/s]"
          ]
        },
        {
          "output_type": "stream",
          "name": "stdout",
          "text": [
            "1019\n",
            "1020\n"
          ]
        },
        {
          "output_type": "stream",
          "name": "stderr",
          "text": [
            "\r1002it [02:18,  6.58it/s]"
          ]
        },
        {
          "output_type": "stream",
          "name": "stdout",
          "text": [
            "1021\n",
            "1022\n"
          ]
        },
        {
          "output_type": "stream",
          "name": "stderr",
          "text": [
            "1005it [02:18,  7.74it/s]"
          ]
        },
        {
          "output_type": "stream",
          "name": "stdout",
          "text": [
            "1023\n",
            "1024\n",
            "1025\n"
          ]
        },
        {
          "output_type": "stream",
          "name": "stderr",
          "text": [
            "1008it [02:19,  7.39it/s]"
          ]
        },
        {
          "output_type": "stream",
          "name": "stdout",
          "text": [
            "1027\n",
            "1028"
          ]
        },
        {
          "output_type": "stream",
          "name": "stderr",
          "text": [
            "\r1009it [02:19,  6.99it/s]"
          ]
        },
        {
          "output_type": "stream",
          "name": "stdout",
          "text": [
            "\n",
            "1029\n"
          ]
        },
        {
          "output_type": "stream",
          "name": "stderr",
          "text": [
            "\r1010it [02:19,  7.34it/s]"
          ]
        },
        {
          "output_type": "stream",
          "name": "stdout",
          "text": [
            "1030\n"
          ]
        },
        {
          "output_type": "stream",
          "name": "stderr",
          "text": [
            "1012it [02:19,  6.34it/s]"
          ]
        },
        {
          "output_type": "stream",
          "name": "stdout",
          "text": [
            "1032\n",
            "1033\n"
          ]
        },
        {
          "output_type": "stream",
          "name": "stderr",
          "text": [
            "1014it [02:20,  6.54it/s]"
          ]
        },
        {
          "output_type": "stream",
          "name": "stdout",
          "text": [
            "1034\n",
            "1035\n"
          ]
        },
        {
          "output_type": "stream",
          "name": "stderr",
          "text": [
            "1016it [02:20,  6.06it/s]"
          ]
        },
        {
          "output_type": "stream",
          "name": "stdout",
          "text": [
            "1036\n",
            "1037\n"
          ]
        },
        {
          "output_type": "stream",
          "name": "stderr",
          "text": [
            "\r1018it [02:20,  7.04it/s]"
          ]
        },
        {
          "output_type": "stream",
          "name": "stdout",
          "text": [
            "1038\n",
            "1039\n"
          ]
        },
        {
          "output_type": "stream",
          "name": "stderr",
          "text": [
            "\r1019it [02:20,  7.02it/s]"
          ]
        },
        {
          "output_type": "stream",
          "name": "stdout",
          "text": [
            "1040\n",
            "1041\n"
          ]
        },
        {
          "output_type": "stream",
          "name": "stderr",
          "text": [
            "1022it [02:21,  7.42it/s]"
          ]
        },
        {
          "output_type": "stream",
          "name": "stdout",
          "text": [
            "1042\n",
            "1043\n"
          ]
        },
        {
          "output_type": "stream",
          "name": "stderr",
          "text": [
            "1024it [02:21,  7.09it/s]"
          ]
        },
        {
          "output_type": "stream",
          "name": "stdout",
          "text": [
            "1044\n",
            "1045\n"
          ]
        },
        {
          "output_type": "stream",
          "name": "stderr",
          "text": [
            "1026it [02:21,  7.26it/s]"
          ]
        },
        {
          "output_type": "stream",
          "name": "stdout",
          "text": [
            "1046\n",
            "1047\n"
          ]
        },
        {
          "output_type": "stream",
          "name": "stderr",
          "text": [
            "\r1027it [02:21,  6.81it/s]"
          ]
        },
        {
          "output_type": "stream",
          "name": "stdout",
          "text": [
            "1048\n",
            "1049\n"
          ]
        },
        {
          "output_type": "stream",
          "name": "stderr",
          "text": [
            "1030it [02:22,  7.34it/s]"
          ]
        },
        {
          "output_type": "stream",
          "name": "stdout",
          "text": [
            "1050\n",
            "1052\n"
          ]
        },
        {
          "output_type": "stream",
          "name": "stderr",
          "text": [
            "\r1031it [02:22,  7.43it/s]"
          ]
        },
        {
          "output_type": "stream",
          "name": "stdout",
          "text": [
            "1053\n",
            "1054\n"
          ]
        },
        {
          "output_type": "stream",
          "name": "stderr",
          "text": [
            "1034it [02:22,  7.52it/s]"
          ]
        },
        {
          "output_type": "stream",
          "name": "stdout",
          "text": [
            "1055\n",
            "1056\n"
          ]
        },
        {
          "output_type": "stream",
          "name": "stderr",
          "text": [
            "\r1036it [02:22,  8.77it/s]"
          ]
        },
        {
          "output_type": "stream",
          "name": "stdout",
          "text": [
            "1057\n",
            "1058\n"
          ]
        },
        {
          "output_type": "stream",
          "name": "stderr",
          "text": [
            "1038it [02:23,  7.72it/s]"
          ]
        },
        {
          "output_type": "stream",
          "name": "stdout",
          "text": [
            "1059\n",
            "1060\n"
          ]
        },
        {
          "output_type": "stream",
          "name": "stderr",
          "text": [
            "1040it [02:23,  7.73it/s]"
          ]
        },
        {
          "output_type": "stream",
          "name": "stdout",
          "text": [
            "1061\n",
            "1062\n"
          ]
        },
        {
          "output_type": "stream",
          "name": "stderr",
          "text": [
            "1042it [02:23,  6.98it/s]"
          ]
        },
        {
          "output_type": "stream",
          "name": "stdout",
          "text": [
            "1063\n",
            "1064\n"
          ]
        },
        {
          "output_type": "stream",
          "name": "stderr",
          "text": [
            "1044it [02:24,  7.60it/s]"
          ]
        },
        {
          "output_type": "stream",
          "name": "stdout",
          "text": [
            "1065\n",
            "1066\n"
          ]
        },
        {
          "output_type": "stream",
          "name": "stderr",
          "text": [
            "1046it [02:24,  7.11it/s]"
          ]
        },
        {
          "output_type": "stream",
          "name": "stdout",
          "text": [
            "1067\n",
            "1068\n"
          ]
        },
        {
          "output_type": "stream",
          "name": "stderr",
          "text": [
            "1048it [02:24,  6.55it/s]"
          ]
        },
        {
          "output_type": "stream",
          "name": "stdout",
          "text": [
            "1069\n",
            "1070\n"
          ]
        },
        {
          "output_type": "stream",
          "name": "stderr",
          "text": [
            "1050it [02:24,  6.96it/s]"
          ]
        },
        {
          "output_type": "stream",
          "name": "stdout",
          "text": [
            "1071\n",
            "1072\n"
          ]
        },
        {
          "output_type": "stream",
          "name": "stderr",
          "text": [
            "1052it [02:25,  6.63it/s]"
          ]
        },
        {
          "output_type": "stream",
          "name": "stdout",
          "text": [
            "1073\n",
            "1074\n"
          ]
        },
        {
          "output_type": "stream",
          "name": "stderr",
          "text": [
            "1054it [02:25,  6.37it/s]"
          ]
        },
        {
          "output_type": "stream",
          "name": "stdout",
          "text": [
            "1075\n",
            "1076\n"
          ]
        },
        {
          "output_type": "stream",
          "name": "stderr",
          "text": [
            "1056it [02:25,  6.48it/s]"
          ]
        },
        {
          "output_type": "stream",
          "name": "stdout",
          "text": [
            "1077\n",
            "1078\n"
          ]
        },
        {
          "output_type": "stream",
          "name": "stderr",
          "text": [
            "\r1058it [02:26,  6.58it/s]"
          ]
        },
        {
          "output_type": "stream",
          "name": "stdout",
          "text": [
            "1079\n",
            "1080\n"
          ]
        },
        {
          "output_type": "stream",
          "name": "stderr",
          "text": [
            "\r1059it [02:26,  6.63it/s]"
          ]
        },
        {
          "output_type": "stream",
          "name": "stdout",
          "text": [
            "1081\n",
            "1082\n"
          ]
        },
        {
          "output_type": "stream",
          "name": "stderr",
          "text": [
            "1062it [02:26,  7.33it/s]"
          ]
        },
        {
          "output_type": "stream",
          "name": "stdout",
          "text": [
            "1083\n",
            "1084\n"
          ]
        },
        {
          "output_type": "stream",
          "name": "stderr",
          "text": [
            "1064it [02:26,  7.23it/s]"
          ]
        },
        {
          "output_type": "stream",
          "name": "stdout",
          "text": [
            "1085\n",
            "1087\n"
          ]
        },
        {
          "output_type": "stream",
          "name": "stderr",
          "text": [
            "1066it [02:27,  7.67it/s]"
          ]
        },
        {
          "output_type": "stream",
          "name": "stdout",
          "text": [
            "1088\n",
            "1089\n"
          ]
        },
        {
          "output_type": "stream",
          "name": "stderr",
          "text": [
            "1068it [02:27,  7.25it/s]"
          ]
        },
        {
          "output_type": "stream",
          "name": "stdout",
          "text": [
            "1090\n",
            "1091\n"
          ]
        },
        {
          "output_type": "stream",
          "name": "stderr",
          "text": [
            "1070it [02:27,  7.35it/s]"
          ]
        },
        {
          "output_type": "stream",
          "name": "stdout",
          "text": [
            "1092\n",
            "1093\n"
          ]
        },
        {
          "output_type": "stream",
          "name": "stderr",
          "text": [
            "1072it [02:28,  7.24it/s]"
          ]
        },
        {
          "output_type": "stream",
          "name": "stdout",
          "text": [
            "1094\n",
            "1095\n"
          ]
        },
        {
          "output_type": "stream",
          "name": "stderr",
          "text": [
            "1074it [02:28,  6.62it/s]"
          ]
        },
        {
          "output_type": "stream",
          "name": "stdout",
          "text": [
            "1097\n",
            "1098\n"
          ]
        },
        {
          "output_type": "stream",
          "name": "stderr",
          "text": [
            "1076it [02:28,  6.91it/s]"
          ]
        },
        {
          "output_type": "stream",
          "name": "stdout",
          "text": [
            "1099\n",
            "1100\n"
          ]
        },
        {
          "output_type": "stream",
          "name": "stderr",
          "text": [
            "1078it [02:28,  7.26it/s]"
          ]
        },
        {
          "output_type": "stream",
          "name": "stdout",
          "text": [
            "1101\n",
            "1102\n"
          ]
        },
        {
          "output_type": "stream",
          "name": "stderr",
          "text": [
            "1080it [02:29,  7.14it/s]"
          ]
        },
        {
          "output_type": "stream",
          "name": "stdout",
          "text": [
            "1103\n",
            "1104\n"
          ]
        },
        {
          "output_type": "stream",
          "name": "stderr",
          "text": [
            "1082it [02:29,  6.66it/s]"
          ]
        },
        {
          "output_type": "stream",
          "name": "stdout",
          "text": [
            "1105\n",
            "1106\n"
          ]
        },
        {
          "output_type": "stream",
          "name": "stderr",
          "text": [
            "1084it [02:29,  6.60it/s]"
          ]
        },
        {
          "output_type": "stream",
          "name": "stdout",
          "text": [
            "1107\n",
            "1108\n"
          ]
        },
        {
          "output_type": "stream",
          "name": "stderr",
          "text": [
            "1086it [02:30,  7.23it/s]"
          ]
        },
        {
          "output_type": "stream",
          "name": "stdout",
          "text": [
            "1109\n",
            "1110\n"
          ]
        },
        {
          "output_type": "stream",
          "name": "stderr",
          "text": [
            "1088it [02:30,  7.10it/s]"
          ]
        },
        {
          "output_type": "stream",
          "name": "stdout",
          "text": [
            "1111\n",
            "1112\n"
          ]
        },
        {
          "output_type": "stream",
          "name": "stderr",
          "text": [
            "1090it [02:30,  8.04it/s]"
          ]
        },
        {
          "output_type": "stream",
          "name": "stdout",
          "text": [
            "1113\n",
            "1114\n",
            "1115\n"
          ]
        },
        {
          "output_type": "stream",
          "name": "stderr",
          "text": [
            "1093it [02:30,  9.08it/s]"
          ]
        },
        {
          "output_type": "stream",
          "name": "stdout",
          "text": [
            "1116\n",
            "1117\n"
          ]
        },
        {
          "output_type": "stream",
          "name": "stderr",
          "text": [
            "1095it [02:31,  8.87it/s]"
          ]
        },
        {
          "output_type": "stream",
          "name": "stdout",
          "text": [
            "1118\n",
            "1119\n"
          ]
        },
        {
          "output_type": "stream",
          "name": "stderr",
          "text": [
            "1097it [02:31,  8.11it/s]"
          ]
        },
        {
          "output_type": "stream",
          "name": "stdout",
          "text": [
            "1120\n",
            "1121\n"
          ]
        },
        {
          "output_type": "stream",
          "name": "stderr",
          "text": [
            "1099it [02:31,  8.76it/s]"
          ]
        },
        {
          "output_type": "stream",
          "name": "stdout",
          "text": [
            "1122\n",
            "1123\n",
            "1124\n"
          ]
        },
        {
          "output_type": "stream",
          "name": "stderr",
          "text": [
            "1102it [02:31,  8.77it/s]"
          ]
        },
        {
          "output_type": "stream",
          "name": "stdout",
          "text": [
            "1125\n",
            "1126\n"
          ]
        },
        {
          "output_type": "stream",
          "name": "stderr",
          "text": [
            "1104it [02:32,  8.29it/s]"
          ]
        },
        {
          "output_type": "stream",
          "name": "stdout",
          "text": [
            "1127\n",
            "1128\n"
          ]
        },
        {
          "output_type": "stream",
          "name": "stderr",
          "text": [
            "1107it [02:32,  7.55it/s]"
          ]
        },
        {
          "output_type": "stream",
          "name": "stdout",
          "text": [
            "1129\n",
            "1130\n",
            "1131\n"
          ]
        },
        {
          "output_type": "stream",
          "name": "stderr",
          "text": [
            "1110it [02:32,  8.68it/s]"
          ]
        },
        {
          "output_type": "stream",
          "name": "stdout",
          "text": [
            "1132\n",
            "1133\n",
            "1134\n"
          ]
        },
        {
          "output_type": "stream",
          "name": "stderr",
          "text": [
            "1112it [02:33,  7.79it/s]"
          ]
        },
        {
          "output_type": "stream",
          "name": "stdout",
          "text": [
            "1135\n",
            "1136\n"
          ]
        },
        {
          "output_type": "stream",
          "name": "stderr",
          "text": [
            "\r1114it [02:33,  8.04it/s]"
          ]
        },
        {
          "output_type": "stream",
          "name": "stdout",
          "text": [
            "1137\n",
            "1138\n"
          ]
        },
        {
          "output_type": "stream",
          "name": "stderr",
          "text": [
            "1116it [02:33,  7.85it/s]"
          ]
        },
        {
          "output_type": "stream",
          "name": "stdout",
          "text": [
            "1139\n",
            "1140\n"
          ]
        },
        {
          "output_type": "stream",
          "name": "stderr",
          "text": [
            "1118it [02:34,  7.25it/s]"
          ]
        },
        {
          "output_type": "stream",
          "name": "stdout",
          "text": [
            "1141\n",
            "1142\n"
          ]
        },
        {
          "output_type": "stream",
          "name": "stderr",
          "text": [
            "1120it [02:34,  7.42it/s]"
          ]
        },
        {
          "output_type": "stream",
          "name": "stdout",
          "text": [
            "1143\n",
            "1144\n"
          ]
        },
        {
          "output_type": "stream",
          "name": "stderr",
          "text": [
            "1123it [02:34,  9.36it/s]"
          ]
        },
        {
          "output_type": "stream",
          "name": "stdout",
          "text": [
            "1145\n",
            "1146\n",
            "1147\n"
          ]
        },
        {
          "output_type": "stream",
          "name": "stderr",
          "text": [
            "1125it [02:34,  8.91it/s]"
          ]
        },
        {
          "output_type": "stream",
          "name": "stdout",
          "text": [
            "1148\n",
            "1149\n"
          ]
        },
        {
          "output_type": "stream",
          "name": "stderr",
          "text": [
            "1127it [02:35,  8.41it/s]"
          ]
        },
        {
          "output_type": "stream",
          "name": "stdout",
          "text": [
            "1150\n",
            "1151\n"
          ]
        },
        {
          "output_type": "stream",
          "name": "stderr",
          "text": [
            "1129it [02:35,  7.61it/s]"
          ]
        },
        {
          "output_type": "stream",
          "name": "stdout",
          "text": [
            "1152\n",
            "1153\n"
          ]
        },
        {
          "output_type": "stream",
          "name": "stderr",
          "text": [
            "1131it [02:35,  7.43it/s]"
          ]
        },
        {
          "output_type": "stream",
          "name": "stdout",
          "text": [
            "1154\n",
            "1155\n"
          ]
        },
        {
          "output_type": "stream",
          "name": "stderr",
          "text": [
            "1133it [02:35,  7.95it/s]"
          ]
        },
        {
          "output_type": "stream",
          "name": "stdout",
          "text": [
            "1156\n",
            "1157\n"
          ]
        },
        {
          "output_type": "stream",
          "name": "stderr",
          "text": [
            "1135it [02:36,  8.23it/s]"
          ]
        },
        {
          "output_type": "stream",
          "name": "stdout",
          "text": [
            "1158\n",
            "1159\n"
          ]
        },
        {
          "output_type": "stream",
          "name": "stderr",
          "text": [
            "1137it [02:36,  6.88it/s]"
          ]
        },
        {
          "output_type": "stream",
          "name": "stdout",
          "text": [
            "1160\n",
            "1161\n"
          ]
        },
        {
          "output_type": "stream",
          "name": "stderr",
          "text": [
            "1139it [02:36,  6.67it/s]"
          ]
        },
        {
          "output_type": "stream",
          "name": "stdout",
          "text": [
            "1162\n",
            "1163\n"
          ]
        },
        {
          "output_type": "stream",
          "name": "stderr",
          "text": [
            "1141it [02:37,  6.56it/s]"
          ]
        },
        {
          "output_type": "stream",
          "name": "stdout",
          "text": [
            "1164\n",
            "1165\n"
          ]
        },
        {
          "output_type": "stream",
          "name": "stderr",
          "text": [
            "\r1143it [02:37,  6.99it/s]"
          ]
        },
        {
          "output_type": "stream",
          "name": "stdout",
          "text": [
            "1166\n",
            "1167\n"
          ]
        },
        {
          "output_type": "stream",
          "name": "stderr",
          "text": [
            "\r1145it [02:37,  7.95it/s]"
          ]
        },
        {
          "output_type": "stream",
          "name": "stdout",
          "text": [
            "1168\n",
            "1169\n"
          ]
        },
        {
          "output_type": "stream",
          "name": "stderr",
          "text": [
            "1147it [02:37,  8.30it/s]"
          ]
        },
        {
          "output_type": "stream",
          "name": "stdout",
          "text": [
            "1170\n",
            "1171\n"
          ]
        },
        {
          "output_type": "stream",
          "name": "stderr",
          "text": [
            "1149it [02:38,  7.88it/s]"
          ]
        },
        {
          "output_type": "stream",
          "name": "stdout",
          "text": [
            "1172\n",
            "1173\n"
          ]
        },
        {
          "output_type": "stream",
          "name": "stderr",
          "text": [
            "\r1151it [02:38,  7.76it/s]"
          ]
        },
        {
          "output_type": "stream",
          "name": "stdout",
          "text": [
            "1174\n",
            "1175\n"
          ]
        },
        {
          "output_type": "stream",
          "name": "stderr",
          "text": [
            "1153it [02:38,  8.20it/s]"
          ]
        },
        {
          "output_type": "stream",
          "name": "stdout",
          "text": [
            "1176\n",
            "1177\n"
          ]
        },
        {
          "output_type": "stream",
          "name": "stderr",
          "text": [
            "1155it [02:38,  8.43it/s]"
          ]
        },
        {
          "output_type": "stream",
          "name": "stdout",
          "text": [
            "1178\n",
            "1179\n"
          ]
        },
        {
          "output_type": "stream",
          "name": "stderr",
          "text": [
            "1157it [02:39,  7.25it/s]"
          ]
        },
        {
          "output_type": "stream",
          "name": "stdout",
          "text": [
            "1180\n",
            "1181\n"
          ]
        },
        {
          "output_type": "stream",
          "name": "stderr",
          "text": [
            "\r1159it [02:39,  7.51it/s]"
          ]
        },
        {
          "output_type": "stream",
          "name": "stdout",
          "text": [
            "1182\n",
            "1183\n"
          ]
        },
        {
          "output_type": "stream",
          "name": "stderr",
          "text": [
            "1161it [02:39,  6.92it/s]"
          ]
        },
        {
          "output_type": "stream",
          "name": "stdout",
          "text": [
            "1184\n",
            "1185\n"
          ]
        },
        {
          "output_type": "stream",
          "name": "stderr",
          "text": [
            "\r1163it [02:39,  7.76it/s]"
          ]
        },
        {
          "output_type": "stream",
          "name": "stdout",
          "text": [
            "1186\n",
            "1187\n"
          ]
        },
        {
          "output_type": "stream",
          "name": "stderr",
          "text": [
            "1165it [02:40,  8.28it/s]"
          ]
        },
        {
          "output_type": "stream",
          "name": "stdout",
          "text": [
            "1188\n",
            "1189\n",
            "1190\n"
          ]
        },
        {
          "output_type": "stream",
          "name": "stderr",
          "text": [
            "1168it [02:40,  7.16it/s]"
          ]
        },
        {
          "output_type": "stream",
          "name": "stdout",
          "text": [
            "1191\n"
          ]
        },
        {
          "output_type": "stream",
          "name": "stderr",
          "text": [
            "\r1169it [02:40,  6.87it/s]"
          ]
        },
        {
          "output_type": "stream",
          "name": "stdout",
          "text": [
            "1192\n",
            "1193\n"
          ]
        },
        {
          "output_type": "stream",
          "name": "stderr",
          "text": [
            "\r1171it [02:40,  7.72it/s]"
          ]
        },
        {
          "output_type": "stream",
          "name": "stdout",
          "text": [
            "1194\n",
            "1195\n"
          ]
        },
        {
          "output_type": "stream",
          "name": "stderr",
          "text": [
            "1173it [02:41,  7.42it/s]"
          ]
        },
        {
          "output_type": "stream",
          "name": "stdout",
          "text": [
            "1196\n",
            "1197\n"
          ]
        },
        {
          "output_type": "stream",
          "name": "stderr",
          "text": [
            "\r1174it [02:41,  7.51it/s]"
          ]
        },
        {
          "output_type": "stream",
          "name": "stdout",
          "text": [
            "1198\n",
            "1199\n"
          ]
        },
        {
          "output_type": "stream",
          "name": "stderr",
          "text": [
            "1177it [02:41,  8.21it/s]"
          ]
        },
        {
          "output_type": "stream",
          "name": "stdout",
          "text": [
            "1200\n",
            "1201\n"
          ]
        },
        {
          "output_type": "stream",
          "name": "stderr",
          "text": [
            "1180it [02:41,  9.71it/s]"
          ]
        },
        {
          "output_type": "stream",
          "name": "stdout",
          "text": [
            "1202\n",
            "1203\n",
            "1205\n"
          ]
        },
        {
          "output_type": "stream",
          "name": "stderr",
          "text": [
            "\r1182it [02:42,  8.62it/s]"
          ]
        },
        {
          "output_type": "stream",
          "name": "stdout",
          "text": [
            "1206\n",
            "1208\n"
          ]
        },
        {
          "output_type": "stream",
          "name": "stderr",
          "text": [
            "1184it [02:42,  7.58it/s]"
          ]
        },
        {
          "output_type": "stream",
          "name": "stdout",
          "text": [
            "1210\n",
            "1211\n"
          ]
        },
        {
          "output_type": "stream",
          "name": "stderr",
          "text": [
            "1186it [02:42,  7.21it/s]"
          ]
        },
        {
          "output_type": "stream",
          "name": "stdout",
          "text": [
            "1212\n",
            "1213\n"
          ]
        },
        {
          "output_type": "stream",
          "name": "stderr",
          "text": [
            "1188it [02:43,  7.06it/s]"
          ]
        },
        {
          "output_type": "stream",
          "name": "stdout",
          "text": [
            "1215\n",
            "1216\n"
          ]
        },
        {
          "output_type": "stream",
          "name": "stderr",
          "text": [
            "1190it [02:43,  6.50it/s]"
          ]
        },
        {
          "output_type": "stream",
          "name": "stdout",
          "text": [
            "1217\n",
            "1218\n"
          ]
        },
        {
          "output_type": "stream",
          "name": "stderr",
          "text": [
            "1192it [02:43,  6.34it/s]"
          ]
        },
        {
          "output_type": "stream",
          "name": "stdout",
          "text": [
            "1219\n",
            "1220\n"
          ]
        },
        {
          "output_type": "stream",
          "name": "stderr",
          "text": [
            "1194it [02:44,  6.76it/s]"
          ]
        },
        {
          "output_type": "stream",
          "name": "stdout",
          "text": [
            "1221\n",
            "1222\n"
          ]
        },
        {
          "output_type": "stream",
          "name": "stderr",
          "text": [
            "1196it [02:44,  6.73it/s]"
          ]
        },
        {
          "output_type": "stream",
          "name": "stdout",
          "text": [
            "1223\n",
            "1224\n"
          ]
        },
        {
          "output_type": "stream",
          "name": "stderr",
          "text": [
            "1198it [02:44,  6.79it/s]"
          ]
        },
        {
          "output_type": "stream",
          "name": "stdout",
          "text": [
            "1225\n",
            "1226\n"
          ]
        },
        {
          "output_type": "stream",
          "name": "stderr",
          "text": [
            "1200it [02:44,  6.92it/s]"
          ]
        },
        {
          "output_type": "stream",
          "name": "stdout",
          "text": [
            "1227\n",
            "1228\n"
          ]
        },
        {
          "output_type": "stream",
          "name": "stderr",
          "text": [
            "\r1201it [02:45,  6.64it/s]"
          ]
        },
        {
          "output_type": "stream",
          "name": "stdout",
          "text": [
            "1229\n",
            "1230\n"
          ]
        },
        {
          "output_type": "stream",
          "name": "stderr",
          "text": [
            "1204it [02:45,  7.07it/s]"
          ]
        },
        {
          "output_type": "stream",
          "name": "stdout",
          "text": [
            "1231\n",
            "1232\n"
          ]
        },
        {
          "output_type": "stream",
          "name": "stderr",
          "text": [
            "\r1206it [02:45,  7.44it/s]"
          ]
        },
        {
          "output_type": "stream",
          "name": "stdout",
          "text": [
            "1233\n",
            "1234\n"
          ]
        },
        {
          "output_type": "stream",
          "name": "stderr",
          "text": [
            "\r1207it [02:45,  7.10it/s]"
          ]
        },
        {
          "output_type": "stream",
          "name": "stdout",
          "text": [
            "1235\n",
            "1236\n"
          ]
        },
        {
          "output_type": "stream",
          "name": "stderr",
          "text": [
            "1210it [02:46,  7.72it/s]"
          ]
        },
        {
          "output_type": "stream",
          "name": "stdout",
          "text": [
            "1237\n",
            "1238\n"
          ]
        },
        {
          "output_type": "stream",
          "name": "stderr",
          "text": [
            "1212it [02:46,  7.03it/s]"
          ]
        },
        {
          "output_type": "stream",
          "name": "stdout",
          "text": [
            "1239\n",
            "1240\n"
          ]
        },
        {
          "output_type": "stream",
          "name": "stderr",
          "text": [
            "1214it [02:46,  6.56it/s]"
          ]
        },
        {
          "output_type": "stream",
          "name": "stdout",
          "text": [
            "1241\n",
            "1242\n"
          ]
        },
        {
          "output_type": "stream",
          "name": "stderr",
          "text": [
            "1216it [02:47,  6.44it/s]"
          ]
        },
        {
          "output_type": "stream",
          "name": "stdout",
          "text": [
            "1243\n",
            "1244\n"
          ]
        },
        {
          "output_type": "stream",
          "name": "stderr",
          "text": [
            "1218it [02:47,  6.94it/s]"
          ]
        },
        {
          "output_type": "stream",
          "name": "stdout",
          "text": [
            "1245\n",
            "1246\n"
          ]
        },
        {
          "output_type": "stream",
          "name": "stderr",
          "text": [
            "1220it [02:47,  7.33it/s]"
          ]
        },
        {
          "output_type": "stream",
          "name": "stdout",
          "text": [
            "1247\n",
            "1248\n"
          ]
        },
        {
          "output_type": "stream",
          "name": "stderr",
          "text": [
            "1222it [02:48,  6.75it/s]"
          ]
        },
        {
          "output_type": "stream",
          "name": "stdout",
          "text": [
            "1249\n",
            "1250\n"
          ]
        },
        {
          "output_type": "stream",
          "name": "stderr",
          "text": [
            "1224it [02:48,  6.97it/s]"
          ]
        },
        {
          "output_type": "stream",
          "name": "stdout",
          "text": [
            "1251\n",
            "1252\n"
          ]
        },
        {
          "output_type": "stream",
          "name": "stderr",
          "text": [
            "1226it [02:48,  6.21it/s]"
          ]
        },
        {
          "output_type": "stream",
          "name": "stdout",
          "text": [
            "1253\n",
            "1254\n"
          ]
        },
        {
          "output_type": "stream",
          "name": "stderr",
          "text": [
            "1228it [02:49,  5.94it/s]"
          ]
        },
        {
          "output_type": "stream",
          "name": "stdout",
          "text": [
            "1255\n",
            "1257\n"
          ]
        },
        {
          "output_type": "stream",
          "name": "stderr",
          "text": [
            "1230it [02:49,  6.60it/s]"
          ]
        },
        {
          "output_type": "stream",
          "name": "stdout",
          "text": [
            "1258\n",
            "1259\n"
          ]
        },
        {
          "output_type": "stream",
          "name": "stderr",
          "text": [
            "\r1231it [02:49,  6.57it/s]"
          ]
        },
        {
          "output_type": "stream",
          "name": "stdout",
          "text": [
            "1260\n",
            "1261\n"
          ]
        },
        {
          "output_type": "stream",
          "name": "stderr",
          "text": [
            "1234it [02:49,  7.54it/s]"
          ]
        },
        {
          "output_type": "stream",
          "name": "stdout",
          "text": [
            "1262\n",
            "1263\n"
          ]
        },
        {
          "output_type": "stream",
          "name": "stderr",
          "text": [
            "1237it [02:50,  8.72it/s]"
          ]
        },
        {
          "output_type": "stream",
          "name": "stdout",
          "text": [
            "1264\n",
            "1265\n",
            "1266\n"
          ]
        },
        {
          "output_type": "stream",
          "name": "stderr",
          "text": [
            "1239it [02:50,  8.40it/s]"
          ]
        },
        {
          "output_type": "stream",
          "name": "stdout",
          "text": [
            "1267\n",
            "1268\n"
          ]
        },
        {
          "output_type": "stream",
          "name": "stderr",
          "text": [
            "1241it [02:50,  8.62it/s]"
          ]
        },
        {
          "output_type": "stream",
          "name": "stdout",
          "text": [
            "1269\n",
            "1270\n"
          ]
        },
        {
          "output_type": "stream",
          "name": "stderr",
          "text": [
            "1243it [02:50,  8.36it/s]"
          ]
        },
        {
          "output_type": "stream",
          "name": "stdout",
          "text": [
            "1271\n",
            "1272\n"
          ]
        },
        {
          "output_type": "stream",
          "name": "stderr",
          "text": [
            "1245it [02:51,  8.44it/s]"
          ]
        },
        {
          "output_type": "stream",
          "name": "stdout",
          "text": [
            "1273\n",
            "1274\n"
          ]
        },
        {
          "output_type": "stream",
          "name": "stderr",
          "text": [
            "1247it [02:51,  8.41it/s]"
          ]
        },
        {
          "output_type": "stream",
          "name": "stdout",
          "text": [
            "1275\n",
            "1276\n"
          ]
        },
        {
          "output_type": "stream",
          "name": "stderr",
          "text": [
            "1249it [02:51,  7.54it/s]"
          ]
        },
        {
          "output_type": "stream",
          "name": "stdout",
          "text": [
            "1277\n",
            "1278\n"
          ]
        },
        {
          "output_type": "stream",
          "name": "stderr",
          "text": [
            "\r1251it [02:51,  8.83it/s]"
          ]
        },
        {
          "output_type": "stream",
          "name": "stdout",
          "text": [
            "1279\n",
            "1280\n",
            "1281\n"
          ]
        },
        {
          "output_type": "stream",
          "name": "stderr",
          "text": [
            "1254it [02:52,  8.48it/s]"
          ]
        },
        {
          "output_type": "stream",
          "name": "stdout",
          "text": [
            "1282\n",
            "1283\n"
          ]
        },
        {
          "output_type": "stream",
          "name": "stderr",
          "text": [
            "\r1255it [02:52,  8.65it/s]"
          ]
        },
        {
          "output_type": "stream",
          "name": "stdout",
          "text": [
            "1284\n",
            "1285\n"
          ]
        },
        {
          "output_type": "stream",
          "name": "stderr",
          "text": [
            "1258it [02:52,  8.51it/s]"
          ]
        },
        {
          "output_type": "stream",
          "name": "stdout",
          "text": [
            "1286\n",
            "1287\n"
          ]
        },
        {
          "output_type": "stream",
          "name": "stderr",
          "text": [
            "\r1259it [02:52,  8.65it/s]"
          ]
        },
        {
          "output_type": "stream",
          "name": "stdout",
          "text": [
            "1288\n",
            "1289\n"
          ]
        },
        {
          "output_type": "stream",
          "name": "stderr",
          "text": [
            "1262it [02:53,  9.07it/s]"
          ]
        },
        {
          "output_type": "stream",
          "name": "stdout",
          "text": [
            "1290\n",
            "1291\n"
          ]
        },
        {
          "output_type": "stream",
          "name": "stderr",
          "text": [
            "1264it [02:53,  8.66it/s]"
          ]
        },
        {
          "output_type": "stream",
          "name": "stdout",
          "text": [
            "1292\n",
            "1293\n",
            "1294\n"
          ]
        },
        {
          "output_type": "stream",
          "name": "stderr",
          "text": [
            "1267it [02:53,  8.88it/s]"
          ]
        },
        {
          "output_type": "stream",
          "name": "stdout",
          "text": [
            "1295\n",
            "1296\n",
            "1297"
          ]
        },
        {
          "output_type": "stream",
          "name": "stderr",
          "text": [
            "\r1269it [02:53,  9.21it/s]"
          ]
        },
        {
          "output_type": "stream",
          "name": "stdout",
          "text": [
            "\n",
            "1298\n"
          ]
        },
        {
          "output_type": "stream",
          "name": "stderr",
          "text": [
            "1271it [02:54,  8.78it/s]"
          ]
        },
        {
          "output_type": "stream",
          "name": "stdout",
          "text": [
            "1299\n",
            "1300\n"
          ]
        },
        {
          "output_type": "stream",
          "name": "stderr",
          "text": [
            "1273it [02:54,  8.05it/s]"
          ]
        },
        {
          "output_type": "stream",
          "name": "stdout",
          "text": [
            "1301\n",
            "1302\n"
          ]
        },
        {
          "output_type": "stream",
          "name": "stderr",
          "text": [
            "\r1274it [02:54,  8.23it/s]"
          ]
        },
        {
          "output_type": "stream",
          "name": "stdout",
          "text": [
            "1303\n",
            "1304\n"
          ]
        },
        {
          "output_type": "stream",
          "name": "stderr",
          "text": [
            "1277it [02:54,  8.10it/s]"
          ]
        },
        {
          "output_type": "stream",
          "name": "stdout",
          "text": [
            "1305\n",
            "1306\n"
          ]
        },
        {
          "output_type": "stream",
          "name": "stderr",
          "text": [
            "1281it [02:55, 10.86it/s]"
          ]
        },
        {
          "output_type": "stream",
          "name": "stdout",
          "text": [
            "1307\n",
            "1308\n",
            "1309\n",
            "1310\n"
          ]
        },
        {
          "output_type": "stream",
          "name": "stderr",
          "text": [
            "\r1283it [02:55, 10.44it/s]"
          ]
        },
        {
          "output_type": "stream",
          "name": "stdout",
          "text": [
            "1311\n",
            "1312\n",
            "1313\n"
          ]
        },
        {
          "output_type": "stream",
          "name": "stderr",
          "text": [
            "1286it [02:55,  8.19it/s]"
          ]
        },
        {
          "output_type": "stream",
          "name": "stdout",
          "text": [
            "1314\n"
          ]
        },
        {
          "output_type": "stream",
          "name": "stderr",
          "text": [
            "\r1287it [02:55,  7.53it/s]"
          ]
        },
        {
          "output_type": "stream",
          "name": "stdout",
          "text": [
            "1315\n",
            "1316\n"
          ]
        },
        {
          "output_type": "stream",
          "name": "stderr",
          "text": [
            "1289it [02:56,  6.64it/s]"
          ]
        },
        {
          "output_type": "stream",
          "name": "stdout",
          "text": [
            "1317\n",
            "1318\n"
          ]
        },
        {
          "output_type": "stream",
          "name": "stderr",
          "text": [
            "1291it [02:56,  6.80it/s]"
          ]
        },
        {
          "output_type": "stream",
          "name": "stdout",
          "text": [
            "1319\n",
            "1320\n"
          ]
        },
        {
          "output_type": "stream",
          "name": "stderr",
          "text": [
            "\r1293it [02:56,  8.09it/s]"
          ]
        },
        {
          "output_type": "stream",
          "name": "stdout",
          "text": [
            "1321\n",
            "1322\n",
            "1323\n"
          ]
        },
        {
          "output_type": "stream",
          "name": "stderr",
          "text": [
            "1296it [02:57,  7.97it/s]"
          ]
        },
        {
          "output_type": "stream",
          "name": "stdout",
          "text": [
            "1324\n",
            "1325\n"
          ]
        },
        {
          "output_type": "stream",
          "name": "stderr",
          "text": [
            "1298it [02:57,  7.98it/s]"
          ]
        },
        {
          "output_type": "stream",
          "name": "stdout",
          "text": [
            "1326\n",
            "1327\n"
          ]
        },
        {
          "output_type": "stream",
          "name": "stderr",
          "text": [
            "\r1299it [02:57,  8.31it/s]"
          ]
        },
        {
          "output_type": "stream",
          "name": "stdout",
          "text": [
            "1328\n"
          ]
        },
        {
          "output_type": "stream",
          "name": "stderr",
          "text": [
            "\r1300it [02:57,  5.24it/s]"
          ]
        },
        {
          "output_type": "stream",
          "name": "stdout",
          "text": [
            "1329\n",
            "1330\n"
          ]
        },
        {
          "output_type": "stream",
          "name": "stderr",
          "text": [
            "1303it [02:58,  6.34it/s]"
          ]
        },
        {
          "output_type": "stream",
          "name": "stdout",
          "text": [
            "1331\n",
            "1332\n",
            "1333\n"
          ]
        },
        {
          "output_type": "stream",
          "name": "stderr",
          "text": [
            "1306it [02:58,  5.17it/s]"
          ]
        },
        {
          "output_type": "stream",
          "name": "stdout",
          "text": [
            "1334\n",
            "1335\n"
          ]
        },
        {
          "output_type": "stream",
          "name": "stderr",
          "text": [
            "1308it [02:59,  5.47it/s]"
          ]
        },
        {
          "output_type": "stream",
          "name": "stdout",
          "text": [
            "1336\n",
            "1337\n"
          ]
        },
        {
          "output_type": "stream",
          "name": "stderr",
          "text": [
            "1310it [02:59,  6.68it/s]"
          ]
        },
        {
          "output_type": "stream",
          "name": "stdout",
          "text": [
            "1338\n",
            "1339\n"
          ]
        },
        {
          "output_type": "stream",
          "name": "stderr",
          "text": [
            "1312it [02:59,  6.75it/s]"
          ]
        },
        {
          "output_type": "stream",
          "name": "stdout",
          "text": [
            "1340\n",
            "1341\n"
          ]
        },
        {
          "output_type": "stream",
          "name": "stderr",
          "text": [
            "1314it [03:00,  7.29it/s]"
          ]
        },
        {
          "output_type": "stream",
          "name": "stdout",
          "text": [
            "1342\n",
            "1343\n"
          ]
        },
        {
          "output_type": "stream",
          "name": "stderr",
          "text": [
            "1316it [03:00,  7.13it/s]"
          ]
        },
        {
          "output_type": "stream",
          "name": "stdout",
          "text": [
            "1344\n",
            "1345\n"
          ]
        },
        {
          "output_type": "stream",
          "name": "stderr",
          "text": [
            "1319it [03:00,  8.91it/s]"
          ]
        },
        {
          "output_type": "stream",
          "name": "stdout",
          "text": [
            "1346\n",
            "1347\n",
            "1348\n"
          ]
        },
        {
          "output_type": "stream",
          "name": "stderr",
          "text": [
            "1321it [03:00,  7.30it/s]"
          ]
        },
        {
          "output_type": "stream",
          "name": "stdout",
          "text": [
            "1349\n"
          ]
        },
        {
          "output_type": "stream",
          "name": "stderr",
          "text": [
            "\n"
          ]
        }
      ]
    },
    {
      "cell_type": "code",
      "source": [
        "extracted_features[0]"
      ],
      "metadata": {
        "id": "1uPfycg0TlzJ",
        "colab": {
          "base_uri": "https://localhost:8080/"
        },
        "outputId": "72ee757a-753b-4654-9b9d-fa96f7942b07"
      },
      "execution_count": null,
      "outputs": [
        {
          "output_type": "execute_result",
          "data": {
            "text/plain": [
              "[array([-4.5597260e+02,  6.2222103e+01, -1.7182070e+01, -2.1928358e+00,\n",
              "        -5.3700228e+00,  1.0057290e+01, -1.5893919e+01, -4.1009941e+00,\n",
              "        -6.3178458e+00, -5.0910106e+00, -4.9119633e-01, -8.6257114e+00,\n",
              "        -5.6498060e+00, -1.1461143e+01, -3.7534969e+00, -4.3188524e+00,\n",
              "        -9.0246449e+00, -7.8769636e+00, -4.7026629e+00, -8.4240055e+00,\n",
              "        -6.4523988e+00, -1.4792271e+00, -4.6614542e+00, -2.1793625e+00,\n",
              "        -1.7126818e+00, -3.1793174e-01, -3.2131922e-01, -1.7261224e+00,\n",
              "        -1.9738288e+00,  3.6645836e-01, -5.5046555e-02, -2.3208034e+00,\n",
              "        -8.4949118e-01, -1.7271169e+00, -1.4038208e+00, -1.1464531e+00,\n",
              "        -9.9656278e-01, -1.1410062e+00, -1.4066080e+00, -8.1946367e-01],\n",
              "       dtype=float32), 'healthy']"
            ]
          },
          "metadata": {},
          "execution_count": 35
        }
      ]
    },
    {
      "cell_type": "code",
      "source": [
        "extracted_features_df=pd.DataFrame(extracted_features,columns=['feature','class'])\n",
        "extracted_features_df.head()\n",
        "extracted_features_df.shape"
      ],
      "metadata": {
        "id": "yO1rurx6f8pg",
        "colab": {
          "base_uri": "https://localhost:8080/"
        },
        "outputId": "090909e7-5e02-4d1d-e044-121e261b05e8"
      },
      "execution_count": null,
      "outputs": [
        {
          "output_type": "execute_result",
          "data": {
            "text/plain": [
              "(1321, 2)"
            ]
          },
          "metadata": {},
          "execution_count": 36
        }
      ]
    },
    {
      "cell_type": "markdown",
      "source": [
        "# DATA AUGMENTATION"
      ],
      "metadata": {
        "id": "MHvd6HpZzXP1"
      }
    },
    {
      "cell_type": "code",
      "source": [
        "import torch\n",
        "import torchaudio\n",
        "import torchaudio.transforms as T\n",
        "\n",
        "print(torch.__version__)\n",
        "print(torchaudio.__version__)"
      ],
      "metadata": {
        "colab": {
          "base_uri": "https://localhost:8080/"
        },
        "id": "Ljxkt3yuzWiw",
        "outputId": "94c83ece-bf72-4f7e-85bb-cb407b400116"
      },
      "execution_count": null,
      "outputs": [
        {
          "output_type": "stream",
          "name": "stdout",
          "text": [
            "1.10.0+cu111\n",
            "0.10.0+cu111\n"
          ]
        }
      ]
    },
    {
      "cell_type": "code",
      "source": [
        "def _get_sample(path, resample=None):\n",
        "  effects = [\n",
        "    [\"remix\", \"1\"]\n",
        "  ]\n",
        "  if resample:\n",
        "    effects.extend([\n",
        "      [\"lowpass\", f\"{resample // 2}\"],\n",
        "      [\"rate\", f'{resample}'],\n",
        "    ])\n",
        "  return torchaudio.sox_effects.apply_effects_file(path, effects=effects)"
      ],
      "metadata": {
        "id": "AxXv0bxpzkag"
      },
      "execution_count": null,
      "outputs": []
    },
    {
      "cell_type": "code",
      "source": [
        "def get_speech_sample(*, resample=None):\n",
        "  aug_extracted_features=[]\n",
        "  for index,sample in final_csv.iterrows():\n",
        "\n",
        "    if sample.covid_status == \"positive_moderate\":\n",
        "      print(sample.wav1_path)\n",
        "\n",
        "      aug_file_name = final_csv.wav1_path[index]\n",
        "      aug_final_class_labels=sample[\"covid_status\"]\n",
        "      aug_data=features_extractor(aug_file_name)\n",
        "      aug_extracted_features.append([aug_data,aug_final_class_labels])\n",
        "      print(aug_extracted_features)\n",
        "      return _get_sample(final_csv.wav1_path[index], resample=resample)"
      ],
      "metadata": {
        "id": "zvWgVID1zpI0"
      },
      "execution_count": null,
      "outputs": []
    },
    {
      "cell_type": "code",
      "source": [
        "aug_extracted_features=[]\n",
        "  final_csv_paths = []\n",
        "  for index,sample in final_csv.iterrows():\n",
        "\n",
        "    if sample.covid_status == \"positive_moderate\":\n",
        "      # print(sample.wav1_path)\n",
        "\n",
        "      aug_file_name = final_csv.wav1_path[index]\n",
        "      aug_final_class_labels=sample[\"covid_status\"]\n",
        "      aug_data=features_extractor(aug_file_name)\n",
        "      aug_extracted_features.append([aug_data,aug_final_class_labels])\n",
        "      # print(aug_extracted_features)\n",
        "      final_csv_paths.append([final_csv_paths, final_csv.wav1_path[index]])"
      ],
      "metadata": {
        "id": "vGFztGHEshCi"
      },
      "execution_count": null,
      "outputs": []
    },
    {
      "cell_type": "code",
      "source": [
        "def get_spectrogram(\n",
        "    n_fft = 400,\n",
        "    win_len = None,\n",
        "    hop_len = None,\n",
        "    power = 2.0,\n",
        "):\n",
        "  waveform, _ = get_speech_sample()\n",
        "  spectrogram = T.Spectrogram(\n",
        "      n_fft=n_fft,\n",
        "      win_length=win_len,\n",
        "      hop_length=hop_len,\n",
        "      center=True,\n",
        "      pad_mode=\"reflect\",\n",
        "      power=power,\n",
        "  )\n",
        "  return spectrogram(waveform)"
      ],
      "metadata": {
        "id": "wRAaxrDpzs6j"
      },
      "execution_count": null,
      "outputs": []
    },
    {
      "cell_type": "code",
      "source": [
        "def plot_spectrogram(spec, title=None, ylabel='freq_bin', aspect='auto', xmax=None):\n",
        "  fig, axs = plt.subplots(1, 1)\n",
        "  axs.set_title(title or 'Spectrogram (db)')\n",
        "  axs.set_ylabel(ylabel)\n",
        "  axs.set_xlabel('frame')\n",
        "  im = axs.imshow(librosa.power_to_db(spec), origin='lower', aspect=aspect)\n",
        "  if xmax:\n",
        "    axs.set_xlim((0, xmax))\n",
        "  fig.colorbar(im, ax=axs)\n",
        "  plt.show(block=False)"
      ],
      "metadata": {
        "id": "VnNxaUonzxPw"
      },
      "execution_count": null,
      "outputs": []
    },
    {
      "cell_type": "code",
      "source": [
        "#Time Stretch\n",
        "spec = get_spectrogram(power=None)\n",
        "stretch = T.TimeStretch()\n",
        "\n",
        "rate = 1.2\n",
        "spec_ = stretch(spec, rate)\n",
        "plot_spectrogram(torch.abs(spec_[0]), title=f\"Stretched x{rate}\", aspect='equal', xmax=304)\n",
        "\n",
        "plot_spectrogram(torch.abs(spec[0]), title=\"Original\", aspect='equal', xmax=304)\n",
        "\n",
        "rate = 0.9\n",
        "spec_ = stretch(spec, rate)\n",
        "plot_spectrogram(torch.abs(spec_[0]), title=f\"Stretched x{rate}\", aspect='equal', xmax=304)"
      ],
      "metadata": {
        "colab": {
          "base_uri": "https://localhost:8080/",
          "height": 951
        },
        "id": "lGDw0Xyhz08A",
        "outputId": "9086d86f-6886-4d62-eda4-b962f4952d82"
      },
      "execution_count": null,
      "outputs": [
        {
          "output_type": "stream",
          "name": "stdout",
          "text": [
            "./Extracted_data/20210816/9hXEs9OejdVxG6JJGCyKQpqVvy43/cough-heavy.wav\n",
            "[[array([-4.09520844e+02,  5.06325188e+01, -2.58931084e+01,  3.24296188e+00,\n",
            "       -4.20116234e+01,  2.60041785e+00, -1.17854290e+01, -8.02353859e+00,\n",
            "       -1.54235868e+01, -6.87199831e+00, -2.63478541e+00, -5.21098900e+00,\n",
            "        8.89537430e+00, -1.11502991e+01, -7.16420746e+00, -1.17581835e+01,\n",
            "       -7.39901400e+00, -9.19350243e+00, -6.25924730e+00,  2.82343054e+00,\n",
            "       -1.00488544e+00, -2.34227013e-02, -7.51025772e+00, -2.79304624e+00,\n",
            "       -2.55641198e+00,  3.57360983e+00,  4.18947077e+00, -3.41234612e+00,\n",
            "       -1.49464130e+00,  1.21652842e+00,  2.78001642e+00, -1.00814748e+00,\n",
            "       -1.26410380e-01,  1.74710655e+00,  2.27705765e+00, -5.91906428e-01,\n",
            "        4.79548156e-01,  2.11242557e+00,  1.78594661e+00, -2.07545355e-01],\n",
            "      dtype=float32), 'positive_moderate']]\n"
          ]
        },
        {
          "output_type": "display_data",
          "data": {
            "text/plain": [
              "<Figure size 432x288 with 2 Axes>"
            ],
            "image/png": "[encoded data removed]"
          },
          "metadata": {
            "needs_background": "light"
          }
        },
        {
          "output_type": "display_data",
          "data": {
            "text/plain": [
              "<Figure size 432x288 with 2 Axes>"
            ],
            "image/png": "[encoded data removed]"
          },
          "metadata": {
            "needs_background": "light"
          }
        },
        {
          "output_type": "display_data",
          "data": {
            "text/plain": [
              "<Figure size 432x288 with 2 Axes>"
            ],
            "image/png": "[encoded data removed]"
          },
          "metadata": {
            "needs_background": "light"
          }
        }
      ]
    },
    {
      "cell_type": "code",
      "source": [
        "aug_extracted_features"
      ],
      "metadata": {
        "colab": {
          "base_uri": "https://localhost:8080/",
          "height": 165
        },
        "id": "YIJkGjGIAio2",
        "outputId": "1eb369db-c2ef-4f87-b68f-6efc3d8163fd"
      },
      "execution_count": null,
      "outputs": [
        {
          "output_type": "error",
          "ename": "NameError",
          "evalue": "ignored",
          "traceback": [
            "\u001b[0;31m---------------------------------------------------------------------------\u001b[0m",
            "\u001b[0;31mNameError\u001b[0m                                 Traceback (most recent call last)",
            "\u001b[0;32m<ipython-input-35-72067c135c41>\u001b[0m in \u001b[0;36m<module>\u001b[0;34m()\u001b[0m\n\u001b[0;32m----> 1\u001b[0;31m \u001b[0maug_extracted_features\u001b[0m\u001b[0;34m\u001b[0m\u001b[0;34m\u001b[0m\u001b[0m\n\u001b[0m",
            "\u001b[0;31mNameError\u001b[0m: name 'aug_extracted_features' is not defined"
          ]
        }
      ]
    },
    {
      "cell_type": "code",
      "source": [
        "#Time Masking\n",
        "torch.random.manual_seed(4)\n",
        "\n",
        "spec = get_spectrogram()\n",
        "plot_spectrogram(spec[0], title=\"Original\")\n",
        "\n",
        "masking = T.TimeMasking(time_mask_param=80)\n",
        "spec = masking(spec)\n",
        "\n",
        "plot_spectrogram(spec[0], title=\"Masked along time axis\")"
      ],
      "metadata": {
        "colab": {
          "base_uri": "https://localhost:8080/",
          "height": 572
        },
        "id": "7wLGn3NZz5mH",
        "outputId": "a853c149-2bd9-44d2-8200-bcd0acc67d71"
      },
      "execution_count": null,
      "outputs": [
        {
          "output_type": "display_data",
          "data": {
            "text/plain": [
              "<Figure size 432x288 with 2 Axes>"
            ],
            "image/png": "[encoded data removed]"
          },
          "metadata": {
            "needs_background": "light"
          }
        },
        {
          "output_type": "display_data",
          "data": {
            "text/plain": [
              "<Figure size 432x288 with 2 Axes>"
            ],
            "image/png": "[encoded data removed]"
          },
          "metadata": {
            "needs_background": "light"
          }
        }
      ]
    },
    {
      "cell_type": "code",
      "source": [
        "#frequency Masking\n",
        "\n",
        "torch.random.manual_seed(4)\n",
        "\n",
        "spec = get_spectrogram()\n",
        "plot_spectrogram(spec[0], title=\"Original\")\n",
        "\n",
        "masking = T.FrequencyMasking(freq_mask_param=80)\n",
        "spec = masking(spec)\n",
        "\n",
        "plot_spectrogram(spec[0], title=\"Masked along frequency axis\")"
      ],
      "metadata": {
        "colab": {
          "base_uri": "https://localhost:8080/",
          "height": 572
        },
        "id": "xfLalm-Rz6jt",
        "outputId": "4c7c0749-1b56-46d3-a25a-e070cd1ec6c6"
      },
      "execution_count": null,
      "outputs": [
        {
          "output_type": "display_data",
          "data": {
            "text/plain": [
              "<Figure size 432x288 with 2 Axes>"
            ],
            "image/png": "[encoded data removed]"
          },
          "metadata": {
            "needs_background": "light"
          }
        },
        {
          "output_type": "display_data",
          "data": {
            "text/plain": [
              "<Figure size 432x288 with 2 Axes>"
            ],
            "image/png": "[encoded data removed]"
          },
          "metadata": {
            "needs_background": "light"
          }
        }
      ]
    },
    {
      "cell_type": "code",
      "source": [
        "X=np.array(extracted_features_df['feature'].tolist())\n",
        "Y = np.array(extracted_features_df['class'].tolist())\n",
        "y=[]\n",
        "for i in range(1321):\n",
        "  if extracted_features_df['class'][i] == 'healthy':\n",
        "    y.append('0')\n",
        "  else:\n",
        "    y.append('1')\n",
        "#y=extracted_features_df['class']"
      ],
      "metadata": {
        "id": "TI23RetDhYiD"
      },
      "execution_count": null,
      "outputs": []
    },
    {
      "cell_type": "code",
      "source": [
        "y"
      ],
      "metadata": {
        "colab": {
          "base_uri": "https://localhost:8080/"
        },
        "id": "0QehlKBWM49u",
        "outputId": "6ff66a40-4c04-4305-e2c4-738b9206143d"
      },
      "execution_count": null,
      "outputs": [
        {
          "output_type": "execute_result",
          "data": {
            "text/plain": [
              "['0',\n",
              " '0',\n",
              " '0',\n",
              " '0',\n",
              " '0',\n",
              " '0',\n",
              " '0',\n",
              " '0',\n",
              " '0',\n",
              " '0',\n",
              " '0',\n",
              " '0',\n",
              " '0',\n",
              " '0',\n",
              " '0',\n",
              " '0',\n",
              " '0',\n",
              " '0',\n",
              " '0',\n",
              " '0',\n",
              " '0',\n",
              " '0',\n",
              " '0',\n",
              " '0',\n",
              " '0',\n",
              " '0',\n",
              " '1',\n",
              " '0',\n",
              " '1',\n",
              " '1',\n",
              " '0',\n",
              " '1',\n",
              " '1',\n",
              " '1',\n",
              " '1',\n",
              " '0',\n",
              " '1',\n",
              " '1',\n",
              " '0',\n",
              " '1',\n",
              " '0',\n",
              " '1',\n",
              " '0',\n",
              " '1',\n",
              " '1',\n",
              " '0',\n",
              " '0',\n",
              " '1',\n",
              " '1',\n",
              " '1',\n",
              " '0',\n",
              " '1',\n",
              " '1',\n",
              " '1',\n",
              " '0',\n",
              " '1',\n",
              " '0',\n",
              " '0',\n",
              " '0',\n",
              " '0',\n",
              " '0',\n",
              " '0',\n",
              " '0',\n",
              " '0',\n",
              " '0',\n",
              " '0',\n",
              " '0',\n",
              " '0',\n",
              " '0',\n",
              " '0',\n",
              " '0',\n",
              " '0',\n",
              " '0',\n",
              " '0',\n",
              " '0',\n",
              " '0',\n",
              " '0',\n",
              " '0',\n",
              " '0',\n",
              " '0',\n",
              " '0',\n",
              " '0',\n",
              " '0',\n",
              " '0',\n",
              " '0',\n",
              " '0',\n",
              " '0',\n",
              " '0',\n",
              " '0',\n",
              " '0',\n",
              " '0',\n",
              " '0',\n",
              " '0',\n",
              " '0',\n",
              " '0',\n",
              " '0',\n",
              " '0',\n",
              " '0',\n",
              " '0',\n",
              " '0',\n",
              " '0',\n",
              " '0',\n",
              " '0',\n",
              " '0',\n",
              " '0',\n",
              " '0',\n",
              " '0',\n",
              " '0',\n",
              " '0',\n",
              " '0',\n",
              " '0',\n",
              " '0',\n",
              " '0',\n",
              " '1',\n",
              " '0',\n",
              " '0',\n",
              " '0',\n",
              " '0',\n",
              " '0',\n",
              " '0',\n",
              " '0',\n",
              " '0',\n",
              " '0',\n",
              " '0',\n",
              " '0',\n",
              " '0',\n",
              " '0',\n",
              " '0',\n",
              " '0',\n",
              " '0',\n",
              " '0',\n",
              " '0',\n",
              " '0',\n",
              " '0',\n",
              " '0',\n",
              " '0',\n",
              " '0',\n",
              " '0',\n",
              " '0',\n",
              " '0',\n",
              " '0',\n",
              " '0',\n",
              " '0',\n",
              " '0',\n",
              " '0',\n",
              " '0',\n",
              " '0',\n",
              " '0',\n",
              " '0',\n",
              " '0',\n",
              " '0',\n",
              " '0',\n",
              " '0',\n",
              " '0',\n",
              " '0',\n",
              " '0',\n",
              " '0',\n",
              " '0',\n",
              " '0',\n",
              " '0',\n",
              " '0',\n",
              " '0',\n",
              " '0',\n",
              " '0',\n",
              " '0',\n",
              " '0',\n",
              " '0',\n",
              " '0',\n",
              " '0',\n",
              " '0',\n",
              " '0',\n",
              " '0',\n",
              " '0',\n",
              " '0',\n",
              " '0',\n",
              " '0',\n",
              " '0',\n",
              " '0',\n",
              " '0',\n",
              " '0',\n",
              " '0',\n",
              " '0',\n",
              " '0',\n",
              " '0',\n",
              " '0',\n",
              " '0',\n",
              " '0',\n",
              " '0',\n",
              " '0',\n",
              " '0',\n",
              " '0',\n",
              " '0',\n",
              " '0',\n",
              " '0',\n",
              " '0',\n",
              " '0',\n",
              " '0',\n",
              " '0',\n",
              " '0',\n",
              " '0',\n",
              " '0',\n",
              " '0',\n",
              " '0',\n",
              " '0',\n",
              " '0',\n",
              " '0',\n",
              " '0',\n",
              " '0',\n",
              " '0',\n",
              " '0',\n",
              " '0',\n",
              " '0',\n",
              " '0',\n",
              " '0',\n",
              " '0',\n",
              " '0',\n",
              " '0',\n",
              " '0',\n",
              " '0',\n",
              " '0',\n",
              " '0',\n",
              " '0',\n",
              " '0',\n",
              " '0',\n",
              " '0',\n",
              " '0',\n",
              " '0',\n",
              " '0',\n",
              " '0',\n",
              " '0',\n",
              " '0',\n",
              " '0',\n",
              " '0',\n",
              " '0',\n",
              " '0',\n",
              " '0',\n",
              " '0',\n",
              " '0',\n",
              " '0',\n",
              " '0',\n",
              " '0',\n",
              " '0',\n",
              " '0',\n",
              " '0',\n",
              " '0',\n",
              " '0',\n",
              " '0',\n",
              " '0',\n",
              " '0',\n",
              " '0',\n",
              " '0',\n",
              " '0',\n",
              " '0',\n",
              " '1',\n",
              " '0',\n",
              " '0',\n",
              " '0',\n",
              " '0',\n",
              " '0',\n",
              " '0',\n",
              " '0',\n",
              " '0',\n",
              " '0',\n",
              " '0',\n",
              " '0',\n",
              " '0',\n",
              " '0',\n",
              " '0',\n",
              " '0',\n",
              " '0',\n",
              " '0',\n",
              " '0',\n",
              " '0',\n",
              " '0',\n",
              " '0',\n",
              " '0',\n",
              " '0',\n",
              " '0',\n",
              " '0',\n",
              " '0',\n",
              " '0',\n",
              " '0',\n",
              " '0',\n",
              " '0',\n",
              " '0',\n",
              " '0',\n",
              " '0',\n",
              " '0',\n",
              " '0',\n",
              " '0',\n",
              " '0',\n",
              " '0',\n",
              " '0',\n",
              " '0',\n",
              " '0',\n",
              " '0',\n",
              " '0',\n",
              " '0',\n",
              " '0',\n",
              " '0',\n",
              " '0',\n",
              " '0',\n",
              " '0',\n",
              " '0',\n",
              " '0',\n",
              " '0',\n",
              " '0',\n",
              " '0',\n",
              " '0',\n",
              " '0',\n",
              " '0',\n",
              " '0',\n",
              " '0',\n",
              " '0',\n",
              " '0',\n",
              " '0',\n",
              " '0',\n",
              " '0',\n",
              " '0',\n",
              " '0',\n",
              " '0',\n",
              " '0',\n",
              " '0',\n",
              " '0',\n",
              " '0',\n",
              " '0',\n",
              " '0',\n",
              " '0',\n",
              " '0',\n",
              " '0',\n",
              " '0',\n",
              " '0',\n",
              " '0',\n",
              " '0',\n",
              " '0',\n",
              " '0',\n",
              " '0',\n",
              " '0',\n",
              " '0',\n",
              " '0',\n",
              " '0',\n",
              " '0',\n",
              " '0',\n",
              " '0',\n",
              " '0',\n",
              " '0',\n",
              " '0',\n",
              " '0',\n",
              " '0',\n",
              " '0',\n",
              " '0',\n",
              " '0',\n",
              " '0',\n",
              " '0',\n",
              " '0',\n",
              " '0',\n",
              " '0',\n",
              " '0',\n",
              " '0',\n",
              " '0',\n",
              " '0',\n",
              " '0',\n",
              " '0',\n",
              " '0',\n",
              " '0',\n",
              " '0',\n",
              " '0',\n",
              " '0',\n",
              " '0',\n",
              " '0',\n",
              " '0',\n",
              " '0',\n",
              " '0',\n",
              " '0',\n",
              " '0',\n",
              " '0',\n",
              " '0',\n",
              " '0',\n",
              " '0',\n",
              " '0',\n",
              " '0',\n",
              " '0',\n",
              " '0',\n",
              " '0',\n",
              " '0',\n",
              " '0',\n",
              " '0',\n",
              " '0',\n",
              " '0',\n",
              " '0',\n",
              " '0',\n",
              " '0',\n",
              " '0',\n",
              " '0',\n",
              " '0',\n",
              " '0',\n",
              " '0',\n",
              " '0',\n",
              " '0',\n",
              " '0',\n",
              " '0',\n",
              " '0',\n",
              " '0',\n",
              " '0',\n",
              " '0',\n",
              " '0',\n",
              " '0',\n",
              " '0',\n",
              " '0',\n",
              " '0',\n",
              " '0',\n",
              " '0',\n",
              " '0',\n",
              " '0',\n",
              " '0',\n",
              " '0',\n",
              " '0',\n",
              " '0',\n",
              " '0',\n",
              " '0',\n",
              " '0',\n",
              " '0',\n",
              " '0',\n",
              " '0',\n",
              " '0',\n",
              " '0',\n",
              " '0',\n",
              " '0',\n",
              " '0',\n",
              " '0',\n",
              " '0',\n",
              " '0',\n",
              " '0',\n",
              " '0',\n",
              " '1',\n",
              " '1',\n",
              " '1',\n",
              " '1',\n",
              " '0',\n",
              " '1',\n",
              " '1',\n",
              " '1',\n",
              " '1',\n",
              " '0',\n",
              " '1',\n",
              " '0',\n",
              " '0',\n",
              " '0',\n",
              " '0',\n",
              " '0',\n",
              " '0',\n",
              " '0',\n",
              " '0',\n",
              " '0',\n",
              " '0',\n",
              " '0',\n",
              " '0',\n",
              " '0',\n",
              " '0',\n",
              " '0',\n",
              " '0',\n",
              " '0',\n",
              " '0',\n",
              " '0',\n",
              " '0',\n",
              " '0',\n",
              " '0',\n",
              " '0',\n",
              " '0',\n",
              " '0',\n",
              " '0',\n",
              " '0',\n",
              " '0',\n",
              " '0',\n",
              " '0',\n",
              " '0',\n",
              " '0',\n",
              " '0',\n",
              " '0',\n",
              " '0',\n",
              " '0',\n",
              " '0',\n",
              " '0',\n",
              " '0',\n",
              " '0',\n",
              " '0',\n",
              " '0',\n",
              " '0',\n",
              " '0',\n",
              " '0',\n",
              " '0',\n",
              " '0',\n",
              " '0',\n",
              " '0',\n",
              " '0',\n",
              " '0',\n",
              " '0',\n",
              " '0',\n",
              " '0',\n",
              " '0',\n",
              " '0',\n",
              " '0',\n",
              " '0',\n",
              " '0',\n",
              " '0',\n",
              " '0',\n",
              " '0',\n",
              " '0',\n",
              " '0',\n",
              " '0',\n",
              " '0',\n",
              " '0',\n",
              " '0',\n",
              " '0',\n",
              " '0',\n",
              " '0',\n",
              " '0',\n",
              " '0',\n",
              " '0',\n",
              " '0',\n",
              " '0',\n",
              " '0',\n",
              " '0',\n",
              " '0',\n",
              " '0',\n",
              " '0',\n",
              " '0',\n",
              " '0',\n",
              " '0',\n",
              " '0',\n",
              " '0',\n",
              " '0',\n",
              " '0',\n",
              " '0',\n",
              " '0',\n",
              " '0',\n",
              " '0',\n",
              " '0',\n",
              " '0',\n",
              " '0',\n",
              " '0',\n",
              " '0',\n",
              " '0',\n",
              " '0',\n",
              " '0',\n",
              " '0',\n",
              " '0',\n",
              " '0',\n",
              " '0',\n",
              " '0',\n",
              " '0',\n",
              " '0',\n",
              " '0',\n",
              " '0',\n",
              " '0',\n",
              " '0',\n",
              " '0',\n",
              " '0',\n",
              " '0',\n",
              " '0',\n",
              " '0',\n",
              " '0',\n",
              " '0',\n",
              " '0',\n",
              " '0',\n",
              " '0',\n",
              " '0',\n",
              " '0',\n",
              " '0',\n",
              " '0',\n",
              " '0',\n",
              " '0',\n",
              " '0',\n",
              " '0',\n",
              " '0',\n",
              " '0',\n",
              " '0',\n",
              " '0',\n",
              " '0',\n",
              " '0',\n",
              " '0',\n",
              " '0',\n",
              " '0',\n",
              " '0',\n",
              " '0',\n",
              " '0',\n",
              " '0',\n",
              " '0',\n",
              " '0',\n",
              " '0',\n",
              " '0',\n",
              " '0',\n",
              " '0',\n",
              " '0',\n",
              " '0',\n",
              " '0',\n",
              " '0',\n",
              " '0',\n",
              " '0',\n",
              " '0',\n",
              " '0',\n",
              " '0',\n",
              " '0',\n",
              " '0',\n",
              " '0',\n",
              " '0',\n",
              " '0',\n",
              " '1',\n",
              " '1',\n",
              " '0',\n",
              " '0',\n",
              " '0',\n",
              " '0',\n",
              " '0',\n",
              " '0',\n",
              " '0',\n",
              " '1',\n",
              " '0',\n",
              " '0',\n",
              " '0',\n",
              " '0',\n",
              " '0',\n",
              " '0',\n",
              " '0',\n",
              " '0',\n",
              " '0',\n",
              " '0',\n",
              " '0',\n",
              " '0',\n",
              " '0',\n",
              " '0',\n",
              " '0',\n",
              " '0',\n",
              " '0',\n",
              " '0',\n",
              " '0',\n",
              " '0',\n",
              " '0',\n",
              " '0',\n",
              " '0',\n",
              " '0',\n",
              " '0',\n",
              " '0',\n",
              " '0',\n",
              " '0',\n",
              " '0',\n",
              " '0',\n",
              " '0',\n",
              " '0',\n",
              " '0',\n",
              " '0',\n",
              " '0',\n",
              " '0',\n",
              " '0',\n",
              " '0',\n",
              " '0',\n",
              " '0',\n",
              " '0',\n",
              " '0',\n",
              " '0',\n",
              " '0',\n",
              " '0',\n",
              " '0',\n",
              " '0',\n",
              " '0',\n",
              " '0',\n",
              " '0',\n",
              " '0',\n",
              " '0',\n",
              " '0',\n",
              " '0',\n",
              " '0',\n",
              " '0',\n",
              " '0',\n",
              " '0',\n",
              " '0',\n",
              " '0',\n",
              " '0',\n",
              " '0',\n",
              " '0',\n",
              " '0',\n",
              " '0',\n",
              " '0',\n",
              " '0',\n",
              " '0',\n",
              " '0',\n",
              " '0',\n",
              " '0',\n",
              " '0',\n",
              " '0',\n",
              " '0',\n",
              " '0',\n",
              " '0',\n",
              " '0',\n",
              " '0',\n",
              " '0',\n",
              " '0',\n",
              " '0',\n",
              " '0',\n",
              " '0',\n",
              " '0',\n",
              " '0',\n",
              " '0',\n",
              " '0',\n",
              " '0',\n",
              " '0',\n",
              " '0',\n",
              " '0',\n",
              " '0',\n",
              " '0',\n",
              " '0',\n",
              " '0',\n",
              " '0',\n",
              " '0',\n",
              " '0',\n",
              " '0',\n",
              " '0',\n",
              " '0',\n",
              " '0',\n",
              " '0',\n",
              " '0',\n",
              " '0',\n",
              " '0',\n",
              " '0',\n",
              " '0',\n",
              " '0',\n",
              " '0',\n",
              " '0',\n",
              " '0',\n",
              " '0',\n",
              " '0',\n",
              " '0',\n",
              " '0',\n",
              " '0',\n",
              " '0',\n",
              " '0',\n",
              " '0',\n",
              " '0',\n",
              " '0',\n",
              " '0',\n",
              " '0',\n",
              " '0',\n",
              " '0',\n",
              " '0',\n",
              " '0',\n",
              " '0',\n",
              " '0',\n",
              " '0',\n",
              " '0',\n",
              " '0',\n",
              " '0',\n",
              " '0',\n",
              " '0',\n",
              " '0',\n",
              " '0',\n",
              " '0',\n",
              " '0',\n",
              " '1',\n",
              " '0',\n",
              " '0',\n",
              " '0',\n",
              " '0',\n",
              " '0',\n",
              " '0',\n",
              " '0',\n",
              " '1',\n",
              " '1',\n",
              " '1',\n",
              " '0',\n",
              " '1',\n",
              " '1',\n",
              " '1',\n",
              " '1',\n",
              " '1',\n",
              " '0',\n",
              " '0',\n",
              " '0',\n",
              " '1',\n",
              " '0',\n",
              " '1',\n",
              " '1',\n",
              " '0',\n",
              " '1',\n",
              " '0',\n",
              " '1',\n",
              " '1',\n",
              " '0',\n",
              " '0',\n",
              " '0',\n",
              " '0',\n",
              " '0',\n",
              " '0',\n",
              " '0',\n",
              " '0',\n",
              " '0',\n",
              " '0',\n",
              " '0',\n",
              " '0',\n",
              " '0',\n",
              " '0',\n",
              " '0',\n",
              " '0',\n",
              " '0',\n",
              " '0',\n",
              " '0',\n",
              " '0',\n",
              " '0',\n",
              " '0',\n",
              " '0',\n",
              " '0',\n",
              " '0',\n",
              " '0',\n",
              " '0',\n",
              " '0',\n",
              " '0',\n",
              " '0',\n",
              " '0',\n",
              " '0',\n",
              " '0',\n",
              " '0',\n",
              " '0',\n",
              " '0',\n",
              " '0',\n",
              " '0',\n",
              " '0',\n",
              " '0',\n",
              " '0',\n",
              " '0',\n",
              " '0',\n",
              " '0',\n",
              " '0',\n",
              " '0',\n",
              " '0',\n",
              " '0',\n",
              " '0',\n",
              " '0',\n",
              " '0',\n",
              " '0',\n",
              " '0',\n",
              " '0',\n",
              " '0',\n",
              " '0',\n",
              " '0',\n",
              " '0',\n",
              " '0',\n",
              " '0',\n",
              " '0',\n",
              " '0',\n",
              " '0',\n",
              " '0',\n",
              " '0',\n",
              " '0',\n",
              " '0',\n",
              " '0',\n",
              " '0',\n",
              " '0',\n",
              " '0',\n",
              " '0',\n",
              " '0',\n",
              " '0',\n",
              " '0',\n",
              " '0',\n",
              " '0',\n",
              " '0',\n",
              " '0',\n",
              " '0',\n",
              " '0',\n",
              " '0',\n",
              " '0',\n",
              " '0',\n",
              " '0',\n",
              " '0',\n",
              " '0',\n",
              " '0',\n",
              " '0',\n",
              " '0',\n",
              " '0',\n",
              " '0',\n",
              " '0',\n",
              " '0',\n",
              " '0',\n",
              " '0',\n",
              " '0',\n",
              " '0',\n",
              " '0',\n",
              " '0',\n",
              " '0',\n",
              " '0',\n",
              " '0',\n",
              " '0',\n",
              " '0',\n",
              " '0',\n",
              " '0',\n",
              " '1',\n",
              " '0',\n",
              " '1',\n",
              " '1',\n",
              " '1',\n",
              " '0',\n",
              " '0',\n",
              " '0',\n",
              " '0',\n",
              " '0',\n",
              " '0',\n",
              " '0',\n",
              " '1',\n",
              " '0',\n",
              " '1',\n",
              " '0',\n",
              " '0',\n",
              " '1',\n",
              " '0',\n",
              " '0',\n",
              " '0',\n",
              " '0',\n",
              " '0',\n",
              " '0',\n",
              " '0',\n",
              " '0',\n",
              " '0',\n",
              " '0',\n",
              " '0',\n",
              " '0',\n",
              " '0',\n",
              " '0',\n",
              " '0',\n",
              " '0',\n",
              " '0',\n",
              " '0',\n",
              " '0',\n",
              " '0',\n",
              " '0',\n",
              " '0',\n",
              " '0',\n",
              " '0',\n",
              " '0',\n",
              " '0',\n",
              " '0',\n",
              " '0',\n",
              " '0',\n",
              " '0',\n",
              " '0',\n",
              " '0',\n",
              " '0',\n",
              " '0',\n",
              " '0',\n",
              " '0',\n",
              " '0',\n",
              " '0',\n",
              " '0',\n",
              " '0',\n",
              " '0',\n",
              " '0',\n",
              " '0',\n",
              " '0',\n",
              " '0',\n",
              " '0',\n",
              " '0',\n",
              " '0',\n",
              " '0',\n",
              " '0',\n",
              " '0',\n",
              " '0',\n",
              " '0',\n",
              " '0',\n",
              " '0',\n",
              " '0',\n",
              " '0',\n",
              " '0',\n",
              " '0',\n",
              " '0',\n",
              " '0',\n",
              " '0',\n",
              " '0',\n",
              " '0',\n",
              " '0',\n",
              " '0',\n",
              " '0',\n",
              " '0',\n",
              " '0',\n",
              " '0',\n",
              " '0',\n",
              " '0',\n",
              " '0',\n",
              " '0',\n",
              " '0',\n",
              " '0',\n",
              " '0',\n",
              " '0',\n",
              " '0',\n",
              " '0',\n",
              " '0',\n",
              " '0',\n",
              " '0',\n",
              " '0',\n",
              " '0',\n",
              " '0',\n",
              " '0',\n",
              " '0',\n",
              " '0',\n",
              " ...]"
            ]
          },
          "metadata": {},
          "execution_count": 19
        }
      ]
    },
    {
      "cell_type": "code",
      "source": [
        "X.shape"
      ],
      "metadata": {
        "colab": {
          "base_uri": "https://localhost:8080/"
        },
        "id": "PDybPttii_EN",
        "outputId": "df80079b-66b9-452a-bdf5-659d385b2de6"
      },
      "execution_count": null,
      "outputs": [
        {
          "output_type": "execute_result",
          "data": {
            "text/plain": [
              "(1321, 40)"
            ]
          },
          "metadata": {},
          "execution_count": 21
        }
      ]
    },
    {
      "cell_type": "code",
      "source": [
        "y_cnn=np.array(pd.get_dummies(Y))"
      ],
      "metadata": {
        "id": "E3OPEUicjL1M"
      },
      "execution_count": null,
      "outputs": []
    },
    {
      "cell_type": "code",
      "source": [
        "y_cnn.shape"
      ],
      "metadata": {
        "colab": {
          "base_uri": "https://localhost:8080/"
        },
        "id": "iybZKhB4jVg2",
        "outputId": "f445134b-87d2-45db-f7fa-17b1ddfeb28b"
      },
      "execution_count": null,
      "outputs": [
        {
          "output_type": "execute_result",
          "data": {
            "text/plain": [
              "(1321, 2)"
            ]
          },
          "metadata": {},
          "execution_count": 20
        }
      ]
    },
    {
      "cell_type": "code",
      "source": [
        "from sklearn.model_selection import train_test_split\n",
        "X_train,X_test,y_train,y_test=train_test_split(X,y,test_size=0.2,random_state=0)"
      ],
      "metadata": {
        "id": "geIWgvy1jW1X"
      },
      "execution_count": null,
      "outputs": []
    },
    {
      "cell_type": "markdown",
      "source": [
        "# ML MODELS"
      ],
      "metadata": {
        "id": "W3chxtX7qr2Z"
      }
    },
    {
      "cell_type": "markdown",
      "source": [
        "# Logistic Regression\n"
      ],
      "metadata": {
        "id": "NeLhhJEfIRol"
      }
    },
    {
      "cell_type": "code",
      "source": [
        "import matplotlib.pyplot as plt\n",
        "import numpy as np\n",
        "from sklearn.linear_model import LogisticRegression\n",
        "from sklearn.metrics import classification_report, confusion_matrix"
      ],
      "metadata": {
        "id": "UeWJ-C56pUix"
      },
      "execution_count": null,
      "outputs": []
    },
    {
      "cell_type": "code",
      "source": [
        "model = LogisticRegression(solver='liblinear', random_state=0)\n",
        "model.fit(X_train, y_train)"
      ],
      "metadata": {
        "colab": {
          "base_uri": "https://localhost:8080/"
        },
        "id": "-_KkVWCjLEr-",
        "outputId": "83c12793-bd06-47c6-fb12-f04c9d5413de"
      },
      "execution_count": null,
      "outputs": [
        {
          "output_type": "execute_result",
          "data": {
            "text/plain": [
              "LogisticRegression(random_state=0, solver='liblinear')"
            ]
          },
          "metadata": {},
          "execution_count": 43
        }
      ]
    },
    {
      "cell_type": "code",
      "source": [
        "y_pred = model.predict(X_test)"
      ],
      "metadata": {
        "id": "1TNpiI5OQK2L"
      },
      "execution_count": null,
      "outputs": []
    },
    {
      "cell_type": "code",
      "source": [
        "from sklearn.metrics import accuracy_score\n",
        "print (\"Accuracy : \", accuracy_score(y_test, y_pred))"
      ],
      "metadata": {
        "colab": {
          "base_uri": "https://localhost:8080/"
        },
        "id": "FWuH6odYQXA7",
        "outputId": "aafa34a1-0dfd-43d0-8f89-1beb134e5985"
      },
      "execution_count": null,
      "outputs": [
        {
          "output_type": "stream",
          "name": "stdout",
          "text": [
            "Accuracy :  0.8679245283018868\n"
          ]
        }
      ]
    },
    {
      "cell_type": "code",
      "source": [
        "cm=confusion_matrix(y_test,y_pred)\n",
        "plt.figure(figsize=(12,6))\n",
        "plt.title(\"Confusion Matrix\")\n",
        "sns.heatmap(cm, annot=True,fmt='d', cmap='Blues')\n",
        "plt.ylabel(\"Actual Values\")\n",
        "plt.xlabel(\"Predicted Values\")\n",
        "plt.savefig('confusion_matrix.png')"
      ],
      "metadata": {
        "colab": {
          "base_uri": "https://localhost:8080/",
          "height": 404
        },
        "id": "6oJeFJ3wQbN7",
        "outputId": "fc35b3b6-8255-4e2e-e70f-9e02e7c923f6"
      },
      "execution_count": null,
      "outputs": [
        {
          "output_type": "display_data",
          "data": {
            "text/plain": [
              "<Figure size 864x432 with 2 Axes>"
            ],
            "image/png": "[encoded data removed]"
          },
          "metadata": {
            "needs_background": "light"
          }
        }
      ]
    },
    {
      "cell_type": "code",
      "source": [
        "from sklearn.metrics import classification_report\n",
        "print(classification_report(y_test, y_pred))"
      ],
      "metadata": {
        "colab": {
          "base_uri": "https://localhost:8080/"
        },
        "id": "3LhqrexKWXR7",
        "outputId": "9aa0ebaf-ec37-450e-c28f-4a40884a204f"
      },
      "execution_count": null,
      "outputs": [
        {
          "output_type": "stream",
          "name": "stdout",
          "text": [
            "              precision    recall  f1-score   support\n",
            "\n",
            "           0       0.88      0.98      0.93       232\n",
            "           1       0.38      0.09      0.15        33\n",
            "\n",
            "    accuracy                           0.87       265\n",
            "   macro avg       0.63      0.53      0.54       265\n",
            "weighted avg       0.82      0.87      0.83       265\n",
            "\n"
          ]
        }
      ]
    },
    {
      "cell_type": "markdown",
      "source": [
        "# SVM\n"
      ],
      "metadata": {
        "id": "qnBuPOi4Q0mB"
      }
    },
    {
      "cell_type": "code",
      "source": [
        "from sklearn.svm import SVC\n",
        "classifier = SVC(kernel='rbf', random_state = 1)\n",
        "classifier.fit(X_train,y_train)"
      ],
      "metadata": {
        "colab": {
          "base_uri": "https://localhost:8080/"
        },
        "id": "tgjr8IlpQ8DB",
        "outputId": "359dbc2a-a6d7-4119-bb4b-9a46814bcc46"
      },
      "execution_count": null,
      "outputs": [
        {
          "output_type": "execute_result",
          "data": {
            "text/plain": [
              "SVC(random_state=1)"
            ]
          },
          "metadata": {},
          "execution_count": 28
        }
      ]
    },
    {
      "cell_type": "code",
      "source": [
        "Y_pred = classifier.predict(X_test)"
      ],
      "metadata": {
        "id": "UM5y6egCRASk"
      },
      "execution_count": null,
      "outputs": []
    },
    {
      "cell_type": "code",
      "source": [
        "from sklearn.metrics import confusion_matrix\n",
        "cm = confusion_matrix(y_test,Y_pred)\n",
        "accuracy = float(cm.diagonal().sum())/len(y_test)\n",
        "print(\"\\nAccuracy Of SVM For The Given Dataset : \", accuracy)"
      ],
      "metadata": {
        "colab": {
          "base_uri": "https://localhost:8080/"
        },
        "id": "7xUWCwuNRDG5",
        "outputId": "32154ed2-b0ec-4be8-f4b3-2741b5c82b74"
      },
      "execution_count": null,
      "outputs": [
        {
          "output_type": "stream",
          "name": "stdout",
          "text": [
            "\n",
            "Accuracy Of SVM For The Given Dataset :  0.8754716981132076\n"
          ]
        }
      ]
    },
    {
      "cell_type": "code",
      "source": [
        "from sklearn.metrics import classification_report\n",
        "print(classification_report(y_test, Y_pred))"
      ],
      "metadata": {
        "colab": {
          "base_uri": "https://localhost:8080/"
        },
        "id": "l2toX-LDagFF",
        "outputId": "0262c014-0d6b-428b-8fa0-adedd55e38b7"
      },
      "execution_count": null,
      "outputs": [
        {
          "output_type": "stream",
          "name": "stdout",
          "text": [
            "              precision    recall  f1-score   support\n",
            "\n",
            "           0       0.88      1.00      0.93       232\n",
            "           1       0.00      0.00      0.00        33\n",
            "\n",
            "    accuracy                           0.88       265\n",
            "   macro avg       0.44      0.50      0.47       265\n",
            "weighted avg       0.77      0.88      0.82       265\n",
            "\n"
          ]
        },
        {
          "output_type": "stream",
          "name": "stderr",
          "text": [
            "/usr/local/lib/python3.7/dist-packages/sklearn/metrics/_classification.py:1318: UndefinedMetricWarning: Precision and F-score are ill-defined and being set to 0.0 in labels with no predicted samples. Use `zero_division` parameter to control this behavior.\n",
            "  _warn_prf(average, modifier, msg_start, len(result))\n",
            "/usr/local/lib/python3.7/dist-packages/sklearn/metrics/_classification.py:1318: UndefinedMetricWarning: Precision and F-score are ill-defined and being set to 0.0 in labels with no predicted samples. Use `zero_division` parameter to control this behavior.\n",
            "  _warn_prf(average, modifier, msg_start, len(result))\n",
            "/usr/local/lib/python3.7/dist-packages/sklearn/metrics/_classification.py:1318: UndefinedMetricWarning: Precision and F-score are ill-defined and being set to 0.0 in labels with no predicted samples. Use `zero_division` parameter to control this behavior.\n",
            "  _warn_prf(average, modifier, msg_start, len(result))\n"
          ]
        }
      ]
    },
    {
      "cell_type": "markdown",
      "source": [
        "\n",
        "# Random Forest"
      ],
      "metadata": {
        "id": "YWTdPk9HRcJ_"
      }
    },
    {
      "cell_type": "code",
      "source": [
        "from sklearn.ensemble import RandomForestClassifier\n",
        "\n",
        "#Create a Gaussian Classifier\n",
        "clf=RandomForestClassifier(n_estimators=100)\n",
        "\n",
        "#Train the model using the training sets y_pred=clf.predict(X_test)\n",
        "clf.fit(X_train,y_train)\n",
        "\n",
        "y_pred=clf.predict(X_test)"
      ],
      "metadata": {
        "id": "H6Gz9nu2RidA"
      },
      "execution_count": null,
      "outputs": []
    },
    {
      "cell_type": "code",
      "source": [
        "from sklearn import metrics\n",
        "print(\"Accuracy:\",metrics.accuracy_score(y_test, y_pred))"
      ],
      "metadata": {
        "colab": {
          "base_uri": "https://localhost:8080/"
        },
        "id": "rGfYBWtdR5lN",
        "outputId": "b91b93b8-dfa2-4261-ae2b-17a1f55847a4"
      },
      "execution_count": null,
      "outputs": [
        {
          "output_type": "stream",
          "name": "stdout",
          "text": [
            "Accuracy: 0.8754716981132076\n"
          ]
        }
      ]
    },
    {
      "cell_type": "code",
      "source": [
        "from sklearn.metrics import classification_report\n",
        "print(classification_report(y_test, y_pred))"
      ],
      "metadata": {
        "colab": {
          "base_uri": "https://localhost:8080/"
        },
        "id": "6wWdz8QXbCsz",
        "outputId": "9beb87e1-d5f7-4f55-e865-172d66d5a4ce"
      },
      "execution_count": null,
      "outputs": [
        {
          "output_type": "stream",
          "name": "stdout",
          "text": [
            "              precision    recall  f1-score   support\n",
            "\n",
            "           0       0.88      1.00      0.93       232\n",
            "           1       0.00      0.00      0.00        33\n",
            "\n",
            "    accuracy                           0.88       265\n",
            "   macro avg       0.44      0.50      0.47       265\n",
            "weighted avg       0.77      0.88      0.82       265\n",
            "\n"
          ]
        },
        {
          "output_type": "stream",
          "name": "stderr",
          "text": [
            "/usr/local/lib/python3.7/dist-packages/sklearn/metrics/_classification.py:1318: UndefinedMetricWarning: Precision and F-score are ill-defined and being set to 0.0 in labels with no predicted samples. Use `zero_division` parameter to control this behavior.\n",
            "  _warn_prf(average, modifier, msg_start, len(result))\n",
            "/usr/local/lib/python3.7/dist-packages/sklearn/metrics/_classification.py:1318: UndefinedMetricWarning: Precision and F-score are ill-defined and being set to 0.0 in labels with no predicted samples. Use `zero_division` parameter to control this behavior.\n",
            "  _warn_prf(average, modifier, msg_start, len(result))\n",
            "/usr/local/lib/python3.7/dist-packages/sklearn/metrics/_classification.py:1318: UndefinedMetricWarning: Precision and F-score are ill-defined and being set to 0.0 in labels with no predicted samples. Use `zero_division` parameter to control this behavior.\n",
            "  _warn_prf(average, modifier, msg_start, len(result))\n"
          ]
        }
      ]
    },
    {
      "cell_type": "markdown",
      "source": [
        "# MLP/Decision Tree"
      ],
      "metadata": {
        "id": "aToH9MxqSKbB"
      }
    },
    {
      "cell_type": "code",
      "source": [
        "from sklearn.preprocessing import StandardScaler\n",
        "sc=StandardScaler()\n",
        "scaler = sc.fit(X_train)\n",
        "trainX_scaled = scaler.transform(X_train)\n",
        "testX_scaled = scaler.transform(X_test)"
      ],
      "metadata": {
        "id": "Ic_Iv0JMSLeQ"
      },
      "execution_count": null,
      "outputs": []
    },
    {
      "cell_type": "code",
      "source": [
        "from sklearn.neural_network import MLPClassifier\n",
        "mlp_clf = MLPClassifier(hidden_layer_sizes=(150,100,50),\n",
        "                        max_iter = 300,activation = 'relu',\n",
        "                        solver = 'adam')\n",
        "\n",
        "mlp_clf.fit(trainX_scaled, y_train)"
      ],
      "metadata": {
        "colab": {
          "base_uri": "https://localhost:8080/"
        },
        "id": "VXZTlr4rSNLY",
        "outputId": "38abdd89-0a23-443f-9c4d-de72a9b24944"
      },
      "execution_count": null,
      "outputs": [
        {
          "output_type": "execute_result",
          "data": {
            "text/plain": [
              "MLPClassifier(hidden_layer_sizes=(150, 100, 50), max_iter=300)"
            ]
          },
          "metadata": {},
          "execution_count": 36
        }
      ]
    },
    {
      "cell_type": "code",
      "source": [
        "y_pred = mlp_clf.predict(testX_scaled)\n",
        "\n",
        "print('Accuracy: {:.2f}'.format(accuracy_score(y_test, y_pred)))"
      ],
      "metadata": {
        "colab": {
          "base_uri": "https://localhost:8080/"
        },
        "id": "t5VMSLxLST46",
        "outputId": "5a53efa3-f437-4589-b3e5-260d3b1d6f7a"
      },
      "execution_count": null,
      "outputs": [
        {
          "output_type": "stream",
          "name": "stdout",
          "text": [
            "Accuracy: 0.89\n"
          ]
        }
      ]
    },
    {
      "cell_type": "code",
      "source": [
        "from sklearn.metrics import classification_report\n",
        "print(classification_report(y_test, y_pred))"
      ],
      "metadata": {
        "colab": {
          "base_uri": "https://localhost:8080/"
        },
        "id": "ouze46KabaUl",
        "outputId": "2233ce4b-350e-4fc8-e966-09601eb4181f"
      },
      "execution_count": null,
      "outputs": [
        {
          "output_type": "stream",
          "name": "stdout",
          "text": [
            "              precision    recall  f1-score   support\n",
            "\n",
            "           0       0.90      0.99      0.94       232\n",
            "           1       0.70      0.21      0.33        33\n",
            "\n",
            "    accuracy                           0.89       265\n",
            "   macro avg       0.80      0.60      0.63       265\n",
            "weighted avg       0.87      0.89      0.86       265\n",
            "\n"
          ]
        }
      ]
    },
    {
      "cell_type": "markdown",
      "source": [
        "# Deep Learning"
      ],
      "metadata": {
        "id": "rN7-xfNoYr0U"
      }
    },
    {
      "cell_type": "code",
      "source": [
        "from sklearn.model_selection import train_test_split\n",
        "X_train_cnn,X_test_cnn,y_train_cnn,y_test_cnn=train_test_split(X,y_cnn,test_size=0.2,random_state=0)"
      ],
      "metadata": {
        "id": "On3l97Hld7zl"
      },
      "execution_count": null,
      "outputs": []
    },
    {
      "cell_type": "code",
      "source": [
        "X_test_cnn.shape"
      ],
      "metadata": {
        "colab": {
          "base_uri": "https://localhost:8080/"
        },
        "id": "-S3h_RqWjb_G",
        "outputId": "d2e02ab9-6b03-4328-f47e-4fd0db3cd36b"
      },
      "execution_count": null,
      "outputs": [
        {
          "output_type": "execute_result",
          "data": {
            "text/plain": [
              "(265, 40)"
            ]
          },
          "metadata": {},
          "execution_count": 22
        }
      ]
    },
    {
      "cell_type": "code",
      "source": [
        "y_test_cnn.shape"
      ],
      "metadata": {
        "colab": {
          "base_uri": "https://localhost:8080/"
        },
        "id": "PTpN_gNPjeCy",
        "outputId": "80fdc1c0-ed83-43da-c725-33cb4d8a4342"
      },
      "execution_count": null,
      "outputs": [
        {
          "output_type": "execute_result",
          "data": {
            "text/plain": [
              "(265, 2)"
            ]
          },
          "metadata": {},
          "execution_count": 23
        }
      ]
    },
    {
      "cell_type": "code",
      "source": [
        "from tensorflow.keras.models import Sequential\n",
        "from tensorflow.keras.layers import Dense,Dropout,Activation,Flatten\n",
        "from tensorflow.keras.optimizers import Adam\n",
        "from sklearn import metrics"
      ],
      "metadata": {
        "id": "MQ9Qx20heHI3"
      },
      "execution_count": null,
      "outputs": []
    },
    {
      "cell_type": "code",
      "source": [
        "num_labels=y_cnn.shape[1]\n",
        "num_labels"
      ],
      "metadata": {
        "colab": {
          "base_uri": "https://localhost:8080/"
        },
        "id": "NyyH8VEReLUV",
        "outputId": "e66692f8-95e9-47ef-8694-82fb8b6a9426"
      },
      "execution_count": null,
      "outputs": [
        {
          "output_type": "execute_result",
          "data": {
            "text/plain": [
              "2"
            ]
          },
          "metadata": {},
          "execution_count": 49
        }
      ]
    },
    {
      "cell_type": "code",
      "source": [
        "model=Sequential()\n",
        "###first layer\n",
        "model.add(Dense(100,input_shape=(40,)))\n",
        "model.add(Activation('relu'))\n",
        "model.add(Dropout(0.5))\n",
        "###second layer\n",
        "model.add(Dense(200))\n",
        "model.add(Activation('relu'))\n",
        "model.add(Dropout(0.5))\n",
        "###third layer\n",
        "model.add(Dense(100))\n",
        "model.add(Activation('relu'))\n",
        "model.add(Dropout(0.5))\n",
        "\n",
        "###final layer\n",
        "model.add(Dense(num_labels))\n",
        "model.add(Activation('softmax'))"
      ],
      "metadata": {
        "id": "B16pL1imegd6"
      },
      "execution_count": null,
      "outputs": []
    },
    {
      "cell_type": "code",
      "source": [
        "model.summary()"
      ],
      "metadata": {
        "colab": {
          "base_uri": "https://localhost:8080/"
        },
        "id": "fe0hYaQvekTi",
        "outputId": "aac315cc-dc8f-420d-aacd-f060f3d3bbbc"
      },
      "execution_count": null,
      "outputs": [
        {
          "output_type": "stream",
          "name": "stdout",
          "text": [
            "Model: \"sequential_2\"\n",
            "_________________________________________________________________\n",
            " Layer (type)                Output Shape              Param #   \n",
            "=================================================================\n",
            " dense_8 (Dense)             (None, 32)                1312      \n",
            "                                                                 \n",
            " activation_8 (Activation)   (None, 32)                0         \n",
            "                                                                 \n",
            " dropout_6 (Dropout)         (None, 32)                0         \n",
            "                                                                 \n",
            " dense_9 (Dense)             (None, 64)                2112      \n",
            "                                                                 \n",
            " activation_9 (Activation)   (None, 64)                0         \n",
            "                                                                 \n",
            " dropout_7 (Dropout)         (None, 64)                0         \n",
            "                                                                 \n",
            " dense_10 (Dense)            (None, 2)                 130       \n",
            "                                                                 \n",
            " activation_10 (Activation)  (None, 2)                 0         \n",
            "                                                                 \n",
            "=================================================================\n",
            "Total params: 3,554\n",
            "Trainable params: 3,554\n",
            "Non-trainable params: 0\n",
            "_________________________________________________________________\n"
          ]
        }
      ]
    },
    {
      "cell_type": "code",
      "source": [
        "model.compile(loss='categorical_crossentropy',metrics=['accuracy'],optimizer='adam')"
      ],
      "metadata": {
        "id": "aVdP8-ZmeoWJ"
      },
      "execution_count": null,
      "outputs": []
    },
    {
      "cell_type": "code",
      "source": [
        "## Trainingg the model\n",
        "from tensorflow.keras.callbacks import ModelCheckpoint\n",
        "from datetime import datetime\n",
        "\n",
        "num_epochs = 100\n",
        "num_batch_size = 32\n",
        "\n",
        "checkpointer = ModelCheckpoint(filepath='saved_models/audio_classification.hdf5',\n",
        "                               verbose=1, save_best_only=True)\n",
        "start = datetime.now()\n",
        "\n",
        "model.fit(X_train_cnn, y_train_cnn, batch_size=num_batch_size, epochs=num_epochs,\n",
        "          validation_data=(X_test_cnn, y_test_cnn), callbacks=[checkpointer], verbose=1)\n",
        "\n",
        "\n",
        "duration = datetime.now() - start\n",
        "print(\"Training completed in time: \", duration)"
      ],
      "metadata": {
        "colab": {
          "base_uri": "https://localhost:8080/"
        },
        "id": "HEelygznesAL",
        "outputId": "1d366b10-a0a2-4ee6-fa0e-f89091500f53"
      },
      "execution_count": null,
      "outputs": [
        {
          "output_type": "stream",
          "name": "stdout",
          "text": [
            "Epoch 1/100\n",
            "27/33 [=======================>......] - ETA: 0s - loss: 13.5518 - accuracy: 0.7627 \n",
            "Epoch 1: val_loss improved from inf to 7.82086, saving model to saved_models/audio_classification.hdf5\n",
            "33/33 [==============================] - 1s 9ms/step - loss: 12.5897 - accuracy: 0.7812 - val_loss: 7.8209 - val_accuracy: 0.8755\n",
            "Epoch 2/100\n",
            "30/33 [==========================>...] - ETA: 0s - loss: 8.6515 - accuracy: 0.8177 \n",
            "Epoch 2: val_loss improved from 7.82086 to 4.62929, saving model to saved_models/audio_classification.hdf5\n",
            "33/33 [==============================] - 0s 4ms/step - loss: 8.3887 - accuracy: 0.8163 - val_loss: 4.6293 - val_accuracy: 0.8755\n",
            "Epoch 3/100\n",
            "22/33 [===================>..........] - ETA: 0s - loss: 6.6952 - accuracy: 0.8054\n",
            "Epoch 3: val_loss did not improve from 4.62929\n",
            "33/33 [==============================] - 0s 4ms/step - loss: 6.1539 - accuracy: 0.8210 - val_loss: 4.7189 - val_accuracy: 0.8755\n",
            "Epoch 4/100\n",
            "27/33 [=======================>......] - ETA: 0s - loss: 4.9005 - accuracy: 0.8495 \n",
            "Epoch 4: val_loss improved from 4.62929 to 3.03260, saving model to saved_models/audio_classification.hdf5\n",
            "33/33 [==============================] - 0s 4ms/step - loss: 4.8795 - accuracy: 0.8466 - val_loss: 3.0326 - val_accuracy: 0.8755\n",
            "Epoch 5/100\n",
            "26/33 [======================>.......] - ETA: 0s - loss: 3.7957 - accuracy: 0.8173\n",
            "Epoch 5: val_loss improved from 3.03260 to 2.37335, saving model to saved_models/audio_classification.hdf5\n",
            "33/33 [==============================] - 0s 4ms/step - loss: 3.8224 - accuracy: 0.8153 - val_loss: 2.3733 - val_accuracy: 0.8755\n",
            "Epoch 6/100\n",
            "27/33 [=======================>......] - ETA: 0s - loss: 2.9666 - accuracy: 0.8368\n",
            "Epoch 6: val_loss improved from 2.37335 to 1.75734, saving model to saved_models/audio_classification.hdf5\n",
            "33/33 [==============================] - 0s 4ms/step - loss: 2.8123 - accuracy: 0.8352 - val_loss: 1.7573 - val_accuracy: 0.8755\n",
            "Epoch 7/100\n",
            "29/33 [=========================>....] - ETA: 0s - loss: 2.1509 - accuracy: 0.8341\n",
            "Epoch 7: val_loss improved from 1.75734 to 1.41461, saving model to saved_models/audio_classification.hdf5\n",
            "33/33 [==============================] - 0s 4ms/step - loss: 2.2314 - accuracy: 0.8314 - val_loss: 1.4146 - val_accuracy: 0.8755\n",
            "Epoch 8/100\n",
            "27/33 [=======================>......] - ETA: 0s - loss: 1.6777 - accuracy: 0.8356\n",
            "Epoch 8: val_loss improved from 1.41461 to 0.94959, saving model to saved_models/audio_classification.hdf5\n",
            "33/33 [==============================] - 0s 4ms/step - loss: 1.5468 - accuracy: 0.8333 - val_loss: 0.9496 - val_accuracy: 0.8755\n",
            "Epoch 9/100\n",
            "28/33 [========================>.....] - ETA: 0s - loss: 1.1617 - accuracy: 0.8359\n",
            "Epoch 9: val_loss improved from 0.94959 to 0.89461, saving model to saved_models/audio_classification.hdf5\n",
            "33/33 [==============================] - 0s 4ms/step - loss: 1.2666 - accuracy: 0.8343 - val_loss: 0.8946 - val_accuracy: 0.8755\n",
            "Epoch 10/100\n",
            "28/33 [========================>.....] - ETA: 0s - loss: 1.2592 - accuracy: 0.8393\n",
            "Epoch 10: val_loss improved from 0.89461 to 0.70037, saving model to saved_models/audio_classification.hdf5\n",
            "33/33 [==============================] - 0s 4ms/step - loss: 1.2189 - accuracy: 0.8456 - val_loss: 0.7004 - val_accuracy: 0.8755\n",
            "Epoch 11/100\n",
            "19/33 [================>.............] - ETA: 0s - loss: 0.9697 - accuracy: 0.8487\n",
            "Epoch 11: val_loss improved from 0.70037 to 0.53538, saving model to saved_models/audio_classification.hdf5\n",
            "33/33 [==============================] - 0s 4ms/step - loss: 0.8669 - accuracy: 0.8381 - val_loss: 0.5354 - val_accuracy: 0.8755\n",
            "Epoch 12/100\n",
            "29/33 [=========================>....] - ETA: 0s - loss: 0.7725 - accuracy: 0.8481\n",
            "Epoch 12: val_loss improved from 0.53538 to 0.48387, saving model to saved_models/audio_classification.hdf5\n",
            "33/33 [==============================] - 0s 4ms/step - loss: 0.7670 - accuracy: 0.8466 - val_loss: 0.4839 - val_accuracy: 0.8755\n",
            "Epoch 13/100\n",
            "28/33 [========================>.....] - ETA: 0s - loss: 0.6809 - accuracy: 0.8315\n",
            "Epoch 13: val_loss improved from 0.48387 to 0.46054, saving model to saved_models/audio_classification.hdf5\n",
            "33/33 [==============================] - 0s 4ms/step - loss: 0.6464 - accuracy: 0.8352 - val_loss: 0.4605 - val_accuracy: 0.8755\n",
            "Epoch 14/100\n",
            "25/33 [=====================>........] - ETA: 0s - loss: 0.5505 - accuracy: 0.8775\n",
            "Epoch 14: val_loss improved from 0.46054 to 0.44814, saving model to saved_models/audio_classification.hdf5\n",
            "33/33 [==============================] - 0s 4ms/step - loss: 0.6564 - accuracy: 0.8608 - val_loss: 0.4481 - val_accuracy: 0.8755\n",
            "Epoch 15/100\n",
            "28/33 [========================>.....] - ETA: 0s - loss: 0.5466 - accuracy: 0.8616\n",
            "Epoch 15: val_loss improved from 0.44814 to 0.42971, saving model to saved_models/audio_classification.hdf5\n",
            "33/33 [==============================] - 0s 4ms/step - loss: 0.5519 - accuracy: 0.8570 - val_loss: 0.4297 - val_accuracy: 0.8755\n",
            "Epoch 16/100\n",
            "28/33 [========================>.....] - ETA: 0s - loss: 0.4563 - accuracy: 0.8806\n",
            "Epoch 16: val_loss improved from 0.42971 to 0.42535, saving model to saved_models/audio_classification.hdf5\n",
            "33/33 [==============================] - 0s 4ms/step - loss: 0.4544 - accuracy: 0.8788 - val_loss: 0.4254 - val_accuracy: 0.8755\n",
            "Epoch 17/100\n",
            "25/33 [=====================>........] - ETA: 0s - loss: 0.4637 - accuracy: 0.8763\n",
            "Epoch 17: val_loss improved from 0.42535 to 0.41130, saving model to saved_models/audio_classification.hdf5\n",
            "33/33 [==============================] - 0s 4ms/step - loss: 0.4789 - accuracy: 0.8826 - val_loss: 0.4113 - val_accuracy: 0.8755\n",
            "Epoch 18/100\n",
            "24/33 [====================>.........] - ETA: 0s - loss: 0.4694 - accuracy: 0.8828\n",
            "Epoch 18: val_loss improved from 0.41130 to 0.40587, saving model to saved_models/audio_classification.hdf5\n",
            "33/33 [==============================] - 0s 4ms/step - loss: 0.4401 - accuracy: 0.8911 - val_loss: 0.4059 - val_accuracy: 0.8755\n",
            "Epoch 19/100\n",
            "26/33 [======================>.......] - ETA: 0s - loss: 0.4538 - accuracy: 0.8930\n",
            "Epoch 19: val_loss did not improve from 0.40587\n",
            "33/33 [==============================] - 0s 3ms/step - loss: 0.4746 - accuracy: 0.8769 - val_loss: 0.4073 - val_accuracy: 0.8755\n",
            "Epoch 20/100\n",
            "24/33 [====================>.........] - ETA: 0s - loss: 0.4454 - accuracy: 0.8841\n",
            "Epoch 20: val_loss improved from 0.40587 to 0.40011, saving model to saved_models/audio_classification.hdf5\n",
            "33/33 [==============================] - 0s 4ms/step - loss: 0.4408 - accuracy: 0.8920 - val_loss: 0.4001 - val_accuracy: 0.8755\n",
            "Epoch 21/100\n",
            "19/33 [================>.............] - ETA: 0s - loss: 0.4688 - accuracy: 0.9046\n",
            "Epoch 21: val_loss improved from 0.40011 to 0.39170, saving model to saved_models/audio_classification.hdf5\n",
            "33/33 [==============================] - 0s 5ms/step - loss: 0.4168 - accuracy: 0.9100 - val_loss: 0.3917 - val_accuracy: 0.8755\n",
            "Epoch 22/100\n",
            "23/33 [===================>..........] - ETA: 0s - loss: 0.3962 - accuracy: 0.8940\n",
            "Epoch 22: val_loss improved from 0.39170 to 0.38375, saving model to saved_models/audio_classification.hdf5\n",
            "33/33 [==============================] - 0s 4ms/step - loss: 0.4023 - accuracy: 0.8968 - val_loss: 0.3837 - val_accuracy: 0.8755\n",
            "Epoch 23/100\n",
            "27/33 [=======================>......] - ETA: 0s - loss: 0.4128 - accuracy: 0.8993\n",
            "Epoch 23: val_loss improved from 0.38375 to 0.38025, saving model to saved_models/audio_classification.hdf5\n",
            "33/33 [==============================] - 0s 4ms/step - loss: 0.4188 - accuracy: 0.8949 - val_loss: 0.3802 - val_accuracy: 0.8755\n",
            "Epoch 24/100\n",
            "25/33 [=====================>........] - ETA: 0s - loss: 0.3653 - accuracy: 0.9038\n",
            "Epoch 24: val_loss did not improve from 0.38025\n",
            "33/33 [==============================] - 0s 3ms/step - loss: 0.3562 - accuracy: 0.9072 - val_loss: 0.3807 - val_accuracy: 0.8755\n",
            "Epoch 25/100\n",
            "26/33 [======================>.......] - ETA: 0s - loss: 0.3814 - accuracy: 0.9123\n",
            "Epoch 25: val_loss improved from 0.38025 to 0.37671, saving model to saved_models/audio_classification.hdf5\n",
            "33/33 [==============================] - 0s 4ms/step - loss: 0.3774 - accuracy: 0.9062 - val_loss: 0.3767 - val_accuracy: 0.8755\n",
            "Epoch 26/100\n",
            "26/33 [======================>.......] - ETA: 0s - loss: 0.4004 - accuracy: 0.9038\n",
            "Epoch 26: val_loss improved from 0.37671 to 0.37554, saving model to saved_models/audio_classification.hdf5\n",
            "33/33 [==============================] - 0s 4ms/step - loss: 0.3845 - accuracy: 0.9072 - val_loss: 0.3755 - val_accuracy: 0.8755\n",
            "Epoch 27/100\n",
            "27/33 [=======================>......] - ETA: 0s - loss: 0.3720 - accuracy: 0.9028\n",
            "Epoch 27: val_loss improved from 0.37554 to 0.37477, saving model to saved_models/audio_classification.hdf5\n",
            "33/33 [==============================] - 0s 4ms/step - loss: 0.3569 - accuracy: 0.9081 - val_loss: 0.3748 - val_accuracy: 0.8755\n",
            "Epoch 28/100\n",
            "30/33 [==========================>...] - ETA: 0s - loss: 0.3496 - accuracy: 0.9052\n",
            "Epoch 28: val_loss improved from 0.37477 to 0.37187, saving model to saved_models/audio_classification.hdf5\n",
            "33/33 [==============================] - 0s 4ms/step - loss: 0.3565 - accuracy: 0.9053 - val_loss: 0.3719 - val_accuracy: 0.8755\n",
            "Epoch 29/100\n",
            "26/33 [======================>.......] - ETA: 0s - loss: 0.3628 - accuracy: 0.9026\n",
            "Epoch 29: val_loss improved from 0.37187 to 0.37017, saving model to saved_models/audio_classification.hdf5\n",
            "33/33 [==============================] - 0s 4ms/step - loss: 0.3403 - accuracy: 0.9081 - val_loss: 0.3702 - val_accuracy: 0.8755\n",
            "Epoch 30/100\n",
            "27/33 [=======================>......] - ETA: 0s - loss: 0.3469 - accuracy: 0.9016\n",
            "Epoch 30: val_loss improved from 0.37017 to 0.36543, saving model to saved_models/audio_classification.hdf5\n",
            "33/33 [==============================] - 0s 4ms/step - loss: 0.3296 - accuracy: 0.9062 - val_loss: 0.3654 - val_accuracy: 0.8755\n",
            "Epoch 31/100\n",
            "28/33 [========================>.....] - ETA: 0s - loss: 0.3442 - accuracy: 0.9129\n",
            "Epoch 31: val_loss did not improve from 0.36543\n",
            "33/33 [==============================] - 0s 3ms/step - loss: 0.3488 - accuracy: 0.9100 - val_loss: 0.3658 - val_accuracy: 0.8755\n",
            "Epoch 32/100\n",
            "29/33 [=========================>....] - ETA: 0s - loss: 0.3177 - accuracy: 0.9073\n",
            "Epoch 32: val_loss did not improve from 0.36543\n",
            "33/33 [==============================] - 0s 3ms/step - loss: 0.3224 - accuracy: 0.9100 - val_loss: 0.3656 - val_accuracy: 0.8755\n",
            "Epoch 33/100\n",
            "22/33 [===================>..........] - ETA: 0s - loss: 0.3162 - accuracy: 0.9077\n",
            "Epoch 33: val_loss improved from 0.36543 to 0.36078, saving model to saved_models/audio_classification.hdf5\n",
            "33/33 [==============================] - 0s 4ms/step - loss: 0.3161 - accuracy: 0.9100 - val_loss: 0.3608 - val_accuracy: 0.8755\n",
            "Epoch 34/100\n",
            "28/33 [========================>.....] - ETA: 0s - loss: 0.3291 - accuracy: 0.9107\n",
            "Epoch 34: val_loss did not improve from 0.36078\n",
            "33/33 [==============================] - 0s 3ms/step - loss: 0.3334 - accuracy: 0.9081 - val_loss: 0.3619 - val_accuracy: 0.8755\n",
            "Epoch 35/100\n",
            "30/33 [==========================>...] - ETA: 0s - loss: 0.3425 - accuracy: 0.9073\n",
            "Epoch 35: val_loss did not improve from 0.36078\n",
            "33/33 [==============================] - 0s 3ms/step - loss: 0.3327 - accuracy: 0.9100 - val_loss: 0.3642 - val_accuracy: 0.8755\n",
            "Epoch 36/100\n",
            "24/33 [====================>.........] - ETA: 0s - loss: 0.3156 - accuracy: 0.9141\n",
            "Epoch 36: val_loss did not improve from 0.36078\n",
            "33/33 [==============================] - 0s 4ms/step - loss: 0.3270 - accuracy: 0.9100 - val_loss: 0.3648 - val_accuracy: 0.8755\n",
            "Epoch 37/100\n",
            "24/33 [====================>.........] - ETA: 0s - loss: 0.3376 - accuracy: 0.9062\n",
            "Epoch 37: val_loss did not improve from 0.36078\n",
            "33/33 [==============================] - 0s 3ms/step - loss: 0.3246 - accuracy: 0.9110 - val_loss: 0.3657 - val_accuracy: 0.8755\n",
            "Epoch 38/100\n",
            "29/33 [=========================>....] - ETA: 0s - loss: 0.3148 - accuracy: 0.9106\n",
            "Epoch 38: val_loss did not improve from 0.36078\n",
            "33/33 [==============================] - 0s 3ms/step - loss: 0.3198 - accuracy: 0.9072 - val_loss: 0.3644 - val_accuracy: 0.8755\n",
            "Epoch 39/100\n",
            "25/33 [=====================>........] - ETA: 0s - loss: 0.3121 - accuracy: 0.9125\n",
            "Epoch 39: val_loss did not improve from 0.36078\n",
            "33/33 [==============================] - 0s 3ms/step - loss: 0.3177 - accuracy: 0.9100 - val_loss: 0.3665 - val_accuracy: 0.8755\n",
            "Epoch 40/100\n",
            "19/33 [================>.............] - ETA: 0s - loss: 0.2908 - accuracy: 0.9128\n",
            "Epoch 40: val_loss did not improve from 0.36078\n",
            "33/33 [==============================] - 0s 4ms/step - loss: 0.2973 - accuracy: 0.9100 - val_loss: 0.3632 - val_accuracy: 0.8755\n",
            "Epoch 41/100\n",
            "26/33 [======================>.......] - ETA: 0s - loss: 0.3205 - accuracy: 0.9026\n",
            "Epoch 41: val_loss did not improve from 0.36078\n",
            "33/33 [==============================] - 0s 4ms/step - loss: 0.3093 - accuracy: 0.9081 - val_loss: 0.3626 - val_accuracy: 0.8755\n",
            "Epoch 42/100\n",
            "28/33 [========================>.....] - ETA: 0s - loss: 0.3248 - accuracy: 0.9074\n",
            "Epoch 42: val_loss improved from 0.36078 to 0.35930, saving model to saved_models/audio_classification.hdf5\n",
            "33/33 [==============================] - 0s 4ms/step - loss: 0.3197 - accuracy: 0.9091 - val_loss: 0.3593 - val_accuracy: 0.8755\n",
            "Epoch 43/100\n",
            "28/33 [========================>.....] - ETA: 0s - loss: 0.3222 - accuracy: 0.9085\n",
            "Epoch 43: val_loss did not improve from 0.35930\n",
            "33/33 [==============================] - 0s 3ms/step - loss: 0.3117 - accuracy: 0.9110 - val_loss: 0.3609 - val_accuracy: 0.8755\n",
            "Epoch 44/100\n",
            "28/33 [========================>.....] - ETA: 0s - loss: 0.3029 - accuracy: 0.9129\n",
            "Epoch 44: val_loss did not improve from 0.35930\n",
            "33/33 [==============================] - 0s 4ms/step - loss: 0.3117 - accuracy: 0.9110 - val_loss: 0.3612 - val_accuracy: 0.8755\n",
            "Epoch 45/100\n",
            "28/33 [========================>.....] - ETA: 0s - loss: 0.3213 - accuracy: 0.9040\n",
            "Epoch 45: val_loss did not improve from 0.35930\n",
            "33/33 [==============================] - 0s 3ms/step - loss: 0.3115 - accuracy: 0.9100 - val_loss: 0.3619 - val_accuracy: 0.8755\n",
            "Epoch 46/100\n",
            "28/33 [========================>.....] - ETA: 0s - loss: 0.3080 - accuracy: 0.9074\n",
            "Epoch 46: val_loss improved from 0.35930 to 0.35804, saving model to saved_models/audio_classification.hdf5\n",
            "33/33 [==============================] - 0s 4ms/step - loss: 0.2996 - accuracy: 0.9100 - val_loss: 0.3580 - val_accuracy: 0.8755\n",
            "Epoch 47/100\n",
            "29/33 [=========================>....] - ETA: 0s - loss: 0.3228 - accuracy: 0.9041\n",
            "Epoch 47: val_loss did not improve from 0.35804\n",
            "33/33 [==============================] - 0s 3ms/step - loss: 0.3086 - accuracy: 0.9100 - val_loss: 0.3626 - val_accuracy: 0.8755\n",
            "Epoch 48/100\n",
            "30/33 [==========================>...] - ETA: 0s - loss: 0.2984 - accuracy: 0.9115\n",
            "Epoch 48: val_loss did not improve from 0.35804\n",
            "33/33 [==============================] - 0s 3ms/step - loss: 0.3006 - accuracy: 0.9100 - val_loss: 0.3645 - val_accuracy: 0.8755\n",
            "Epoch 49/100\n",
            "26/33 [======================>.......] - ETA: 0s - loss: 0.3099 - accuracy: 0.9099\n",
            "Epoch 49: val_loss did not improve from 0.35804\n",
            "33/33 [==============================] - 0s 3ms/step - loss: 0.3053 - accuracy: 0.9110 - val_loss: 0.3633 - val_accuracy: 0.8755\n",
            "Epoch 50/100\n",
            "28/33 [========================>.....] - ETA: 0s - loss: 0.2932 - accuracy: 0.9163\n",
            "Epoch 50: val_loss did not improve from 0.35804\n",
            "33/33 [==============================] - 0s 3ms/step - loss: 0.3047 - accuracy: 0.9100 - val_loss: 0.3604 - val_accuracy: 0.8755\n",
            "Epoch 51/100\n",
            "31/33 [===========================>..] - ETA: 0s - loss: 0.3026 - accuracy: 0.9153\n",
            "Epoch 51: val_loss did not improve from 0.35804\n",
            "33/33 [==============================] - 0s 3ms/step - loss: 0.3141 - accuracy: 0.9100 - val_loss: 0.3609 - val_accuracy: 0.8755\n",
            "Epoch 52/100\n",
            "29/33 [=========================>....] - ETA: 0s - loss: 0.2881 - accuracy: 0.9127\n",
            "Epoch 52: val_loss did not improve from 0.35804\n",
            "33/33 [==============================] - 0s 3ms/step - loss: 0.2959 - accuracy: 0.9110 - val_loss: 0.3645 - val_accuracy: 0.8755\n",
            "Epoch 53/100\n",
            "30/33 [==========================>...] - ETA: 0s - loss: 0.2972 - accuracy: 0.9125\n",
            "Epoch 53: val_loss did not improve from 0.35804\n",
            "33/33 [==============================] - 0s 3ms/step - loss: 0.2997 - accuracy: 0.9110 - val_loss: 0.3624 - val_accuracy: 0.8755\n",
            "Epoch 54/100\n",
            "29/33 [=========================>....] - ETA: 0s - loss: 0.3023 - accuracy: 0.9084\n",
            "Epoch 54: val_loss did not improve from 0.35804\n",
            "33/33 [==============================] - 0s 3ms/step - loss: 0.2974 - accuracy: 0.9100 - val_loss: 0.3608 - val_accuracy: 0.8755\n",
            "Epoch 55/100\n",
            "30/33 [==========================>...] - ETA: 0s - loss: 0.2796 - accuracy: 0.9177\n",
            "Epoch 55: val_loss did not improve from 0.35804\n",
            "33/33 [==============================] - 0s 3ms/step - loss: 0.2906 - accuracy: 0.9119 - val_loss: 0.3601 - val_accuracy: 0.8755\n",
            "Epoch 56/100\n",
            "28/33 [========================>.....] - ETA: 0s - loss: 0.2819 - accuracy: 0.9152\n",
            "Epoch 56: val_loss did not improve from 0.35804\n",
            "33/33 [==============================] - 0s 3ms/step - loss: 0.2924 - accuracy: 0.9100 - val_loss: 0.3590 - val_accuracy: 0.8755\n",
            "Epoch 57/100\n",
            "27/33 [=======================>......] - ETA: 0s - loss: 0.2881 - accuracy: 0.9178\n",
            "Epoch 57: val_loss improved from 0.35804 to 0.35770, saving model to saved_models/audio_classification.hdf5\n",
            "33/33 [==============================] - 0s 4ms/step - loss: 0.3026 - accuracy: 0.9110 - val_loss: 0.3577 - val_accuracy: 0.8755\n",
            "Epoch 58/100\n",
            "22/33 [===================>..........] - ETA: 0s - loss: 0.2985 - accuracy: 0.9091\n",
            "Epoch 58: val_loss improved from 0.35770 to 0.35707, saving model to saved_models/audio_classification.hdf5\n",
            "33/33 [==============================] - 0s 4ms/step - loss: 0.2946 - accuracy: 0.9110 - val_loss: 0.3571 - val_accuracy: 0.8755\n",
            "Epoch 59/100\n",
            "24/33 [====================>.........] - ETA: 0s - loss: 0.2774 - accuracy: 0.9167\n",
            "Epoch 59: val_loss did not improve from 0.35707\n",
            "33/33 [==============================] - 0s 3ms/step - loss: 0.2897 - accuracy: 0.9110 - val_loss: 0.3576 - val_accuracy: 0.8755\n",
            "Epoch 60/100\n",
            "27/33 [=======================>......] - ETA: 0s - loss: 0.2835 - accuracy: 0.9132\n",
            "Epoch 60: val_loss improved from 0.35707 to 0.35480, saving model to saved_models/audio_classification.hdf5\n",
            "33/33 [==============================] - 0s 4ms/step - loss: 0.2881 - accuracy: 0.9110 - val_loss: 0.3548 - val_accuracy: 0.8755\n",
            "Epoch 61/100\n",
            "24/33 [====================>.........] - ETA: 0s - loss: 0.2947 - accuracy: 0.9076\n",
            "Epoch 61: val_loss improved from 0.35480 to 0.35400, saving model to saved_models/audio_classification.hdf5\n",
            "33/33 [==============================] - 0s 4ms/step - loss: 0.2897 - accuracy: 0.9110 - val_loss: 0.3540 - val_accuracy: 0.8755\n",
            "Epoch 62/100\n",
            "28/33 [========================>.....] - ETA: 0s - loss: 0.2800 - accuracy: 0.9163\n",
            "Epoch 62: val_loss did not improve from 0.35400\n",
            "33/33 [==============================] - 0s 3ms/step - loss: 0.2913 - accuracy: 0.9110 - val_loss: 0.3556 - val_accuracy: 0.8755\n",
            "Epoch 63/100\n",
            "29/33 [=========================>....] - ETA: 0s - loss: 0.2976 - accuracy: 0.9084\n",
            "Epoch 63: val_loss improved from 0.35400 to 0.35121, saving model to saved_models/audio_classification.hdf5\n",
            "33/33 [==============================] - 0s 4ms/step - loss: 0.2914 - accuracy: 0.9110 - val_loss: 0.3512 - val_accuracy: 0.8755\n",
            "Epoch 64/100\n",
            "25/33 [=====================>........] - ETA: 0s - loss: 0.2709 - accuracy: 0.9187\n",
            "Epoch 64: val_loss did not improve from 0.35121\n",
            "33/33 [==============================] - 0s 4ms/step - loss: 0.2927 - accuracy: 0.9110 - val_loss: 0.3531 - val_accuracy: 0.8755\n",
            "Epoch 65/100\n",
            "27/33 [=======================>......] - ETA: 0s - loss: 0.2697 - accuracy: 0.9167\n",
            "Epoch 65: val_loss did not improve from 0.35121\n",
            "33/33 [==============================] - 0s 3ms/step - loss: 0.2838 - accuracy: 0.9110 - val_loss: 0.3533 - val_accuracy: 0.8755\n",
            "Epoch 66/100\n",
            "23/33 [===================>..........] - ETA: 0s - loss: 0.3013 - accuracy: 0.9022\n",
            "Epoch 66: val_loss improved from 0.35121 to 0.34841, saving model to saved_models/audio_classification.hdf5\n",
            "33/33 [==============================] - 0s 4ms/step - loss: 0.2857 - accuracy: 0.9110 - val_loss: 0.3484 - val_accuracy: 0.8755\n",
            "Epoch 67/100\n",
            "29/33 [=========================>....] - ETA: 0s - loss: 0.2902 - accuracy: 0.9106\n",
            "Epoch 67: val_loss did not improve from 0.34841\n",
            "33/33 [==============================] - 0s 3ms/step - loss: 0.2907 - accuracy: 0.9100 - val_loss: 0.3507 - val_accuracy: 0.8755\n",
            "Epoch 68/100\n",
            "27/33 [=======================>......] - ETA: 0s - loss: 0.2699 - accuracy: 0.9178\n",
            "Epoch 68: val_loss improved from 0.34841 to 0.34777, saving model to saved_models/audio_classification.hdf5\n",
            "33/33 [==============================] - 0s 4ms/step - loss: 0.2931 - accuracy: 0.9110 - val_loss: 0.3478 - val_accuracy: 0.8755\n",
            "Epoch 69/100\n",
            "25/33 [=====================>........] - ETA: 0s - loss: 0.2929 - accuracy: 0.9137\n",
            "Epoch 69: val_loss did not improve from 0.34777\n",
            "33/33 [==============================] - 0s 3ms/step - loss: 0.2961 - accuracy: 0.9110 - val_loss: 0.3526 - val_accuracy: 0.8755\n",
            "Epoch 70/100\n",
            "19/33 [================>.............] - ETA: 0s - loss: 0.2766 - accuracy: 0.9178\n",
            "Epoch 70: val_loss did not improve from 0.34777\n",
            "33/33 [==============================] - 0s 3ms/step - loss: 0.2935 - accuracy: 0.9110 - val_loss: 0.3529 - val_accuracy: 0.8755\n",
            "Epoch 71/100\n",
            "28/33 [========================>.....] - ETA: 0s - loss: 0.2984 - accuracy: 0.9062\n",
            "Epoch 71: val_loss did not improve from 0.34777\n",
            "33/33 [==============================] - 0s 3ms/step - loss: 0.2918 - accuracy: 0.9110 - val_loss: 0.3532 - val_accuracy: 0.8755\n",
            "Epoch 72/100\n",
            "27/33 [=======================>......] - ETA: 0s - loss: 0.2993 - accuracy: 0.9051\n",
            "Epoch 72: val_loss did not improve from 0.34777\n",
            "33/33 [==============================] - 0s 3ms/step - loss: 0.2875 - accuracy: 0.9110 - val_loss: 0.3556 - val_accuracy: 0.8755\n",
            "Epoch 73/100\n",
            "28/33 [========================>.....] - ETA: 0s - loss: 0.2893 - accuracy: 0.9085\n",
            "Epoch 73: val_loss did not improve from 0.34777\n",
            "33/33 [==============================] - 0s 3ms/step - loss: 0.2854 - accuracy: 0.9110 - val_loss: 0.3560 - val_accuracy: 0.8755\n",
            "Epoch 74/100\n",
            "22/33 [===================>..........] - ETA: 0s - loss: 0.2462 - accuracy: 0.9290\n",
            "Epoch 74: val_loss did not improve from 0.34777\n",
            "33/33 [==============================] - 0s 4ms/step - loss: 0.2919 - accuracy: 0.9100 - val_loss: 0.3510 - val_accuracy: 0.8755\n",
            "Epoch 75/100\n",
            "23/33 [===================>..........] - ETA: 0s - loss: 0.2801 - accuracy: 0.9158\n",
            "Epoch 75: val_loss did not improve from 0.34777\n",
            "33/33 [==============================] - 0s 4ms/step - loss: 0.2928 - accuracy: 0.9100 - val_loss: 0.3507 - val_accuracy: 0.8755\n",
            "Epoch 76/100\n",
            "25/33 [=====================>........] - ETA: 0s - loss: 0.2896 - accuracy: 0.9112\n",
            "Epoch 76: val_loss did not improve from 0.34777\n",
            "33/33 [==============================] - 0s 3ms/step - loss: 0.2886 - accuracy: 0.9110 - val_loss: 0.3513 - val_accuracy: 0.8755\n",
            "Epoch 77/100\n",
            "23/33 [===================>..........] - ETA: 0s - loss: 0.2754 - accuracy: 0.9130\n",
            "Epoch 77: val_loss did not improve from 0.34777\n",
            "33/33 [==============================] - 0s 3ms/step - loss: 0.2846 - accuracy: 0.9110 - val_loss: 0.3542 - val_accuracy: 0.8755\n",
            "Epoch 78/100\n",
            "26/33 [======================>.......] - ETA: 0s - loss: 0.2902 - accuracy: 0.9087\n",
            "Epoch 78: val_loss did not improve from 0.34777\n",
            "33/33 [==============================] - 0s 3ms/step - loss: 0.2847 - accuracy: 0.9110 - val_loss: 0.3566 - val_accuracy: 0.8755\n",
            "Epoch 79/100\n",
            "22/33 [===================>..........] - ETA: 0s - loss: 0.2993 - accuracy: 0.9020\n",
            "Epoch 79: val_loss did not improve from 0.34777\n",
            "33/33 [==============================] - 0s 4ms/step - loss: 0.2807 - accuracy: 0.9110 - val_loss: 0.3568 - val_accuracy: 0.8755\n",
            "Epoch 80/100\n",
            "27/33 [=======================>......] - ETA: 0s - loss: 0.2844 - accuracy: 0.9097\n",
            "Epoch 80: val_loss did not improve from 0.34777\n",
            "33/33 [==============================] - 0s 3ms/step - loss: 0.2902 - accuracy: 0.9110 - val_loss: 0.3581 - val_accuracy: 0.8755\n",
            "Epoch 81/100\n",
            "28/33 [========================>.....] - ETA: 0s - loss: 0.2821 - accuracy: 0.9118\n",
            "Epoch 81: val_loss did not improve from 0.34777\n",
            "33/33 [==============================] - 0s 3ms/step - loss: 0.2824 - accuracy: 0.9110 - val_loss: 0.3493 - val_accuracy: 0.8755\n",
            "Epoch 82/100\n",
            "23/33 [===================>..........] - ETA: 0s - loss: 0.2757 - accuracy: 0.9130\n",
            "Epoch 82: val_loss did not improve from 0.34777\n",
            "33/33 [==============================] - 0s 4ms/step - loss: 0.2886 - accuracy: 0.9110 - val_loss: 0.3485 - val_accuracy: 0.8755\n",
            "Epoch 83/100\n",
            "26/33 [======================>.......] - ETA: 0s - loss: 0.2851 - accuracy: 0.9123\n",
            "Epoch 83: val_loss did not improve from 0.34777\n",
            "33/33 [==============================] - 0s 3ms/step - loss: 0.2886 - accuracy: 0.9110 - val_loss: 0.3562 - val_accuracy: 0.8755\n",
            "Epoch 84/100\n",
            "30/33 [==========================>...] - ETA: 0s - loss: 0.2866 - accuracy: 0.9094\n",
            "Epoch 84: val_loss did not improve from 0.34777\n",
            "33/33 [==============================] - 0s 3ms/step - loss: 0.2827 - accuracy: 0.9110 - val_loss: 0.3488 - val_accuracy: 0.8755\n",
            "Epoch 85/100\n",
            "28/33 [========================>.....] - ETA: 0s - loss: 0.2806 - accuracy: 0.9107\n",
            "Epoch 85: val_loss did not improve from 0.34777\n",
            "33/33 [==============================] - 0s 3ms/step - loss: 0.2818 - accuracy: 0.9110 - val_loss: 0.3488 - val_accuracy: 0.8755\n",
            "Epoch 86/100\n",
            "29/33 [=========================>....] - ETA: 0s - loss: 0.2815 - accuracy: 0.9106\n",
            "Epoch 86: val_loss did not improve from 0.34777\n",
            "33/33 [==============================] - 0s 3ms/step - loss: 0.2803 - accuracy: 0.9110 - val_loss: 0.3540 - val_accuracy: 0.8755\n",
            "Epoch 87/100\n",
            "29/33 [=========================>....] - ETA: 0s - loss: 0.2805 - accuracy: 0.9106\n",
            "Epoch 87: val_loss did not improve from 0.34777\n",
            "33/33 [==============================] - 0s 3ms/step - loss: 0.2815 - accuracy: 0.9110 - val_loss: 0.3519 - val_accuracy: 0.8755\n",
            "Epoch 88/100\n",
            "28/33 [========================>.....] - ETA: 0s - loss: 0.2724 - accuracy: 0.9129\n",
            "Epoch 88: val_loss did not improve from 0.34777\n",
            "33/33 [==============================] - 0s 3ms/step - loss: 0.2761 - accuracy: 0.9119 - val_loss: 0.3536 - val_accuracy: 0.8755\n",
            "Epoch 89/100\n",
            "26/33 [======================>.......] - ETA: 0s - loss: 0.2805 - accuracy: 0.9087\n",
            "Epoch 89: val_loss did not improve from 0.34777\n",
            "33/33 [==============================] - 0s 3ms/step - loss: 0.2768 - accuracy: 0.9110 - val_loss: 0.3514 - val_accuracy: 0.8755\n",
            "Epoch 90/100\n",
            "29/33 [=========================>....] - ETA: 0s - loss: 0.2845 - accuracy: 0.9127\n",
            "Epoch 90: val_loss did not improve from 0.34777\n",
            "33/33 [==============================] - 0s 3ms/step - loss: 0.2877 - accuracy: 0.9100 - val_loss: 0.3551 - val_accuracy: 0.8755\n",
            "Epoch 91/100\n",
            "25/33 [=====================>........] - ETA: 0s - loss: 0.2901 - accuracy: 0.9062\n",
            "Epoch 91: val_loss did not improve from 0.34777\n",
            "33/33 [==============================] - 0s 4ms/step - loss: 0.2781 - accuracy: 0.9110 - val_loss: 0.3591 - val_accuracy: 0.8755\n",
            "Epoch 92/100\n",
            "29/33 [=========================>....] - ETA: 0s - loss: 0.2815 - accuracy: 0.9084\n",
            "Epoch 92: val_loss did not improve from 0.34777\n",
            "33/33 [==============================] - 0s 3ms/step - loss: 0.2740 - accuracy: 0.9110 - val_loss: 0.3553 - val_accuracy: 0.8755\n",
            "Epoch 93/100\n",
            "23/33 [===================>..........] - ETA: 0s - loss: 0.2929 - accuracy: 0.9103\n",
            "Epoch 93: val_loss did not improve from 0.34777\n",
            "33/33 [==============================] - 0s 4ms/step - loss: 0.2894 - accuracy: 0.9110 - val_loss: 0.3632 - val_accuracy: 0.8755\n",
            "Epoch 94/100\n",
            "27/33 [=======================>......] - ETA: 0s - loss: 0.2819 - accuracy: 0.9074\n",
            "Epoch 94: val_loss did not improve from 0.34777\n",
            "33/33 [==============================] - 0s 3ms/step - loss: 0.2739 - accuracy: 0.9110 - val_loss: 0.3654 - val_accuracy: 0.8755\n",
            "Epoch 95/100\n",
            "30/33 [==========================>...] - ETA: 0s - loss: 0.2763 - accuracy: 0.9115\n",
            "Epoch 95: val_loss did not improve from 0.34777\n",
            "33/33 [==============================] - 0s 3ms/step - loss: 0.2773 - accuracy: 0.9110 - val_loss: 0.3578 - val_accuracy: 0.8755\n",
            "Epoch 96/100\n",
            "26/33 [======================>.......] - ETA: 0s - loss: 0.2760 - accuracy: 0.9123\n",
            "Epoch 96: val_loss did not improve from 0.34777\n",
            "33/33 [==============================] - 0s 3ms/step - loss: 0.2826 - accuracy: 0.9119 - val_loss: 0.3523 - val_accuracy: 0.8755\n",
            "Epoch 97/100\n",
            "27/33 [=======================>......] - ETA: 0s - loss: 0.2828 - accuracy: 0.9062\n",
            "Epoch 97: val_loss did not improve from 0.34777\n",
            "33/33 [==============================] - 0s 4ms/step - loss: 0.2742 - accuracy: 0.9110 - val_loss: 0.3521 - val_accuracy: 0.8755\n",
            "Epoch 98/100\n",
            "28/33 [========================>.....] - ETA: 0s - loss: 0.2742 - accuracy: 0.9085\n",
            "Epoch 98: val_loss did not improve from 0.34777\n",
            "33/33 [==============================] - 0s 3ms/step - loss: 0.2756 - accuracy: 0.9110 - val_loss: 0.3544 - val_accuracy: 0.8755\n",
            "Epoch 99/100\n",
            "31/33 [===========================>..] - ETA: 0s - loss: 0.2811 - accuracy: 0.9083\n",
            "Epoch 99: val_loss did not improve from 0.34777\n",
            "33/33 [==============================] - 0s 3ms/step - loss: 0.2768 - accuracy: 0.9100 - val_loss: 0.3486 - val_accuracy: 0.8755\n",
            "Epoch 100/100\n",
            "25/33 [=====================>........] - ETA: 0s - loss: 0.2498 - accuracy: 0.9212\n",
            "Epoch 100: val_loss did not improve from 0.34777\n",
            "33/33 [==============================] - 0s 3ms/step - loss: 0.2736 - accuracy: 0.9100 - val_loss: 0.3521 - val_accuracy: 0.8755\n",
            "Training completed in time:  0:00:21.004065\n"
          ]
        }
      ]
    },
    {
      "cell_type": "code",
      "source": [
        "test_loss, test_accuracy=model.evaluate(X_test_cnn,y_test_cnn,verbose=0)\n",
        "print(\" test acc is \",test_accuracy)"
      ],
      "metadata": {
        "colab": {
          "base_uri": "https://localhost:8080/"
        },
        "id": "hx55hlWipDlG",
        "outputId": "acb3a7c9-c37a-4b10-e546-c55498a1868b"
      },
      "execution_count": null,
      "outputs": [
        {
          "output_type": "stream",
          "name": "stdout",
          "text": [
            " test acc is  0.8754717111587524\n"
          ]
        }
      ]
    },
    {
      "cell_type": "code",
      "source": [
        "y_pred_cnn = model.predict(X_test_cnn)"
      ],
      "metadata": {
        "id": "U-poOaGPzvwk"
      },
      "execution_count": null,
      "outputs": []
    },
    {
      "cell_type": "code",
      "source": [
        "from sklearn.metrics import classification_report\n",
        "print(classification_report(np.argmax(y_test_cnn, axis=1), np.argmax(y_pred_cnn, axis=1)))"
      ],
      "metadata": {
        "colab": {
          "base_uri": "https://localhost:8080/"
        },
        "id": "l0k2v0kd0G5w",
        "outputId": "f7394c53-3f66-4fa9-eb2c-9e4906b66d8f"
      },
      "execution_count": null,
      "outputs": [
        {
          "output_type": "stream",
          "name": "stdout",
          "text": [
            "              precision    recall  f1-score   support\n",
            "\n",
            "           0       0.88      1.00      0.93       232\n",
            "           1       0.00      0.00      0.00        33\n",
            "\n",
            "    accuracy                           0.88       265\n",
            "   macro avg       0.44      0.50      0.47       265\n",
            "weighted avg       0.77      0.88      0.82       265\n",
            "\n"
          ]
        },
        {
          "output_type": "stream",
          "name": "stderr",
          "text": [
            "/usr/local/lib/python3.7/dist-packages/sklearn/metrics/_classification.py:1318: UndefinedMetricWarning: Precision and F-score are ill-defined and being set to 0.0 in labels with no predicted samples. Use `zero_division` parameter to control this behavior.\n",
            "  _warn_prf(average, modifier, msg_start, len(result))\n",
            "/usr/local/lib/python3.7/dist-packages/sklearn/metrics/_classification.py:1318: UndefinedMetricWarning: Precision and F-score are ill-defined and being set to 0.0 in labels with no predicted samples. Use `zero_division` parameter to control this behavior.\n",
            "  _warn_prf(average, modifier, msg_start, len(result))\n",
            "/usr/local/lib/python3.7/dist-packages/sklearn/metrics/_classification.py:1318: UndefinedMetricWarning: Precision and F-score are ill-defined and being set to 0.0 in labels with no predicted samples. Use `zero_division` parameter to control this behavior.\n",
            "  _warn_prf(average, modifier, msg_start, len(result))\n"
          ]
        }
      ]
    }
  ]
}